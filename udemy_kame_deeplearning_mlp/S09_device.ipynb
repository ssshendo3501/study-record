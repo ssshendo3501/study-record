{
 "cells": [
  {
   "cell_type": "markdown",
   "metadata": {
    "id": "udyAhqS047TV"
   },
   "source": [
    "# .to(device)"
   ]
  },
  {
   "cell_type": "code",
   "execution_count": 2,
   "metadata": {
    "id": "4Pf2v3RL46tK"
   },
   "outputs": [],
   "source": [
    "import torch"
   ]
  },
  {
   "cell_type": "code",
   "execution_count": 3,
   "metadata": {
    "id": "czdKsSTqEu-O"
   },
   "outputs": [],
   "source": [
    "device = 'cuda' if torch.cuda.is_available() else 'cpu'"
   ]
  },
  {
   "cell_type": "code",
   "execution_count": 4,
   "metadata": {
    "colab": {
     "base_uri": "https://localhost:8080/",
     "height": 35
    },
    "id": "1syHpOfuE8D4",
    "outputId": "2f742de3-c523-4754-c3f4-af9fcfb76f29"
   },
   "outputs": [
    {
     "data": {
      "application/vnd.google.colaboratory.intrinsic+json": {
       "type": "string"
      },
      "text/plain": [
       "'cuda'"
      ]
     },
     "execution_count": 4,
     "metadata": {},
     "output_type": "execute_result"
    }
   ],
   "source": [
    "device"
   ]
  },
  {
   "cell_type": "code",
   "execution_count": 5,
   "metadata": {
    "id": "yA1GL3U9FBhV"
   },
   "outputs": [],
   "source": [
    "a = torch.randn(10)\n",
    "b = a.to(device)"
   ]
  },
  {
   "cell_type": "code",
   "execution_count": 6,
   "metadata": {
    "colab": {
     "base_uri": "https://localhost:8080/"
    },
    "id": "1WfS3UytFHm-",
    "outputId": "25313bda-19a4-47f0-ed09-79e1403355dd"
   },
   "outputs": [
    {
     "data": {
      "text/plain": [
       "tensor([ 0.0973,  1.8751, -1.7213,  1.2197,  1.6355, -2.2699,  1.4848, -1.5587,\n",
       "         0.7017,  0.4882])"
      ]
     },
     "execution_count": 6,
     "metadata": {},
     "output_type": "execute_result"
    }
   ],
   "source": [
    "# aはデフォルトのcpu上にある\n",
    "a"
   ]
  },
  {
   "cell_type": "code",
   "execution_count": 8,
   "metadata": {
    "colab": {
     "base_uri": "https://localhost:8080/"
    },
    "id": "zMYN9LX9FK9J",
    "outputId": "c1016edf-86b0-402f-8920-b3242ca59ad4"
   },
   "outputs": [
    {
     "data": {
      "text/plain": [
       "tensor([ 0.0973,  1.8751, -1.7213,  1.2197,  1.6355, -2.2699,  1.4848, -1.5587,\n",
       "         0.7017,  0.4882], device='cuda:0')"
      ]
     },
     "execution_count": 8,
     "metadata": {},
     "output_type": "execute_result"
    }
   ],
   "source": [
    "# bはcudaに移動させたのでGPU上にある\n",
    "b"
   ]
  },
  {
   "cell_type": "code",
   "execution_count": 9,
   "metadata": {
    "colab": {
     "base_uri": "https://localhost:8080/",
     "height": 141
    },
    "id": "JPZaUT5OFMtc",
    "outputId": "e61d9e5d-12d6-4aa4-b07a-9b13a383ff51"
   },
   "outputs": [
    {
     "ename": "RuntimeError",
     "evalue": "Expected all tensors to be on the same device, but found at least two devices, cuda:0 and cpu!",
     "output_type": "error",
     "traceback": [
      "\u001b[0;31m---------------------------------------------------------------------------\u001b[0m",
      "\u001b[0;31mRuntimeError\u001b[0m                              Traceback (most recent call last)",
      "\u001b[0;32m<ipython-input-9-ca730b97bf8a>\u001b[0m in \u001b[0;36m<cell line: 1>\u001b[0;34m()\u001b[0m\n\u001b[0;32m----> 1\u001b[0;31m \u001b[0ma\u001b[0m\u001b[0;34m+\u001b[0m\u001b[0mb\u001b[0m\u001b[0;34m\u001b[0m\u001b[0;34m\u001b[0m\u001b[0m\n\u001b[0m",
      "\u001b[0;31mRuntimeError\u001b[0m: Expected all tensors to be on the same device, but found at least two devices, cuda:0 and cpu!"
     ]
    }
   ],
   "source": [
    "# デバイスが異なるので演算できない\n",
    "a+b"
   ]
  },
  {
   "cell_type": "code",
   "execution_count": 10,
   "metadata": {
    "colab": {
     "base_uri": "https://localhost:8080/"
    },
    "id": "CFLgSK-TFqwL",
    "outputId": "0a96d5d2-e350-433d-f059-6888f5376305"
   },
   "outputs": [
    {
     "name": "stdout",
     "output_type": "stream",
     "text": [
      "Time taken on CPU: 16.40714 seconds\n",
      "Time taken on GPU: 0.11094 seconds\n"
     ]
    }
   ],
   "source": [
    "import torch\n",
    "import time\n",
    "\n",
    "# CPU上でTensorを作成\n",
    "tensor_cpu = torch.randn(10000, 10000)\n",
    "\n",
    "# GPU上でTensorを作成 (もしGPUが利用可能なら)\n",
    "device = \"cuda\" if torch.cuda.is_available() else \"cpu\"\n",
    "tensor_gpu = tensor_cpu.to(device)\n",
    "\n",
    "# CPU上での計算の時間を測定\n",
    "start_time = time.time()\n",
    "result_cpu = torch.mm(tensor_cpu, tensor_cpu)\n",
    "end_time = time.time()\n",
    "print(f\"Time taken on CPU: {end_time - start_time:.5f} seconds\")\n",
    "\n",
    "# GPU上での計算の時間を測定 (もしGPUが利用可能なら)\n",
    "if device == \"cuda\":\n",
    "    start_time = time.time()\n",
    "    result_gpu = torch.mm(tensor_gpu, tensor_gpu)\n",
    "    end_time = time.time()\n",
    "    print(f\"Time taken on GPU: {end_time - start_time:.5f} seconds\")"
   ]
  },
  {
   "cell_type": "markdown",
   "metadata": {
    "id": "OjENn9d6GQFh"
   },
   "source": [
    "# MNISTのコードをGPUで実行"
   ]
  },
  {
   "cell_type": "code",
   "execution_count": 11,
   "metadata": {
    "id": "xtpnG6y8GOYl"
   },
   "outputs": [],
   "source": [
    "import torch\n",
    "from sklearn import datasets\n",
    "import matplotlib.pyplot as plt\n",
    "from torch.nn import functional as F\n",
    "from sklearn.model_selection import train_test_split\n",
    "import numpy as np"
   ]
  },
  {
   "cell_type": "markdown",
   "metadata": {
    "id": "K11y7Re4HiyJ"
   },
   "source": [
    "## CPUで計算"
   ]
  },
  {
   "cell_type": "code",
   "execution_count": 18,
   "metadata": {
    "colab": {
     "base_uri": "https://localhost:8080/"
    },
    "id": "xzlOVsbjHIyy",
    "outputId": "ff52288f-8ee1-43a0-e227-cd176ecf76de"
   },
   "outputs": [
    {
     "name": "stdout",
     "output_type": "stream",
     "text": [
      "epoch: 0: train error: 2.5243888745705285, validation error: 14.812721252441406, validation accuracy: 0.0833333358168602, epoch duration 0.03 sec\n",
      "epoch: 1: train error: 2.2210290282964706, validation error: 14.17820930480957, validation accuracy: 0.08888889104127884, epoch duration 0.03 sec\n",
      "epoch: 2: train error: 2.0964277957876525, validation error: 13.571051597595215, validation accuracy: 0.10000000149011612, epoch duration 0.04 sec\n",
      "epoch: 3: train error: 1.9811919778585434, validation error: 12.899039268493652, validation accuracy: 0.11944444477558136, epoch duration 0.04 sec\n",
      "epoch: 4: train error: 1.8539886871973674, validation error: 12.348795890808105, validation accuracy: 0.17222222685813904, epoch duration 0.04 sec\n",
      "epoch: 5: train error: 1.7089916691184044, validation error: 11.778763771057129, validation accuracy: 0.19166666269302368, epoch duration 0.05 sec\n",
      "epoch: 6: train error: 1.5694288884600003, validation error: 11.004616737365723, validation accuracy: 0.20277777314186096, epoch duration 0.04 sec\n",
      "epoch: 7: train error: 1.4443725422024727, validation error: 10.219167709350586, validation accuracy: 0.22499999403953552, epoch duration 0.05 sec\n",
      "epoch: 8: train error: 1.326729663958152, validation error: 9.401651382446289, validation accuracy: 0.24444444477558136, epoch duration 0.03 sec\n",
      "epoch: 9: train error: 1.2115550587574642, validation error: 8.663460731506348, validation accuracy: 0.2611111104488373, epoch duration 0.04 sec\n",
      "epoch: 10: train error: 1.1053523756563663, validation error: 7.694706439971924, validation accuracy: 0.3083333373069763, epoch duration 0.04 sec\n",
      "epoch: 11: train error: 1.0046820156276226, validation error: 6.844811916351318, validation accuracy: 0.33888888359069824, epoch duration 0.04 sec\n",
      "epoch: 12: train error: 0.9120510841409365, validation error: 5.977323532104492, validation accuracy: 0.39722222089767456, epoch duration 0.04 sec\n",
      "epoch: 13: train error: 0.8279880185921987, validation error: 5.221205711364746, validation accuracy: 0.4416666626930237, epoch duration 0.05 sec\n",
      "epoch: 14: train error: 0.7566890567541122, validation error: 4.98078727722168, validation accuracy: 0.4583333432674408, epoch duration 0.04 sec\n",
      "epoch: 15: train error: 0.6965111512690783, validation error: 4.611180782318115, validation accuracy: 0.5027777552604675, epoch duration 0.04 sec\n",
      "epoch: 16: train error: 0.6452049029370149, validation error: 4.258957386016846, validation accuracy: 0.5305555462837219, epoch duration 0.04 sec\n",
      "epoch: 17: train error: 0.6009382506211599, validation error: 3.959932804107666, validation accuracy: 0.5611110925674438, epoch duration 0.04 sec\n",
      "epoch: 18: train error: 0.5613805614411831, validation error: 3.9253079891204834, validation accuracy: 0.574999988079071, epoch duration 0.04 sec\n",
      "epoch: 19: train error: 0.5274778641760349, validation error: 3.651265859603882, validation accuracy: 0.5944444537162781, epoch duration 0.36 sec\n",
      "epoch: 20: train error: 0.4969893340021372, validation error: 3.4142487049102783, validation accuracy: 0.6305555701255798, epoch duration 0.04 sec\n",
      "epoch: 21: train error: 0.4702959265559912, validation error: 3.4151957035064697, validation accuracy: 0.644444465637207, epoch duration 0.04 sec\n",
      "epoch: 22: train error: 0.4454131343712409, validation error: 3.272486686706543, validation accuracy: 0.6472222208976746, epoch duration 0.04 sec\n",
      "epoch: 23: train error: 0.4243982012073199, validation error: 3.245288133621216, validation accuracy: 0.6694444417953491, epoch duration 0.04 sec\n",
      "epoch: 24: train error: 0.4051635417466362, validation error: 3.0454232692718506, validation accuracy: 0.6861110925674438, epoch duration 0.04 sec\n",
      "epoch: 25: train error: 0.38709414781381685, validation error: 3.053013324737549, validation accuracy: 0.6916666626930237, epoch duration 0.04 sec\n",
      "epoch: 26: train error: 0.3713191272690892, validation error: 3.0321044921875, validation accuracy: 0.6944444179534912, epoch duration 0.04 sec\n",
      "epoch: 27: train error: 0.3575079506263137, validation error: 2.9622185230255127, validation accuracy: 0.6972222328186035, epoch duration 0.04 sec\n",
      "epoch: 28: train error: 0.3438664525747299, validation error: 3.005059242248535, validation accuracy: 0.6972222328186035, epoch duration 0.05 sec\n",
      "epoch: 29: train error: 0.33169873027751845, validation error: 2.757169008255005, validation accuracy: 0.7138888835906982, epoch duration 0.04 sec\n",
      "epoch: 30: train error: 0.32036786805838346, validation error: 2.742816686630249, validation accuracy: 0.7138888835906982, epoch duration 0.04 sec\n",
      "epoch: 31: train error: 0.31073412609597045, validation error: 2.694037675857544, validation accuracy: 0.7166666388511658, epoch duration 0.04 sec\n",
      "epoch: 32: train error: 0.3006649237746994, validation error: 2.6486928462982178, validation accuracy: 0.7194444537162781, epoch duration 0.05 sec\n",
      "epoch: 33: train error: 0.2915153118471305, validation error: 2.629652500152588, validation accuracy: 0.7194444537162781, epoch duration 0.04 sec\n",
      "epoch: 34: train error: 0.28250537735099596, validation error: 2.6252331733703613, validation accuracy: 0.7166666388511658, epoch duration 0.04 sec\n",
      "epoch: 35: train error: 0.2764915044729908, validation error: 2.528721332550049, validation accuracy: 0.7250000238418579, epoch duration 0.04 sec\n",
      "epoch: 36: train error: 0.2684634057804942, validation error: 2.502006769180298, validation accuracy: 0.7361111044883728, epoch duration 0.04 sec\n",
      "epoch: 37: train error: 0.26220824336633086, validation error: 2.468148946762085, validation accuracy: 0.7416666746139526, epoch duration 0.04 sec\n",
      "epoch: 38: train error: 0.25511323055252433, validation error: 2.391594171524048, validation accuracy: 0.7444444298744202, epoch duration 0.05 sec\n",
      "epoch: 39: train error: 0.2494918292698761, validation error: 2.3232617378234863, validation accuracy: 0.7611111402511597, epoch duration 0.04 sec\n",
      "epoch: 40: train error: 0.24359097875033817, validation error: 2.3500044345855713, validation accuracy: 0.7611111402511597, epoch duration 0.04 sec\n",
      "epoch: 41: train error: 0.23882058650876084, validation error: 2.3478541374206543, validation accuracy: 0.7555555701255798, epoch duration 0.03 sec\n",
      "epoch: 42: train error: 0.23238163472463688, validation error: 2.3574697971343994, validation accuracy: 0.7583333253860474, epoch duration 0.03 sec\n",
      "epoch: 43: train error: 0.2275677928701043, validation error: 2.3361685276031494, validation accuracy: 0.7583333253860474, epoch duration 0.03 sec\n",
      "epoch: 44: train error: 0.22381140338256955, validation error: 2.2727291584014893, validation accuracy: 0.7666666507720947, epoch duration 0.03 sec\n",
      "epoch: 45: train error: 0.21958131793265542, validation error: 2.2676761150360107, validation accuracy: 0.7638888955116272, epoch duration 0.03 sec\n",
      "epoch: 46: train error: 0.21422493737190962, validation error: 2.2567012310028076, validation accuracy: 0.7666666507720947, epoch duration 0.03 sec\n",
      "epoch: 47: train error: 0.2107401693550249, validation error: 2.2420363426208496, validation accuracy: 0.769444465637207, epoch duration 0.03 sec\n",
      "epoch: 48: train error: 0.2070061038248241, validation error: 2.0997846126556396, validation accuracy: 0.7749999761581421, epoch duration 0.03 sec\n",
      "epoch: 49: train error: 0.20320005109533668, validation error: 2.097998857498169, validation accuracy: 0.7833333611488342, epoch duration 0.03 sec\n",
      "epoch: 50: train error: 0.19977783039212227, validation error: 2.110809087753296, validation accuracy: 0.7805555462837219, epoch duration 0.03 sec\n",
      "epoch: 51: train error: 0.19660757652794322, validation error: 2.1087443828582764, validation accuracy: 0.7777777910232544, epoch duration 0.03 sec\n",
      "epoch: 52: train error: 0.19343868906920156, validation error: 2.080274820327759, validation accuracy: 0.7777777910232544, epoch duration 0.03 sec\n",
      "epoch: 53: train error: 0.19030805739263693, validation error: 2.12017822265625, validation accuracy: 0.7777777910232544, epoch duration 0.03 sec\n",
      "epoch: 54: train error: 0.18650538877894482, validation error: 2.013155221939087, validation accuracy: 0.7944444417953491, epoch duration 0.03 sec\n",
      "epoch: 55: train error: 0.18414343319212398, validation error: 2.007395029067993, validation accuracy: 0.7861111164093018, epoch duration 0.03 sec\n",
      "epoch: 56: train error: 0.18194816152875623, validation error: 2.057668924331665, validation accuracy: 0.7833333611488342, epoch duration 0.03 sec\n",
      "epoch: 57: train error: 0.17904611312163374, validation error: 1.9822014570236206, validation accuracy: 0.7944444417953491, epoch duration 0.03 sec\n",
      "epoch: 58: train error: 0.1767111101653427, validation error: 1.942897081375122, validation accuracy: 0.7916666865348816, epoch duration 0.03 sec\n",
      "epoch: 59: train error: 0.17438637426433465, validation error: 1.9579271078109741, validation accuracy: 0.7916666865348816, epoch duration 0.03 sec\n",
      "epoch: 60: train error: 0.17154164596771201, validation error: 1.9131413698196411, validation accuracy: 0.800000011920929, epoch duration 0.03 sec\n",
      "epoch: 61: train error: 0.16896544319267073, validation error: 1.8890490531921387, validation accuracy: 0.8027777671813965, epoch duration 0.03 sec\n",
      "epoch: 62: train error: 0.16703134503525993, validation error: 1.8785673379898071, validation accuracy: 0.7944444417953491, epoch duration 0.03 sec\n",
      "epoch: 63: train error: 0.1647635851210604, validation error: 1.8326053619384766, validation accuracy: 0.800000011920929, epoch duration 0.03 sec\n",
      "epoch: 64: train error: 0.16255815653130412, validation error: 1.830913782119751, validation accuracy: 0.7944444417953491, epoch duration 0.03 sec\n",
      "epoch: 65: train error: 0.16124722827225924, validation error: 1.778887391090393, validation accuracy: 0.8055555820465088, epoch duration 0.03 sec\n",
      "epoch: 66: train error: 0.15861272167724869, validation error: 1.809882640838623, validation accuracy: 0.8055555820465088, epoch duration 0.03 sec\n",
      "epoch: 67: train error: 0.15672628356454274, validation error: 1.742913842201233, validation accuracy: 0.8083333373069763, epoch duration 0.03 sec\n",
      "epoch: 68: train error: 0.1547989211200426, validation error: 1.7413913011550903, validation accuracy: 0.8111110925674438, epoch duration 0.03 sec\n",
      "epoch: 69: train error: 0.15339302644133568, validation error: 1.7688153982162476, validation accuracy: 0.800000011920929, epoch duration 0.03 sec\n",
      "epoch: 70: train error: 0.15107854649734995, validation error: 1.7173858880996704, validation accuracy: 0.8138889074325562, epoch duration 0.03 sec\n",
      "epoch: 71: train error: 0.1492866373155266, validation error: 1.6884167194366455, validation accuracy: 0.8083333373069763, epoch duration 0.03 sec\n",
      "epoch: 72: train error: 0.14782819912458459, validation error: 1.6845859289169312, validation accuracy: 0.824999988079071, epoch duration 0.04 sec\n",
      "epoch: 73: train error: 0.14673518505878747, validation error: 1.6384413242340088, validation accuracy: 0.8277778029441833, epoch duration 0.03 sec\n",
      "epoch: 74: train error: 0.14476468767194697, validation error: 1.6861733198165894, validation accuracy: 0.8277778029441833, epoch duration 0.03 sec\n",
      "epoch: 75: train error: 0.14288880202608803, validation error: 1.6290255784988403, validation accuracy: 0.8277778029441833, epoch duration 0.02 sec\n",
      "epoch: 76: train error: 0.14139131014235318, validation error: 1.6287648677825928, validation accuracy: 0.8277778029441833, epoch duration 0.03 sec\n",
      "epoch: 77: train error: 0.1396999180627366, validation error: 1.6601396799087524, validation accuracy: 0.8277778029441833, epoch duration 0.03 sec\n",
      "epoch: 78: train error: 0.1383094141104569, validation error: 1.6250420808792114, validation accuracy: 0.824999988079071, epoch duration 0.03 sec\n",
      "epoch: 79: train error: 0.13705678136708835, validation error: 1.6266906261444092, validation accuracy: 0.8277778029441833, epoch duration 0.03 sec\n",
      "epoch: 80: train error: 0.13518261909484863, validation error: 1.6160922050476074, validation accuracy: 0.8305555582046509, epoch duration 0.03 sec\n",
      "epoch: 81: train error: 0.13387048058211803, validation error: 1.5423420667648315, validation accuracy: 0.8361111283302307, epoch duration 0.03 sec\n",
      "epoch: 82: train error: 0.13293783250264823, validation error: 1.554616928100586, validation accuracy: 0.8361111283302307, epoch duration 0.03 sec\n",
      "epoch: 83: train error: 0.13148613856174052, validation error: 1.605447769165039, validation accuracy: 0.8305555582046509, epoch duration 0.03 sec\n",
      "epoch: 84: train error: 0.1305401277883599, validation error: 1.5308504104614258, validation accuracy: 0.8416666388511658, epoch duration 0.03 sec\n",
      "epoch: 85: train error: 0.12908628187142313, validation error: 1.5298943519592285, validation accuracy: 0.8444444537162781, epoch duration 0.03 sec\n",
      "epoch: 86: train error: 0.12779569975100458, validation error: 1.47844660282135, validation accuracy: 0.8444444537162781, epoch duration 0.03 sec\n",
      "epoch: 87: train error: 0.12721749115735292, validation error: 1.5328009128570557, validation accuracy: 0.8416666388511658, epoch duration 0.03 sec\n",
      "epoch: 88: train error: 0.12565453350543976, validation error: 1.5036753416061401, validation accuracy: 0.8444444537162781, epoch duration 0.03 sec\n",
      "epoch: 89: train error: 0.12442879960872233, validation error: 1.4809646606445312, validation accuracy: 0.8444444537162781, epoch duration 0.03 sec\n",
      "epoch: 90: train error: 0.12334930524230003, validation error: 1.470790982246399, validation accuracy: 0.8444444537162781, epoch duration 0.03 sec\n",
      "epoch: 91: train error: 0.1220188985268275, validation error: 1.458082914352417, validation accuracy: 0.8472222089767456, epoch duration 0.03 sec\n",
      "epoch: 92: train error: 0.12111711296408127, validation error: 1.4725542068481445, validation accuracy: 0.8444444537162781, epoch duration 0.03 sec\n",
      "epoch: 93: train error: 0.12029443432887395, validation error: 1.4446121454238892, validation accuracy: 0.8500000238418579, epoch duration 0.03 sec\n",
      "epoch: 94: train error: 0.11930773143346111, validation error: 1.456752061843872, validation accuracy: 0.8500000238418579, epoch duration 0.03 sec\n",
      "epoch: 95: train error: 0.11784543966253598, validation error: 1.4717772006988525, validation accuracy: 0.8472222089767456, epoch duration 0.03 sec\n",
      "epoch: 96: train error: 0.11757947915854554, validation error: 1.4268022775650024, validation accuracy: 0.8500000238418579, epoch duration 0.03 sec\n",
      "epoch: 97: train error: 0.11602991043279569, validation error: 1.408207654953003, validation accuracy: 0.8527777791023254, epoch duration 0.03 sec\n",
      "epoch: 98: train error: 0.1147346153544883, validation error: 1.3816111087799072, validation accuracy: 0.8527777791023254, epoch duration 0.03 sec\n",
      "epoch: 99: train error: 0.11403389476860563, validation error: 1.4272825717926025, validation accuracy: 0.8500000238418579, epoch duration 0.03 sec\n"
     ]
    }
   ],
   "source": [
    "# ======モデル======\n",
    "class Linear():\n",
    "    def __init__(self, in_features, out_features):\n",
    "        self.W = torch.randn((out_features, in_features)) * torch.sqrt(torch.tensor(2.0 / in_features))\n",
    "        self.W.requires_grad = True\n",
    "        self.b = torch.zeros((1, out_features), requires_grad=True)\n",
    "\n",
    "    def forward(self, X):\n",
    "        self.X = X\n",
    "        self.Z = X @ self.W.T + self.b\n",
    "        return self.Z\n",
    "\n",
    "    def backward(self, Z):\n",
    "        self.W.grad_ = Z.grad_.T @ self.X\n",
    "        self.b.grad_ = torch.sum(Z.grad_, dim=0)\n",
    "        self.X.grad_ = Z.grad_ @ self.W\n",
    "        return self.X.grad_\n",
    "\n",
    "class ReLU():\n",
    "    def forward(self, X):\n",
    "        self.X = X\n",
    "        return X.clamp_min(0.)\n",
    "\n",
    "    def backward(self, A):\n",
    "        return A.grad_ * (self.X > 0).float()\n",
    "\n",
    "class SoftmaxCrossEntropy:\n",
    "    def forward(self, X, y):\n",
    "        e_x = torch.exp(X - torch.max(X, dim=-1, keepdim=True)[0])\n",
    "        self.softmax_out = e_x / (torch.sum(e_x, dim=-1, keepdim=True) + 1e-10)\n",
    "\n",
    "        log_probs = torch.log(self.softmax_out + 1e-10)\n",
    "        target_log_probs = log_probs * y\n",
    "\n",
    "        self.loss = -target_log_probs.sum(dim=-1).mean()\n",
    "        return self.loss\n",
    "\n",
    "    def backward(self, y):\n",
    "        return (self.softmax_out - y) / y.shape[0]\n",
    "\n",
    "class Model:\n",
    "    def __init__(self, input_features, hidden_units, output_units):\n",
    "        self.linear1 = Linear(input_features, hidden_units)\n",
    "        self.relu = ReLU()\n",
    "        self.linear2 = Linear(hidden_units, output_units)\n",
    "        self.loss_fn = SoftmaxCrossEntropy()\n",
    "\n",
    "    def forward(self, X, y):\n",
    "        self.X = X\n",
    "        self.Z1 = self.linear1.forward(X)\n",
    "        self.A1 = self.relu.forward(self.Z1)\n",
    "        self.Z2 = self.linear2.forward(self.A1)\n",
    "        self.loss = self.loss_fn.forward(self.Z2, y)\n",
    "        return self.loss, self.Z2\n",
    "\n",
    "    def backward(self, y):\n",
    "        self.Z2.grad_ = self.loss_fn.backward(y)\n",
    "        self.A1.grad_ = self.linear2.backward(self.Z2)\n",
    "        self.Z1.grad_ = self.relu.backward(self.A1)\n",
    "        self.X.grad_ = self.linear1.backward(self.Z1)\n",
    "\n",
    "    def zero_grad(self):\n",
    "        # 勾配の初期化\n",
    "        self.linear1.W.grad_ = None\n",
    "        self.linear1.b.grad_ = None\n",
    "        self.linear2.W.grad_ = None\n",
    "        self.linear2.b.grad_ = None\n",
    "\n",
    "    def step(self, learning_rate):\n",
    "        # パラメータの更新\n",
    "        self.linear1.W -= learning_rate * self.linear1.W.grad_\n",
    "        self.linear1.b -= learning_rate * self.linear1.b.grad_\n",
    "        self.linear2.W -= learning_rate * self.linear2.W.grad_\n",
    "        self.linear2.b -= learning_rate * self.linear2.b.grad_\n",
    "\n",
    "## Refactoring後の学習ループ(OptimizerやDataset, Dataloaderは後ほどRefactoring)\n",
    "# ===データの準備====\n",
    "dataset = datasets.load_digits()\n",
    "data = dataset['data']\n",
    "target = dataset['target']\n",
    "images = dataset['images']\n",
    "X_train, X_val, y_train, y_val = train_test_split(images, target, test_size=0.2, random_state=42)\n",
    "X_train = (X_train - X_train.mean()) / X_train.std()\n",
    "X_val = (X_val - X_train.mean()) / X_train.std()\n",
    "X_train = torch.tensor(X_train.reshape(-1, 64), dtype=torch.float32)\n",
    "X_val = torch.tensor(X_val.reshape(-1, 64), dtype=torch.float32)\n",
    "y_train = F.one_hot(torch.tensor(y_train), num_classes=10) #1437 x 10\n",
    "y_val = F.one_hot(torch.tensor(y_val), num_classes=10) # 360 x 10\n",
    "batch_size = 30\n",
    "# モデルの初期化\n",
    "model = Model(input_features=64, hidden_units=10, output_units=10)\n",
    "\n",
    "learning_rate = 0.01\n",
    "\n",
    "# ログ\n",
    "train_losses = []\n",
    "val_losses = []\n",
    "val_accuracies = []\n",
    "for epoch in range(100):\n",
    "    # エポック毎にデータをシャッフル\n",
    "    shuffled_indices = np.random.permutation(len(y_train))\n",
    "    num_batches = np.ceil(len(y_train)/batch_size).astype(int)\n",
    "    running_loss = 0.0\n",
    "    start_time = time.time()\n",
    "\n",
    "    for i in range(num_batches):\n",
    "\n",
    "        # mini batch作成\n",
    "        start = i * batch_size\n",
    "        end = start + batch_size\n",
    "\n",
    "        batch_indices = shuffled_indices[start:end]\n",
    "        y_true_ = y_train[batch_indices, :] # batch_size x 10\n",
    "\n",
    "        X = X_train[batch_indices] # batch_size x 64\n",
    "        # 順伝播と逆伝播の計算\n",
    "        loss, _ = model.forward(X, y_true_)\n",
    "        model.backward(y_true_)\n",
    "        running_loss += loss.item()\n",
    "\n",
    "        # パラメータ更新\n",
    "        with torch.no_grad():\n",
    "            model.step(learning_rate)\n",
    "\n",
    "        model.zero_grad()\n",
    "\n",
    "    # validation\n",
    "    with torch.no_grad():\n",
    "        val_loss, Z2_val = model.forward(X_val, y_val)\n",
    "\n",
    "        val_accuracy = torch.sum(torch.argmax(Z2_val, dim=-1) == torch.argmax(y_val, dim=-1)) / y_val.shape[0]\n",
    "\n",
    "    train_losses.append(running_loss/num_batches)\n",
    "    val_losses.append(val_loss.item())\n",
    "    val_accuracies.append(val_accuracy)\n",
    "    end_time = time.time()\n",
    "    epoch_duration = end_time - start_time\n",
    "    print(f'epoch: {epoch}: train error: {running_loss/num_batches}, validation error: {val_loss.item()}, validation accuracy: {val_accuracy}, epoch duration {epoch_duration:.2f} sec')"
   ]
  },
  {
   "cell_type": "markdown",
   "metadata": {
    "id": "3y6QHTEpHFZb"
   },
   "source": [
    "## GPUで計算"
   ]
  },
  {
   "cell_type": "code",
   "execution_count": 19,
   "metadata": {
    "colab": {
     "base_uri": "https://localhost:8080/"
    },
    "id": "Njxnl55XFXR5",
    "outputId": "56f1016b-ee4c-4695-bfa0-4bf427a0bc7f"
   },
   "outputs": [
    {
     "name": "stdout",
     "output_type": "stream",
     "text": [
      "epoch: 0: train error: 3.0376185284306607, validation error: 0.978164792060852, validation accuracy: 0.7944444417953491, epoch duration 0.05 sec\n",
      "epoch: 1: train error: 0.7183706608678525, validation error: 0.5727800130844116, validation accuracy: 0.875, epoch duration 0.05 sec\n",
      "epoch: 2: train error: 0.39205272775143385, validation error: 0.43261265754699707, validation accuracy: 0.8888888955116272, epoch duration 0.05 sec\n",
      "epoch: 3: train error: 0.24988523579668254, validation error: 0.36632826924324036, validation accuracy: 0.9027777910232544, epoch duration 0.05 sec\n",
      "epoch: 4: train error: 0.18320447819617888, validation error: 0.34293049573898315, validation accuracy: 0.9166666865348816, epoch duration 0.05 sec\n",
      "epoch: 5: train error: 0.14127676023053937, validation error: 0.2696492671966553, validation accuracy: 0.9222222566604614, epoch duration 0.05 sec\n",
      "epoch: 6: train error: 0.11387003109363529, validation error: 0.2497757375240326, validation accuracy: 0.9416666626930237, epoch duration 0.05 sec\n",
      "epoch: 7: train error: 0.09119265706006748, validation error: 0.24797232449054718, validation accuracy: 0.9361111521720886, epoch duration 0.06 sec\n",
      "epoch: 8: train error: 0.0775166958628688, validation error: 0.2423793077468872, validation accuracy: 0.9361111521720886, epoch duration 0.05 sec\n",
      "epoch: 9: train error: 0.06337552204180004, validation error: 0.23564830422401428, validation accuracy: 0.9333333373069763, epoch duration 0.05 sec\n",
      "epoch: 10: train error: 0.05743248752939204, validation error: 0.23147961497306824, validation accuracy: 0.9361111521720886, epoch duration 0.05 sec\n",
      "epoch: 11: train error: 0.049487163540713176, validation error: 0.2045372724533081, validation accuracy: 0.9472222328186035, epoch duration 0.05 sec\n",
      "epoch: 12: train error: 0.041787910469186805, validation error: 0.2003518044948578, validation accuracy: 0.944444477558136, epoch duration 0.05 sec\n",
      "epoch: 13: train error: 0.035099985034321435, validation error: 0.22339312732219696, validation accuracy: 0.9416666626930237, epoch duration 0.05 sec\n",
      "epoch: 14: train error: 0.030874316954092745, validation error: 0.20939484238624573, validation accuracy: 0.944444477558136, epoch duration 0.05 sec\n",
      "epoch: 15: train error: 0.027442766052748386, validation error: 0.19812825322151184, validation accuracy: 0.9472222328186035, epoch duration 0.06 sec\n",
      "epoch: 16: train error: 0.023905684099493858, validation error: 0.20202355086803436, validation accuracy: 0.9500000476837158, epoch duration 0.05 sec\n",
      "epoch: 17: train error: 0.021515386157261673, validation error: 0.18066368997097015, validation accuracy: 0.9472222328186035, epoch duration 0.05 sec\n",
      "epoch: 18: train error: 0.019192132497361552, validation error: 0.19378361105918884, validation accuracy: 0.944444477558136, epoch duration 0.05 sec\n",
      "epoch: 19: train error: 0.017418153959927924, validation error: 0.1827019602060318, validation accuracy: 0.9472222328186035, epoch duration 0.05 sec\n",
      "epoch: 20: train error: 0.015821494460396934, validation error: 0.18277794122695923, validation accuracy: 0.9472222328186035, epoch duration 0.05 sec\n",
      "epoch: 21: train error: 0.014328315485424051, validation error: 0.18076221644878387, validation accuracy: 0.9472222328186035, epoch duration 0.05 sec\n",
      "epoch: 22: train error: 0.013939230217753599, validation error: 0.17725244164466858, validation accuracy: 0.944444477558136, epoch duration 0.05 sec\n",
      "epoch: 23: train error: 0.012708402959106024, validation error: 0.1706368625164032, validation accuracy: 0.9472222328186035, epoch duration 0.05 sec\n",
      "epoch: 24: train error: 0.012073689251944112, validation error: 0.17318780720233917, validation accuracy: 0.9472222328186035, epoch duration 0.05 sec\n",
      "epoch: 25: train error: 0.011136571767565329, validation error: 0.17514890432357788, validation accuracy: 0.9527778029441833, epoch duration 0.05 sec\n",
      "epoch: 26: train error: 0.010244541170929248, validation error: 0.17204490303993225, validation accuracy: 0.9472222328186035, epoch duration 0.05 sec\n",
      "epoch: 27: train error: 0.009922497956722509, validation error: 0.16948965191841125, validation accuracy: 0.944444477558136, epoch duration 0.05 sec\n",
      "epoch: 28: train error: 0.00909959500010397, validation error: 0.1672324538230896, validation accuracy: 0.9500000476837158, epoch duration 0.05 sec\n",
      "epoch: 29: train error: 0.008616586703283247, validation error: 0.16389092803001404, validation accuracy: 0.9500000476837158, epoch duration 0.05 sec\n",
      "epoch: 30: train error: 0.008242976662586443, validation error: 0.16280782222747803, validation accuracy: 0.9527778029441833, epoch duration 0.05 sec\n",
      "epoch: 31: train error: 0.007868834077574624, validation error: 0.16788816452026367, validation accuracy: 0.9500000476837158, epoch duration 0.05 sec\n",
      "epoch: 32: train error: 0.007469680698704906, validation error: 0.16603519022464752, validation accuracy: 0.9555555582046509, epoch duration 0.05 sec\n",
      "epoch: 33: train error: 0.0072246376585098915, validation error: 0.16249626874923706, validation accuracy: 0.9555555582046509, epoch duration 0.05 sec\n",
      "epoch: 34: train error: 0.006975479279693293, validation error: 0.1601468026638031, validation accuracy: 0.9527778029441833, epoch duration 0.05 sec\n",
      "epoch: 35: train error: 0.006720057802643471, validation error: 0.1608516126871109, validation accuracy: 0.9527778029441833, epoch duration 0.06 sec\n",
      "epoch: 36: train error: 0.006424247694667429, validation error: 0.15912151336669922, validation accuracy: 0.9555555582046509, epoch duration 0.05 sec\n",
      "epoch: 37: train error: 0.006246818352034704, validation error: 0.1590132713317871, validation accuracy: 0.9555555582046509, epoch duration 0.05 sec\n",
      "epoch: 38: train error: 0.006019763909231794, validation error: 0.15744152665138245, validation accuracy: 0.9555555582046509, epoch duration 0.05 sec\n",
      "epoch: 39: train error: 0.0058748672987955315, validation error: 0.1576196253299713, validation accuracy: 0.9555555582046509, epoch duration 0.05 sec\n",
      "epoch: 40: train error: 0.005615485322778113, validation error: 0.1592070460319519, validation accuracy: 0.9583333730697632, epoch duration 0.05 sec\n",
      "epoch: 41: train error: 0.005430894661306714, validation error: 0.15452586114406586, validation accuracy: 0.9555555582046509, epoch duration 0.05 sec\n",
      "epoch: 42: train error: 0.005311000597430393, validation error: 0.1588301658630371, validation accuracy: 0.9611111283302307, epoch duration 0.05 sec\n",
      "epoch: 43: train error: 0.005197075778899792, validation error: 0.1544957160949707, validation accuracy: 0.9583333730697632, epoch duration 0.05 sec\n",
      "epoch: 44: train error: 0.005012883278444254, validation error: 0.1539468914270401, validation accuracy: 0.9583333730697632, epoch duration 0.05 sec\n",
      "epoch: 45: train error: 0.004954282167697481, validation error: 0.15343661606311798, validation accuracy: 0.9583333730697632, epoch duration 0.05 sec\n",
      "epoch: 46: train error: 0.004807690005084926, validation error: 0.15501251816749573, validation accuracy: 0.9611111283302307, epoch duration 0.06 sec\n",
      "epoch: 47: train error: 0.004670182800812957, validation error: 0.1549958884716034, validation accuracy: 0.9611111283302307, epoch duration 0.05 sec\n",
      "epoch: 48: train error: 0.0045715793409423595, validation error: 0.1519794762134552, validation accuracy: 0.9611111283302307, epoch duration 0.06 sec\n",
      "epoch: 49: train error: 0.004457067487237509, validation error: 0.15290430188179016, validation accuracy: 0.9611111283302307, epoch duration 0.05 sec\n",
      "epoch: 50: train error: 0.004350812026435354, validation error: 0.15211234986782074, validation accuracy: 0.9611111283302307, epoch duration 0.05 sec\n",
      "epoch: 51: train error: 0.0042317152304652455, validation error: 0.14946317672729492, validation accuracy: 0.9638888835906982, epoch duration 0.05 sec\n",
      "epoch: 52: train error: 0.004185461680511556, validation error: 0.14957313239574432, validation accuracy: 0.9611111283302307, epoch duration 0.05 sec\n",
      "epoch: 53: train error: 0.004099834980782664, validation error: 0.15057913959026337, validation accuracy: 0.9611111283302307, epoch duration 0.07 sec\n",
      "epoch: 54: train error: 0.004015871174487984, validation error: 0.15049953758716583, validation accuracy: 0.9694444537162781, epoch duration 0.08 sec\n",
      "epoch: 55: train error: 0.003937214889447205, validation error: 0.14993180334568024, validation accuracy: 0.9638888835906982, epoch duration 0.05 sec\n",
      "epoch: 56: train error: 0.00387002831606272, validation error: 0.14827176928520203, validation accuracy: 0.9694444537162781, epoch duration 0.05 sec\n",
      "epoch: 57: train error: 0.0037974649283872472, validation error: 0.1490211933851242, validation accuracy: 0.9694444537162781, epoch duration 0.06 sec\n",
      "epoch: 58: train error: 0.0036959079419223904, validation error: 0.15044306218624115, validation accuracy: 0.9666666984558105, epoch duration 0.05 sec\n",
      "epoch: 59: train error: 0.0036470222621574067, validation error: 0.14630548655986786, validation accuracy: 0.9694444537162781, epoch duration 0.05 sec\n",
      "epoch: 60: train error: 0.0035921000120045696, validation error: 0.1472897231578827, validation accuracy: 0.9694444537162781, epoch duration 0.05 sec\n",
      "epoch: 61: train error: 0.0035122828836999056, validation error: 0.14656612277030945, validation accuracy: 0.9694444537162781, epoch duration 0.05 sec\n",
      "epoch: 62: train error: 0.0034698968065640656, validation error: 0.14702607691287994, validation accuracy: 0.9694444537162781, epoch duration 0.05 sec\n",
      "epoch: 63: train error: 0.0034241805618269914, validation error: 0.1459987908601761, validation accuracy: 0.9694444537162781, epoch duration 0.05 sec\n",
      "epoch: 64: train error: 0.0033342009822566374, validation error: 0.14440606534481049, validation accuracy: 0.9694444537162781, epoch duration 0.05 sec\n",
      "epoch: 65: train error: 0.0033028796345509668, validation error: 0.14613869786262512, validation accuracy: 0.9694444537162781, epoch duration 0.06 sec\n",
      "epoch: 66: train error: 0.003235046838502361, validation error: 0.14591960608959198, validation accuracy: 0.9694444537162781, epoch duration 0.05 sec\n",
      "epoch: 67: train error: 0.0032012404432559074, validation error: 0.14466629922389984, validation accuracy: 0.9694444537162781, epoch duration 0.05 sec\n",
      "epoch: 68: train error: 0.0031477958776425416, validation error: 0.14448270201683044, validation accuracy: 0.9694444537162781, epoch duration 0.05 sec\n",
      "epoch: 69: train error: 0.0031099972372127618, validation error: 0.1452644169330597, validation accuracy: 0.9694444537162781, epoch duration 0.05 sec\n",
      "epoch: 70: train error: 0.0030566682835342363, validation error: 0.14465470612049103, validation accuracy: 0.9694444537162781, epoch duration 0.05 sec\n",
      "epoch: 71: train error: 0.002999410677148262, validation error: 0.14439460635185242, validation accuracy: 0.9694444537162781, epoch duration 0.05 sec\n",
      "epoch: 72: train error: 0.0029601796237936164, validation error: 0.14336544275283813, validation accuracy: 0.9694444537162781, epoch duration 0.05 sec\n",
      "epoch: 73: train error: 0.0029208494064126476, validation error: 0.14340311288833618, validation accuracy: 0.9694444537162781, epoch duration 0.05 sec\n",
      "epoch: 74: train error: 0.0028802670943453754, validation error: 0.14339174330234528, validation accuracy: 0.9694444537162781, epoch duration 0.06 sec\n",
      "epoch: 75: train error: 0.0028413178315531695, validation error: 0.1426066756248474, validation accuracy: 0.9694444537162781, epoch duration 0.05 sec\n",
      "epoch: 76: train error: 0.002803653202742377, validation error: 0.14178836345672607, validation accuracy: 0.9694444537162781, epoch duration 0.05 sec\n",
      "epoch: 77: train error: 0.0027699959027813748, validation error: 0.143916055560112, validation accuracy: 0.9694444537162781, epoch duration 0.05 sec\n",
      "epoch: 78: train error: 0.002738117166397084, validation error: 0.14359694719314575, validation accuracy: 0.9694444537162781, epoch duration 0.05 sec\n",
      "epoch: 79: train error: 0.002694228256586939, validation error: 0.14155691862106323, validation accuracy: 0.9694444537162781, epoch duration 0.05 sec\n",
      "epoch: 80: train error: 0.0026687716041730405, validation error: 0.14080145955085754, validation accuracy: 0.9694444537162781, epoch duration 0.05 sec\n",
      "epoch: 81: train error: 0.002629510033026842, validation error: 0.1411336064338684, validation accuracy: 0.9694444537162781, epoch duration 0.05 sec\n",
      "epoch: 82: train error: 0.002610134401038522, validation error: 0.14101378619670868, validation accuracy: 0.9694444537162781, epoch duration 0.05 sec\n",
      "epoch: 83: train error: 0.002574443042249186, validation error: 0.140482559800148, validation accuracy: 0.9694444537162781, epoch duration 0.05 sec\n",
      "epoch: 84: train error: 0.0025454259951705658, validation error: 0.13995245099067688, validation accuracy: 0.9694444537162781, epoch duration 0.06 sec\n",
      "epoch: 85: train error: 0.0025107907907416425, validation error: 0.14068754017353058, validation accuracy: 0.9694444537162781, epoch duration 0.05 sec\n",
      "epoch: 86: train error: 0.002482624006612847, validation error: 0.14034341275691986, validation accuracy: 0.9694444537162781, epoch duration 0.05 sec\n",
      "epoch: 87: train error: 0.0024493779686357207, validation error: 0.14099182188510895, validation accuracy: 0.9694444537162781, epoch duration 0.05 sec\n",
      "epoch: 88: train error: 0.002426269304123707, validation error: 0.14113718271255493, validation accuracy: 0.9694444537162781, epoch duration 0.05 sec\n",
      "epoch: 89: train error: 0.002399526595885012, validation error: 0.13993968069553375, validation accuracy: 0.9694444537162781, epoch duration 0.05 sec\n",
      "epoch: 90: train error: 0.0023720597807065738, validation error: 0.1398475617170334, validation accuracy: 0.9694444537162781, epoch duration 0.05 sec\n",
      "epoch: 91: train error: 0.0023470747394943223, validation error: 0.13985973596572876, validation accuracy: 0.9694444537162781, epoch duration 0.05 sec\n",
      "epoch: 92: train error: 0.0023289861686256095, validation error: 0.13976040482521057, validation accuracy: 0.9694444537162781, epoch duration 0.05 sec\n",
      "epoch: 93: train error: 0.002298677622093237, validation error: 0.13843481242656708, validation accuracy: 0.9694444537162781, epoch duration 0.05 sec\n",
      "epoch: 94: train error: 0.002279653198153634, validation error: 0.13858896493911743, validation accuracy: 0.9694444537162781, epoch duration 0.05 sec\n",
      "epoch: 95: train error: 0.0022509136776231267, validation error: 0.13832572102546692, validation accuracy: 0.9694444537162781, epoch duration 0.06 sec\n",
      "epoch: 96: train error: 0.0022344224774618246, validation error: 0.13775989413261414, validation accuracy: 0.9694444537162781, epoch duration 0.05 sec\n",
      "epoch: 97: train error: 0.002216582130737758, validation error: 0.13791604340076447, validation accuracy: 0.9694444537162781, epoch duration 0.05 sec\n",
      "epoch: 98: train error: 0.0021902134399927795, validation error: 0.13755205273628235, validation accuracy: 0.9694444537162781, epoch duration 0.05 sec\n",
      "epoch: 99: train error: 0.002167595495848218, validation error: 0.13797388970851898, validation accuracy: 0.9694444537162781, epoch duration 0.05 sec\n"
     ]
    }
   ],
   "source": [
    "device = 'cuda'\n",
    "# ======モデル======\n",
    "class Linear():\n",
    "    def __init__(self, in_features, out_features, n):\n",
    "        # ======================= Wとbのtensorを.to(device)する =================================\n",
    "        self.W = (torch.randn((out_features, in_features)) * torch.sqrt(torch.tensor(2.0 / n))).to(device)\n",
    "        self.W.requires_grad = True\n",
    "        self.b = torch.zeros((1, out_features)).to(device)\n",
    "        self.b.requires_grad = True\n",
    "\n",
    "    def forward(self, X):\n",
    "        self.X = X\n",
    "        self.Z = X @ self.W.T + self.b\n",
    "        return self.Z\n",
    "\n",
    "    def backward(self, Z):\n",
    "        self.W.grad_ = Z.grad_.T @ self.X\n",
    "        self.b.grad_ = torch.sum(Z.grad_, dim=0)\n",
    "        self.X.grad_ = Z.grad_ @ self.W\n",
    "        return self.X.grad_\n",
    "\n",
    "class ReLU():\n",
    "    def forward(self, X):\n",
    "        self.X = X\n",
    "        return X.clamp_min(0.)\n",
    "\n",
    "    def backward(self, A):\n",
    "        return A.grad_ * (self.X > 0).float()\n",
    "\n",
    "class SoftmaxCrossEntropy:\n",
    "    def forward(self, X, y):\n",
    "        e_x = torch.exp(X - torch.max(X, dim=-1, keepdim=True)[0])\n",
    "        self.softmax_out = e_x / (torch.sum(e_x, dim=-1, keepdim=True) + 1e-10)\n",
    "\n",
    "        log_probs = torch.log(self.softmax_out + 1e-10)\n",
    "        target_log_probs = log_probs * y\n",
    "\n",
    "        self.loss = -target_log_probs.sum(dim=-1).mean()\n",
    "        return self.loss\n",
    "\n",
    "    def backward(self, y):\n",
    "        return (self.softmax_out - y) / y.shape[0]\n",
    "\n",
    "class Model:\n",
    "    def __init__(self, input_features, hidden_units, output_units, data_num):\n",
    "        self.linear1 = Linear(input_features, hidden_units, data_num)\n",
    "        self.relu = ReLU()\n",
    "        self.linear2 = Linear(hidden_units, output_units, data_num)\n",
    "        self.loss_fn = SoftmaxCrossEntropy()\n",
    "\n",
    "    def forward(self, X, y):\n",
    "        self.X = X\n",
    "        self.Z1 = self.linear1.forward(X)\n",
    "        self.A1 = self.relu.forward(self.Z1)\n",
    "        self.Z2 = self.linear2.forward(self.A1)\n",
    "        self.loss = self.loss_fn.forward(self.Z2, y)\n",
    "        return self.loss, self.Z2\n",
    "\n",
    "    def backward(self, y):\n",
    "        self.Z2.grad_ = self.loss_fn.backward(y)\n",
    "        self.A1.grad_ = self.linear2.backward(self.Z2)\n",
    "        self.Z1.grad_ = self.relu.backward(self.A1)\n",
    "        self.X.grad_ = self.linear1.backward(self.Z1)\n",
    "\n",
    "    def zero_grad(self):\n",
    "        # 勾配の初期化\n",
    "        self.linear1.W.grad_ = None\n",
    "        self.linear1.b.grad_ = None\n",
    "        self.linear2.W.grad_ = None\n",
    "        self.linear2.b.grad_ = None\n",
    "\n",
    "    def step(self, learning_rate):\n",
    "        # パラメータの更新\n",
    "        self.linear1.W -= learning_rate * self.linear1.W.grad_\n",
    "        self.linear1.b -= learning_rate * self.linear1.b.grad_\n",
    "        self.linear2.W -= learning_rate * self.linear2.W.grad_\n",
    "        self.linear2.b -= learning_rate * self.linear2.b.grad_\n",
    "\n",
    "## Refactoring後の学習ループ(OptimizerやDataset, Dataloaderは後ほどRefactoring)\n",
    "# ===データの準備====\n",
    "dataset = datasets.load_digits()\n",
    "data = dataset['data']\n",
    "target = dataset['target']\n",
    "images = dataset['images']\n",
    "X_train, X_val, y_train, y_val = train_test_split(images, target, test_size=0.2, random_state=42)\n",
    "X_train_mean = X_train.mean()\n",
    "X_train_std = X_train.std()\n",
    "X_train = (X_train - X_train_mean) / X_train_std\n",
    "X_val = (X_val - X_train_mean) / X_train_std\n",
    "X_train = torch.tensor(X_train.reshape(-1, 64), dtype=torch.float32).to(device)\n",
    "X_val = torch.tensor(X_val.reshape(-1, 64), dtype=torch.float32).to(device)\n",
    "y_train = F.one_hot(torch.tensor(y_train), num_classes=10).to(device) #1437 x 10\n",
    "y_val = F.one_hot(torch.tensor(y_val), num_classes=10).to(device) # 360 x 10\n",
    "batch_size = 30\n",
    "# モデルの初期化\n",
    "model = Model(input_features=64, hidden_units=1000, output_units=10, data_num=batch_size)\n",
    "\n",
    "learning_rate = 0.01\n",
    "\n",
    "# ログ\n",
    "train_losses = []\n",
    "val_losses = []\n",
    "val_accuracies = []\n",
    "for epoch in range(100):\n",
    "    # エポック毎にデータをシャッフル\n",
    "    shuffled_indices = np.random.permutation(len(y_train))\n",
    "    num_batches = np.ceil(len(y_train)/batch_size).astype(int)\n",
    "    running_loss = 0.0\n",
    "    start_time = time.time()\n",
    "\n",
    "    for i in range(num_batches):\n",
    "\n",
    "        # mini batch作成\n",
    "        start = i * batch_size\n",
    "        end = start + batch_size\n",
    "\n",
    "        batch_indices = shuffled_indices[start:end]\n",
    "        y_true_ = y_train[batch_indices, :] # batch_size x 10\n",
    "\n",
    "        X = X_train[batch_indices] # batch_size x 64\n",
    "        # 順伝播と逆伝播の計算\n",
    "        loss, _ = model.forward(X, y_true_)\n",
    "        model.backward(y_true_)\n",
    "        running_loss += loss.item()\n",
    "\n",
    "        # パラメータ更新\n",
    "        with torch.no_grad():\n",
    "            model.step(learning_rate)\n",
    "\n",
    "        model.zero_grad()\n",
    "\n",
    "    # validation\n",
    "    with torch.no_grad():\n",
    "        val_loss, Z2_val = model.forward(X_val, y_val)\n",
    "\n",
    "        val_accuracy = torch.sum(torch.argmax(Z2_val, dim=-1) == torch.argmax(y_val, dim=-1)) / y_val.shape[0]\n",
    "\n",
    "    train_losses.append(running_loss/num_batches)\n",
    "    val_losses.append(val_loss.item())\n",
    "    val_accuracies.append(val_accuracy)\n",
    "    end_time = time.time()\n",
    "    epoch_duration = end_time - start_time\n",
    "    print(f'epoch: {epoch}: train error: {running_loss/num_batches}, validation error: {val_loss.item()}, validation accuracy: {val_accuracy}, epoch duration {epoch_duration:.2f} sec')"
   ]
  },
  {
   "cell_type": "code",
   "execution_count": null,
   "metadata": {
    "id": "bG95Y-k4GoeT"
   },
   "outputs": [],
   "source": []
  }
 ],
 "metadata": {
  "accelerator": "GPU",
  "colab": {
   "gpuType": "T4",
   "provenance": [],
   "toc_visible": true
  },
  "kernelspec": {
   "display_name": "Python 3 (ipykernel)",
   "language": "python",
   "name": "python3"
  },
  "language_info": {
   "codemirror_mode": {
    "name": "ipython",
    "version": 3
   },
   "file_extension": ".py",
   "mimetype": "text/x-python",
   "name": "python",
   "nbconvert_exporter": "python",
   "pygments_lexer": "ipython3",
   "version": "3.8.18"
  }
 },
 "nbformat": 4,
 "nbformat_minor": 4
}
