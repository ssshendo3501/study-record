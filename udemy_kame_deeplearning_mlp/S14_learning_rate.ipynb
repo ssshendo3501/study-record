{
 "cells": [
  {
   "cell_type": "markdown",
   "id": "8e713315-58aa-454c-8472-4b56aaf6c7b2",
   "metadata": {},
   "source": [
    "# Learning rate"
   ]
  },
  {
   "cell_type": "code",
   "execution_count": 1,
   "id": "f450867d-d593-4a60-84e6-817f325a5db1",
   "metadata": {},
   "outputs": [],
   "source": [
    "import torchvision\n",
    "import torch\n",
    "from torchvision import transforms\n",
    "from torch.utils.data import DataLoader\n",
    "import matplotlib.pyplot as plt\n",
    "import numpy as np\n",
    "from torch import optim, nn\n",
    "from torch.nn import functional as F\n",
    "from torch.utils.data import Dataset\n",
    "from sklearn import datasets\n",
    "from sklearn.model_selection import train_test_split"
   ]
  },
  {
   "cell_type": "markdown",
   "id": "181dc8d2-b553-4d73-a56f-3e2015f7cd6a",
   "metadata": {},
   "source": [
    "## Learning rate finder"
   ]
  },
  {
   "cell_type": "markdown",
   "id": "d6f8fbef-baf8-47c5-8fac-ccdbe0360797",
   "metadata": {},
   "source": [
    "- PytorchにはLearning rate finderは実装されていないので自分で用意する必要がある\n",
    "- 学習率=1e-8からはじめ、log scaleでミニバッチごとに学習率を増加する\n",
    "- 横軸：学習率(log scale)、縦軸:損失のグラフを描画する\n",
    "- 学習データ、モデル等は使わない\n",
    "- モデル, train_data_loader, 損失関数, 学習率の増加係数を引数にする"
   ]
  },
  {
   "cell_type": "code",
   "execution_count": 3,
   "id": "e3b23edb-3d23-4d92-8c57-cd2213253cd4",
   "metadata": {},
   "outputs": [],
   "source": [
    "# ================MLP自作クラス=================\n",
    "class MLP(nn.Module):\n",
    "    def __init__(self, num_in, num_hidden, num_out):\n",
    "        super().__init__()\n",
    "        self.flatten = nn.Flatten() # [b, c, h, w] -> [b, cxhxw]\n",
    "        self.l1 = nn.Linear(num_in, num_hidden)\n",
    "        self.l2 = nn.Linear(num_hidden, num_out)\n",
    "\n",
    "    def forward(self, x):\n",
    "        # z1 = self.l1(x)\n",
    "        # a1 = F.relu(z1)\n",
    "        # z2 = self.l2(a1)\n",
    "        x = self.l2(F.relu(self.l1(self.flatten(x))))\n",
    "        return x"
   ]
  },
  {
   "cell_type": "code",
   "execution_count": 4,
   "id": "559269cb-6274-442a-8ddb-6ec0cde2b61b",
   "metadata": {},
   "outputs": [],
   "source": [
    "# =============自作Datasetクラス=============\n",
    "class MyDataset(Dataset):\n",
    "    def __init__(self, X, y, transform=None):\n",
    "        self.X = X\n",
    "        self.y = y\n",
    "        self.transform = transform\n",
    "\n",
    "    def __len__(self):\n",
    "        return len(self.X)\n",
    "\n",
    "    def __getitem__(self, idx):\n",
    "        X = self.X[idx]\n",
    "        y = self.y[idx]\n",
    "\n",
    "        if self.transform:\n",
    "            X = self.transform(X)\n",
    "\n",
    "        return X, y"
   ]
  },
  {
   "cell_type": "code",
   "execution_count": 5,
   "id": "fc8a4cfe-cf93-4e8a-a209-b04e5f105e1c",
   "metadata": {
    "scrolled": true
   },
   "outputs": [],
   "source": [
    "# =============自作学習ループ関数=============\n",
    "def learn(model, train_loader, val_loader, opt, loss_func, num_epoch, early_stopping=None, save_path=None):\n",
    "    # ログ\n",
    "    train_losses = []\n",
    "    val_losses = []\n",
    "    val_accuracies = []\n",
    "    \n",
    "    best_val_loss = float('inf')  # 1回目のval_lossを無限大とする\n",
    "    no_improve = 0 # early stoppingのカウント用変数\n",
    "    \n",
    "    for epoch in range(num_epoch):\n",
    "        running_loss = 0.0\n",
    "        running_val_loss = 0.0\n",
    "        running_val_accuracy = 0.0\n",
    "        \n",
    "        for train_batch, data in enumerate(train_loader):\n",
    "            \n",
    "            X, y = data\n",
    "            \n",
    "            # mini batch作成 -> 削除\n",
    "    \n",
    "            # 順伝播と逆伝播の計算\n",
    "            opt.zero_grad()\n",
    "            # forward\n",
    "            preds = model.forward(X) \n",
    "            loss = loss_func(preds, y)\n",
    "            running_loss += loss.item()\n",
    "            # backward\n",
    "            loss.backward()\n",
    "            opt.step()\n",
    "            \n",
    "        # validation\n",
    "        with torch.no_grad():\n",
    "            for val_batch, data in enumerate(val_loader):\n",
    "                X_val, y_val = data\n",
    "                \n",
    "                preds_val = model(X_val)  \n",
    "                val_loss = loss_func(preds_val, y_val)\n",
    "                running_val_loss += val_loss.item()\n",
    "                val_accuracy = torch.sum(torch.argmax(preds_val, dim=-1) == y_val) / y_val.shape[0] \n",
    "                running_val_accuracy += val_accuracy.item()\n",
    "    \n",
    "        train_losses.append(running_loss/(train_batch + 1))\n",
    "        val_losses.append(running_val_loss/(val_batch + 1))\n",
    "        val_accuracies.append(running_val_accuracy/(val_batch + 1))\n",
    "        print(f'epoch: {epoch}: train error: {train_losses[-1]}, validation error: {val_losses[-1]}, validation accuracy: {val_accuracies[-1]}')\n",
    "    \n",
    "        # early ｓｔｏｐｐｉｎｇ\n",
    "        if val_losses[-1] < best_val_loss:\n",
    "            best_val_loss = val_losses[-1]\n",
    "            no_improve = 0\n",
    "            # モデルの保存\n",
    "            if save_path is not None:\n",
    "                state = {\n",
    "                    'model_state_dict': model.state_dict(),\n",
    "                    'optimizer_state_dict': opt.state_dict(),\n",
    "                    'val_loss': val_losses[-1]\n",
    "                }\n",
    "                torch.save(state, save_path)\n",
    "        else:\n",
    "            no_improve += 1\n",
    "    \n",
    "        if early_stopping and no_improve >= early_stopping:\n",
    "            print('Stoping early')\n",
    "            break\n",
    "\n",
    "    return train_losses, val_losses, val_accuracies"
   ]
  },
  {
   "cell_type": "code",
   "execution_count": 6,
   "id": "c0185018-38bf-402a-bbe5-f84d2e1d76aa",
   "metadata": {
    "scrolled": true
   },
   "outputs": [],
   "source": [
    "# データロード\n",
    "dataset = datasets.load_digits()\n",
    "data = dataset['data']\n",
    "target = dataset['target']\n",
    "images = dataset['images']\n",
    "images = images * (255.0 / 16.0)  # 0-16 -> 0-255\n",
    "images = images.astype(np.uint8)\n",
    "X_train, X_val, y_train, y_val = train_test_split(images, target, test_size=0.2, random_state=42)\n",
    "\n",
    "# Dataset\n",
    "transform = transforms.Compose([\n",
    "    transforms.ToTensor(),  # 0-255 -> 0-1\n",
    "    transforms.Normalize((0.5, ), (0.5, ))  # 0-1 -> -1-1\n",
    "])\n",
    "\n",
    "train_dataset = MyDataset(X_train, y_train, transform)\n",
    "val_dataset = MyDataset(X_val, y_val, transform)\n",
    "\n",
    "# DataLoader\n",
    "bacth_size = 10\n",
    "train_loader = DataLoader(train_dataset, batch_size=bacth_size, shuffle=True, num_workers=2)\n",
    "val_loader = DataLoader(val_dataset, batch_size=bacth_size, num_workers=2)\n",
    "\n",
    "# Refactoring後の学習ループ\n",
    "num_in = 64\n",
    "num_hidden = 30\n",
    "num_out = 10\n",
    "model = MLP(num_in, num_hidden, num_out)\n",
    "learning_rate = 0.1\n",
    "opt = optim.SGD(model.parameters(), lr=learning_rate)\n",
    "num_epoch = 100\n",
    "# train_losses, val_losses, val_accuracies = learn(model, train_loader, val_loader, opt, F.cross_entropy, num_epoch, early_stopping=5)"
   ]
  },
  {
   "cell_type": "code",
   "execution_count": 7,
   "id": "b5babb02-b090-4a96-9abb-f114aa90806f",
   "metadata": {},
   "outputs": [],
   "source": [
    "# =============自作Learning rate finderのクラス=============\n",
    "def lr_finder(model, train_loader, loss_func, lr_multiplier=1.2):\n",
    "\n",
    "    lr = 1e-8\n",
    "    max_lr = 10\n",
    "    opt = torch.optim.SGD(model.parameters(), lr=lr)\n",
    "    losses = []\n",
    "    lrs = []\n",
    "\n",
    "    for train_batch, data in enumerate(train_loader):\n",
    "        X, y = data\n",
    "\n",
    "        opt.zero_grad()\n",
    "        # forward\n",
    "        preds = model.forward(X) \n",
    "        loss = loss_func(preds, y)\n",
    "        losses.append(loss.item())\n",
    "        lrs.append(lr)\n",
    "        \n",
    "        # backward\n",
    "        loss.backward()\n",
    "        opt.step()\n",
    "\n",
    "        lr *= lr_multiplier\n",
    "\n",
    "        for param_group in opt.param_groups:\n",
    "            param_group['lr'] = lr\n",
    "        if lr > max_lr:\n",
    "            break\n",
    "\n",
    "    return lrs, losses"
   ]
  },
  {
   "cell_type": "code",
   "execution_count": 9,
   "id": "2d47a899-a199-41d1-a04e-d0c436975641",
   "metadata": {},
   "outputs": [
    {
     "data": {
      "image/png": "[encoded data removed]",
      "text/plain": [
       "<Figure size 640x480 with 1 Axes>"
      ]
     },
     "metadata": {},
     "output_type": "display_data"
    }
   ],
   "source": [
    "# Learning rate finder\n",
    "lrs, losses = lr_finder(model, train_loader, F.cross_entropy, lr_multiplier=1.2)\n",
    "\n",
    "# 描画　-> 1e-2〜1e-1の範囲のlrを使えば良いのがわかる\n",
    "plt.plot(lrs, losses)\n",
    "plt.xscale('log')"
   ]
  },
  {
   "cell_type": "raw",
   "id": "5dc2f3b5-908f-4c0a-a54e-20fe7e69fcc3",
   "metadata": {},
   "source": [
    "# optimizerの.param_groupsの中に様々なパラメータが保持されていて，learning rateもここに格納されている\n",
    "for param_group in opt.param_groups:\n",
    "    param_group['lr'] *= 1.1"
   ]
  },
  {
   "cell_type": "raw",
   "id": "9cf1d343-c6fa-46b2-91c7-d42a21038c6e",
   "metadata": {
    "scrolled": true
   },
   "source": [
    "# learning_rateが1.1倍されている\n",
    "opt.param_groups"
   ]
  },
  {
   "cell_type": "markdown",
   "id": "2626c5c3-0b68-4fb4-8534-2ef2b78bed43",
   "metadata": {},
   "source": [
    "## Learning rate schesduler"
   ]
  },
  {
   "cell_type": "markdown",
   "id": "559eb20d-fd7f-487e-930c-383a9dbd932a",
   "metadata": {},
   "source": [
    "- torch.optim.lr_schedulerにて様々なschedulerを提供\n",
    "    1. インスタンス生成\n",
    "        - 第一引数にoptimizerオブジェクトを渡す\n",
    "        - その他のパラメータを引数に渡す\n",
    "    2. .step()メソッドで、optimizerのlearning rateを更新する\n",
    "    - StepLR\n",
    "        - optimizer: optimizerオブジェクト\n",
    "        - step_size: 学習率を減少させるstep数\n",
    "        - gamma: 学習率の減衰率。step_sizeのepoch毎に学習率をgammaに乗ずる\n",
    "    - CosineAnnealingLR\n",
    "        - optimizer: optimizerオブジェクト\n",
    "        - T_max: 最大値から最小値になるまでのイテレーション（cos波のT/2周期）"
   ]
  },
  {
   "cell_type": "code",
   "execution_count": 10,
   "id": "80ee6a73-4221-46d4-bc16-6b70ed6a3cdf",
   "metadata": {},
   "outputs": [],
   "source": [
    "from torch.optim.lr_scheduler import StepLR, CosineAnnealingLR"
   ]
  },
  {
   "cell_type": "markdown",
   "id": "81beebbe-3f3c-418c-bbc2-e8d2ebbfd278",
   "metadata": {},
   "source": [
    "### StepLR"
   ]
  },
  {
   "cell_type": "code",
   "execution_count": 11,
   "id": "eb6e9c9d-679b-4f7c-88eb-b5c9fc97367f",
   "metadata": {},
   "outputs": [
    {
     "name": "stdout",
     "output_type": "stream",
     "text": [
      "0.1\n",
      "0.010000000000000002\n"
     ]
    },
    {
     "name": "stderr",
     "output_type": "stream",
     "text": [
      "/usr/local/lib/python3.8/site-packages/torch/optim/lr_scheduler.py:136: UserWarning: Detected call of `lr_scheduler.step()` before `optimizer.step()`. In PyTorch 1.1.0 and later, you should call them in the opposite order: `optimizer.step()` before `lr_scheduler.step()`.  Failure to do this will result in PyTorch skipping the first value of the learning rate schedule. See more details at https://pytorch.org/docs/stable/optim.html#how-to-adjust-learning-rate\n",
      "  warnings.warn(\"Detected call of `lr_scheduler.step()` before `optimizer.step()`. \"\n"
     ]
    }
   ],
   "source": [
    "# モデル初期化\n",
    "model = MLP(64, 30, 10)\n",
    "opt = optim.SGD(model.parameters(), lr=learning_rate)\n",
    "\n",
    "# StepLR\n",
    "# step_sizeはepoch数と同義、gammaは学習率の減衰率\n",
    "scheduler = StepLR(opt, step_size=30, gamma=0.1)\n",
    "\n",
    "for param_group in opt.param_groups:\n",
    "    print(param_group['lr'])\n",
    "for epoch in range(30):\n",
    "    scheduler.step()\n",
    "for param_group in opt.param_groups:\n",
    "    print(param_group['lr'])"
   ]
  },
  {
   "cell_type": "markdown",
   "id": "b3f3118d-365f-4460-867b-4b6ae2d349c5",
   "metadata": {},
   "source": [
    "### CosineAnnealingLR"
   ]
  },
  {
   "cell_type": "code",
   "execution_count": 12,
   "id": "a790c2c5-43c3-4344-964f-c5dfe22ea095",
   "metadata": {},
   "outputs": [],
   "source": [
    "# モデル初期化\n",
    "model = MLP(64, 30, 10)\n",
    "opt = optim.SGD(model.parameters(), lr=learning_rate)\n",
    "\n",
    "# CosineAnnealingLR\n",
    "# T_max=50とすると、cos curveの周期は100になる\n",
    "scheduler = CosineAnnealingLR(opt, T_max=50)\n",
    "lrs = []\n",
    "\n",
    "for epoch in range(150):\n",
    "    scheduler.step()\n",
    "    lrs.append(opt.param_groups[0]['lr'])"
   ]
  },
  {
   "cell_type": "code",
   "execution_count": 13,
   "id": "639b63e8-43fa-49c0-b590-6ae4a4c11c34",
   "metadata": {},
   "outputs": [
    {
     "data": {
      "text/plain": [
       "[<matplotlib.lines.Line2D at 0x7f1e26f4d8e0>]"
      ]
     },
     "execution_count": 13,
     "metadata": {},
     "output_type": "execute_result"
    },
    {
     "data": {
      "image/png": "[encoded data removed]",
      "text/plain": [
       "<Figure size 640x480 with 1 Axes>"
      ]
     },
     "metadata": {},
     "output_type": "display_data"
    }
   ],
   "source": [
    "plt.plot(lrs)"
   ]
  },
  {
   "cell_type": "markdown",
   "id": "e8b785f5-449b-47a4-a1c5-ae89ffc2909a",
   "metadata": {},
   "source": [
    "### learning rate schedulerを学習ループに組み込む"
   ]
  },
  {
   "cell_type": "code",
   "execution_count": 14,
   "id": "4e9a5686-e06c-474e-92ea-fbe3091227cd",
   "metadata": {},
   "outputs": [],
   "source": [
    "# learning rate schedulerを学習ループに組み込む\n",
    "# =============自作学習ループ関数=============\n",
    "def learn(model, train_loader, val_loader, opt, loss_func, num_epoch, early_stopping=None, save_path=None, scheduler=None):\n",
    "    # ログ\n",
    "    train_losses = []\n",
    "    val_losses = []\n",
    "    val_accuracies = []\n",
    "    \n",
    "    best_val_loss = float('inf')  # 1回目のval_lossを無限大とする\n",
    "    no_improve = 0 # early stoppingのカウント用変数\n",
    "    \n",
    "    for epoch in range(num_epoch):\n",
    "        running_loss = 0.0\n",
    "        running_val_loss = 0.0\n",
    "        running_val_accuracy = 0.0\n",
    "        \n",
    "        for train_batch, data in enumerate(train_loader):\n",
    "            \n",
    "            X, y = data\n",
    "            \n",
    "            # mini batch作成 -> 削除\n",
    "    \n",
    "            # 順伝播と逆伝播の計算\n",
    "            opt.zero_grad()\n",
    "            # forward\n",
    "            preds = model.forward(X) \n",
    "            loss = loss_func(preds, y)\n",
    "            running_loss += loss.item()\n",
    "            # backward\n",
    "            loss.backward()\n",
    "            opt.step()\n",
    "            \n",
    "        # validation\n",
    "        with torch.no_grad():\n",
    "            for val_batch, data in enumerate(val_loader):\n",
    "                X_val, y_val = data\n",
    "                \n",
    "                preds_val = model(X_val)  \n",
    "                val_loss = loss_func(preds_val, y_val)\n",
    "                running_val_loss += val_loss.item()\n",
    "                val_accuracy = torch.sum(torch.argmax(preds_val, dim=-1) == y_val) / y_val.shape[0] \n",
    "                running_val_accuracy += val_accuracy.item()\n",
    "    \n",
    "        train_losses.append(running_loss/(train_batch + 1))\n",
    "        val_losses.append(running_val_loss/(val_batch + 1))\n",
    "        val_accuracies.append(running_val_accuracy/(val_batch + 1))\n",
    "        print(f'epoch: {epoch}: train error: {train_losses[-1]}, validation error: {val_losses[-1]}, validation accuracy: {val_accuracies[-1]}')\n",
    "    \n",
    "        # early ｓｔｏｐｐｉｎｇ\n",
    "        if val_losses[-1] < best_val_loss:\n",
    "            best_val_loss = val_losses[-1]\n",
    "            no_improve = 0\n",
    "            # モデルの保存\n",
    "            if save_path is not None:\n",
    "                state = {\n",
    "                    'model_state_dict': model.state_dict(),\n",
    "                    'optimizer_state_dict': opt.state_dict(),\n",
    "                    'val_loss': val_losses[-1]\n",
    "                }\n",
    "                torch.save(state, save_path)\n",
    "        else:\n",
    "            no_improve += 1\n",
    "    \n",
    "        if early_stopping and no_improve >= early_stopping:\n",
    "            print('Stoping early')\n",
    "            break\n",
    "\n",
    "        # shcedularの機能追加\n",
    "        if scheduler:\n",
    "            scheduler.step()\n",
    "\n",
    "    return train_losses, val_losses, val_accuracies"
   ]
  },
  {
   "cell_type": "code",
   "execution_count": null,
   "id": "06cee6cc-2b21-40aa-886b-bc10cf12f9fa",
   "metadata": {
    "scrolled": true
   },
   "outputs": [
    {
     "name": "stdout",
     "output_type": "stream",
     "text": [
      "epoch: 0: train error: 1.1287445692966382, validation error: 0.340499658551481, validation accuracy: 0.9138888782925076\n",
      "epoch: 1: train error: 0.2789076770034929, validation error: 0.19643933170785507, validation accuracy: 0.9249999937083986\n",
      "epoch: 2: train error: 0.1779691990490796, validation error: 0.14967881153441137, validation accuracy: 0.9444444361660216\n",
      "epoch: 3: train error: 0.14392982078586808, validation error: 0.12202881092930006, validation accuracy: 0.9583333283662796\n",
      "epoch: 4: train error: 0.113422490158377, validation error: 0.1694634642270911, validation accuracy: 0.9444444378217062\n",
      "epoch: 5: train error: 0.10154673466846968, validation error: 0.13936329883290455, validation accuracy: 0.9527777714861764\n",
      "epoch: 6: train error: 0.09208666940523674, validation error: 0.1018363870615657, validation accuracy: 0.972222218910853\n",
      "epoch: 7: train error: 0.07377822905416703, validation error: 0.12579609209205955, validation accuracy: 0.9611111051506467\n",
      "epoch: 8: train error: 0.07034772551236933, validation error: 0.096551237129865, validation accuracy: 0.972222218910853\n",
      "epoch: 9: train error: 0.06212183034949703, validation error: 0.11182766334968619, validation accuracy: 0.955555549926228\n",
      "epoch: 10: train error: 0.05047639466849634, validation error: 0.13229530895154717, validation accuracy: 0.9583333300219642\n",
      "epoch: 11: train error: 0.04393245841007835, validation error: 0.09721759047048788, validation accuracy: 0.9749999973509047\n",
      "epoch: 12: train error: 0.03681819748291875, validation error: 0.10618025854556537, validation accuracy: 0.9638888835906982\n",
      "epoch: 13: train error: 0.03514849807086446, validation error: 0.09565583061097034, validation accuracy: 0.972222218910853\n",
      "epoch: 14: train error: 0.0357655730238346, validation error: 0.09709754465358048, validation accuracy: 0.9722222172551684\n",
      "epoch: 15: train error: 0.02721513347387372, validation error: 0.10018121494310132, validation accuracy: 0.9722222172551684\n",
      "epoch: 16: train error: 0.02631064933545228, validation error: 0.09731026271523054, validation accuracy: 0.9666666620307498\n",
      "epoch: 17: train error: 0.025133279347856943, validation error: 0.10267860013926919, validation accuracy: 0.9777777741352717\n",
      "epoch: 18: train error: 0.023283899781138945, validation error: 0.1006708713571748, validation accuracy: 0.9777777741352717\n",
      "epoch: 19: train error: 0.0197752280038104, validation error: 0.11778773833430023, validation accuracy: 0.9694444388151169\n",
      "epoch: 20: train error: 0.01874850044431595, validation error: 0.09922575618434672, validation accuracy: 0.9749999956952201\n",
      "epoch: 21: train error: 0.01731348753188892, validation error: 0.10244582158581277, validation accuracy: 0.9749999956952201\n",
      "epoch: 22: train error: 0.015076641491456636, validation error: 0.10635104135548722, validation accuracy: 0.9777777724795871\n",
      "epoch: 23: train error: 0.015042137436668983, validation error: 0.10595748303684457, validation accuracy: 0.972222218910853\n",
      "epoch: 24: train error: 0.01578566427815531, validation error: 0.0967561418478403, validation accuracy: 0.9777777741352717\n",
      "epoch: 25: train error: 0.01244371747230212, validation error: 0.09849974448702091, validation accuracy: 0.9749999956952201\n",
      "epoch: 26: train error: 0.011917050098620367, validation error: 0.09961259898955177, validation accuracy: 0.9694444388151169\n",
      "epoch: 27: train error: 0.012311412801358933, validation error: 0.09886575933534106, validation accuracy: 0.9777777741352717\n",
      "epoch: 28: train error: 0.010410911368328217, validation error: 0.10105501139130663, validation accuracy: 0.9749999956952201\n",
      "epoch: 29: train error: 0.009308015236456413, validation error: 0.09905454249777297, validation accuracy: 0.9777777741352717\n",
      "epoch: 30: train error: 0.007788836807877588, validation error: 0.09751262943084132, validation accuracy: 0.9777777741352717\n",
      "epoch: 31: train error: 0.007341908316852318, validation error: 0.09770868769656874, validation accuracy: 0.9777777741352717\n",
      "epoch: 32: train error: 0.007325447286954538, validation error: 0.09741564473329668, validation accuracy: 0.9777777741352717\n",
      "epoch: 33: train error: 0.007241535830871726, validation error: 0.09751798063755107, validation accuracy: 0.9777777741352717\n",
      "epoch: 34: train error: 0.00717708967931685, validation error: 0.09770400619133095, validation accuracy: 0.9777777741352717\n",
      "epoch: 35: train error: 0.007152772545648784, validation error: 0.09772706663261488, validation accuracy: 0.9777777741352717\n",
      "epoch: 36: train error: 0.007116552297854166, validation error: 0.09776775043155794, validation accuracy: 0.9777777741352717\n",
      "epoch: 37: train error: 0.007048638496548342, validation error: 0.09810211752654949, validation accuracy: 0.9777777741352717\n",
      "epoch: 38: train error: 0.007126979622676622, validation error: 0.09797097554817608, validation accuracy: 0.9777777741352717\n",
      "epoch: 39: train error: 0.00701216082904605, validation error: 0.09796165694266772, validation accuracy: 0.9777777741352717\n",
      "epoch: 40: train error: 0.007026802368626604, validation error: 0.09809704586880091, validation accuracy: 0.9777777741352717\n",
      "epoch: 41: train error: 0.006948205506735879, validation error: 0.09813028544896144, validation accuracy: 0.9777777741352717\n",
      "epoch: 42: train error: 0.006926058100563953, validation error: 0.09825715714093046, validation accuracy: 0.9777777741352717\n",
      "epoch: 43: train error: 0.006883208409312324, validation error: 0.0983657070741578, validation accuracy: 0.9777777741352717\n",
      "epoch: 44: train error: 0.006859464367708925, validation error: 0.09827306248906906, validation accuracy: 0.9777777741352717\n",
      "epoch: 45: train error: 0.0069146492985257485, validation error: 0.09829391535297166, validation accuracy: 0.9777777741352717\n",
      "epoch: 46: train error: 0.0068320772459931805, validation error: 0.09844047963098193, validation accuracy: 0.9777777741352717\n",
      "epoch: 47: train error: 0.0067795618246767235, validation error: 0.09874214896848975, validation accuracy: 0.9777777741352717\n",
      "epoch: 48: train error: 0.006759702761756772, validation error: 0.09875265126811428, validation accuracy: 0.9777777741352717\n",
      "epoch: 49: train error: 0.006739917186817163, validation error: 0.09874171020166816, validation accuracy: 0.9777777741352717\n"
     ]
    }
   ],
   "source": [
    "model = MLP(64, 30, 10)\n",
    "opt = optim.SGD(model.parameters(), lr=learning_rate)\n",
    "scheduler = StepLR(opt, step_size=30, gamma=0.1)\n",
    "train_losses, val_losses, val_accuracies = learn(model, train_loader, val_loader, opt, loss_func=F.cross_entropy, num_epoch=100, scheduler=scheduler)"
   ]
  },
  {
   "cell_type": "code",
   "execution_count": null,
   "id": "8680d79e-8f7f-42fb-9e2d-35f3e7d6dac8",
   "metadata": {},
   "outputs": [],
   "source": []
  }
 ],
 "metadata": {
  "kernelspec": {
   "display_name": "Python 3 (ipykernel)",
   "language": "python",
   "name": "python3"
  },
  "language_info": {
   "codemirror_mode": {
    "name": "ipython",
    "version": 3
   },
   "file_extension": ".py",
   "mimetype": "text/x-python",
   "name": "python",
   "nbconvert_exporter": "python",
   "pygments_lexer": "ipython3",
   "version": "3.8.18"
  }
 },
 "nbformat": 4,
 "nbformat_minor": 5
}
