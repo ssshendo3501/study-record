{
 "cells": [
  {
   "cell_type": "markdown",
   "id": "731f21b4-f614-41e9-b854-fb9288aba596",
   "metadata": {},
   "source": [
    "# Tensorの基礎"
   ]
  },
  {
   "cell_type": "markdown",
   "id": "9a498956-d877-45dd-bd4d-ac566b24a138",
   "metadata": {},
   "source": [
    "Tensorの基礎\n",
    "\n",
    "- import torchでpytorchをimport\n",
    "- torch.tensor()にlistを入れることでtensorを作成\n",
    "    - デフォルトの要素のデータ型はfloat32\n",
    "    - tensorはデータ型を意識して作ることが重要\n",
    "    - dtype引数を使ってデータ型を指定（例：dtype=float64）\n",
    "- 以下はnumpy同様の配列生成関数\n",
    "    - torch.zeros() <-> np.zeros()\n",
    "    - torch.ones() <-> np.ones()\n",
    "    - torch.eye() <-> np.eye()\n",
    "    - torch.rand() <-> np.random.rand()\n",
    "- .shapeでtensorのshapeを表示\n",
    "    - リスト表示されるが、実際にはtuple同様の不変オブジェクト"
   ]
  },
  {
   "cell_type": "code",
   "execution_count": 2,
   "id": "1fd9acc1-4610-49ad-a759-306b54d3ab2a",
   "metadata": {},
   "outputs": [
    {
     "data": {
      "text/plain": [
       "<torch._C.Generator at 0x7fb9df5d5190>"
      ]
     },
     "execution_count": 2,
     "metadata": {},
     "output_type": "execute_result"
    }
   ],
   "source": [
    "import torch\n",
    "import numpy as np\n",
    "torch.manual_seed(42)  # 乱数の種を固定する"
   ]
  },
  {
   "cell_type": "code",
   "execution_count": 3,
   "id": "fee32b2a-06c2-4965-ac9f-3f8bfba9d642",
   "metadata": {},
   "outputs": [
    {
     "data": {
      "text/plain": [
       "tensor([1, 2, 3, 4])"
      ]
     },
     "execution_count": 3,
     "metadata": {},
     "output_type": "execute_result"
    }
   ],
   "source": [
    "my_list = [1, 2, 3, 4]\n",
    "tensor_from_list = torch.tensor(my_list)\n",
    "tensor_from_list"
   ]
  },
  {
   "cell_type": "code",
   "execution_count": 4,
   "id": "ed97979e-6afb-4b4b-a9ae-2205e0ea9088",
   "metadata": {},
   "outputs": [
    {
     "data": {
      "text/plain": [
       "torch.Tensor"
      ]
     },
     "execution_count": 4,
     "metadata": {},
     "output_type": "execute_result"
    }
   ],
   "source": [
    "type(tensor_from_list)"
   ]
  },
  {
   "cell_type": "code",
   "execution_count": 5,
   "id": "08a07ca1-8203-4339-8a88-ae7174ded1c4",
   "metadata": {},
   "outputs": [
    {
     "data": {
      "text/plain": [
       "torch.int64"
      ]
     },
     "execution_count": 5,
     "metadata": {},
     "output_type": "execute_result"
    }
   ],
   "source": [
    "tensor_from_list.dtype"
   ]
  },
  {
   "cell_type": "code",
   "execution_count": 6,
   "id": "d5e61e54-21ee-4147-9509-7c6331d173b4",
   "metadata": {},
   "outputs": [
    {
     "data": {
      "text/plain": [
       "tensor([1., 2., 3., 4.])"
      ]
     },
     "execution_count": 6,
     "metadata": {},
     "output_type": "execute_result"
    }
   ],
   "source": [
    "# データ型がfloatになっているか確認する\n",
    "my_list = [1., 2., 3., 4.]\n",
    "tensor_from_list = torch.tensor(my_list)\n",
    "tensor_from_list"
   ]
  },
  {
   "cell_type": "code",
   "execution_count": 7,
   "id": "525cc37a-489a-4323-8f6c-249be5439652",
   "metadata": {},
   "outputs": [
    {
     "data": {
      "text/plain": [
       "torch.float32"
      ]
     },
     "execution_count": 7,
     "metadata": {},
     "output_type": "execute_result"
    }
   ],
   "source": [
    "tensor_from_list.dtype"
   ]
  },
  {
   "cell_type": "code",
   "execution_count": 8,
   "id": "5645b608-8199-4672-b258-33e60affd1fe",
   "metadata": {},
   "outputs": [
    {
     "data": {
      "text/plain": [
       "torch.float64"
      ]
     },
     "execution_count": 8,
     "metadata": {},
     "output_type": "execute_result"
    }
   ],
   "source": [
    "# データ型をfloat32からfloat64に変更する\n",
    "# 引数にdtype=torch.float64をいれる\n",
    "my_list = [1., 2., 3., 4.]\n",
    "tensor_from_list = torch.tensor(my_list, dtype=torch.float64)\n",
    "tensor_from_list.dtype"
   ]
  },
  {
   "cell_type": "code",
   "execution_count": 9,
   "id": "1bdd6975-7126-4d66-a155-691c0bad28ad",
   "metadata": {},
   "outputs": [
    {
     "data": {
      "text/plain": [
       "tensor([[0., 0., 0.],\n",
       "        [0., 0., 0.]])"
      ]
     },
     "execution_count": 9,
     "metadata": {},
     "output_type": "execute_result"
    }
   ],
   "source": [
    "# 色々なｔｅｎｓｏｒの記法\n",
    "# 2x3のゼロtensorを作る\n",
    "zeros_tensor = torch.zeros((2, 3))\n",
    "zeros_tensor"
   ]
  },
  {
   "cell_type": "code",
   "execution_count": 10,
   "id": "bace3e71-9f9e-4f5a-be9a-81b9f8cb123c",
   "metadata": {},
   "outputs": [
    {
     "data": {
      "text/plain": [
       "tensor([[1., 1., 1.],\n",
       "        [1., 1., 1.]])"
      ]
     },
     "execution_count": 10,
     "metadata": {},
     "output_type": "execute_result"
    }
   ],
   "source": [
    "# 2x3のone-tensorを作る\n",
    "ones_tensor = torch.ones((2, 3))\n",
    "ones_tensor"
   ]
  },
  {
   "cell_type": "code",
   "execution_count": 11,
   "id": "fe6e7fe1-01d1-4c99-9f49-0fd76ef37158",
   "metadata": {},
   "outputs": [
    {
     "data": {
      "text/plain": [
       "tensor([[1., 0., 0.],\n",
       "        [0., 1., 0.],\n",
       "        [0., 0., 1.]])"
      ]
     },
     "execution_count": 11,
     "metadata": {},
     "output_type": "execute_result"
    }
   ],
   "source": [
    "# 単位行列\n",
    "eye_tensor = torch.eye(3)\n",
    "eye_tensor"
   ]
  },
  {
   "cell_type": "code",
   "execution_count": 12,
   "id": "afea1fde-1306-482b-8363-81b7913bfce3",
   "metadata": {},
   "outputs": [
    {
     "data": {
      "text/plain": [
       "tensor([[0.8823, 0.9150, 0.3829],\n",
       "        [0.9593, 0.3904, 0.6009]])"
      ]
     },
     "execution_count": 12,
     "metadata": {},
     "output_type": "execute_result"
    }
   ],
   "source": [
    "# ランダム行列\n",
    "rand_tensor = torch.rand((2, 3))\n",
    "rand_tensor"
   ]
  },
  {
   "cell_type": "code",
   "execution_count": 13,
   "id": "59d50f5d-220c-4e8e-b524-5316633d64c6",
   "metadata": {},
   "outputs": [
    {
     "name": "stdout",
     "output_type": "stream",
     "text": [
      "tensor([[0., 0., 0.],\n",
      "        [0., 0., 0.]]) torch.float32\n",
      "tensor([[1., 1., 1.],\n",
      "        [1., 1., 1.]]) torch.float32\n",
      "tensor([[1., 0., 0.],\n",
      "        [0., 1., 0.],\n",
      "        [0., 0., 1.]]) torch.float32\n",
      "tensor([[0.8823, 0.9150, 0.3829],\n",
      "        [0.9593, 0.3904, 0.6009]]) torch.float32\n"
     ]
    }
   ],
   "source": [
    "# 上記のデータ型はすべてfloat32になっている\n",
    "print(zeros_tensor, zeros_tensor.dtype)\n",
    "print(ones_tensor, ones_tensor.dtype)\n",
    "print(eye_tensor, eye_tensor.dtype)\n",
    "print(rand_tensor, rand_tensor.dtype)"
   ]
  },
  {
   "cell_type": "code",
   "execution_count": 14,
   "id": "a107d426-c243-465d-a048-4c665058294c",
   "metadata": {},
   "outputs": [
    {
     "name": "stdout",
     "output_type": "stream",
     "text": [
      "[[0. 0. 0.]\n",
      " [0. 0. 0.]] float64\n",
      "[[1. 1. 1.]\n",
      " [1. 1. 1.]] float64\n",
      "[[1. 0. 0.]\n",
      " [0. 1. 0.]\n",
      " [0. 0. 1.]] float64\n",
      "[[0.74812593 0.2909165  0.34500051]\n",
      " [0.79158544 0.22677059 0.86277448]] float64\n"
     ]
    }
   ],
   "source": [
    "# NumPyとの対応\n",
    "np_zeros = np.zeros((2, 3))\n",
    "np_ones = np.ones((2, 3))\n",
    "np_eye = np.eye(3)\n",
    "np_random = np.random.rand(2, 3)\n",
    "# Numpy Arrayのデフォルトはfloat64であることに注意\n",
    "print(np_zeros, np_zeros.dtype)\n",
    "print(np_ones, np_ones.dtype)\n",
    "print(np_eye, np_eye.dtype)\n",
    "print(np_random, np_random.dtype)"
   ]
  },
  {
   "cell_type": "code",
   "execution_count": 15,
   "id": "b9c75d6c-c894-47a4-b6d1-a5c4097b0cdf",
   "metadata": {},
   "outputs": [
    {
     "data": {
      "text/plain": [
       "torch.Size([2, 3])"
      ]
     },
     "execution_count": 15,
     "metadata": {},
     "output_type": "execute_result"
    }
   ],
   "source": [
    "# tensorのサイズを確認\n",
    "zeros_tensor.shape"
   ]
  },
  {
   "cell_type": "markdown",
   "id": "8bbfdd87-fa90-43ce-bf9b-ca00a2c9a7d5",
   "metadata": {},
   "source": [
    "# Tensorの操作"
   ]
  },
  {
   "cell_type": "markdown",
   "id": "72c756d6-0334-4ae8-a20c-ab94f0aaeef6",
   "metadata": {},
   "source": [
    "- torch.permute() <-> np.transpose()\n",
    "    - torch.transpose()は、2軸を入れ替える関数\n",
    "- torch.reshape() <-> np.reshape()\n",
    "    - torch.view()も同様にreshapeするが、メモリが連続の場合のみ\n",
    "- torch.flatten() <-> np.flatten()\n",
    "- torch.squeeze() <-> np.squeeze()\n",
    "- torch.unsqueeze() <-> np.expand_dims()  "
   ]
  },
  {
   "cell_type": "code",
   "execution_count": 16,
   "id": "c47d7a7b-bc7e-4393-8f74-7e648af945fa",
   "metadata": {},
   "outputs": [
    {
     "name": "stdout",
     "output_type": "stream",
     "text": [
      "tensor([[[0.2566, 0.7936, 0.9408, 0.1332],\n",
      "         [0.9346, 0.5936, 0.8694, 0.5677],\n",
      "         [0.7411, 0.4294, 0.8854, 0.5739]],\n",
      "\n",
      "        [[0.2666, 0.6274, 0.2696, 0.4414],\n",
      "         [0.2969, 0.8317, 0.1053, 0.2695],\n",
      "         [0.3588, 0.1994, 0.5472, 0.0062]]]) torch.Size([2, 3, 4])\n",
      "[[[0.08175235 0.32091015 0.7297531  0.60615647]\n",
      "  [0.02425074 0.1345575  0.44059783 0.21965476]\n",
      "  [0.76357807 0.21900857 0.78218711 0.47525634]]\n",
      "\n",
      " [[0.95746641 0.77986289 0.09960746 0.57837025]\n",
      "  [0.53754736 0.31219171 0.10485301 0.05073094]\n",
      "  [0.38433757 0.6930055  0.69759543 0.9694503 ]]] (2, 3, 4)\n"
     ]
    }
   ],
   "source": [
    "tensor_example = torch.rand((2, 3, 4))\n",
    "np_example = np.random.rand(2, 3, 4)\n",
    "print(tensor_example, tensor_example.shape)\n",
    "print(np_example, np_example.shape)"
   ]
  },
  {
   "cell_type": "markdown",
   "id": "ce85ca29-41aa-4851-8975-1948399c39cd",
   "metadata": {},
   "source": [
    "## 転置"
   ]
  },
  {
   "cell_type": "code",
   "execution_count": 17,
   "id": "9f805724-3647-4270-9129-a35e34686f26",
   "metadata": {},
   "outputs": [
    {
     "data": {
      "text/plain": [
       "tensor([[[0.2566, 0.7936, 0.9408, 0.1332],\n",
       "         [0.9346, 0.5936, 0.8694, 0.5677],\n",
       "         [0.7411, 0.4294, 0.8854, 0.5739]],\n",
       "\n",
       "        [[0.2666, 0.6274, 0.2696, 0.4414],\n",
       "         [0.2969, 0.8317, 0.1053, 0.2695],\n",
       "         [0.3588, 0.1994, 0.5472, 0.0062]]])"
      ]
     },
     "execution_count": 17,
     "metadata": {},
     "output_type": "execute_result"
    }
   ],
   "source": [
    "# 転置: .permute(tensor, 配置)\n",
    "# （0,1,2）だと、(2,3,4)->(2,3,4)で変わらない\n",
    "torch.permute(tensor_example, (0, 1, 2))"
   ]
  },
  {
   "cell_type": "code",
   "execution_count": 18,
   "id": "1998bdf2-ce7b-4323-8e99-98df664e5677",
   "metadata": {},
   "outputs": [
    {
     "name": "stdout",
     "output_type": "stream",
     "text": [
      "torch.Size([3, 2, 4])\n",
      "(3, 2, 4)\n"
     ]
    }
   ],
   "source": [
    "# (1,0,2)にすると、(2,3,4)->(3,2,4)に転置される\n",
    "permuted_tensor = torch.permute(tensor_example, (1, 0, 2))\n",
    "permuted_np = np.transpose(np_example, (1, 0, 2))\n",
    "\n",
    "print(permuted_tensor.shape)\n",
    "print(permuted_np.shape)"
   ]
  },
  {
   "cell_type": "code",
   "execution_count": 20,
   "id": "7b49c6d1-3488-41dd-897c-8db6cb1f6338",
   "metadata": {},
   "outputs": [
    {
     "name": "stdout",
     "output_type": "stream",
     "text": [
      "torch.Size([3, 2, 4])\n"
     ]
    }
   ],
   "source": [
    "# .transpose(tensoｒ, 0, 1)で、(2,3,4)->(3,2,4)になる\n",
    "# 0番目と1番目を入れ替えたようになる\n",
    "transposed_tensor = torch.transpose(tensor_example, 0, 1)\n",
    "print(transposed_tensor.shape)"
   ]
  },
  {
   "cell_type": "code",
   "execution_count": 21,
   "id": "e32bac2f-99aa-494d-98ed-5c908721b11f",
   "metadata": {},
   "outputs": [
    {
     "data": {
      "text/plain": [
       "tensor([[0.9516, 0.0753, 0.8860],\n",
       "        [0.5832, 0.3376, 0.8090],\n",
       "        [0.5779, 0.9040, 0.5547]])"
      ]
     },
     "execution_count": 21,
     "metadata": {},
     "output_type": "execute_result"
    }
   ],
   "source": [
    "# 2次元の場合は.T/.tでもできる\n",
    "two_dim_tensor = torch.rand(3, 3)\n",
    "two_dim_tensor"
   ]
  },
  {
   "cell_type": "code",
   "execution_count": 22,
   "id": "5e7399f4-e0f4-427c-84de-9d97c6257c9c",
   "metadata": {},
   "outputs": [
    {
     "data": {
      "text/plain": [
       "tensor([[0.9516, 0.5832, 0.5779],\n",
       "        [0.0753, 0.3376, 0.9040],\n",
       "        [0.8860, 0.8090, 0.5547]])"
      ]
     },
     "execution_count": 22,
     "metadata": {},
     "output_type": "execute_result"
    }
   ],
   "source": [
    "two_dim_tensor.T"
   ]
  },
  {
   "cell_type": "markdown",
   "id": "eb4c619e-8c6f-4e17-b3af-2beec2dd20dd",
   "metadata": {},
   "source": [
    "## reshape"
   ]
  },
  {
   "cell_type": "code",
   "execution_count": 23,
   "id": "bba18a50-9f44-4a14-b975-94eff6bf038a",
   "metadata": {},
   "outputs": [
    {
     "name": "stdout",
     "output_type": "stream",
     "text": [
      "torch.Size([6, 4])\n",
      "(6, 4)\n"
     ]
    }
   ],
   "source": [
    "# reshape(tensor, tuple): (2,3,4)->(6,4)にreshapeする\n",
    "reshaped_tensor = torch.reshape(tensor_example, (6, 4))\n",
    "reshaped_np = np.reshape(np_example, (6, 4))\n",
    "\n",
    "print(reshaped_tensor.shape)\n",
    "print(reshaped_np.shape)"
   ]
  },
  {
   "cell_type": "markdown",
   "id": "98faf98e-6518-437c-aa86-f7bcf6e4379e",
   "metadata": {},
   "source": [
    "## tensorのreshapeの注意点"
   ]
  },
  {
   "cell_type": "code",
   "execution_count": 24,
   "id": "c7600ae1-ff71-4ac8-8136-e2b49e2af205",
   "metadata": {},
   "outputs": [
    {
     "name": "stdout",
     "output_type": "stream",
     "text": [
      "tensor([[0.2566, 0.7936, 0.9408, 0.1332],\n",
      "        [0.9346, 0.5936, 0.8694, 0.5677],\n",
      "        [0.7411, 0.4294, 0.8854, 0.5739],\n",
      "        [0.2666, 0.6274, 0.2696, 0.4414],\n",
      "        [0.2969, 0.8317, 0.1053, 0.2695],\n",
      "        [0.3588, 0.1994, 0.5472, 0.0062]]) 140432454744800\n",
      "tensor([[[0.2566, 0.7936, 0.9408, 0.1332],\n",
      "         [0.9346, 0.5936, 0.8694, 0.5677],\n",
      "         [0.7411, 0.4294, 0.8854, 0.5739]],\n",
      "\n",
      "        [[0.2666, 0.6274, 0.2696, 0.4414],\n",
      "         [0.2969, 0.8317, 0.1053, 0.2695],\n",
      "         [0.3588, 0.1994, 0.5472, 0.0062]]]) 140432477933456\n"
     ]
    }
   ],
   "source": [
    "# reshapeの注意点\n",
    "# reshapeしたtensorは元のtensorと同じメモリを使っている\n",
    "print(reshaped_tensor, id(reshaped_tensor))\n",
    "print(tensor_example, id(tensor_example))"
   ]
  },
  {
   "cell_type": "code",
   "execution_count": 25,
   "id": "83a9e7bb-1473-462c-af59-230797d4709d",
   "metadata": {},
   "outputs": [
    {
     "data": {
      "text/plain": [
       "tensor([[0.0000, 0.0000, 0.0000, 0.0000],\n",
       "        [0.9346, 0.5936, 0.8694, 0.5677],\n",
       "        [0.7411, 0.4294, 0.8854, 0.5739],\n",
       "        [0.2666, 0.6274, 0.2696, 0.4414],\n",
       "        [0.2969, 0.8317, 0.1053, 0.2695],\n",
       "        [0.3588, 0.1994, 0.5472, 0.0062]])"
      ]
     },
     "execution_count": 25,
     "metadata": {},
     "output_type": "execute_result"
    }
   ],
   "source": [
    "# そのためreshapeしたtensorの値を変更した場合、元のtensorも変更される\n",
    "reshaped_tensor[0] = 0\n",
    "reshaped_tensor"
   ]
  },
  {
   "cell_type": "code",
   "execution_count": 26,
   "id": "62456cf3-971f-436f-9380-2e29d5c4e0ec",
   "metadata": {},
   "outputs": [
    {
     "data": {
      "text/plain": [
       "tensor([[[0.0000, 0.0000, 0.0000, 0.0000],\n",
       "         [0.9346, 0.5936, 0.8694, 0.5677],\n",
       "         [0.7411, 0.4294, 0.8854, 0.5739]],\n",
       "\n",
       "        [[0.2666, 0.6274, 0.2696, 0.4414],\n",
       "         [0.2969, 0.8317, 0.1053, 0.2695],\n",
       "         [0.3588, 0.1994, 0.5472, 0.0062]]])"
      ]
     },
     "execution_count": 26,
     "metadata": {},
     "output_type": "execute_result"
    }
   ],
   "source": [
    "# 元のtensorも値が変更されているのがわかる\n",
    "tensor_example"
   ]
  },
  {
   "cell_type": "code",
   "execution_count": 27,
   "id": "95752110-2852-4868-ae86-41bb28eec983",
   "metadata": {},
   "outputs": [
    {
     "data": {
      "text/plain": [
       "tensor([[1, 2],\n",
       "        [3, 4],\n",
       "        [5, 6]])"
      ]
     },
     "execution_count": 27,
     "metadata": {},
     "output_type": "execute_result"
    }
   ],
   "source": [
    "# ただし、メモリが連続なアドレスで保存されていない場合は、同じメモリを使うことなくコピーを返すことに注意！\n",
    "# メモリが連続でなければ、コピーを返す\n",
    "x = torch.tensor([[1,2], [3,4], [5,6]])\n",
    "x"
   ]
  },
  {
   "cell_type": "code",
   "execution_count": 28,
   "id": "75693886-a076-4fb2-9b1a-74304b634056",
   "metadata": {},
   "outputs": [
    {
     "data": {
      "text/plain": [
       "tensor([[1, 3, 5],\n",
       "        [2, 4, 6]])"
      ]
     },
     "execution_count": 28,
     "metadata": {},
     "output_type": "execute_result"
    }
   ],
   "source": [
    "y = x.T\n",
    "y"
   ]
  },
  {
   "cell_type": "code",
   "execution_count": 29,
   "id": "418fee23-502a-463f-a1ed-a96f9191872e",
   "metadata": {},
   "outputs": [
    {
     "name": "stdout",
     "output_type": "stream",
     "text": [
      "140432453808432\n",
      "140432453809312\n"
     ]
    }
   ],
   "source": [
    "# xとyは別のメモリ\n",
    "print(id(x))\n",
    "print(id(y))"
   ]
  },
  {
   "cell_type": "code",
   "execution_count": 30,
   "id": "d898888f-b2c5-4395-9aef-829bd678eb9d",
   "metadata": {},
   "outputs": [
    {
     "name": "stdout",
     "output_type": "stream",
     "text": [
      "True\n",
      "False\n"
     ]
    }
   ],
   "source": [
    "# ｙは連続なメモリに保存されていない\n",
    "# .is_contiguous()で、連続なメモリに保存されているか確認できる\n",
    "print(x.is_contiguous())\n",
    "print(y.is_contiguous())"
   ]
  },
  {
   "cell_type": "code",
   "execution_count": 31,
   "id": "7bb37097-ea49-44cd-86f1-850b582fd235",
   "metadata": {},
   "outputs": [
    {
     "name": "stdout",
     "output_type": "stream",
     "text": [
      "tensor([[1, 3, 5],\n",
      "        [2, 4, 6]]) 140432453809312\n",
      "tensor([1, 3, 5, 2, 4, 6]) 140432469126576\n"
     ]
    }
   ],
   "source": [
    "# yをreshapeしてzのtensor作ったが、別のメモリでコピーができていることがわかる\n",
    "# これはyが連続なメモリで保存されていないため\n",
    "z = y.reshape(-1)\n",
    "print(y, id(y))\n",
    "print(z, id(z))"
   ]
  },
  {
   "cell_type": "code",
   "execution_count": 32,
   "id": "0b684baf-a5dc-4dee-a721-01d3ad8a5aa2",
   "metadata": {},
   "outputs": [
    {
     "data": {
      "text/plain": [
       "tensor([1, 2, 3, 4, 5, 6])"
      ]
     },
     "execution_count": 32,
     "metadata": {},
     "output_type": "execute_result"
    }
   ],
   "source": [
    "# .viewも同様にreshapeするが、メモリが連続の場合のみreshapeできて、連続なメモリに保存されていない場合、エラーを返す\n",
    "x.view(-1)"
   ]
  },
  {
   "cell_type": "code",
   "execution_count": 33,
   "id": "1f7138ec-fde6-4323-a9ba-c26b0a1dff52",
   "metadata": {},
   "outputs": [
    {
     "ename": "RuntimeError",
     "evalue": "view size is not compatible with input tensor's size and stride (at least one dimension spans across two contiguous subspaces). Use .reshape(...) instead.",
     "output_type": "error",
     "traceback": [
      "\u001b[0;31m---------------------------------------------------------------------------\u001b[0m",
      "\u001b[0;31mRuntimeError\u001b[0m                              Traceback (most recent call last)",
      "Cell \u001b[0;32mIn[33], line 2\u001b[0m\n\u001b[1;32m      1\u001b[0m \u001b[38;5;66;03m# yは連続なメモリに保存されていないのでエラーが返る\u001b[39;00m\n\u001b[0;32m----> 2\u001b[0m \u001b[43my\u001b[49m\u001b[38;5;241;43m.\u001b[39;49m\u001b[43mview\u001b[49m\u001b[43m(\u001b[49m\u001b[38;5;241;43m-\u001b[39;49m\u001b[38;5;241;43m1\u001b[39;49m\u001b[43m)\u001b[49m\n",
      "\u001b[0;31mRuntimeError\u001b[0m: view size is not compatible with input tensor's size and stride (at least one dimension spans across two contiguous subspaces). Use .reshape(...) instead."
     ]
    }
   ],
   "source": [
    "# yは連続なメモリに保存されていないのでエラーが返る\n",
    "y.view(-1)"
   ]
  },
  {
   "cell_type": "markdown",
   "id": "a92398cf-0923-4c7b-ae66-93e285de6679",
   "metadata": {},
   "source": [
    "## flatten"
   ]
  },
  {
   "cell_type": "code",
   "execution_count": 34,
   "id": "d52a6cd4-c075-469c-8ba2-16589e9b10ca",
   "metadata": {},
   "outputs": [
    {
     "name": "stdout",
     "output_type": "stream",
     "text": [
      "torch.Size([24])\n",
      "(24,)\n"
     ]
    }
   ],
   "source": [
    "# flattenは一次元にする配列関数\n",
    "flattend_tensor = torch.flatten(tensor_example)\n",
    "flattend_np = np_example.flatten()\n",
    "\n",
    "print(flattend_tensor.shape)\n",
    "print(flattend_np.shape)"
   ]
  },
  {
   "cell_type": "code",
   "execution_count": 35,
   "id": "b83844df-3881-430d-a5e9-f5571a17c1c9",
   "metadata": {},
   "outputs": [
    {
     "data": {
      "text/plain": [
       "tensor([0.0000, 0.0000, 0.0000, 0.0000, 0.9346, 0.5936, 0.8694, 0.5677, 0.7411,\n",
       "        0.4294, 0.8854, 0.5739, 0.2666, 0.6274, 0.2696, 0.4414, 0.2969, 0.8317,\n",
       "        0.1053, 0.2695, 0.3588, 0.1994, 0.5472, 0.0062])"
      ]
     },
     "execution_count": 35,
     "metadata": {},
     "output_type": "execute_result"
    }
   ],
   "source": [
    "flattend_tensor"
   ]
  },
  {
   "cell_type": "markdown",
   "id": "66f65bca-e9e3-4c93-8806-c4f3bb6a2bb4",
   "metadata": {},
   "source": [
    "## squeeze"
   ]
  },
  {
   "cell_type": "code",
   "execution_count": 36,
   "id": "45e6dc4d-7b0c-451b-8241-2884163ee11d",
   "metadata": {},
   "outputs": [
    {
     "name": "stdout",
     "output_type": "stream",
     "text": [
      "torch.Size([1, 3, 1])\n",
      "(1, 3, 1)\n"
     ]
    }
   ],
   "source": [
    "tensor_example = torch.tensor([[[1], [2], [3]]])\n",
    "np_example = np.array([[[1], [2], [3]]])\n",
    "print(tensor_example.shape)\n",
    "print(np_example.shape)"
   ]
  },
  {
   "cell_type": "code",
   "execution_count": 37,
   "id": "c2aa6aba-e374-4f54-81c0-27b9e623bd18",
   "metadata": {},
   "outputs": [
    {
     "data": {
      "text/plain": [
       "tensor([[[1],\n",
       "         [2],\n",
       "         [3]]])"
      ]
     },
     "execution_count": 37,
     "metadata": {},
     "output_type": "execute_result"
    }
   ],
   "source": [
    "tensor_example"
   ]
  },
  {
   "cell_type": "code",
   "execution_count": 38,
   "id": "8be90c00-b9a1-4dd6-a421-9a5c15756e6b",
   "metadata": {},
   "outputs": [
    {
     "data": {
      "text/plain": [
       "array([[[1],\n",
       "        [2],\n",
       "        [3]]])"
      ]
     },
     "execution_count": 38,
     "metadata": {},
     "output_type": "execute_result"
    }
   ],
   "source": [
    "np_example"
   ]
  },
  {
   "cell_type": "code",
   "execution_count": 39,
   "id": "627eb105-c2e0-46ce-bb93-483b690ceb23",
   "metadata": {},
   "outputs": [
    {
     "name": "stdout",
     "output_type": "stream",
     "text": [
      "torch.Size([3])\n",
      "(3,)\n"
     ]
    }
   ],
   "source": [
    "# squeezeでランクの数を調整する\n",
    "squeezed_tensor = torch.squeeze(tensor_example)\n",
    "squeezed_np = np.squeeze(np_example)\n",
    "\n",
    "print(squeezed_tensor.shape)\n",
    "print(squeezed_np.shape)"
   ]
  },
  {
   "cell_type": "code",
   "execution_count": 40,
   "id": "f5423003-8ac3-45dc-b9ca-18b2157aef46",
   "metadata": {},
   "outputs": [
    {
     "data": {
      "text/plain": [
       "array([1, 2, 3])"
      ]
     },
     "execution_count": 40,
     "metadata": {},
     "output_type": "execute_result"
    }
   ],
   "source": [
    "squeezed_np"
   ]
  },
  {
   "cell_type": "code",
   "execution_count": 41,
   "id": "99c1ba8a-a780-489f-83a5-1f6445e80a16",
   "metadata": {},
   "outputs": [
    {
     "data": {
      "text/plain": [
       "tensor([1, 2, 3])"
      ]
     },
     "execution_count": 41,
     "metadata": {},
     "output_type": "execute_result"
    }
   ],
   "source": [
    "squeezed_tensor"
   ]
  },
  {
   "cell_type": "code",
   "execution_count": 42,
   "id": "7f52f25f-c774-4692-a1db-0b99a6953d27",
   "metadata": {},
   "outputs": [
    {
     "name": "stdout",
     "output_type": "stream",
     "text": [
      "tensor([[[[1],\n",
      "          [2],\n",
      "          [3]]]]) torch.Size([1, 1, 3, 1])\n",
      "[[[[1]\n",
      "   [2]\n",
      "   [3]]]] (1, 1, 3, 1)\n"
     ]
    }
   ],
   "source": [
    "# unsqueezeにdim=0を引数に渡すことで、0番目のランクを足すことができる\n",
    "unsqueezed_tensor = torch.unsqueeze(tensor_example, 0)\n",
    "expand_dims_np = np.expand_dims(np_example, 0)\n",
    "\n",
    "print(unsqueezed_tensor, unsqueezed_tensor.shape)\n",
    "print(expand_dims_np, expand_dims_np.shape)"
   ]
  },
  {
   "cell_type": "markdown",
   "id": "4e056a03-1270-4bd5-9371-e9fe026452aa",
   "metadata": {},
   "source": [
    "# Tensorの便利関数"
   ]
  },
  {
   "cell_type": "code",
   "execution_count": 43,
   "id": "1211b05b-bf0d-460a-a279-c50c19a3d285",
   "metadata": {},
   "outputs": [
    {
     "name": "stdout",
     "output_type": "stream",
     "text": [
      "tensor([[0.3423, 0.6343, 0.3644],\n",
      "        [0.7104, 0.9464, 0.7890]])\n",
      "[[0.37456106 0.88414268 0.94122786]\n",
      " [0.06859031 0.62578862 0.96221748]]\n"
     ]
    }
   ],
   "source": [
    "tensor_example = torch.rand((2, 3))\n",
    "np_example = np.random.rand(2, 3)\n",
    "print(tensor_example)\n",
    "print(np_example)"
   ]
  },
  {
   "cell_type": "code",
   "execution_count": 44,
   "id": "9b28df1f-d374-4319-b601-82576624f3bc",
   "metadata": {},
   "outputs": [
    {
     "name": "stdout",
     "output_type": "stream",
     "text": [
      "tensor(3.7869)\n",
      "3.8565280170280323\n"
     ]
    }
   ],
   "source": [
    "# 合計\n",
    "print(torch.sum(tensor_example))\n",
    "print(np.sum(np_example))"
   ]
  },
  {
   "cell_type": "code",
   "execution_count": 45,
   "id": "11bb52c7-0a0f-4cd2-87fa-517a1f110ecc",
   "metadata": {},
   "outputs": [
    {
     "name": "stdout",
     "output_type": "stream",
     "text": [
      "tensor(0.6312)\n",
      "0.6427546695046721\n"
     ]
    }
   ],
   "source": [
    "# 平均\n",
    "print(torch.mean(tensor_example))\n",
    "print(np.mean(np_example))"
   ]
  },
  {
   "cell_type": "code",
   "execution_count": 46,
   "id": "777bdb55-c111-4735-abcd-472f2c325881",
   "metadata": {},
   "outputs": [
    {
     "name": "stdout",
     "output_type": "stream",
     "text": [
      "tensor([[0.5851, 0.7965, 0.6037],\n",
      "        [0.8429, 0.9728, 0.8883]])\n",
      "[[0.61201394 0.94028862 0.97016899]\n",
      " [0.26189752 0.79106803 0.98092685]]\n"
     ]
    }
   ],
   "source": [
    "# 平方根\n",
    "print(torch.sqrt(tensor_example))\n",
    "print(np.sqrt(np_example))"
   ]
  },
  {
   "cell_type": "code",
   "execution_count": 47,
   "id": "762ab635-c21e-44e4-87cc-5fc2e55f45d4",
   "metadata": {},
   "outputs": [
    {
     "name": "stdout",
     "output_type": "stream",
     "text": [
      "tensor(3.7869)\n",
      "3.786935329437256\n",
      "3.8565280170280323\n"
     ]
    }
   ],
   "source": [
    "# tensorで合計を取ると、tensorを返すので注意\n",
    "# 数値のみを取得したい場合は、.itemをつける\n",
    "print(torch.sum(tensor_example))\n",
    "print(torch.sum(tensor_example).item())\n",
    "print(np.sum(np_example))"
   ]
  },
  {
   "cell_type": "markdown",
   "id": "1ef91286-0872-4474-810a-c28d6708fe4d",
   "metadata": {},
   "source": [
    "# 行列の演算"
   ]
  },
  {
   "cell_type": "markdown",
   "id": "7fdfc81d-5b06-4cd9-9051-dd1a87521949",
   "metadata": {},
   "source": [
    "加減算及び要素ごとの乗除算\n",
    "\n",
    "- Numpy Array同様(+, -, *, /)\n",
    "\n",
    "\n",
    "行列の積\n",
    "\n",
    "- torch.mm(), torch.matumul()もしくは、@演算子を使用\n",
    "    - Numpy Arrayではnp.dot()または、@演算子を使用\n",
    "    - torch.dot()は、１次元に対してのみドット積（ベクトルの内積）を計算"
   ]
  },
  {
   "cell_type": "markdown",
   "id": "8848cf9b-de57-4d78-b69d-d18ff2d6373b",
   "metadata": {},
   "source": [
    "## 加減算や要素ごとの乗除算"
   ]
  },
  {
   "cell_type": "code",
   "execution_count": 48,
   "id": "699e8a72-bc56-4e0e-ba6e-2d3a8a0019bb",
   "metadata": {},
   "outputs": [
    {
     "name": "stdout",
     "output_type": "stream",
     "text": [
      "tensor([[0.2814, 0.7886, 0.5895],\n",
      "        [0.7539, 0.1952, 0.0050],\n",
      "        [0.3068, 0.1165, 0.9103]])\n",
      "tensor([[0.6440, 0.7071, 0.6581],\n",
      "        [0.4913, 0.8913, 0.1447],\n",
      "        [0.5315, 0.1587, 0.6542]])\n"
     ]
    }
   ],
   "source": [
    "a = torch.rand((3, 3))\n",
    "b = torch.rand((3, 3))\n",
    "print(a)\n",
    "print(b)"
   ]
  },
  {
   "cell_type": "code",
   "execution_count": 49,
   "id": "dc9735a5-1cbc-4147-8ca3-03945fa38a7e",
   "metadata": {},
   "outputs": [
    {
     "data": {
      "text/plain": [
       "tensor([[0.9254, 1.4957, 1.2476],\n",
       "        [1.2452, 1.0866, 0.1498],\n",
       "        [0.8383, 0.2752, 1.5644]])"
      ]
     },
     "execution_count": 49,
     "metadata": {},
     "output_type": "execute_result"
    }
   ],
   "source": [
    "a + b"
   ]
  },
  {
   "cell_type": "code",
   "execution_count": 50,
   "id": "48f956e2-123e-4d14-b592-d15242707905",
   "metadata": {},
   "outputs": [
    {
     "data": {
      "text/plain": [
       "tensor([[-0.3626,  0.0815, -0.0687],\n",
       "        [ 0.2626, -0.6961, -0.1397],\n",
       "        [-0.2247, -0.0422,  0.2561]])"
      ]
     },
     "execution_count": 50,
     "metadata": {},
     "output_type": "execute_result"
    }
   ],
   "source": [
    "a - b"
   ]
  },
  {
   "cell_type": "code",
   "execution_count": 51,
   "id": "3133c491-bd73-4d30-973d-cb771008d550",
   "metadata": {},
   "outputs": [
    {
     "data": {
      "text/plain": [
       "tensor([[0.1812, 0.5576, 0.3879],\n",
       "        [0.3704, 0.1740, 0.0007],\n",
       "        [0.1631, 0.0185, 0.5955]])"
      ]
     },
     "execution_count": 51,
     "metadata": {},
     "output_type": "execute_result"
    }
   ],
   "source": [
    "a * b"
   ]
  },
  {
   "cell_type": "code",
   "execution_count": 52,
   "id": "eef5c918-7f05-4197-947b-8db0332b1645",
   "metadata": {},
   "outputs": [
    {
     "data": {
      "text/plain": [
       "tensor([[0.4370, 1.1153, 0.8957],\n",
       "        [1.5345, 0.2191, 0.0349],\n",
       "        [0.5773, 0.7339, 1.3915]])"
      ]
     },
     "execution_count": 52,
     "metadata": {},
     "output_type": "execute_result"
    }
   ],
   "source": [
    "a / b"
   ]
  },
  {
   "cell_type": "markdown",
   "id": "478c4451-7c86-4fb4-b765-6045ab1cf674",
   "metadata": {},
   "source": [
    "## 行列の積"
   ]
  },
  {
   "cell_type": "code",
   "execution_count": 53,
   "id": "1310b5ac-2f27-4191-b85f-04a1f533ad3f",
   "metadata": {},
   "outputs": [
    {
     "data": {
      "text/plain": [
       "tensor([[0.8820, 0.9955, 0.6850],\n",
       "        [0.5841, 0.7079, 0.5277],\n",
       "        [0.7386, 0.4653, 0.8143]])"
      ]
     },
     "execution_count": 53,
     "metadata": {},
     "output_type": "execute_result"
    }
   ],
   "source": [
    "torch.mm(a, b)"
   ]
  },
  {
   "cell_type": "code",
   "execution_count": 54,
   "id": "0d0d417a-c495-429b-aa1f-1982f99f88fa",
   "metadata": {},
   "outputs": [
    {
     "data": {
      "text/plain": [
       "tensor([[0.8820, 0.9955, 0.6850],\n",
       "        [0.5841, 0.7079, 0.5277],\n",
       "        [0.7386, 0.4653, 0.8143]])"
      ]
     },
     "execution_count": 54,
     "metadata": {},
     "output_type": "execute_result"
    }
   ],
   "source": [
    "torch.matmul(a, b)"
   ]
  },
  {
   "cell_type": "code",
   "execution_count": 55,
   "id": "7c797b06-10fb-491a-b86d-858178e62a13",
   "metadata": {},
   "outputs": [
    {
     "data": {
      "text/plain": [
       "tensor([[0.8820, 0.9955, 0.6850],\n",
       "        [0.5841, 0.7079, 0.5277],\n",
       "        [0.7386, 0.4653, 0.8143]])"
      ]
     },
     "execution_count": 55,
     "metadata": {},
     "output_type": "execute_result"
    }
   ],
   "source": [
    "a @ b"
   ]
  },
  {
   "cell_type": "markdown",
   "id": "077e2d6c-fb38-4a88-bdb0-21432d7574fb",
   "metadata": {},
   "source": [
    "# ブロードキャスティング"
   ]
  },
  {
   "cell_type": "code",
   "execution_count": 56,
   "id": "d5faf007-ea85-4197-8601-77928cfaa6b9",
   "metadata": {},
   "outputs": [
    {
     "name": "stdout",
     "output_type": "stream",
     "text": [
      "tensor([[0.3278, 0.6532, 0.3958],\n",
      "        [0.9147, 0.2036, 0.2018],\n",
      "        [0.2018, 0.9497, 0.6666]])\n",
      "tensor([[5.3278, 5.6532, 5.3958],\n",
      "        [5.9147, 5.2036, 5.2018],\n",
      "        [5.2018, 5.9497, 5.6666]])\n"
     ]
    }
   ],
   "source": [
    "# (3,3)とスカラーの演算\n",
    "a = torch.rand(3, 3)\n",
    "scaler = 5\n",
    "print(a)\n",
    "print(a + 5)"
   ]
  },
  {
   "cell_type": "code",
   "execution_count": 57,
   "id": "dd06a687-ed5f-434e-9740-c0c516b6d639",
   "metadata": {},
   "outputs": [
    {
     "name": "stdout",
     "output_type": "stream",
     "text": [
      "tensor([[0.9811, 0.0874, 0.0041]])\n"
     ]
    }
   ],
   "source": [
    "# (3,3)と(1,3)の演算\n",
    "# ランクは2で両者等しい\n",
    "# (1,3)は(3,3)に拡大可能\n",
    "b = torch.rand(1, 3)\n",
    "print(b)"
   ]
  },
  {
   "cell_type": "code",
   "execution_count": 58,
   "id": "4b171d66-3a2e-456d-b9f5-e6799b6eadf2",
   "metadata": {},
   "outputs": [
    {
     "data": {
      "text/plain": [
       "torch.Size([3, 3])"
      ]
     },
     "execution_count": 58,
     "metadata": {},
     "output_type": "execute_result"
    }
   ],
   "source": [
    "(a + b).shape"
   ]
  },
  {
   "cell_type": "code",
   "execution_count": 59,
   "id": "debfb6fd-70c0-46e1-9ad9-27bb305e3691",
   "metadata": {},
   "outputs": [
    {
     "data": {
      "text/plain": [
       "torch.Size([32, 128, 128, 3])"
      ]
     },
     "execution_count": 59,
     "metadata": {},
     "output_type": "execute_result"
    }
   ],
   "source": [
    "# (32,128,128,3)と（128、128、3）の演算\n",
    "# ランクの低い(128,128,3)を(1,128,128,3)→(3,128,128,3)にしてブロードキャスティングする\n",
    "a = torch.rand((32, 128, 128, 3))\n",
    "b = torch.rand((128, 128, 3))\n",
    "(a + b).shape "
   ]
  },
  {
   "cell_type": "code",
   "execution_count": 60,
   "id": "468169d2-e148-42c6-b93d-ba9a909836af",
   "metadata": {},
   "outputs": [
    {
     "ename": "RuntimeError",
     "evalue": "The size of tensor a (3) must match the size of tensor b (6) at non-singleton dimension 3",
     "output_type": "error",
     "traceback": [
      "\u001b[0;31m---------------------------------------------------------------------------\u001b[0m",
      "\u001b[0;31mRuntimeError\u001b[0m                              Traceback (most recent call last)",
      "Cell \u001b[0;32mIn[60], line 4\u001b[0m\n\u001b[1;32m      2\u001b[0m a \u001b[38;5;241m=\u001b[39m torch\u001b[38;5;241m.\u001b[39mrand((\u001b[38;5;241m32\u001b[39m, \u001b[38;5;241m128\u001b[39m, \u001b[38;5;241m128\u001b[39m, \u001b[38;5;241m3\u001b[39m))\n\u001b[1;32m      3\u001b[0m b \u001b[38;5;241m=\u001b[39m torch\u001b[38;5;241m.\u001b[39mrand((\u001b[38;5;241m128\u001b[39m, \u001b[38;5;241m128\u001b[39m, \u001b[38;5;241m6\u001b[39m))\n\u001b[0;32m----> 4\u001b[0m (\u001b[43ma\u001b[49m\u001b[43m \u001b[49m\u001b[38;5;241;43m+\u001b[39;49m\u001b[43m \u001b[49m\u001b[43mb\u001b[49m)\u001b[38;5;241m.\u001b[39mshape \n",
      "\u001b[0;31mRuntimeError\u001b[0m: The size of tensor a (3) must match the size of tensor b (6) at non-singleton dimension 3"
     ]
    }
   ],
   "source": [
    "# (32,128,128,3)と（128、128、6）の演算 -> ブロードキャスティングできない\n",
    "a = torch.rand((32, 128, 128, 3))\n",
    "b = torch.rand((128, 128, 6))\n",
    "(a + b).shape "
   ]
  },
  {
   "cell_type": "code",
   "execution_count": 61,
   "id": "8a93e839-4e41-40e2-915f-f665bdff79ce",
   "metadata": {},
   "outputs": [
    {
     "data": {
      "text/plain": [
       "torch.Size([8, 128, 128, 3])"
      ]
     },
     "execution_count": 61,
     "metadata": {},
     "output_type": "execute_result"
    }
   ],
   "source": [
    "# (1,128,128,128,3)と（8,128、128、1）の演算 \n",
    "# ランクの数は両者4で等しい\n",
    "# 左から見ていくと,bは(8,128,128,3)に、aは(8,128,128,3)に拡大可能\n",
    "# \n",
    "a = torch.rand((1, 128, 128, 3))\n",
    "b = torch.rand((8, 128, 128, 1))\n",
    "(a + b).shape "
   ]
  },
  {
   "cell_type": "code",
   "execution_count": null,
   "id": "5ae397b9-5f47-4559-b35d-25200f89fb05",
   "metadata": {},
   "outputs": [],
   "source": []
  },
  {
   "cell_type": "code",
   "execution_count": null,
   "id": "e844b083-a9e8-4e95-b910-f312ecc180d6",
   "metadata": {},
   "outputs": [],
   "source": []
  },
  {
   "cell_type": "code",
   "execution_count": null,
   "id": "32f46971-8081-4890-a435-45a5288dc75e",
   "metadata": {},
   "outputs": [],
   "source": []
  }
 ],
 "metadata": {
  "kernelspec": {
   "display_name": "Python 3 (ipykernel)",
   "language": "python",
   "name": "python3"
  },
  "language_info": {
   "codemirror_mode": {
    "name": "ipython",
    "version": 3
   },
   "file_extension": ".py",
   "mimetype": "text/x-python",
   "name": "python",
   "nbconvert_exporter": "python",
   "pygments_lexer": "ipython3",
   "version": "3.8.18"
  }
 },
 "nbformat": 4,
 "nbformat_minor": 5
}
