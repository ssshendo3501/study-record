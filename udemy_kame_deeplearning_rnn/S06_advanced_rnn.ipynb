{
 "cells": [
  {
   "cell_type": "markdown",
   "id": "d539092c-cba7-4463-8f6b-4e40a7d796c4",
   "metadata": {},
   "source": [
    "# RNNのさらなる工夫"
   ]
  },
  {
   "cell_type": "markdown",
   "id": "a9dde46d-5dc1-4156-a9ba-142fa7119ff6",
   "metadata": {},
   "source": [
    "## Bidirectional RNN"
   ]
  },
  {
   "cell_type": "markdown",
   "id": "edf131fc-f531-4bd2-9d45-8284faab6354",
   "metadata": {},
   "source": [
    "- 前に作成したmyRNNを、bidirectional RNNに対応させる\n",
    "    - bidirection引数をつかし、TrueならBiRNNとする\n",
    "    - backwardは省略\n",
    "    - 返り値(bidirectional=Trueの時)\n",
    "        - outputs: [batch_size, seq_len, hidden_size*2]\n",
    "        - h_n: [2, batch_size, hidden_size]"
   ]
  },
  {
   "cell_type": "code",
   "execution_count": 1,
   "id": "88eec274-cb85-4fe2-95a9-be666f3d8c20",
   "metadata": {},
   "outputs": [],
   "source": [
    "import math\n",
    "import torch\n",
    "class myRNN:\n",
    "    def __init__(self, input_size, hidden_size, bidirectional=False):\n",
    "        self.hidden_size = hidden_size\n",
    "        self.bidirectional = bidirectional\n",
    "\n",
    "        init_range = 1.0/math.sqrt(hidden_size)\n",
    "\n",
    "        # 順方向の重みとバイアス\n",
    "        self.W_in = torch.empty(hidden_size, input_size).uniform_(-init_range, init_range).requires_grad_(True)\n",
    "        self.W_h = torch.empty(hidden_size, hidden_size).uniform_(-init_range, init_range).requires_grad_(True)\n",
    "        self.b_in = torch.empty(hidden_size).uniform_(-init_range, init_range).requires_grad_(True)\n",
    "        self.b_h = torch.empty(hidden_size).uniform_(-init_range, init_range).requires_grad_(True)\n",
    "\n",
    "        # 逆方向の重みとバイアス\n",
    "        self.W_in_backward = torch.empty(hidden_size, input_size).uniform_(-init_range, init_range).requires_grad_(True)\n",
    "        self.W_h_backward = torch.empty(hidden_size, hidden_size).uniform_(-init_range, init_range).requires_grad_(True)\n",
    "        self.b_in_backward = torch.empty(hidden_size).uniform_(-init_range, init_range).requires_grad_(True)\n",
    "        self.b_h_backward = torch.empty(hidden_size).uniform_(-init_range, init_range).requires_grad_(True)\n",
    "        \n",
    "    def forward(self, input, h_0=None):\n",
    "        # input: [batch_size, seq_len, input_size]\n",
    "        self.input = input\n",
    "        self.h_0 = h_0\n",
    "        batch_size, self.seq_len, _ = input.size()\n",
    "\n",
    "        if h_0 is None:\n",
    "            self.h_0 = torch.zeros(1, batch_size, self.hidden_size)#.to(device)\n",
    "\n",
    "        # 順方向の処理\n",
    "        h = self.h_0 # [1, batch_size, hidden_size]\n",
    "        outputs = []\n",
    "        for i in range(self.seq_len):\n",
    "            # [batch_size, hidden_size]\n",
    "            h = torch.tanh(input[:, i]@self.W_in.T + self.b_in + h.squeeze(0)@self.W_h.T + self.b_h)\n",
    "            outputs.append(h.unsqueeze(1))# [batch_size, hidden_size] -> # [batch_size, 1, hidden_size]\n",
    "        self.output_seq = torch.cat(outputs, dim=1)\n",
    "\n",
    "        # 逆方向の処理(双方向の場合)\n",
    "        if self.bidirectional:\n",
    "            h_backward = self.h_0\n",
    "            outputs_backward = []\n",
    "            for i in reversed(range(self.seq_len)):\n",
    "                # [batch_size, hidden_size]\n",
    "                h_backward = torch.tanh(input[:, i]@self.W_in_backward.T + self.b_in_backward + h_backward.squeeze(0)@self.W_h_backward.T + self.b_h_backward)\n",
    "                outputs_backward.append(h_backward.unsqueeze(1))# [batch_size, hidden_size] -> # [batch_size, 1, hidden_size]\n",
    "            # 順方向と逆方向の隠れ状態を同じステップで結合するようにする\n",
    "            outputs_backward = outputs_backward[::-1 ]\n",
    "            self.output_seq_backward = torch.cat(outputs_backward, dim=1) \n",
    "            self.output_seq = torch.cat((self.output_seq, self.output_seq_backward), dim=2)\n",
    "            # biRNNでは，h_n[0]に順方向の最後(t=T)の隠れ状態を保持し，h_n[1]に逆方向の最後(つまりシーケンス上ではt=1)の隠れ状態とする\n",
    "            h_n = torch.cat((h.unsqueeze(0), h_backward.unsqueeze(0)), dim=0) # [batch_size, hidden_size] -> [2, batch_size, hidden_size]        \n",
    "        else:\n",
    "            h_n = h.unsqueeze(0)\n",
    "\n",
    "        return self.output_seq, h_n"
   ]
  },
  {
   "cell_type": "code",
   "execution_count": 2,
   "id": "049d2c34-81a1-4c6e-9aad-24eda9936fe1",
   "metadata": {},
   "outputs": [],
   "source": [
    "import torch\n",
    "# BiRNNのテスト\n",
    "input_size = 10\n",
    "hidden_size = 3\n",
    "batch_size = 8\n",
    "seq_len = 5\n",
    "\n",
    "# サンプルのTensor\n",
    "input_tensor = torch.randn(batch_size, seq_len, input_size)\n",
    "birnn = myRNN(input_size, hidden_size, bidirectional=True)\n",
    "output_seq, h_n = birnn.forward(input_tensor)"
   ]
  },
  {
   "cell_type": "code",
   "execution_count": 3,
   "id": "4bc90fe5-823c-46e9-aa71-8f6db99253bb",
   "metadata": {},
   "outputs": [
    {
     "data": {
      "text/plain": [
       "torch.Size([8, 5, 6])"
      ]
     },
     "execution_count": 3,
     "metadata": {},
     "output_type": "execute_result"
    }
   ],
   "source": [
    "output_seq.shape"
   ]
  },
  {
   "cell_type": "markdown",
   "id": "3892736b-5f63-4d2d-90b0-c13f09d613e7",
   "metadata": {},
   "source": [
    "## PyotorchのBiRNNを使う"
   ]
  },
  {
   "cell_type": "markdown",
   "id": "4aa45ccb-1f6b-4f10-9d98-d36d28992a1d",
   "metadata": {},
   "source": [
    "nn.RNN\n",
    "- 前に作成したModelクラスをBidirectional対応に変更する\n",
    "- bidirectional=TrueにBiLSTMを使用することができる"
   ]
  },
  {
   "cell_type": "code",
   "execution_count": 4,
   "id": "0059ed93-1df4-43f1-96ae-f9d8a421da60",
   "metadata": {},
   "outputs": [],
   "source": [
    "import torch.nn as nn\n",
    "class Model(nn.Module):\n",
    "    def __init__(self, input_size, hidden_size, output_size, rnn_type='LSTM', bidirectional=False):\n",
    "\n",
    "        super().__init__()\n",
    "        self.hidden_size = hidden_size\n",
    "        self.num_directions = 2 if bidirectional else 1\n",
    "        \n",
    "        if rnn_type == 'RNN':\n",
    "            self.rnn = nn.RNN(input_size, hidden_size, batch_first=True, bidirectional=bidirectional)\n",
    "        elif rnn_type == 'LSTM':\n",
    "            self.rnn = nn.LSTM(input_size, hidden_size, batch_first=True, bidirectional=bidirectional)\n",
    "        elif rnn_type == 'GRU':\n",
    "            self.rnn = nn.GRU(input_size, hidden_size, batch_first=True, bidirectional=bidirectional)\n",
    "        # elif rnn_type == 'UGRNN':\n",
    "        #     self.rnn = UGRNN(input_size, hidden_size, batch_first=True)\n",
    "        else:\n",
    "            raise ValueError('Unsupported RNN type. Choose from [\"LSTM\", \"RNN\", \"GRU\", \"UGRNN\"]')\n",
    "            \n",
    "        self.fc = nn.Linear(hidden_size*self.num_directions, output_size)\n",
    "\n",
    "    def forward(self, x):\n",
    "        output_seq, _ = self.rnn(x)\n",
    "        # output_seq: [batch_size, seq_len, hidden_size]\n",
    "        output_seq = output_seq[:, -1, :]\n",
    "        out = self.fc(output_seq)\n",
    "        return out"
   ]
  },
  {
   "cell_type": "code",
   "execution_count": 5,
   "id": "945cb006-677b-4a58-8630-e0d9924d2fcc",
   "metadata": {},
   "outputs": [],
   "source": [
    "rnn = nn.RNN(input_size, hidden_size, bidirectional=True)\n",
    "output_seq, hn = rnn(input_tensor)"
   ]
  },
  {
   "cell_type": "code",
   "execution_count": 6,
   "id": "763a6aa7-3c4f-4a5f-81df-aa69037acbb5",
   "metadata": {},
   "outputs": [
    {
     "data": {
      "text/plain": [
       "torch.Size([8, 5, 6])"
      ]
     },
     "execution_count": 6,
     "metadata": {},
     "output_type": "execute_result"
    }
   ],
   "source": [
    "output_seq.shape"
   ]
  },
  {
   "cell_type": "code",
   "execution_count": 8,
   "id": "132d95ba-b0a1-48eb-8cd5-3c2b6898aab8",
   "metadata": {},
   "outputs": [],
   "source": [
    "output_size = 3\n",
    "model = Model(input_size, hidden_size, output_size, rnn_type='LSTM', bidirectional=True)\n",
    "out = model(input_tensor)"
   ]
  },
  {
   "cell_type": "code",
   "execution_count": 9,
   "id": "5af52e45-10eb-4c3d-b7fa-69b23123fef1",
   "metadata": {},
   "outputs": [
    {
     "data": {
      "text/plain": [
       "2"
      ]
     },
     "execution_count": 9,
     "metadata": {},
     "output_type": "execute_result"
    }
   ],
   "source": [
    "model.num_directions"
   ]
  },
  {
   "cell_type": "code",
   "execution_count": 10,
   "id": "415c2896-3397-434d-9bc9-5c900f0735da",
   "metadata": {},
   "outputs": [
    {
     "data": {
      "text/plain": [
       "torch.Size([8, 3])"
      ]
     },
     "execution_count": 10,
     "metadata": {},
     "output_type": "execute_result"
    }
   ],
   "source": [
    "out.shape"
   ]
  },
  {
   "cell_type": "markdown",
   "id": "12b6cf52-1f49-461e-8ba1-5b01deabe603",
   "metadata": {},
   "source": [
    "## Deep RNN"
   ]
  },
  {
   "cell_type": "markdown",
   "id": "16e4fdcb-8fd9-47bf-8d85-1fb03b3d5cf9",
   "metadata": {},
   "source": [
    "- 以前作成したModelクラスをDeep対応に変更する\n",
    "- nn.RNN()のnum_layers引数を使用する\n",
    "    - nn.RNNの隠れ状態のサイズは[num_layes*num_directions, batch_size, hidden_size]となることに注意する"
   ]
  },
  {
   "cell_type": "code",
   "execution_count": 11,
   "id": "c2816d99-7bfa-4950-a5ad-97a8657c45ad",
   "metadata": {},
   "outputs": [
    {
     "name": "stdout",
     "output_type": "stream",
     "text": [
      "Num Layers: 1\n",
      "Output Shape :torch.Size([8, 5, 6])\n",
      "Last Hidden State Shape :torch.Size([2, 5, 3])\n",
      "Num Layers: 2\n",
      "Output Shape :torch.Size([8, 5, 6])\n",
      "Last Hidden State Shape :torch.Size([4, 5, 3])\n",
      "Num Layers: 3\n",
      "Output Shape :torch.Size([8, 5, 6])\n",
      "Last Hidden State Shape :torch.Size([6, 5, 3])\n"
     ]
    }
   ],
   "source": [
    "num_layers_list = [1, 2, 3]\n",
    "\n",
    "for num_layers in num_layers_list:\n",
    "    rnn = nn.RNN(input_size, hidden_size, num_layers=num_layers, bidirectional=True)\n",
    "    output_seq, h_n = rnn(input_tensor)\n",
    "\n",
    "    print(f\"Num Layers: {num_layers}\")\n",
    "    print(f\"Output Shape :{output_seq.shape}\")\n",
    "    print(f\"Last Hidden State Shape :{h_n.shape}\")"
   ]
  },
  {
   "cell_type": "code",
   "execution_count": 12,
   "id": "90a22224-f2a8-4d2f-a7b4-baee241e1b9c",
   "metadata": {},
   "outputs": [],
   "source": [
    "class Model(nn.Module):\n",
    "    def __init__(self, input_size, hidden_size, output_size, num_layers=1, rnn_type='LSTM', bidirectional=False):\n",
    "\n",
    "        super().__init__()\n",
    "        self.hidden_size = hidden_size\n",
    "        self.num_directions = 2 if bidirectional else 1\n",
    "        \n",
    "        if rnn_type == 'RNN':\n",
    "            self.rnn = nn.RNN(input_size, hidden_size, num_layers=num_layers, batch_first=True, bidirectional=bidirectional)\n",
    "        elif rnn_type == 'LSTM':\n",
    "            self.rnn = nn.LSTM(input_size, hidden_size, num_layers=num_layers, batch_first=True, bidirectional=bidirectional)\n",
    "        elif rnn_type == 'GRU':\n",
    "            self.rnn = nn.GRU(input_size, hidden_size, num_layers=num_layers, batch_first=True, bidirectional=bidirectional)\n",
    "        # elif rnn_type == 'UGRNN':\n",
    "        #     self.rnn = UGRNN(input_size, hidden_size, batch_first=True)\n",
    "        else:\n",
    "            raise ValueError('Unsupported RNN type. Choose from [\"LSTM\", \"RNN\", \"GRU\", \"UGRNN\"]')\n",
    "            \n",
    "        self.fc = nn.Linear(hidden_size*self.num_directions, output_size)\n",
    "\n",
    "    def forward(self, x):\n",
    "        output_seq, _ = self.rnn(x)\n",
    "        # output_seq: [batch_size, seq_len, hidden_size]\n",
    "        output_seq = output_seq[:, -1, :]\n",
    "        out = self.fc(output_seq)\n",
    "        return out"
   ]
  },
  {
   "cell_type": "code",
   "execution_count": 13,
   "id": "b004d72d-e245-47f8-8a00-2c55bb6f9b69",
   "metadata": {},
   "outputs": [
    {
     "name": "stdout",
     "output_type": "stream",
     "text": [
      "torch.Size([8, 3])\n"
     ]
    }
   ],
   "source": [
    "model = Model(input_size, hidden_size, output_size, num_layers=2, rnn_type='LSTM', bidirectional=True)\n",
    "out = model(input_tensor)\n",
    "print(out.shape)"
   ]
  },
  {
   "cell_type": "code",
   "execution_count": null,
   "id": "8f1f948d-4370-496c-a045-1377b5411ece",
   "metadata": {},
   "outputs": [],
   "source": []
  }
 ],
 "metadata": {
  "kernelspec": {
   "display_name": "Python 3 (ipykernel)",
   "language": "python",
   "name": "python3"
  },
  "language_info": {
   "codemirror_mode": {
    "name": "ipython",
    "version": 3
   },
   "file_extension": ".py",
   "mimetype": "text/x-python",
   "name": "python",
   "nbconvert_exporter": "python",
   "pygments_lexer": "ipython3",
   "version": "3.8.18"
  }
 },
 "nbformat": 4,
 "nbformat_minor": 5
}
