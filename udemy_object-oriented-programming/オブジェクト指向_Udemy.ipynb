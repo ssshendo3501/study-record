{
  "nbformat": 4,
  "nbformat_minor": 0,
  "metadata": {
    "colab": {
      "provenance": [],
      "toc_visible": true,
      "authorship_tag": "ABX9TyOT1HpTA5rBSLlwYq9VYDzj",
      "include_colab_link": true
    },
    "kernelspec": {
      "name": "python3",
      "display_name": "Python 3"
    },
    "language_info": {
      "name": "python"
    }
  },
  "cells": [
    {
      "cell_type": "markdown",
      "metadata": {
        "id": "view-in-github",
        "colab_type": "text"
      },
      "source": [
        "<a href=\"https://colab.research.google.com/github/ssshendo3501/study-record/blob/main/%E3%82%AA%E3%83%96%E3%82%B8%E3%82%A7%E3%82%AF%E3%83%88%E6%8C%87%E5%90%91_Udemy.ipynb\" target=\"_parent\"><img src=\"https://colab.research.google.com/assets/colab-badge.svg\" alt=\"Open In Colab\"/></a>"
      ]
    },
    {
      "cell_type": "markdown",
      "source": [
        "# クラス"
      ],
      "metadata": {
        "id": "rWgOzrnVA_KR"
      }
    },
    {
      "cell_type": "markdown",
      "source": [
        "## カプセル化"
      ],
      "metadata": {
        "id": "Ec-vH1-CRDJV"
      }
    },
    {
      "cell_type": "code",
      "execution_count": null,
      "metadata": {
        "id": "J9TpMz4gA0wB"
      },
      "outputs": [],
      "source": [
        "# クラスはOOPの最も基本的な仕組み\n",
        "# クラスの機能には「カプセル化」と「インスタンス（オブジェクト）の生成」がある"
      ]
    },
    {
      "cell_type": "code",
      "source": [
        "# カプセル化とは？\n",
        "# 「①変数をまとめたうえで」、「②外部に公開する情報を制限する」機能のこと\n",
        "# ①変数をまとめるとは？ → 「複数の変数と関数をまとめて一つのクラスにする」ことで、プログラムを整理整頓できる"
      ],
      "metadata": {
        "id": "G00SQbIoDH4G"
      },
      "execution_count": null,
      "outputs": []
    },
    {
      "cell_type": "code",
      "source": [
        "# 例：円周と長さを求める関数\n",
        "# 以下のpiはグローバル変数になる\n",
        "\n",
        "pi = 3.14\n",
        "\n",
        "def circle_length(r):\n",
        "  return 2 * pi * r\n",
        "\n",
        "def circle_area(r):\n",
        "  return pi * r * r"
      ],
      "metadata": {
        "id": "nMSGhWYuDdae"
      },
      "execution_count": null,
      "outputs": []
    },
    {
      "cell_type": "code",
      "source": [
        "circle_length(3)"
      ],
      "metadata": {
        "colab": {
          "base_uri": "https://localhost:8080/"
        },
        "id": "B2m4h6H1ECWM",
        "outputId": "a7bd1219-0b8d-4b42-e7a8-c38a2e4aeff7"
      },
      "execution_count": null,
      "outputs": [
        {
          "output_type": "execute_result",
          "data": {
            "text/plain": [
              "18.84"
            ]
          },
          "metadata": {},
          "execution_count": 12
        }
      ]
    },
    {
      "cell_type": "code",
      "source": [
        "circle_area(1)"
      ],
      "metadata": {
        "colab": {
          "base_uri": "https://localhost:8080/"
        },
        "id": "INzGqnbOEE6k",
        "outputId": "40e29645-0d40-4ad6-9a72-73879d47c1b2"
      },
      "execution_count": null,
      "outputs": [
        {
          "output_type": "execute_result",
          "data": {
            "text/plain": [
              "3.14"
            ]
          },
          "metadata": {},
          "execution_count": 13
        }
      ]
    },
    {
      "cell_type": "code",
      "source": [
        "# クラスを使うと下記のようになる\n",
        "# クラスを使うと変数と関数をまとめることができる\n",
        "# クラスは最初の文字は慣用的に大文字で表記する\n",
        "# クラスの中の変数を関数で使うときは、「クラス名.クラス変数名」で記載する\n",
        "\n",
        "class Circle:\n",
        "  pi = 3.141512  #円周率\n",
        "\n",
        "  def length(self, r):\n",
        "    return 2 * Circle.pi * r\n",
        "\n",
        "  def area(self, r):\n",
        "    return Circle.pi * r * r"
      ],
      "metadata": {
        "id": "KJ8STlytEHek"
      },
      "execution_count": null,
      "outputs": []
    },
    {
      "cell_type": "code",
      "source": [
        "Circle.area(self, 2)"
      ],
      "metadata": {
        "colab": {
          "base_uri": "https://localhost:8080/",
          "height": 185
        },
        "id": "Q8coL7TXEdCv",
        "outputId": "d6132a66-69ab-4f36-ec12-3b7f546e4b52"
      },
      "execution_count": null,
      "outputs": [
        {
          "output_type": "error",
          "ename": "NameError",
          "evalue": "ignored",
          "traceback": [
            "\u001b[0;31m---------------------------------------------------------------------------\u001b[0m",
            "\u001b[0;31mNameError\u001b[0m                                 Traceback (most recent call last)",
            "\u001b[0;32m<ipython-input-37-a8b568ef1a79>\u001b[0m in \u001b[0;36m<cell line: 1>\u001b[0;34m()\u001b[0m\n\u001b[0;32m----> 1\u001b[0;31m \u001b[0mCircle\u001b[0m\u001b[0;34m.\u001b[0m\u001b[0marea\u001b[0m\u001b[0;34m(\u001b[0m\u001b[0mself\u001b[0m\u001b[0;34m,\u001b[0m \u001b[0;36m2\u001b[0m\u001b[0;34m)\u001b[0m\u001b[0;34m\u001b[0m\u001b[0;34m\u001b[0m\u001b[0m\n\u001b[0m",
            "\u001b[0;31mNameError\u001b[0m: name 'self' is not defined"
          ]
        }
      ]
    },
    {
      "cell_type": "code",
      "source": [
        "# クラスが持つ変数を「クラス変数（属性）」、クラスが持つ関数を「メソッド」と呼ぶ\n",
        "# 変数と関数をクラスによってまとめるメリット\n",
        "#  ・変数と関数をまとめて「意味のある一つの部品」にすることができる\n",
        "#  ・変数や関数の名前がシンプルになる"
      ],
      "metadata": {
        "id": "h8alaQTXE2Ad"
      },
      "execution_count": null,
      "outputs": []
    },
    {
      "cell_type": "code",
      "source": [
        "# ②外部に公開する情報を制限する とは？\n",
        "#   → クラスに入れた変数は外部からのアクセスを制限できる機能を使える\n"
      ],
      "metadata": {
        "id": "Hg3No32jGUFo"
      },
      "execution_count": null,
      "outputs": []
    },
    {
      "cell_type": "code",
      "source": [
        "# クラス変数piは単に変数名を書くだけでは呼び出せないようになっている。"
      ],
      "metadata": {
        "id": "jT2fnQc0Mnrr"
      },
      "execution_count": null,
      "outputs": []
    },
    {
      "cell_type": "code",
      "source": [
        "# グローバル変数のpiが出力される\n",
        "print(pi)"
      ],
      "metadata": {
        "colab": {
          "base_uri": "https://localhost:8080/"
        },
        "id": "xRsiY1tmMZk6",
        "outputId": "fcc7ac39-2202-43c3-f05a-1e78b3a8639a"
      },
      "execution_count": null,
      "outputs": [
        {
          "output_type": "stream",
          "name": "stdout",
          "text": [
            "3.14\n"
          ]
        }
      ]
    },
    {
      "cell_type": "code",
      "source": [
        "# クラス変数の呼び出し\n",
        "# クラス変数は「クラス名.クラス変数名」で記載する\n",
        "print(Circle.pi)"
      ],
      "metadata": {
        "colab": {
          "base_uri": "https://localhost:8080/"
        },
        "id": "xDmNQ0BRMbli",
        "outputId": "944336b9-ecf7-4942-971f-a03569b99763"
      },
      "execution_count": null,
      "outputs": [
        {
          "output_type": "stream",
          "name": "stdout",
          "text": [
            "3.141512\n"
          ]
        }
      ]
    },
    {
      "cell_type": "code",
      "source": [
        "# piという変数は、areaとlengthという2つのメソッドのみ使用される変数なので\n",
        "# この2つのメソッド以外からはアクセスできないようにした方が保守性が高くなる"
      ],
      "metadata": {
        "id": "IXiaO1B8Mi-u"
      },
      "execution_count": null,
      "outputs": []
    },
    {
      "cell_type": "code",
      "source": [
        "# クラス変数をクラスの中のメソッドからしか呼び出せないようにするためには、\n",
        "# 「__クラス変数名」というように書く（クラス変数名の前にアンダーバーを2つ）\n",
        "\n",
        "class Circle:\n",
        "  __pi = 3.14\n",
        "\n",
        "  def length(self, r):\n",
        "    return 2 * Circle.__pi * r\n",
        "\n",
        "  def area(self, r):\n",
        "    return Circle.__pi * r * r"
      ],
      "metadata": {
        "id": "y7tIjbOsOSeO"
      },
      "execution_count": null,
      "outputs": []
    },
    {
      "cell_type": "code",
      "source": [
        "# '__' をつけるとクラスの中からしかアクセスできなくなるので、\n",
        "# 今回のようにクラスの外からprint文で出力しようとするとerrorになる\n",
        "print(Circle.__pi)"
      ],
      "metadata": {
        "colab": {
          "base_uri": "https://localhost:8080/",
          "height": 221
        },
        "id": "fOnW4wzlO-Cu",
        "outputId": "25390800-69d6-47ee-cc47-716a2efaf565"
      },
      "execution_count": null,
      "outputs": [
        {
          "output_type": "error",
          "ename": "AttributeError",
          "evalue": "ignored",
          "traceback": [
            "\u001b[0;31m---------------------------------------------------------------------------\u001b[0m",
            "\u001b[0;31mAttributeError\u001b[0m                            Traceback (most recent call last)",
            "\u001b[0;32m<ipython-input-51-ddaaf4d4d28c>\u001b[0m in \u001b[0;36m<cell line: 3>\u001b[0;34m()\u001b[0m\n\u001b[1;32m      1\u001b[0m \u001b[0;31m# '__' をつけるとクラスの中からしかアクセスできなくなるので、\u001b[0m\u001b[0;34m\u001b[0m\u001b[0;34m\u001b[0m\u001b[0m\n\u001b[1;32m      2\u001b[0m \u001b[0;31m# 今回のようにクラスの外からprint文で出力しようとするとerrorになる\u001b[0m\u001b[0;34m\u001b[0m\u001b[0;34m\u001b[0m\u001b[0m\n\u001b[0;32m----> 3\u001b[0;31m \u001b[0mprint\u001b[0m\u001b[0;34m(\u001b[0m\u001b[0mCircle\u001b[0m\u001b[0;34m.\u001b[0m\u001b[0m__pi\u001b[0m\u001b[0;34m)\u001b[0m\u001b[0;34m\u001b[0m\u001b[0;34m\u001b[0m\u001b[0m\n\u001b[0m",
            "\u001b[0;31mAttributeError\u001b[0m: type object 'Circle' has no attribute '__pi'"
          ]
        }
      ]
    },
    {
      "cell_type": "code",
      "source": [
        "# メソッドの呼び出し\n",
        "Circle().length(2)"
      ],
      "metadata": {
        "colab": {
          "base_uri": "https://localhost:8080/"
        },
        "id": "U1-6vkhYPTf2",
        "outputId": "87d082f2-adcf-494b-ba5d-d727bc416618"
      },
      "execution_count": null,
      "outputs": [
        {
          "output_type": "execute_result",
          "data": {
            "text/plain": [
              "12.56"
            ]
          },
          "metadata": {},
          "execution_count": 52
        }
      ]
    },
    {
      "cell_type": "code",
      "source": [
        "# クラスの中からしかアクセスできない変数を「プライベート変数」と呼ぶこともある\n",
        "# プライベート変数を利用することで、複数の関数（メソッド）：areaとlengthで利用する必要のある変数（pi）を、\n",
        "# グローバル変数として保持する理由がなくなった  → グローバル変数問題の解決！"
      ],
      "metadata": {
        "id": "-HCtR9GlP4xW"
      },
      "execution_count": null,
      "outputs": []
    },
    {
      "cell_type": "markdown",
      "source": [
        "## インスタンス生成"
      ],
      "metadata": {
        "id": "4LVcL-hcRHGu"
      }
    },
    {
      "cell_type": "code",
      "source": [
        "# クラスからはインスタンス（オブジェクト）を生成できる\n",
        "\n",
        "# クラス → 分類、酒類\n",
        "#            例：人間、国\n",
        "# インスタンス →実例、具体的なもの\n",
        "#                 例：太郎君、花子さん、次郎君  /  日本、アメリカ、オランダ\n",
        "\n",
        "# 人間というクラス（分類）から太郎君花子さんなどのインスタンス（実例）を作ることができる"
      ],
      "metadata": {
        "id": "9A5l9gPaQzKw"
      },
      "execution_count": null,
      "outputs": []
    },
    {
      "cell_type": "code",
      "source": [
        "# クラスとは変数と関数を意味のある一つの部品としてまとめたもの\n",
        "# 人間は、名前・年齢・出身地など変数を持っているし、\n",
        "# 話す・聞く・寝る という関数（メソッド）を持っている\n",
        "#  →人間をクラスとして考えることができる"
      ],
      "metadata": {
        "id": "-9pgwJd4Tnm4"
      },
      "execution_count": null,
      "outputs": []
    },
    {
      "cell_type": "code",
      "source": [
        "# メソッドの中にあるselfという引数には、メソッドを呼び出したインスタンスが入る\n",
        "# インスタンスがtaroでtalkメソッドを実行すると、self.name = taro.nameと同じ意味\n",
        "\n",
        "class Human:\n",
        "  #クラス変数名\n",
        "  name = \"\"\n",
        "  age = 0\n",
        "  born = \"\"\n",
        "\n",
        "  #クラス関数\n",
        "  def talk(self):\n",
        "    print(f'私の名前は{self.name}です。')\n",
        "\n",
        "  def walk(self):\n",
        "    print(\"歩く\")\n",
        "\n",
        "  def sleep(self):\n",
        "    print(\"寝る\")"
      ],
      "metadata": {
        "id": "N_GB7IL3T0oQ"
      },
      "execution_count": null,
      "outputs": []
    },
    {
      "cell_type": "code",
      "source": [
        "# クラス（分類）とインスタンス（インスタンス）の違いは「変数に具体的な値を持つこと」\n",
        "# 太郎君はname = Taro 花子さんはname=Hanako\n",
        "# クラスから作られる実例毎の具体的な値を入れるための入れ物（taroやhanako）を「インスタンス」と呼ぶ\n",
        "# インスタンス固有の値が入る変数(nameやage, born)を「インスタンス変数名」と呼ぶ"
      ],
      "metadata": {
        "id": "pY4BdDrlVEBY"
      },
      "execution_count": null,
      "outputs": []
    },
    {
      "cell_type": "code",
      "source": [
        "taro = Human()  #インスタンスの生成\n",
        "taro.name = \"太郎\"  #インスタンス変数の定義\n",
        "taro.age = 20\n",
        "taro.born = \"東京\""
      ],
      "metadata": {
        "id": "RfUx1dUYWL-F"
      },
      "execution_count": null,
      "outputs": []
    },
    {
      "cell_type": "code",
      "source": [
        "#メソッドの呼び出し\n",
        "taro.talk()"
      ],
      "metadata": {
        "colab": {
          "base_uri": "https://localhost:8080/"
        },
        "id": "EK_WnIvpWx4g",
        "outputId": "bc293e88-bacc-41e9-bb89-0556bc18e3b5"
      },
      "execution_count": null,
      "outputs": [
        {
          "output_type": "stream",
          "name": "stdout",
          "text": [
            "私の名前は太郎です。\n"
          ]
        }
      ]
    },
    {
      "cell_type": "code",
      "source": [
        "taro.name"
      ],
      "metadata": {
        "colab": {
          "base_uri": "https://localhost:8080/",
          "height": 36
        },
        "id": "ylJvIEC3W0hm",
        "outputId": "7a3ab4ff-345a-4494-d576-70ae75d40b2a"
      },
      "execution_count": null,
      "outputs": [
        {
          "output_type": "execute_result",
          "data": {
            "text/plain": [
              "'太郎'"
            ],
            "application/vnd.google.colaboratory.intrinsic+json": {
              "type": "string"
            }
          },
          "metadata": {},
          "execution_count": 84
        }
      ]
    },
    {
      "cell_type": "code",
      "source": [
        "taro.age"
      ],
      "metadata": {
        "colab": {
          "base_uri": "https://localhost:8080/"
        },
        "id": "cRYZ9ry7W8hd",
        "outputId": "23649b20-2575-4d3b-d4b7-5b65b3c0d605"
      },
      "execution_count": null,
      "outputs": [
        {
          "output_type": "execute_result",
          "data": {
            "text/plain": [
              "20"
            ]
          },
          "metadata": {},
          "execution_count": 85
        }
      ]
    },
    {
      "cell_type": "code",
      "source": [
        "#花子のインスタンス生成\n",
        "hanako = Human()\n",
        "hanako.name = \"花子\"\n",
        "hanako.age = 30\n",
        "hanako.born = \"大阪\""
      ],
      "metadata": {
        "id": "KYxGNQVPW_j-"
      },
      "execution_count": null,
      "outputs": []
    },
    {
      "cell_type": "code",
      "source": [
        "hanako.walk()"
      ],
      "metadata": {
        "colab": {
          "base_uri": "https://localhost:8080/"
        },
        "id": "peos2SWoXXi5",
        "outputId": "58afa207-c393-476c-8661-7aa6d9d72e87"
      },
      "execution_count": null,
      "outputs": [
        {
          "output_type": "stream",
          "name": "stdout",
          "text": [
            "歩く\n"
          ]
        }
      ]
    },
    {
      "cell_type": "code",
      "source": [
        "jiro = Human()"
      ],
      "metadata": {
        "id": "8sTOltviXZdH"
      },
      "execution_count": null,
      "outputs": []
    },
    {
      "cell_type": "code",
      "source": [
        "jiro.talk()"
      ],
      "metadata": {
        "colab": {
          "base_uri": "https://localhost:8080/"
        },
        "id": "WitAgV09Xg4e",
        "outputId": "87ba2797-b288-488f-d31a-96b07beb3420"
      },
      "execution_count": null,
      "outputs": [
        {
          "output_type": "stream",
          "name": "stdout",
          "text": [
            "私の名前はです。\n"
          ]
        }
      ]
    },
    {
      "cell_type": "code",
      "source": [
        "# インスタンスの定義は、以下のように書くと楽\n",
        "# 下記のように記載するために「コンストラクタ」を書く必要がある\n",
        "hanako = Human(\"花子\", 30, \"大阪\") #インスタンス生成とインスタンス変数の定義\n",
        "taro = Human(\"太郎\", 20, \"東京\")"
      ],
      "metadata": {
        "colab": {
          "base_uri": "https://localhost:8080/",
          "height": 221
        },
        "id": "J4tzypLFXjTV",
        "outputId": "403c9ffc-43e3-4709-8376-56a5b08047ac"
      },
      "execution_count": null,
      "outputs": [
        {
          "output_type": "error",
          "ename": "TypeError",
          "evalue": "ignored",
          "traceback": [
            "\u001b[0;31m---------------------------------------------------------------------------\u001b[0m",
            "\u001b[0;31mTypeError\u001b[0m                                 Traceback (most recent call last)",
            "\u001b[0;32m<ipython-input-92-2c570c585db0>\u001b[0m in \u001b[0;36m<cell line: 2>\u001b[0;34m()\u001b[0m\n\u001b[1;32m      1\u001b[0m \u001b[0;31m# インスタンスの定義は、以下のように書くと楽\u001b[0m\u001b[0;34m\u001b[0m\u001b[0;34m\u001b[0m\u001b[0m\n\u001b[0;32m----> 2\u001b[0;31m \u001b[0mhanako\u001b[0m \u001b[0;34m=\u001b[0m \u001b[0mHuman\u001b[0m\u001b[0;34m(\u001b[0m\u001b[0;34m\"花子\"\u001b[0m\u001b[0;34m,\u001b[0m \u001b[0;36m30\u001b[0m\u001b[0;34m,\u001b[0m \u001b[0;34m\"大阪\"\u001b[0m\u001b[0;34m)\u001b[0m \u001b[0;31m#インスタンス生成とインスタンス変数の定義\u001b[0m\u001b[0;34m\u001b[0m\u001b[0;34m\u001b[0m\u001b[0m\n\u001b[0m\u001b[1;32m      3\u001b[0m \u001b[0mtaro\u001b[0m \u001b[0;34m=\u001b[0m \u001b[0mHuman\u001b[0m\u001b[0;34m(\u001b[0m\u001b[0;34m\"太郎\"\u001b[0m\u001b[0;34m,\u001b[0m \u001b[0;36m20\u001b[0m\u001b[0;34m,\u001b[0m \u001b[0;34m\"東京\"\u001b[0m\u001b[0;34m)\u001b[0m\u001b[0;34m\u001b[0m\u001b[0;34m\u001b[0m\u001b[0m\n",
            "\u001b[0;31mTypeError\u001b[0m: Human() takes no arguments"
          ]
        }
      ]
    },
    {
      "cell_type": "code",
      "source": [
        "# 上記のように書くために「コンストラクタ」というものがある\n",
        "# 「コンストラクタ」とは？\n",
        "# インスタンス生成時に自動的に呼び出されるメソッド\n",
        "# __init__ というメソッド書くと、これがコンストラクタになる\n",
        "# コンストラクタはインスタンス生成時のタイミングで呼び出される\n",
        "# コンストラクタの中にある、self.name = name について、左辺はインスタンス変数(self.name)、右辺は引数(name)である\n",
        "\n",
        "class Human:\n",
        "  def __init__(self, name, age, born):\n",
        "    self.name = name\n",
        "    self.age = age\n",
        "    self.born = born\n",
        "\n",
        "  def talk(self):\n",
        "    print(f'私の名前は{self.name}です。')\n",
        "\n",
        "  def walk(self):\n",
        "    print(\"歩く\")\n",
        "\n",
        "  def sleep(self):\n",
        "    print(\"寝る\")"
      ],
      "metadata": {
        "id": "PcyITZgLa0By"
      },
      "execution_count": null,
      "outputs": []
    },
    {
      "cell_type": "code",
      "source": [
        "hanako = Human(\"花子\", 30, \"大阪\")\n",
        "taro = Human(\"太郎\", 20, \"東京\")"
      ],
      "metadata": {
        "id": "g537QwZccD8e"
      },
      "execution_count": null,
      "outputs": []
    },
    {
      "cell_type": "code",
      "source": [],
      "metadata": {
        "id": "1dvm8tpKcP_w"
      },
      "execution_count": null,
      "outputs": []
    },
    {
      "cell_type": "markdown",
      "source": [
        "## 演習問題①\n",
        "\n",
        "合計金額を算出するOrderクラスを定義しましょう！\n",
        "\n",
        "Orderクラスは以下のようなクラスであるとします\n",
        "\n",
        "*   インスタンス変数として単価（price）と数量（count）を持つ\n",
        "*   インスタンス変数の定義はコンストラクタで行われている\n",
        "*   クラス変数として消費税（tax）を持つ、消費税の値は1.1（10%）とする\n",
        "*   単価×数量×消費税で合計金額を算出するtotal_priceメソッドを持つ"
      ],
      "metadata": {
        "id": "bo-M1Ts5d2vb"
      }
    },
    {
      "cell_type": "code",
      "source": [
        "class Order:\n",
        "  __tax = 1.1\n",
        "\n",
        "  def __init__(self, price, count):\n",
        "    self.price = price\n",
        "    self.count = count\n",
        "\n",
        "  def total_price(self, price, count):\n",
        "    return self.price * self.count * Order.__tax"
      ],
      "metadata": {
        "id": "pNbhgFGFd893"
      },
      "execution_count": null,
      "outputs": []
    },
    {
      "cell_type": "code",
      "source": [
        "book1 = Order(1000, 200)"
      ],
      "metadata": {
        "id": "6JYhs6t_evGw"
      },
      "execution_count": null,
      "outputs": []
    },
    {
      "cell_type": "code",
      "source": [
        "book1.total_price()"
      ],
      "metadata": {
        "colab": {
          "base_uri": "https://localhost:8080/",
          "height": 185
        },
        "id": "0nI54Hnue75X",
        "outputId": "30baf4f1-6c60-42e3-c64f-fc2c0a9f5af0"
      },
      "execution_count": null,
      "outputs": [
        {
          "output_type": "error",
          "ename": "TypeError",
          "evalue": "ignored",
          "traceback": [
            "\u001b[0;31m---------------------------------------------------------------------------\u001b[0m",
            "\u001b[0;31mTypeError\u001b[0m                                 Traceback (most recent call last)",
            "\u001b[0;32m<ipython-input-105-ba6e6bcabbbe>\u001b[0m in \u001b[0;36m<cell line: 1>\u001b[0;34m()\u001b[0m\n\u001b[0;32m----> 1\u001b[0;31m \u001b[0mbook1\u001b[0m\u001b[0;34m.\u001b[0m\u001b[0mtotal_price\u001b[0m\u001b[0;34m(\u001b[0m\u001b[0;34m)\u001b[0m\u001b[0;34m\u001b[0m\u001b[0;34m\u001b[0m\u001b[0m\n\u001b[0m",
            "\u001b[0;31mTypeError\u001b[0m: Order.total_price() missing 2 required positional arguments: 'price' and 'count'"
          ]
        }
      ]
    },
    {
      "cell_type": "code",
      "source": [
        "class Order:\n",
        "  __tax = 1.1\n",
        "\n",
        "  def __init__(self, price, count):\n",
        "    self.price = price\n",
        "    self.count = count\n",
        "\n",
        "  def total_price(self):\n",
        "    return self.price * self.count * Order.__tax"
      ],
      "metadata": {
        "id": "vnBwM8Z9e-W_"
      },
      "execution_count": null,
      "outputs": []
    },
    {
      "cell_type": "code",
      "source": [
        "book1 = Order(1000, 200)"
      ],
      "metadata": {
        "id": "zPL4wepnfYEH"
      },
      "execution_count": null,
      "outputs": []
    },
    {
      "cell_type": "code",
      "source": [
        "book1.total_price()"
      ],
      "metadata": {
        "colab": {
          "base_uri": "https://localhost:8080/"
        },
        "id": "MzcSq_3WfZ2_",
        "outputId": "10748656-667f-4028-b30e-04b5f60daa08"
      },
      "execution_count": null,
      "outputs": [
        {
          "output_type": "execute_result",
          "data": {
            "text/plain": [
              "220000.00000000003"
            ]
          },
          "metadata": {},
          "execution_count": 108
        }
      ]
    },
    {
      "cell_type": "code",
      "source": [
        "class Order:\n",
        "  __tax = 1.1\n",
        "\n",
        "  def __init__(self, price, count):\n",
        "    self.price = price\n",
        "    self.count = count\n",
        "\n",
        "  def total_price(self):\n",
        "    total = self.price * self.count * Order.__tax\n",
        "    total = int(total)\n",
        "    return total\n",
        "    #print(f'合計金額は{str(total)}円です。')"
      ],
      "metadata": {
        "id": "I14e0ndRfjp0"
      },
      "execution_count": null,
      "outputs": []
    },
    {
      "cell_type": "code",
      "source": [
        "book2 = Order(128, 8)"
      ],
      "metadata": {
        "id": "uLqUyZ0qfbi_"
      },
      "execution_count": null,
      "outputs": []
    },
    {
      "cell_type": "code",
      "source": [
        "book2.total_price()"
      ],
      "metadata": {
        "colab": {
          "base_uri": "https://localhost:8080/"
        },
        "id": "CnSjiYegfemv",
        "outputId": "849c20ae-8561-4af6-fcb2-75f5cceb673e"
      },
      "execution_count": null,
      "outputs": [
        {
          "output_type": "execute_result",
          "data": {
            "text/plain": [
              "1126"
            ]
          },
          "metadata": {},
          "execution_count": 130
        }
      ]
    },
    {
      "cell_type": "code",
      "source": [],
      "metadata": {
        "id": "V5Ps5gU5frB_"
      },
      "execution_count": null,
      "outputs": []
    },
    {
      "cell_type": "markdown",
      "source": [
        "## Pythonは全てがオブジェクト"
      ],
      "metadata": {
        "id": "S7LK1zT5iUq9"
      }
    },
    {
      "cell_type": "code",
      "source": [
        "# Pythonは全てのデータがオブジェクトなのでクラスから作られている\n",
        "# 文字列 → class str\n",
        "# 整数 → classint\n",
        "# リスト →class list\n",
        "\n",
        "#クラス：strはメソッドを持つ"
      ],
      "metadata": {
        "id": "gbDMMzGviXaJ"
      },
      "execution_count": null,
      "outputs": []
    },
    {
      "cell_type": "code",
      "source": [
        "# type関数を使うことで、どのクラスのオブジェクトなのか確認できる\n",
        "print(type(\"Hello\"))"
      ],
      "metadata": {
        "colab": {
          "base_uri": "https://localhost:8080/"
        },
        "id": "ywumKRM3io1R",
        "outputId": "a1bcf334-14b1-4590-f481-ea7d069d13c5"
      },
      "execution_count": null,
      "outputs": [
        {
          "output_type": "stream",
          "name": "stdout",
          "text": [
            "<class 'str'>\n"
          ]
        }
      ]
    },
    {
      "cell_type": "code",
      "source": [
        "print(\"Hello\".upper()) #メソッドの呼び出し"
      ],
      "metadata": {
        "colab": {
          "base_uri": "https://localhost:8080/"
        },
        "id": "F1tQiZz3i8aP",
        "outputId": "ca0ff0f4-ca04-40ef-e483-bdcf88eb368d"
      },
      "execution_count": null,
      "outputs": [
        {
          "output_type": "stream",
          "name": "stdout",
          "text": [
            "HELLO\n"
          ]
        }
      ]
    },
    {
      "cell_type": "code",
      "source": [],
      "metadata": {
        "id": "eq1S8WasjRYf"
      },
      "execution_count": null,
      "outputs": []
    },
    {
      "cell_type": "markdown",
      "source": [
        "# コラム：値渡しと参照渡し"
      ],
      "metadata": {
        "id": "PQQDDyGWkCHp"
      }
    },
    {
      "cell_type": "markdown",
      "source": [
        "## オブジェクトの分類"
      ],
      "metadata": {
        "id": "-2OdoiqllliA"
      }
    },
    {
      "cell_type": "code",
      "source": [
        "# 値渡しと参照渡しとは？ 2つとも関数に引数を渡す方法\n",
        "# 現在のプログラミング言語のほとんどは、「値渡し」を採用している"
      ],
      "metadata": {
        "id": "3h4J4EM9kDiS"
      },
      "execution_count": null,
      "outputs": []
    },
    {
      "cell_type": "code",
      "source": [
        "# Pythonで扱うオブジェクトは、下記2軸で分類できる\n",
        "# 1. コンテナオブジェクトかどうか？\n",
        "# 2. ミュータブルかイミュータブルかどうか？"
      ],
      "metadata": {
        "id": "hxjkzV3pljky"
      },
      "execution_count": null,
      "outputs": []
    },
    {
      "cell_type": "code",
      "source": [
        "# 1. コンテナオブジェクトとは？\n",
        "# 他のオブジェクトへの参照を持つことができるオブジェクトのこと。\n",
        "# 例えば、リストや辞書、集合、タプルのように、「複数のオブジェクトを持てるオブジェクトのこと」"
      ],
      "metadata": {
        "id": "dEnee01Gl6pQ"
      },
      "execution_count": null,
      "outputs": []
    },
    {
      "cell_type": "code",
      "source": [
        "#集合型は順序がないうえに、要素もユニーク\n",
        "set = {1,2,3,3,3,4}"
      ],
      "metadata": {
        "id": "ErT5OlUAmO-Q"
      },
      "execution_count": null,
      "outputs": []
    },
    {
      "cell_type": "code",
      "source": [
        "#順序がないのでerrorになる\n",
        "set[0]"
      ],
      "metadata": {
        "colab": {
          "base_uri": "https://localhost:8080/",
          "height": 203
        },
        "id": "uYPEAFArm0BB",
        "outputId": "847740b4-6beb-4edb-b796-1da41d65e456"
      },
      "execution_count": null,
      "outputs": [
        {
          "output_type": "error",
          "ename": "TypeError",
          "evalue": "ignored",
          "traceback": [
            "\u001b[0;31m---------------------------------------------------------------------------\u001b[0m",
            "\u001b[0;31mTypeError\u001b[0m                                 Traceback (most recent call last)",
            "\u001b[0;32m<ipython-input-146-068dea8a87a2>\u001b[0m in \u001b[0;36m<cell line: 2>\u001b[0;34m()\u001b[0m\n\u001b[1;32m      1\u001b[0m \u001b[0;31m#順序がないのでerrorになる\u001b[0m\u001b[0;34m\u001b[0m\u001b[0;34m\u001b[0m\u001b[0m\n\u001b[0;32m----> 2\u001b[0;31m \u001b[0mset\u001b[0m\u001b[0;34m[\u001b[0m\u001b[0;36m0\u001b[0m\u001b[0;34m]\u001b[0m\u001b[0;34m\u001b[0m\u001b[0;34m\u001b[0m\u001b[0m\n\u001b[0m",
            "\u001b[0;31mTypeError\u001b[0m: 'set' object is not subscriptable"
          ]
        }
      ]
    },
    {
      "cell_type": "code",
      "source": [
        "#重複が取り除かれて出力\n",
        "set"
      ],
      "metadata": {
        "colab": {
          "base_uri": "https://localhost:8080/"
        },
        "id": "60p5BYWeml-6",
        "outputId": "041c2432-227b-48b9-e989-a37b14b86cd8"
      },
      "execution_count": null,
      "outputs": [
        {
          "output_type": "execute_result",
          "data": {
            "text/plain": [
              "{1, 2, 3, 4}"
            ]
          },
          "metadata": {},
          "execution_count": 144
        }
      ]
    },
    {
      "cell_type": "code",
      "source": [
        "# リストとタプルの違いは、「要素の変更が可能（ミュータブル）」かどうか？"
      ],
      "metadata": {
        "id": "7VGGGAyVmqgP"
      },
      "execution_count": null,
      "outputs": []
    },
    {
      "cell_type": "code",
      "source": [
        "# 2. ミュータブルとイミュータブルとは？\n",
        "# オブジェクトには変更可能（ミュータブル）な型と変更不可能（イミュータブル）な型がある\n",
        "# ミュータブルな型： リスト型、辞書型、集合型\n",
        "# イミュータブルな型： 数値型（int、float）、文字列型（strなど）、タプルなど"
      ],
      "metadata": {
        "id": "gRlRsnvgnRBh"
      },
      "execution_count": null,
      "outputs": []
    },
    {
      "cell_type": "code",
      "source": [
        "list = [1,2,3]\n",
        "list[0] = 0 #リストはミュータブルなので変更可能\n",
        "list"
      ],
      "metadata": {
        "colab": {
          "base_uri": "https://localhost:8080/"
        },
        "id": "sk72HXOkoIQI",
        "outputId": "ea492416-e3de-4d06-ac5c-78ecb5423459"
      },
      "execution_count": null,
      "outputs": [
        {
          "output_type": "execute_result",
          "data": {
            "text/plain": [
              "[0, 2, 3]"
            ]
          },
          "metadata": {},
          "execution_count": 151
        }
      ]
    },
    {
      "cell_type": "code",
      "source": [
        "tuple = (1,2,3)\n",
        "tuple[0] = 0 #タプルはイミュ―タプルなので変更不可能"
      ],
      "metadata": {
        "colab": {
          "base_uri": "https://localhost:8080/",
          "height": 203
        },
        "id": "kQr-CZz5oQVo",
        "outputId": "f9fac899-1cfe-4dfd-c540-57ef9eb7e03b"
      },
      "execution_count": null,
      "outputs": [
        {
          "output_type": "error",
          "ename": "TypeError",
          "evalue": "ignored",
          "traceback": [
            "\u001b[0;31m---------------------------------------------------------------------------\u001b[0m",
            "\u001b[0;31mTypeError\u001b[0m                                 Traceback (most recent call last)",
            "\u001b[0;32m<ipython-input-153-c44aa9ada911>\u001b[0m in \u001b[0;36m<cell line: 2>\u001b[0;34m()\u001b[0m\n\u001b[1;32m      1\u001b[0m \u001b[0mtuple\u001b[0m \u001b[0;34m=\u001b[0m \u001b[0;34m(\u001b[0m\u001b[0;36m1\u001b[0m\u001b[0;34m,\u001b[0m\u001b[0;36m2\u001b[0m\u001b[0;34m,\u001b[0m\u001b[0;36m3\u001b[0m\u001b[0;34m)\u001b[0m\u001b[0;34m\u001b[0m\u001b[0;34m\u001b[0m\u001b[0m\n\u001b[0;32m----> 2\u001b[0;31m \u001b[0mtuple\u001b[0m\u001b[0;34m[\u001b[0m\u001b[0;36m0\u001b[0m\u001b[0;34m]\u001b[0m \u001b[0;34m=\u001b[0m \u001b[0;36m0\u001b[0m \u001b[0;31m#タプルはイミュ―タプルなので変更不可能\u001b[0m\u001b[0;34m\u001b[0m\u001b[0;34m\u001b[0m\u001b[0m\n\u001b[0m",
            "\u001b[0;31mTypeError\u001b[0m: 'tuple' object does not support item assignment"
          ]
        }
      ]
    },
    {
      "cell_type": "code",
      "source": [
        "# イミュ―タプルなオブジェクトも「変数の再代入による、値の交換は可能」"
      ],
      "metadata": {
        "id": "x5qvU05IocX7"
      },
      "execution_count": null,
      "outputs": []
    },
    {
      "cell_type": "code",
      "source": [
        "a = 1\n",
        "a = 2\n",
        "a"
      ],
      "metadata": {
        "colab": {
          "base_uri": "https://localhost:8080/"
        },
        "id": "6gkW1kzApTFg",
        "outputId": "cd059262-9dee-49f7-b663-ffe4a4ae9fa9"
      },
      "execution_count": null,
      "outputs": [
        {
          "output_type": "execute_result",
          "data": {
            "text/plain": [
              "2"
            ]
          },
          "metadata": {},
          "execution_count": 155
        }
      ]
    },
    {
      "cell_type": "code",
      "source": [
        "# タプルでも変数の再代入で値の交換は可能\n",
        "tuple = (1,2,3)\n",
        "tuple = (4,5,6)\n",
        "tuple"
      ],
      "metadata": {
        "colab": {
          "base_uri": "https://localhost:8080/"
        },
        "id": "7Sru4EnRpXpA",
        "outputId": "0777115c-1837-4196-ff03-b5d16d470c9b"
      },
      "execution_count": null,
      "outputs": [
        {
          "output_type": "execute_result",
          "data": {
            "text/plain": [
              "(4, 5, 6)"
            ]
          },
          "metadata": {},
          "execution_count": 157
        }
      ]
    },
    {
      "cell_type": "code",
      "source": [],
      "metadata": {
        "id": "0op5SwZ7pdmo"
      },
      "execution_count": null,
      "outputs": []
    },
    {
      "cell_type": "markdown",
      "source": [
        "## オブジェクトとメモリ"
      ],
      "metadata": {
        "id": "fXFi1uhvqHWR"
      }
    },
    {
      "cell_type": "code",
      "source": [
        "# コンテナオブジェクトとミュータブル・イミュータブルについて深く理解するためには、\n",
        "# Pythonでオブジェクトを扱う際に、「メモリがどう使われているのか？」知る必要がある"
      ],
      "metadata": {
        "id": "BTqmkw8aqK40"
      },
      "execution_count": null,
      "outputs": []
    },
    {
      "cell_type": "code",
      "source": [
        "# Pythonのすべてのオブジェクトには、型・値・アドレス を持つ\n",
        "\n",
        "# ・型：int型やstr型 など\n",
        "# ・値：1や'Hello' など\n",
        "# ・アドレス：オブジェクトがメモリのどの場所に格納されているか？"
      ],
      "metadata": {
        "id": "hgza5nCyshg4"
      },
      "execution_count": null,
      "outputs": []
    },
    {
      "cell_type": "code",
      "source": [
        "# コンピュータには、メモリと呼ばれるデータを格納するための箱が用意されている\n",
        "# メモリには場所ごとにアドレスが割り当てられる"
      ],
      "metadata": {
        "id": "yBU6vI6TtILy"
      },
      "execution_count": null,
      "outputs": []
    },
    {
      "cell_type": "code",
      "source": [
        "# 変数は、具体的なメモリアドレスを隠蔽して、\n",
        "# 人間にとって分かりやすい文字でアドレスを扱えるようにするための仕組み、といえる"
      ],
      "metadata": {
        "id": "kTSPxVEKtnXC"
      },
      "execution_count": null,
      "outputs": []
    },
    {
      "cell_type": "code",
      "source": [
        "# オブジェクトによって、格納に必要な容量は異なる\n",
        "# 同じデータ型でも、値や実行環境によっても変わる\n",
        "# オブジェクトの容量を確認するためには、sysモジュールのgetsizeof()が使える"
      ],
      "metadata": {
        "id": "U10X_7buv-C7"
      },
      "execution_count": null,
      "outputs": []
    },
    {
      "cell_type": "code",
      "source": [
        "import sys\n",
        "\n",
        "print(sys.getsizeof(1))\n",
        "print(sys.getsizeof(9999099999))\n",
        "print(sys.getsizeof('abc'))\n",
        "print(sys.getsizeof([1,2,3]))\n",
        "print(sys.getsizeof([1,2,3,4,5,6]))\n",
        "print(sys.getsizeof({'first':1, 'second':2, 'third':3}))\n",
        "print(sys.getsizeof({1,2,3}))\n"
      ],
      "metadata": {
        "colab": {
          "base_uri": "https://localhost:8080/"
        },
        "id": "oQsGcEiFwViC",
        "outputId": "5afc2bfc-b806-4567-8165-cedc5b577295"
      },
      "execution_count": null,
      "outputs": [
        {
          "output_type": "stream",
          "name": "stdout",
          "text": [
            "28\n",
            "32\n",
            "52\n",
            "88\n",
            "104\n",
            "232\n",
            "216\n"
          ]
        }
      ]
    },
    {
      "cell_type": "code",
      "source": [
        "# オブジェクトのメモリアドレスを知るためには、id()が使える\n",
        "# id()ではメモリの先頭番号が表示される"
      ],
      "metadata": {
        "id": "gnDNke9wwcpZ"
      },
      "execution_count": null,
      "outputs": []
    },
    {
      "cell_type": "code",
      "source": [
        "a = 1\n",
        "b = 'abc'\n",
        "c = [1,2,3]\n",
        "\n",
        "print(id(a))\n",
        "print(id(b))\n",
        "print(id(c))"
      ],
      "metadata": {
        "colab": {
          "base_uri": "https://localhost:8080/"
        },
        "id": "NFgzCiDMxYEx",
        "outputId": "4d844427-53d6-48fb-8abf-7f86e154eda0"
      },
      "execution_count": null,
      "outputs": [
        {
          "output_type": "stream",
          "name": "stdout",
          "text": [
            "134858231415024\n",
            "134858230222832\n",
            "134856959618944\n"
          ]
        }
      ]
    },
    {
      "cell_type": "markdown",
      "source": [
        "## メモリの観点でOOPの理解"
      ],
      "metadata": {
        "id": "eGhL6Y1YO0da"
      }
    },
    {
      "cell_type": "code",
      "source": [
        "# コンテナオブジェクトとは、他のオブジェクトへの参照を持つこと\n",
        "# →参照とはメモリアドレスのこと\n",
        "\n",
        "# コンテナオブジェクト以外の場合（リストや変数など）は、値にメモリが入っており、\n",
        "# コンテナオブジェクトの場合は、要素のメモリアドレスが入っている"
      ],
      "metadata": {
        "id": "auPG62DNxhsZ"
      },
      "execution_count": null,
      "outputs": []
    },
    {
      "cell_type": "code",
      "source": [
        "# ミュータブルなオブジェクトは、アドレスを変えずに値を変えることができる"
      ],
      "metadata": {
        "id": "Ipwr7hvIOycL"
      },
      "execution_count": null,
      "outputs": []
    },
    {
      "cell_type": "code",
      "source": [
        "m = [1]\n",
        "print(id(m))\n",
        "print(m)"
      ],
      "metadata": {
        "colab": {
          "base_uri": "https://localhost:8080/"
        },
        "id": "1Uc4JcmRQKzD",
        "outputId": "0ef03536-9af4-4783-ffa3-b5000835d93b"
      },
      "execution_count": null,
      "outputs": [
        {
          "output_type": "stream",
          "name": "stdout",
          "text": [
            "132776998392768\n",
            "[1]\n"
          ]
        }
      ]
    },
    {
      "cell_type": "code",
      "source": [
        "# リスト型は値を変えてもアドレス変わらない\n",
        "m[0] = 2\n",
        "print(id(m)) # リストのオブジェクトのアドレスは変わらず\n",
        "print(m) # リストのオブジェクトの値は変わっている"
      ],
      "metadata": {
        "colab": {
          "base_uri": "https://localhost:8080/"
        },
        "id": "j6TsjkjcQQrz",
        "outputId": "851977b1-c674-41eb-91ba-a7d7a789c32e"
      },
      "execution_count": null,
      "outputs": [
        {
          "output_type": "stream",
          "name": "stdout",
          "text": [
            "132776998392768\n",
            "[2]\n"
          ]
        }
      ]
    },
    {
      "cell_type": "code",
      "source": [
        "# 一方で、整数型ならアドレスを変えずに値変えることはできない\n",
        "# 値が変わるならアドレスも変わる(オブジェクトの交換)"
      ],
      "metadata": {
        "id": "O6r1HWxGQZck"
      },
      "execution_count": null,
      "outputs": []
    },
    {
      "cell_type": "code",
      "source": [
        "i = 1\n",
        "print(id(i))"
      ],
      "metadata": {
        "colab": {
          "base_uri": "https://localhost:8080/"
        },
        "id": "RQQ1nteCS6f1",
        "outputId": "34c77c14-cdcc-404a-9adf-60782eb10719"
      },
      "execution_count": null,
      "outputs": [
        {
          "output_type": "stream",
          "name": "stdout",
          "text": [
            "132778269180144\n"
          ]
        }
      ]
    },
    {
      "cell_type": "code",
      "source": [
        "i = 2\n",
        "print(id(i)) # 変数iを指すアドレスが移動している"
      ],
      "metadata": {
        "colab": {
          "base_uri": "https://localhost:8080/"
        },
        "id": "euMI8Bu9S-aD",
        "outputId": "aa235faa-8233-4550-c667-472b33b4b5d4"
      },
      "execution_count": null,
      "outputs": [
        {
          "output_type": "stream",
          "name": "stdout",
          "text": [
            "132778269180176\n"
          ]
        }
      ]
    },
    {
      "cell_type": "code",
      "source": [
        "m = [0]\n",
        "print(id(m))\n",
        "print(id(m[0]))"
      ],
      "metadata": {
        "colab": {
          "base_uri": "https://localhost:8080/"
        },
        "id": "LUke3IH7TB0D",
        "outputId": "7d68f105-6084-4e3b-b4b2-7f1598ec7943"
      },
      "execution_count": null,
      "outputs": [
        {
          "output_type": "stream",
          "name": "stdout",
          "text": [
            "132776999129024\n",
            "132778269180112\n"
          ]
        }
      ]
    },
    {
      "cell_type": "code",
      "source": [
        "m[0] = 2\n",
        "print(id(m)) # リストはミュータブルなのでアドレスは変わらず\n",
        "print(id(m[0])) # m[0]のアドレスは変わっている"
      ],
      "metadata": {
        "colab": {
          "base_uri": "https://localhost:8080/"
        },
        "id": "B8Wjfl1GT-lb",
        "outputId": "5a300582-6acc-4ac9-c720-0523b96ff758"
      },
      "execution_count": null,
      "outputs": [
        {
          "output_type": "stream",
          "name": "stdout",
          "text": [
            "132776999129024\n",
            "132778269180176\n"
          ]
        }
      ]
    },
    {
      "cell_type": "markdown",
      "source": [
        "## 値渡しと参照渡し"
      ],
      "metadata": {
        "id": "DKxpZ9ABWSOh"
      }
    },
    {
      "cell_type": "code",
      "source": [
        "# 値渡しとは「関数に引数の値をコピーして渡す方法」\n",
        "# 値渡しは、call by value"
      ],
      "metadata": {
        "id": "dCQuqXJ5XF_i"
      },
      "execution_count": null,
      "outputs": []
    },
    {
      "cell_type": "code",
      "source": [
        "# 「pyhtonは値渡し」なので、出力は1で出力される\n",
        "def hoge(a):\n",
        "  a += 1"
      ],
      "metadata": {
        "id": "HaOmzoPtUDAz"
      },
      "execution_count": null,
      "outputs": []
    },
    {
      "cell_type": "code",
      "source": [
        "# 値渡しでは関数に引数のコピーが送られるので、外から変数xを出力しても値が変わらない。\n",
        "#   →影響範囲が狭い\n",
        "# 参照渡しではこうはならず、x=2が出力される。\n",
        "# コピーではなく、参照(メモリアドレス)を渡すので、関数を使うと変数xの値も変わってしまう。\n",
        "#   →影響範囲が広くなりがち\n",
        "x = 1\n",
        "hoge(x)\n",
        "print(x)  # 出力は1、参照渡しなら2になる"
      ],
      "metadata": {
        "colab": {
          "base_uri": "https://localhost:8080/"
        },
        "id": "tL77XybrWXRz",
        "outputId": "b17fec26-0f7b-4da1-9347-34cc8545f4e2"
      },
      "execution_count": null,
      "outputs": [
        {
          "output_type": "stream",
          "name": "stdout",
          "text": [
            "1\n"
          ]
        }
      ]
    },
    {
      "cell_type": "code",
      "source": [
        "# 参照渡しのデメリット：\n",
        "# 同一の値を複数の場所から参照しようとすると。\n",
        "# 値がどこから変更されるか予測しずらい上に、変更された場合、変更の範囲がとても大きくなってしまう\n",
        "#  →グローバル変数と似たような問題が発生する\n",
        "# 値渡しにすると、データの共有を最小限にできるので保守性が向上する\n",
        "#  →ローカル変数のメリット"
      ],
      "metadata": {
        "id": "ViVvbsY7WgZc"
      },
      "execution_count": null,
      "outputs": []
    },
    {
      "cell_type": "code",
      "source": [
        "# 以下のコードでは、[0,2]が出力されるので、参照渡しっぽく見える\n",
        "# しかし、pythonは「値渡し」の言語。これは「オブジェクトの参照の値渡し」が行われているため。\n",
        "def foo1(a):\n",
        "  a[0] = 0\n",
        "\n",
        "x = [1,2]\n",
        "foo1(x)\n",
        "print(x)"
      ],
      "metadata": {
        "colab": {
          "base_uri": "https://localhost:8080/"
        },
        "id": "MKIPJlmJWixs",
        "outputId": "c6c2d022-1f71-439f-a134-b29f997f5d4d"
      },
      "execution_count": null,
      "outputs": [
        {
          "output_type": "stream",
          "name": "stdout",
          "text": [
            "[0, 2]\n"
          ]
        }
      ]
    },
    {
      "cell_type": "code",
      "source": [
        "# 以下のコードを見てもpythonが値渡しであることが分かる\n",
        "def foo2(a):\n",
        "  a = [4,5,6]\n",
        "\n",
        "x = [1,2,3]\n",
        "foo2(x)\n",
        "print(x)  # リストを置き換えてもxは変更されない"
      ],
      "metadata": {
        "colab": {
          "base_uri": "https://localhost:8080/"
        },
        "id": "h9OCdQjTfgcs",
        "outputId": "147c6e29-af51-4365-e1b2-620d64ce6f99"
      },
      "execution_count": null,
      "outputs": [
        {
          "output_type": "stream",
          "name": "stdout",
          "text": [
            "[1, 2, 3]\n"
          ]
        }
      ]
    },
    {
      "cell_type": "code",
      "source": [
        "# 参照の値渡しは省略"
      ],
      "metadata": {
        "id": "L2bkPwnrjJ0M"
      },
      "execution_count": null,
      "outputs": []
    },
    {
      "cell_type": "markdown",
      "source": [
        "## is演算子と==演算子"
      ],
      "metadata": {
        "id": "nE9tp9qPpih3"
      }
    },
    {
      "cell_type": "code",
      "source": [
        "# is演算子：同じアドレスのオブジェクトかどうかを判断する（同一ならTrueを返す）\n",
        "# ==演算子：同じ値のオブジェクトかどうかを判断する（同値ならTrueを返す）\n",
        "# オブジェクトに3つの要素があって、データ型、値、アドレス があり、isはアドレス、==は値を判断する"
      ],
      "metadata": {
        "id": "ZgbTzVAWpl59"
      },
      "execution_count": null,
      "outputs": []
    },
    {
      "cell_type": "code",
      "source": [
        "list1 = [1,2,3]\n",
        "list2 = [1,2,3]\n",
        "\n",
        "print(id(list1))\n",
        "print(id(list2))\n",
        "\n",
        "print(list1 is list2) # アドレスが違う\n",
        "print(list1 == list2) # 値は同じ"
      ],
      "metadata": {
        "colab": {
          "base_uri": "https://localhost:8080/"
        },
        "id": "BjufUpGeqSMP",
        "outputId": "f6da15a5-e1ce-41d1-b29c-6f7d508aeaea"
      },
      "execution_count": null,
      "outputs": [
        {
          "output_type": "stream",
          "name": "stdout",
          "text": [
            "132776997653952\n",
            "132776997666304\n",
            "False\n",
            "True\n"
          ]
        }
      ]
    },
    {
      "cell_type": "code",
      "source": [
        "# イミュータブルなオブジェクトなら値が変更されることはない\n",
        "# 同じ値のオブジェクトを参照しても問題が発生しない"
      ],
      "metadata": {
        "id": "0xr2q56iqiDv"
      },
      "execution_count": null,
      "outputs": []
    },
    {
      "cell_type": "code",
      "source": [
        "a = 1\n",
        "b = 1\n",
        "\n",
        "print(id(a))\n",
        "print(id(b))\n",
        "\n",
        "print(a is b)\n",
        "print(a == b)"
      ],
      "metadata": {
        "colab": {
          "base_uri": "https://localhost:8080/"
        },
        "id": "ojLy1bnEroAk",
        "outputId": "a779145b-bb2f-4465-f71b-bf02a913d489"
      },
      "execution_count": null,
      "outputs": [
        {
          "output_type": "stream",
          "name": "stdout",
          "text": [
            "132778269180144\n",
            "132778269180144\n",
            "True\n",
            "True\n"
          ]
        }
      ]
    },
    {
      "cell_type": "code",
      "source": [
        "a = 1\n",
        "b = 1\n",
        "print(id(a))\n",
        "print(id(b))\n",
        "\n",
        "b = 2\n",
        "\n",
        "print(id(a))\n",
        "print(id(b)) # ここでアドレスも値も変わる\n",
        "\n",
        "print(a is b)\n",
        "print(a == b)"
      ],
      "metadata": {
        "colab": {
          "base_uri": "https://localhost:8080/"
        },
        "id": "iDCb-dlPryp0",
        "outputId": "00c78a6b-ca83-4480-ea8f-9cafe02311d2"
      },
      "execution_count": null,
      "outputs": [
        {
          "output_type": "stream",
          "name": "stdout",
          "text": [
            "132778269180144\n",
            "132778269180144\n",
            "132778269180144\n",
            "132778269180176\n",
            "False\n",
            "False\n"
          ]
        }
      ]
    },
    {
      "cell_type": "code",
      "source": [],
      "metadata": {
        "id": "Gq6BW-Jtr40E"
      },
      "execution_count": null,
      "outputs": []
    },
    {
      "cell_type": "markdown",
      "source": [
        "# 継承"
      ],
      "metadata": {
        "id": "tUOVJMkmVwPg"
      }
    },
    {
      "cell_type": "markdown",
      "source": [
        "## 継承とは？"
      ],
      "metadata": {
        "id": "_68LXdwmZOfG"
      }
    },
    {
      "cell_type": "code",
      "source": [
        "# 継承とは、既存のクラスが持つ変数とメソッドを引き継いで（継承して）、新しいクラスを作る仕組み"
      ],
      "metadata": {
        "id": "VPcWc5VDVxzh"
      },
      "execution_count": null,
      "outputs": []
    },
    {
      "cell_type": "code",
      "source": [
        "# 例：SuperClassクラスを継承したSubClassクラスを定義する\n",
        "\n",
        "class SuperClass:\n",
        "  spr = \"スーパー\"\n",
        "\n",
        "  def super_print(self):\n",
        "    print(\"スーパークラスのメソッドです\")\n",
        "\n",
        "class SubClass(SuperClass):  #SuperClassの継承\n",
        "  def sub_print(self):\n",
        "    print(\"サブクラスのメソッドです\")\n",
        "\n",
        "  def spr_print(self):\n",
        "    print(self.spr)  #SuperClassのインスタンス変数を実行している"
      ],
      "metadata": {
        "id": "GUdunHnpWabC"
      },
      "execution_count": null,
      "outputs": []
    },
    {
      "cell_type": "code",
      "source": [
        "obj = SubClass()  #SubClassにインスタンスを生成\n",
        "obj.super_print()  #SuperClassのメソッドを実行\n",
        "obj.sub_print()   #SubClassのメソッドを実行\n",
        "obj.spr_print()   #SubClassのメソッドを実行"
      ],
      "metadata": {
        "colab": {
          "base_uri": "https://localhost:8080/"
        },
        "id": "yZdAr-oFXNvg",
        "outputId": "97ee38d3-1d7b-4fc7-80f5-9a216ca4210b"
      },
      "execution_count": null,
      "outputs": [
        {
          "output_type": "stream",
          "name": "stdout",
          "text": [
            "スーパークラスのメソッドです\n",
            "サブクラスのメソッドです\n",
            "スーパー\n"
          ]
        }
      ]
    },
    {
      "cell_type": "code",
      "source": [
        "# 継承によって、既存のクラスを修正せずに機能追加が可能となる → 保守性・再利用性が向上\n",
        "# 継承先のクラスをサブクラス（子クラス）、継承元のクラスをSuperClass（親クラス）と呼ぶ"
      ],
      "metadata": {
        "id": "qHD5JyWnXu_u"
      },
      "execution_count": null,
      "outputs": []
    },
    {
      "cell_type": "code",
      "source": [
        "# 継承は「クラスの共通部分を別クラスとしてまとめる仕組み」と言える\n",
        "# 以下はクラスを使わない場合のコード\n",
        "\n",
        "class Teacher:\n",
        "  def __init__(self, name):\n",
        "    self.name = name\n",
        "\n",
        "  def hello(self):\n",
        "    print(f'私の名前は{self.name}です。')\n",
        "\n",
        "  def teach(self, student):\n",
        "    print(f'{student}に教えた。')\n",
        "\n",
        "class Proframmer:\n",
        "  def __init__(self, name):\n",
        "    self.name = name\n",
        "\n",
        "  def hello(self):\n",
        "    print(f'私の名前は{self.name}です。')\n",
        "\n",
        "  def programming(self, lang):\n",
        "    print(f'{lang}でプログラミング。')"
      ],
      "metadata": {
        "id": "hBbEKRN5ZK0A"
      },
      "execution_count": null,
      "outputs": []
    },
    {
      "cell_type": "code",
      "source": [
        "# 継承を使うと以下のように書ける\n",
        "\n",
        "class Worker:\n",
        "  def __init__(self, name):\n",
        "    self.name = name\n",
        "\n",
        "  def hello(self):\n",
        "    print(f'私の名前は{self.name}です。')\n",
        "\n",
        "class Teacher(Worker):\n",
        "  def teach(self, student):\n",
        "    print(f'{student}に教えた。')\n",
        "\n",
        "class Programmer(Worker):\n",
        "  def programming(self, lang):\n",
        "    print(f'{lang}でプログラミング。')"
      ],
      "metadata": {
        "id": "wWqNUuRJaqbr"
      },
      "execution_count": null,
      "outputs": []
    },
    {
      "cell_type": "code",
      "source": [
        "teacher = Teacher(\"金八\")  #teacherのインスタンス生成\n",
        "programmer = Programmer(\"松本\") # programmerのインスタンス生成"
      ],
      "metadata": {
        "id": "8pEg6RNKbVWn"
      },
      "execution_count": null,
      "outputs": []
    },
    {
      "cell_type": "code",
      "source": [
        "teacher.hello()   # 親クラスのメソッドを子クラスで実行\n",
        "teacher.teach(\"杉山\")  # 引数studentに杉山を入れている\n",
        "programmer.hello()  # 親クラスのメソッドを子クラスで実行\n",
        "programmer.programming(\"Python\") # 引数langにPythonを入れている"
      ],
      "metadata": {
        "colab": {
          "base_uri": "https://localhost:8080/"
        },
        "id": "KziU8K_tblSC",
        "outputId": "437c14b6-a6db-48e2-deab-049657a97d91"
      },
      "execution_count": null,
      "outputs": [
        {
          "output_type": "stream",
          "name": "stdout",
          "text": [
            "私の名前は金八です。\n",
            "杉山に教えた。\n",
            "私の名前は松本です。\n",
            "Pythonでプログラミング。\n"
          ]
        }
      ]
    },
    {
      "cell_type": "code",
      "source": [
        "# 継承（共通部分をまとめる）と以下のようなメリットがある\n",
        "#   ・プログラムの記述量が少なくなり、見通しが良くなる\n",
        "#   ・他の職業のクラスの定義が簡単になる\n",
        "#   ・共通部分の変更が容易になる\n",
        "\n",
        "# 継承は「is-a関係」と言われる。「Teacher is a Worker. (教師は労働者の一種である)」\n",
        "# プログラムの共通部分があっても、「is-a関係が存在しないなら継承でまとめるのは不適切である」場合が多い"
      ],
      "metadata": {
        "id": "U-y5xXZ1cA13"
      },
      "execution_count": null,
      "outputs": []
    },
    {
      "cell_type": "code",
      "source": [],
      "metadata": {
        "id": "JiJ2hurxe5Be"
      },
      "execution_count": null,
      "outputs": []
    },
    {
      "cell_type": "markdown",
      "source": [
        "## オーバーライド"
      ],
      "metadata": {
        "id": "MwKkWp60fDN4"
      }
    },
    {
      "cell_type": "code",
      "source": [
        "# オーバーライドとは？ スーパークラスのメソッドをサブクラスが上書きする機能\n",
        "# スーパークラスとサブクラスに同じメソッドがあるとき、サブクラスのメソッドが優先される。"
      ],
      "metadata": {
        "id": "2Dq5dIrZfHuw"
      },
      "execution_count": null,
      "outputs": []
    },
    {
      "cell_type": "code",
      "source": [
        "class Human:\n",
        "  def hello(self):\n",
        "    print(\"Hello\")\n",
        "\n",
        "class Japanese(Human):\n",
        "  def hello(self):\n",
        "    print(\"こんにちは\")"
      ],
      "metadata": {
        "id": "ulGTXWBxf_B_"
      },
      "execution_count": null,
      "outputs": []
    },
    {
      "cell_type": "code",
      "source": [
        "Japanese = Japanese()\n",
        "Japanese.hello()"
      ],
      "metadata": {
        "colab": {
          "base_uri": "https://localhost:8080/"
        },
        "id": "A-QkMo9ggLU3",
        "outputId": "656ea6f9-7421-4f9c-b920-391926cc5edd"
      },
      "execution_count": null,
      "outputs": [
        {
          "output_type": "stream",
          "name": "stdout",
          "text": [
            "こんにちは\n"
          ]
        }
      ]
    },
    {
      "cell_type": "code",
      "source": [
        "# オーバーライドを止めるために、スーパークラスを表すsuper()関数を使うと、\n",
        "# スーパークラスのメソッドをサブクラスから利用できる\n",
        "\n",
        "class Human:\n",
        "  def hello(self):\n",
        "    print(\"Hello\")\n",
        "\n",
        "class Japanese(Human):\n",
        "  def hello(self):\n",
        "    super().hello() # スーパークラスのhelloメソッド呼び出し\n",
        "    print(\"こんにちは\") # スーパークラスのhelloメソッドに機能追加"
      ],
      "metadata": {
        "id": "BALtY-jLgRlv"
      },
      "execution_count": null,
      "outputs": []
    },
    {
      "cell_type": "code",
      "source": [
        "Japanese = Japanese()\n",
        "Japanese.hello() # 上書きされず、機能追加される"
      ],
      "metadata": {
        "colab": {
          "base_uri": "https://localhost:8080/"
        },
        "id": "SdkbyiakhNIS",
        "outputId": "8a0a1f4c-c89e-49f3-8cfe-de301f48a9fd"
      },
      "execution_count": null,
      "outputs": [
        {
          "output_type": "stream",
          "name": "stdout",
          "text": [
            "Hello\n",
            "こんにちは\n"
          ]
        }
      ]
    },
    {
      "cell_type": "markdown",
      "source": [
        "## 演習問題②\n",
        "\n",
        "以下の要件を満たすDecoDisplayクラスを定義しましょう！\n",
        "\n",
        "*   Displayクラスを継承している\n",
        "*   唯一のメソッドとして、displayメソッドを持つ（オーバーライドしている）\n",
        "*   引数として渡された文章の先頭と末尾に「～」を追加して表示するメソッド\n",
        "\n",
        "クラスが定義できたら、インスタンスを生成してメソッドを呼び出してみましょう！"
      ],
      "metadata": {
        "id": "ybTe-nIth4Cv"
      }
    },
    {
      "cell_type": "code",
      "source": [
        "class Display:\n",
        "  def __init__(self):\n",
        "    print(\"文章が出力できるよ\")\n",
        "\n",
        "  def display(self, sentense):\n",
        "    print(f'{sentense}を出力しました。')\n",
        "\n",
        "class DecoDisplay(Display):\n",
        "  def display(self, sentense):\n",
        "    print(f'～{sentense}～を出力しました。')"
      ],
      "metadata": {
        "id": "0yOvyryyhOQ3"
      },
      "execution_count": null,
      "outputs": []
    },
    {
      "cell_type": "code",
      "source": [
        "decodisplay = DecoDisplay()"
      ],
      "metadata": {
        "colab": {
          "base_uri": "https://localhost:8080/"
        },
        "id": "Ul9zUtYmixSQ",
        "outputId": "c9e423af-24a3-4123-d28a-0f836c919608"
      },
      "execution_count": null,
      "outputs": [
        {
          "output_type": "stream",
          "name": "stdout",
          "text": [
            "文章が出力できるよ\n"
          ]
        }
      ]
    },
    {
      "cell_type": "code",
      "source": [
        "decodisplay.display('abc')"
      ],
      "metadata": {
        "colab": {
          "base_uri": "https://localhost:8080/"
        },
        "id": "b21QTuD9i-Bv",
        "outputId": "d3d61c22-893c-43c3-ba11-05967d47a87b"
      },
      "execution_count": null,
      "outputs": [
        {
          "output_type": "stream",
          "name": "stdout",
          "text": [
            "～abc～を出力しました。\n"
          ]
        }
      ]
    },
    {
      "cell_type": "code",
      "source": [
        "display = Display()"
      ],
      "metadata": {
        "colab": {
          "base_uri": "https://localhost:8080/"
        },
        "id": "322NpRV_jAjH",
        "outputId": "791800c3-3767-49f4-f4a5-c619b64cd023"
      },
      "execution_count": null,
      "outputs": [
        {
          "output_type": "stream",
          "name": "stdout",
          "text": [
            "文章が出力できるよ\n"
          ]
        }
      ]
    },
    {
      "cell_type": "code",
      "source": [
        "display.display(\"abcdef\")"
      ],
      "metadata": {
        "colab": {
          "base_uri": "https://localhost:8080/"
        },
        "id": "fJvBg-GBjMx_",
        "outputId": "6b27ef9d-8b6f-4787-ab3e-f19785a06040"
      },
      "execution_count": null,
      "outputs": [
        {
          "output_type": "stream",
          "name": "stdout",
          "text": [
            "abcdefを出力しました。\n"
          ]
        }
      ]
    },
    {
      "cell_type": "code",
      "source": [],
      "metadata": {
        "id": "6YI33S_tjShT"
      },
      "execution_count": null,
      "outputs": []
    },
    {
      "cell_type": "markdown",
      "source": [
        "## デコレ―タ"
      ],
      "metadata": {
        "id": "qK8FFn_DjklQ"
      }
    },
    {
      "cell_type": "code",
      "source": [
        "# デコレ―タとは？ → 「関数に機能を追加する関数」のこと\n",
        "# Pythonは全てがオブジェクトであるので、関数の引数として、関数を渡すこともできる"
      ],
      "metadata": {
        "id": "KlumjSznjmjq"
      },
      "execution_count": null,
      "outputs": []
    },
    {
      "cell_type": "code",
      "source": [
        "# 例：obj関数とfree関数を引数によるpy関数\n",
        "# *argsは可変長引数（引数が何個でもOKという意味）\n",
        "# *kwargsキーワード引数\n",
        "def obj():\n",
        "  return \"オブジェクト\"\n",
        "\n",
        "def free(word):\n",
        "  return word\n",
        "\n",
        "def py(func):  # 機能を追加するための関数\n",
        "  def wrapper(*args, **kwargs):\n",
        "    return \"Pythonは\" + func(*args, **kwargs)\n",
        "  return wrapper  # 関数py()の戻り値は関数"
      ],
      "metadata": {
        "id": "yhSEwMTcj1Sv"
      },
      "execution_count": null,
      "outputs": []
    },
    {
      "cell_type": "code",
      "source": [
        "pyobj = py(obj)\n",
        "pyfree = py(free)"
      ],
      "metadata": {
        "id": "s2vvxNcQms36"
      },
      "execution_count": null,
      "outputs": []
    },
    {
      "cell_type": "code",
      "source": [
        "print(pyobj())"
      ],
      "metadata": {
        "colab": {
          "base_uri": "https://localhost:8080/"
        },
        "id": "NHVmCnUfm164",
        "outputId": "a6399d4d-72c3-4ce7-e793-a3b7d6a75ee8"
      },
      "execution_count": null,
      "outputs": [
        {
          "output_type": "stream",
          "name": "stdout",
          "text": [
            "Pythonはオブジェクト\n"
          ]
        }
      ]
    },
    {
      "cell_type": "code",
      "source": [
        "print(pyfree(\"楽しい\"))"
      ],
      "metadata": {
        "colab": {
          "base_uri": "https://localhost:8080/"
        },
        "id": "dGPK2VUfm59I",
        "outputId": "f5c8e0dd-d018-488b-e26c-aa9d6da1f4e0"
      },
      "execution_count": null,
      "outputs": [
        {
          "output_type": "stream",
          "name": "stdout",
          "text": [
            "Pythonは楽しい\n"
          ]
        }
      ]
    },
    {
      "cell_type": "code",
      "source": [
        "# py関数とは？ → 引数として受け取った関数の戻り値に「Pythonは」という文字を追加している（機能追加）"
      ],
      "metadata": {
        "id": "DlEHMDdOoI2A"
      },
      "execution_count": null,
      "outputs": []
    },
    {
      "cell_type": "code",
      "source": [
        "# このように、関数を引数とする関数を定義することで、\n",
        "# すでにある関数に機能追加することができる\n",
        "# このような関数をデコラ―タと呼ぶ"
      ],
      "metadata": {
        "id": "7VvfQAzRox3r"
      },
      "execution_count": null,
      "outputs": []
    },
    {
      "cell_type": "code",
      "source": [
        "# デコレ―タは「@デコレ―タ名」と就職する。関数の上に書くことでも利用できる\n",
        "@機能追加したい関数（デコレ―タ）\n",
        "def 機能追加したい関数():\n",
        "  処理"
      ],
      "metadata": {
        "id": "VUCkd40WsJPi"
      },
      "execution_count": null,
      "outputs": []
    },
    {
      "cell_type": "code",
      "source": [
        "def py(func): #デコレ―タの定義\n",
        "  def wrapper (*args, **kwargs):\n",
        "    return \"Pythonは\" + func(*args, **kwargs)\n",
        "  return wrapper\n",
        "\n",
        "@py # デコレ―タの利用\n",
        "def obj():\n",
        "  return \"オブジェクト\"\n",
        "\n",
        "@py # デコレ―タの利用\n",
        "def free(word):\n",
        "  return word"
      ],
      "metadata": {
        "id": "hLDh6JnRscvM"
      },
      "execution_count": null,
      "outputs": []
    },
    {
      "cell_type": "code",
      "source": [
        "print(obj())"
      ],
      "metadata": {
        "colab": {
          "base_uri": "https://localhost:8080/"
        },
        "id": "MoZpTTqEuL5p",
        "outputId": "94cb4ba5-f05b-4980-c473-b68005c7db54"
      },
      "execution_count": null,
      "outputs": [
        {
          "output_type": "stream",
          "name": "stdout",
          "text": [
            "Pythonはオブジェクト\n"
          ]
        }
      ]
    },
    {
      "cell_type": "code",
      "source": [
        "print(free(\"面白い\"))"
      ],
      "metadata": {
        "colab": {
          "base_uri": "https://localhost:8080/"
        },
        "id": "eTiJNr4BuW5w",
        "outputId": "87a138c2-b74e-49c5-8410-cffae3064554"
      },
      "execution_count": null,
      "outputs": [
        {
          "output_type": "stream",
          "name": "stdout",
          "text": [
            "Pythonは面白い\n"
          ]
        }
      ]
    },
    {
      "cell_type": "code",
      "source": [
        "# デコレ―タは自分で機能を定義もできるが、\n",
        "# Pythonに予め定義されているものや、モジュールとして提供されているものもある\n",
        "# 以下では、クラスメソッド定義するために用いる@classmethodを見ていく"
      ],
      "metadata": {
        "id": "ILGjtXBmuY9h"
      },
      "execution_count": null,
      "outputs": []
    },
    {
      "cell_type": "code",
      "source": [
        "# クラスメソッドとは？ → クラス内で定義されたメソッドで、「インスタンス化しなくても呼び出すことができるメソッド。」\n",
        "# クラスからもインスタンスからも呼び出せる"
      ],
      "metadata": {
        "id": "eXSaa7_xvjWs"
      },
      "execution_count": null,
      "outputs": []
    },
    {
      "cell_type": "code",
      "source": [
        "class Hoge:\n",
        "  @classmethod #クラスメソッドの定義\n",
        "  def foo(cls): # クラスメソッドではselfではなく、クラスを意味するclsを書く\n",
        "    print(\"インスタンス化しなくても呼び出せるメソッド\")"
      ],
      "metadata": {
        "id": "WBNkC1BQv4Ny"
      },
      "execution_count": null,
      "outputs": []
    },
    {
      "cell_type": "code",
      "source": [
        "Hoge.foo()  # クラス名.クラスメソッド名 でも呼び出せるし、"
      ],
      "metadata": {
        "colab": {
          "base_uri": "https://localhost:8080/"
        },
        "id": "fQx_mLcZwPpz",
        "outputId": "1ea2ea82-c084-4d40-d8f0-6a4a991cfd95"
      },
      "execution_count": null,
      "outputs": [
        {
          "output_type": "stream",
          "name": "stdout",
          "text": [
            "インスタンス化しなくても呼び出せるメソッド\n"
          ]
        }
      ]
    },
    {
      "cell_type": "code",
      "source": [
        "Hoge().foo() # インスタンス名.クラスメソッド名 でも呼び出せるし、"
      ],
      "metadata": {
        "colab": {
          "base_uri": "https://localhost:8080/"
        },
        "id": "8Nxyi_EtwjED",
        "outputId": "1d9766f0-d25d-494a-8938-c24018e80f74"
      },
      "execution_count": null,
      "outputs": [
        {
          "output_type": "stream",
          "name": "stdout",
          "text": [
            "インスタンス化しなくても呼び出せるメソッド\n"
          ]
        }
      ]
    },
    {
      "cell_type": "code",
      "source": [],
      "metadata": {
        "id": "81XQPjalwn_8"
      },
      "execution_count": null,
      "outputs": []
    },
    {
      "cell_type": "markdown",
      "source": [
        "# ポリモーフィズム"
      ],
      "metadata": {
        "id": "B1WIDXexoauU"
      }
    },
    {
      "cell_type": "markdown",
      "source": [
        "## ポリモーフィズムとは？"
      ],
      "metadata": {
        "id": "2igjaGGsrZLJ"
      }
    },
    {
      "cell_type": "code",
      "source": [
        "# ポリモーフィズムとは？ 呼び出し側のロジック（インターフェース）を一本化すること\n",
        "# インターフェースの一本化とは？ オブジェクトの種類を意識しなくてもいいように、オブジェクト間で共通のインターフェースを持たせること\n",
        "# 以下のプログラムでは、Dogクラス、Catクラス、Humanクラスが全てcryメソッドを持つ"
      ],
      "metadata": {
        "id": "s3LZLEYAodo0"
      },
      "execution_count": null,
      "outputs": []
    },
    {
      "cell_type": "code",
      "source": [
        "class Dog:\n",
        "  def cry(self):\n",
        "    print(\"わんわん\")\n",
        "\n",
        "class Cat:\n",
        "  def cry(self):\n",
        "    print(\"にゃーにゃー\")\n",
        "\n",
        "class Human:\n",
        "  def cry(self):\n",
        "    print(\"えーんえーん\")\n",
        "\n",
        "def nake(animal):\n",
        "  animal.cry()  #どのクラスのオブジェクト化気にすることなくcry()メソッドを使うことができる"
      ],
      "metadata": {
        "id": "AER4_yzVoyXE"
      },
      "execution_count": null,
      "outputs": []
    },
    {
      "cell_type": "code",
      "source": [
        "# インスタンス生成\n",
        "dog = Dog()\n",
        "cat = Cat()\n",
        "human = Human()"
      ],
      "metadata": {
        "id": "djZ6BrDnphyB"
      },
      "execution_count": null,
      "outputs": []
    },
    {
      "cell_type": "code",
      "source": [
        "#どのクラスのオブジェクトか気にすることなくnake(関数)を使うことができる。\n",
        "nake(dog)\n",
        "nake(cat)\n",
        "nake(human)"
      ],
      "metadata": {
        "colab": {
          "base_uri": "https://localhost:8080/"
        },
        "id": "EP41Wvbbpmhp",
        "outputId": "0d6b9fb5-6eca-44e1-8508-96e5f1f7a3fd"
      },
      "execution_count": null,
      "outputs": [
        {
          "output_type": "stream",
          "name": "stdout",
          "text": [
            "わんわん\n",
            "にゃーにゃー\n",
            "えーんえーん\n"
          ]
        }
      ]
    },
    {
      "cell_type": "code",
      "source": [
        "dog.cry()"
      ],
      "metadata": {
        "colab": {
          "base_uri": "https://localhost:8080/"
        },
        "id": "m8csTJXlqFk5",
        "outputId": "5f3e7b4b-5d9f-458b-8d96-3ef704069ca5"
      },
      "execution_count": null,
      "outputs": [
        {
          "output_type": "stream",
          "name": "stdout",
          "text": [
            "わんわん\n"
          ]
        }
      ]
    },
    {
      "cell_type": "code",
      "source": [
        "# 上記のプログラムで実装することでポリモーフィズムは実現できるが\n",
        "# どのクラスにもcry()メソッドを定義する強制力がない\n",
        "# 強制力とは？ → Humanクラスにcryメソッドを書かなくても成立する\n",
        "# 強制力がないので、ポリモーフィズムを使わないで実装を行う余地が残ってしまっている\n",
        "# ポリモーフィズムによる実装を強制する方法として、抽象クラス、中所メソッドを利用する方法がある"
      ],
      "metadata": {
        "id": "MTKChk9fqL9Z"
      },
      "execution_count": null,
      "outputs": []
    },
    {
      "cell_type": "code",
      "source": [
        "# 抽象クラスとは？ 継承されることを前提としたクラス、インスタンスを生成できない\n",
        "# 抽象メソッドとは？ インターフェースを規定するためのメソッド、抽象クラスに定義できる\n",
        "# 抽象メソッドはサブクラスの中のオーバーライドによって実装されなければならない"
      ],
      "metadata": {
        "id": "Upz7RKTqvcQg"
      },
      "execution_count": null,
      "outputs": []
    },
    {
      "cell_type": "code",
      "source": [
        "# Pythonで抽象クラス・抽象メソッドを利用するには、ABC(Abstract Base Class)モジュールを使う\n",
        "# 抽象クラスを定義するにはABCクラスを継承し、\n",
        "# 抽象メソッドを定義するには@abstractmethodデコレ―タを利用する"
      ],
      "metadata": {
        "id": "Ba6ZE7Pcv-LQ"
      },
      "execution_count": null,
      "outputs": []
    },
    {
      "cell_type": "code",
      "source": [
        "# 以下プログラムでは、抽象クラスのAnimalを継承しているHumanクラスが、\n",
        "# cry()メソッドの実装を行っていないので、Humanクラスのインスタンス生成時にエラーが発生する\n",
        "# 抽象クラスによって、ポリモーフィズムによる実装を強制できる\n",
        "\n",
        "from abc import ABC, abstractmethod\n",
        "\n",
        "class Animal(ABC):  # Animalクラスを抽象メソッドとして定義\n",
        "  @abstractmethod\n",
        "  def cry(self): # 抽象メソッドの定義\n",
        "    #ここに実装を記述することはできない。抽象メソッドにかけるのはpassのみ。\n",
        "    pass\n",
        "\n",
        "class Dog(Animal): #抽象クラスのサブクラスなので、cryメソッドの実装が求められる\n",
        "  def cry(self):\n",
        "    print(\"わんわん\")\n",
        "\n",
        "class Cat(Animal): #抽象クラスのサブクラスなので、cryメソッドの実装が求められる\n",
        "  def cry(self):\n",
        "    print(\"にゃーにゃー\")\n",
        "\n",
        "class Human(Animal): #抽象クラスのサブクラスなので、cryメソッドの実装が求められる\n",
        "  #pass   # cryメソッドを実装していないとerrorになる\n",
        "  def cry(self):\n",
        "    print(\"えーんえーん\")"
      ],
      "metadata": {
        "id": "7vg36La2w_rH"
      },
      "execution_count": null,
      "outputs": []
    },
    {
      "cell_type": "code",
      "source": [
        "human = Human()"
      ],
      "metadata": {
        "id": "FtXTKtxuxRp0"
      },
      "execution_count": null,
      "outputs": []
    },
    {
      "cell_type": "code",
      "source": [
        "human.cry()"
      ],
      "metadata": {
        "colab": {
          "base_uri": "https://localhost:8080/"
        },
        "id": "6okjKQUg0LEt",
        "outputId": "49848eba-fc61-48de-e6ad-0039569278c0"
      },
      "execution_count": null,
      "outputs": [
        {
          "output_type": "stream",
          "name": "stdout",
          "text": [
            "えーんえーん\n"
          ]
        }
      ]
    },
    {
      "cell_type": "code",
      "source": [],
      "metadata": {
        "id": "mXgDGOle0VjU"
      },
      "execution_count": null,
      "outputs": []
    },
    {
      "cell_type": "markdown",
      "source": [
        "## 演習問題③\n",
        "\n",
        "継承のセクションで登場した上のプログラムを、ポリモーフィズムを使って改善しましょう！\n",
        "\n",
        "以下の修正を行ってください\n",
        "\n",
        "*   Workerクラスを抽象クラスに変更\n",
        "*   Workerクラスに、新たにdo_workメソッドを追加\n",
        "*   do_workメソッドは、抽象メソッド\n",
        "*   Teacherクラスのteachメソッドと、Programmerクラスのprogrammingメソッドをdo_workメソッドに置き換える\n",
        "*   Workerクラスをスーパークラスにもつクラスのオブジェクトを引数として受け取る、instract関数を定義\n",
        "*   instract関数は渡されたオブジェクトのdo_workメソッドを呼び出す関数\n",
        "\n",
        "instract関数にTeacherクラスとProgrammerクラスのオブジェクトを渡して、実行してみましょう！"
      ],
      "metadata": {
        "id": "JsdEApPv1Hrk"
      }
    },
    {
      "cell_type": "code",
      "source": [
        "from abc import ABC, abstractmethod\n",
        "\n",
        "class Worker(ABC):\n",
        "  def __init__(self, name):\n",
        "    self.name = name\n",
        "\n",
        "  def hello(self):\n",
        "    print(\"私の名前は\" + self.name + \"です\")\n",
        "\n",
        "  @abstractmethod\n",
        "  def do_work(self):\n",
        "    pass\n",
        "\n",
        "class Teacher(Worker):\n",
        "  def do_work(self):\n",
        "    print(self.name + \"は、教えた\")\n",
        "\n",
        "class Programmer(Worker):\n",
        "  def do_work(self):\n",
        "    print(self.name + \"は、プログラミングした\")\n",
        "\n",
        "def instract(worker):\n",
        "  worker.do_work()"
      ],
      "metadata": {
        "id": "Xnl7pTmO1Ljw"
      },
      "execution_count": null,
      "outputs": []
    },
    {
      "cell_type": "code",
      "source": [
        "teacher = Teacher(\"金八\")"
      ],
      "metadata": {
        "id": "8bx8Zl_H4uhC"
      },
      "execution_count": null,
      "outputs": []
    },
    {
      "cell_type": "code",
      "source": [
        "teacher.do_work()  #抽象メソッドを使用"
      ],
      "metadata": {
        "colab": {
          "base_uri": "https://localhost:8080/"
        },
        "id": "K_ylXG2C46jt",
        "outputId": "73f5151a-17b1-43a2-e9a9-8ede5389ae50"
      },
      "execution_count": null,
      "outputs": [
        {
          "output_type": "stream",
          "name": "stdout",
          "text": [
            "金八は、教えた\n"
          ]
        }
      ]
    },
    {
      "cell_type": "code",
      "source": [
        "teacher.hello() #親クラスのメソッド"
      ],
      "metadata": {
        "colab": {
          "base_uri": "https://localhost:8080/"
        },
        "id": "XtBctAex49F4",
        "outputId": "e86fb636-df5e-4a0c-a483-bf2c0098bfdb"
      },
      "execution_count": null,
      "outputs": [
        {
          "output_type": "stream",
          "name": "stdout",
          "text": [
            "私の名前は金八です\n"
          ]
        }
      ]
    },
    {
      "cell_type": "code",
      "source": [
        "teacher.name"
      ],
      "metadata": {
        "colab": {
          "base_uri": "https://localhost:8080/",
          "height": 36
        },
        "id": "bmczC7WR5BZJ",
        "outputId": "61906371-b36f-4df5-fc12-008cd9d5f25d"
      },
      "execution_count": null,
      "outputs": [
        {
          "output_type": "execute_result",
          "data": {
            "text/plain": [
              "'金八'"
            ],
            "application/vnd.google.colaboratory.intrinsic+json": {
              "type": "string"
            }
          },
          "metadata": {},
          "execution_count": 29
        }
      ]
    },
    {
      "cell_type": "code",
      "source": [
        "instract(teacher)"
      ],
      "metadata": {
        "colab": {
          "base_uri": "https://localhost:8080/"
        },
        "id": "P0ubJlvc5Qkt",
        "outputId": "29f9acb4-a6e5-4943-b3c5-2fcbdfae1b4b"
      },
      "execution_count": null,
      "outputs": [
        {
          "output_type": "stream",
          "name": "stdout",
          "text": [
            "金八は、教えた\n"
          ]
        }
      ]
    },
    {
      "cell_type": "code",
      "source": [
        "programmer = Programmer(\"松本\")"
      ],
      "metadata": {
        "id": "G1vT8-DI5bPN"
      },
      "execution_count": null,
      "outputs": []
    },
    {
      "cell_type": "code",
      "source": [
        "programmer.do_work()"
      ],
      "metadata": {
        "colab": {
          "base_uri": "https://localhost:8080/"
        },
        "id": "VPFYzLDD5nVV",
        "outputId": "7fe9102d-3f1c-4f3b-d64c-6d4986c3668c"
      },
      "execution_count": null,
      "outputs": [
        {
          "output_type": "stream",
          "name": "stdout",
          "text": [
            "松本は、プログラミングした\n"
          ]
        }
      ]
    },
    {
      "cell_type": "code",
      "source": [
        "instract(programmer)"
      ],
      "metadata": {
        "colab": {
          "base_uri": "https://localhost:8080/"
        },
        "id": "8tA94RHq5px4",
        "outputId": "22d4bd56-7a0a-47e1-ce11-3dc1d54aa671"
      },
      "execution_count": null,
      "outputs": [
        {
          "output_type": "stream",
          "name": "stdout",
          "text": [
            "松本は、プログラミングした\n"
          ]
        }
      ]
    },
    {
      "cell_type": "markdown",
      "source": [
        "## 特殊メソッド"
      ],
      "metadata": {
        "id": "ESc13Crg54K1"
      }
    },
    {
      "cell_type": "code",
      "source": [
        "# 特殊メソッドとは？ → objectクラスが持つメソッド、__で囲われている\n",
        "# 特殊メソッドをオーバーライドすることで、自作クラスに対しても演算子や組み込み関数を使えるようにすることができる\n",
        "# すべてのクラスは「objectクラス」という、Pythonに予め用意されているクラスを継承している"
      ],
      "metadata": {
        "id": "H2yjfpEq53sd"
      },
      "execution_count": null,
      "outputs": []
    },
    {
      "cell_type": "code",
      "source": [
        "# objectクラスには、「__add__」,「__len__」、「__init__」などのメソッドを持っており、\n",
        "# これらのアンダーバー2つに囲まれたメソッドを特殊メソッドという\n",
        "# コンストラクタの__init__は、object食らうのメソッドをオーバーライドしている"
      ],
      "metadata": {
        "id": "5pnY-5W2DHXk"
      },
      "execution_count": null,
      "outputs": []
    },
    {
      "cell_type": "code",
      "source": [
        "#イメージ\n",
        "class object:\n",
        "  def __init__(self,   ):\n",
        "    処理\n",
        "  def __add__(self,   ):\n",
        "    処理\n",
        "  def __len__(self,   ):\n",
        "    処理"
      ],
      "metadata": {
        "id": "19SvsQPfESU_"
      },
      "execution_count": null,
      "outputs": []
    },
    {
      "cell_type": "code",
      "source": [
        "# これらの特殊メソッドは、組込関数や演算子と対応している\n",
        "# __add__ ： +\n",
        "# __len__ ： len関数\n",
        "# __str__ ： str関数"
      ],
      "metadata": {
        "id": "nBOC2lOdEfNM"
      },
      "execution_count": null,
      "outputs": []
    },
    {
      "cell_type": "code",
      "source": [
        "# __add__ は下記でと同値, intクラスの__add__メソッドを呼び出している\n",
        "print(1 + 1)\n",
        "print((1).__add__ (1))"
      ],
      "metadata": {
        "colab": {
          "base_uri": "https://localhost:8080/"
        },
        "id": "5F8aeGPhFCT4",
        "outputId": "fd9415d4-c5c1-4c67-a4df-3788734f5d2d"
      },
      "execution_count": null,
      "outputs": [
        {
          "output_type": "stream",
          "name": "stdout",
          "text": [
            "2\n",
            "2\n"
          ]
        }
      ]
    },
    {
      "cell_type": "code",
      "source": [
        "# len関数を用いて、listクラスの__len__メソッドを呼び出している\n",
        "print(len([1,2,3]))\n",
        "print([1,2,3].__len__())"
      ],
      "metadata": {
        "colab": {
          "base_uri": "https://localhost:8080/"
        },
        "id": "AV49OnI6FOBs",
        "outputId": "f1c89bee-ad7d-4a85-a2c8-034c96c21f18"
      },
      "execution_count": null,
      "outputs": [
        {
          "output_type": "stream",
          "name": "stdout",
          "text": [
            "3\n",
            "3\n"
          ]
        }
      ]
    },
    {
      "cell_type": "code",
      "source": [
        "# 以下のCoordinateクラスは(2,3)や(4,-1)のような、(x,y)座標を表現するクラス\n",
        "# このクラスに以下のような計算をできるようにするためのメソッドを用意する"
      ],
      "metadata": {
        "id": "CgxkC_IiFvSY"
      },
      "execution_count": null,
      "outputs": []
    },
    {
      "cell_type": "code",
      "source": [
        "class Coordinate:\n",
        "  def __init__(self, x, y):\n",
        "    self.x = x\n",
        "    self.y = y\n",
        "\n",
        "  def plus(self, c):\n",
        "    return Coordinate(self.x + c.x, self.y + c.y)\n",
        "\n",
        "vector1 = Coordinate(2, 3)\n",
        "vector2 = Coordinate(4, -1)\n",
        "vector3 = vector1.plus(vector2)"
      ],
      "metadata": {
        "id": "B93P4ZwMHB7e"
      },
      "execution_count": null,
      "outputs": []
    },
    {
      "cell_type": "code",
      "source": [
        "print(vector3)"
      ],
      "metadata": {
        "colab": {
          "base_uri": "https://localhost:8080/"
        },
        "id": "l7kbuyqAIT0s",
        "outputId": "86e091ea-5fa5-4bbf-9b89-d67390bfcd48"
      },
      "execution_count": null,
      "outputs": [
        {
          "output_type": "stream",
          "name": "stdout",
          "text": [
            "<__main__.Coordinate object at 0x78e54ff3f280>\n"
          ]
        }
      ]
    },
    {
      "cell_type": "code",
      "source": [
        "# 下記のように演算子で書くとerrorになる\n",
        "vector3 = vector1 + vector2"
      ],
      "metadata": {
        "colab": {
          "base_uri": "https://localhost:8080/",
          "height": 203
        },
        "id": "wRpalAPFIlia",
        "outputId": "e0d72bad-4ad5-405d-abcb-47b5dd0b18a4"
      },
      "execution_count": null,
      "outputs": [
        {
          "output_type": "error",
          "ename": "TypeError",
          "evalue": "ignored",
          "traceback": [
            "\u001b[0;31m---------------------------------------------------------------------------\u001b[0m",
            "\u001b[0;31mTypeError\u001b[0m                                 Traceback (most recent call last)",
            "\u001b[0;32m<ipython-input-49-9ff642a2697b>\u001b[0m in \u001b[0;36m<cell line: 2>\u001b[0;34m()\u001b[0m\n\u001b[1;32m      1\u001b[0m \u001b[0;31m#演算子や組み込み関数は、Pythonに備わっているクラスに対しては操作できるが\u001b[0m\u001b[0;34m\u001b[0m\u001b[0;34m\u001b[0m\u001b[0m\n\u001b[0;32m----> 2\u001b[0;31m \u001b[0mvector3\u001b[0m \u001b[0;34m=\u001b[0m \u001b[0mvector1\u001b[0m \u001b[0;34m+\u001b[0m \u001b[0mvector2\u001b[0m\u001b[0;34m\u001b[0m\u001b[0;34m\u001b[0m\u001b[0m\n\u001b[0m",
            "\u001b[0;31mTypeError\u001b[0m: unsupported operand type(s) for +: 'Coordinate' and 'Coordinate'"
          ]
        }
      ]
    },
    {
      "cell_type": "code",
      "source": [
        "# 演算子や組み込み関数は、Pythonに備わっているクラスに対しては操作できるが、開発者が自作したクラスには対応していない。そのため、上記エラーが発生。\n",
        "# 今、Coordinateクラスは我々が自作したクラスであるので、+演算子はこのクラスには対応していない\n",
        "# そのため、Coordinateクラスに対して、「+演算子」を使えるようにするために、\n",
        "# objectクラスの__add__メソッドを以下のようにオーバーライドする"
      ],
      "metadata": {
        "id": "CBC7qk4kI6kQ"
      },
      "execution_count": null,
      "outputs": []
    },
    {
      "cell_type": "code",
      "source": [
        "class Coordinate:\n",
        "  def __init__(self, x, y):\n",
        "    self.x = x\n",
        "    self.y = y\n",
        "\n",
        "  #特殊メソッドをオーバーライド\n",
        "  def __add__(self, c):\n",
        "    return Coordinate(self.x + c.x, self.y + c.y)\n",
        "\n",
        "vector1 = Coordinate(2, 3)\n",
        "vector2 = Coordinate(4, -1)\n",
        "vector3 = vector1 + vector2"
      ],
      "metadata": {
        "id": "wL73b66zLw70"
      },
      "execution_count": null,
      "outputs": []
    },
    {
      "cell_type": "code",
      "source": [
        "vector3.x, vector3.y"
      ],
      "metadata": {
        "colab": {
          "base_uri": "https://localhost:8080/"
        },
        "id": "POilQ2pvMKFs",
        "outputId": "6d2a6780-d414-4594-d98b-de5328ce2f00"
      },
      "execution_count": null,
      "outputs": [
        {
          "output_type": "execute_result",
          "data": {
            "text/plain": [
              "(6, 2)"
            ]
          },
          "metadata": {},
          "execution_count": 54
        }
      ]
    },
    {
      "cell_type": "code",
      "source": [
        "# さらに、vector1をprint関数で出力したら(2,3)と表示できるようにしたいので、\n",
        "# 以下のように__str__メソッドをオーバーライドする"
      ],
      "metadata": {
        "id": "fzgcpTcwMQU2"
      },
      "execution_count": null,
      "outputs": []
    },
    {
      "cell_type": "code",
      "source": [
        "class Coordinate:\n",
        "  def __init__(self, x, y):\n",
        "    self.x = x\n",
        "    self.y = y\n",
        "\n",
        "  #特殊メソッドをオーバーライド\n",
        "  def __add__(self, c):\n",
        "    return Coordinate(self.x + c.x, self.y + c.y)\n",
        "\n",
        "  def __str__(self):\n",
        "    return f'({self.x}, {self.y})'\n",
        "\n",
        "vector1 = Coordinate(2, 3)\n",
        "vector2 = Coordinate(4, -1)\n",
        "vector3 = vector1 + vector2"
      ],
      "metadata": {
        "id": "DBKbXkfGNVgw"
      },
      "execution_count": null,
      "outputs": []
    },
    {
      "cell_type": "code",
      "source": [
        "print(vector1)"
      ],
      "metadata": {
        "colab": {
          "base_uri": "https://localhost:8080/"
        },
        "id": "hPBPC_lvOHWV",
        "outputId": "b9e039e0-7141-40c0-a6d7-74d76a1905c6"
      },
      "execution_count": null,
      "outputs": [
        {
          "output_type": "stream",
          "name": "stdout",
          "text": [
            "(2, 3)\n"
          ]
        }
      ]
    },
    {
      "cell_type": "code",
      "source": [
        "print(vector3)"
      ],
      "metadata": {
        "colab": {
          "base_uri": "https://localhost:8080/"
        },
        "id": "WBERvxkDOJs1",
        "outputId": "eb133693-6330-4e2b-c937-27cae4a8ea8e"
      },
      "execution_count": null,
      "outputs": [
        {
          "output_type": "stream",
          "name": "stdout",
          "text": [
            "(6, 2)\n"
          ]
        }
      ]
    },
    {
      "cell_type": "markdown",
      "source": [
        "[特殊メソッドの公式ドキュメント](https://docs.python.org/ja/3/reference/datamodel.html#special-method-names)\n"
      ],
      "metadata": {
        "id": "98CHWYBvOuIf"
      }
    },
    {
      "cell_type": "code",
      "source": [],
      "metadata": {
        "id": "LAvVdBgAOU_2"
      },
      "execution_count": null,
      "outputs": []
    },
    {
      "cell_type": "markdown",
      "source": [
        "# OOPの周辺技術"
      ],
      "metadata": {
        "id": "guk9kH49xeGQ"
      }
    },
    {
      "cell_type": "markdown",
      "source": [
        "## OOPがもたらした再利用技術"
      ],
      "metadata": {
        "id": "bwFvoxwaxnfi"
      }
    },
    {
      "cell_type": "code",
      "source": [
        "# OOPによって「プログラムの再利用」「アイデアの再利用」が可能になった\n",
        "# プログラムの再利用 → モジュール、フレームワーク\n",
        "# アイデアの再利用 → 設計原則とデザインパターン"
      ],
      "metadata": {
        "id": "xC3DV28ixjQw"
      },
      "execution_count": null,
      "outputs": []
    },
    {
      "cell_type": "markdown",
      "source": [
        "## モジュール"
      ],
      "metadata": {
        "id": "CK8vimn37Tsk"
      }
    },
    {
      "cell_type": "code",
      "source": [
        "# モジュール：クラスや関数などを外部から取り込んで再利用できるようにしたもの\n",
        "# 例：openpyxlモジュールはエクセル形式のファイルを扱うのに便利なクラスや関数がまとめられている"
      ],
      "metadata": {
        "id": "LwRjd1khxmpB"
      },
      "execution_count": null,
      "outputs": []
    },
    {
      "cell_type": "code",
      "source": [
        "import xxx           # モジュールの呼び出し\n",
        "wb = xxx.Xxx()  # オブジェクトの生成\n",
        "wb.yyy()    # メソッドの呼び出し\n",
        "wb.zzz      # 属性の呼び出し"
      ],
      "metadata": {
        "id": "fgPMdrEkychf"
      },
      "execution_count": null,
      "outputs": []
    },
    {
      "cell_type": "code",
      "source": [
        "#上記を当たり前のようにpythonで使っているが、本当は下記のようになっている\n",
        "\n",
        "# xxx.py\n",
        "\n",
        "class Xxx:\n",
        "  def __init__(,,,):\n",
        "    self.zzz = zzz\n",
        "  def yyy(,,,):\n",
        "    yyyの処理\n",
        "  def ...."
      ],
      "metadata": {
        "id": "Ht2yZ75YzLyw"
      },
      "execution_count": null,
      "outputs": []
    },
    {
      "cell_type": "markdown",
      "source": [
        "## フレームワーク"
      ],
      "metadata": {
        "id": "BRa5JXqy7W85"
      }
    },
    {
      "cell_type": "code",
      "source": [
        "# フレームワークとは？\n",
        "# よくある処理の流れをひな型として用意しておくことで、開発者はプロジェクト固有の内容を埋めるだけで、開発が可能になるもの\n",
        "# 例：Webアプリケーション：Djangoなど\n",
        "# 例：Webスクレイピング：Scrapyなど\n",
        "# 共通の処理の流れを抽象クラスが持つメソッドで実装（インターフェースに対して実装）しておいて、\n",
        "# プロジェクト固有の内容は、オーバーライドによって開発者が実装する（ひな形を埋める）"
      ],
      "metadata": {
        "id": "Xcuori7C0DLb"
      },
      "execution_count": null,
      "outputs": []
    },
    {
      "cell_type": "code",
      "source": [
        "# フレームワークに備わっているクラス\n",
        "from abc import ABC, abstractmethod\n",
        "\n",
        "class Cooking(ABC):\n",
        "  #料理の共通の処理（買う→切る→加熱する）\n",
        "  def cook(self):\n",
        "    self.buy()\n",
        "    self.cut()\n",
        "    self.heat()\n",
        "\n",
        "  #以下は料理で使う基本的なフレームワーク（買う切る加熱する）は全て抽象メソッドで定義\n",
        "  #実装については開発者が独自で書く必要がある\n",
        "  @abstractmethod\n",
        "  def buy(self):\n",
        "    pass\n",
        "\n",
        "  @abstractmethod\n",
        "  def cut(self):\n",
        "    pass\n",
        "\n",
        "  @abstractmethod\n",
        "  def heat(self):\n",
        "    pass"
      ],
      "metadata": {
        "id": "y5Cnh3tc1KmP"
      },
      "execution_count": null,
      "outputs": []
    },
    {
      "cell_type": "code",
      "source": [
        "# 開発者が実装するクラス\n",
        "class Curry(Cooking):\n",
        "  def __init__(self, material, how_to_cut, heating_method):\n",
        "    self.material = material\n",
        "    self.how_to_cut = how_to_cut\n",
        "    self.heating_method = heating_method\n",
        "\n",
        "  def buy(self):\n",
        "    print(f'{self.material}を買います')\n",
        "\n",
        "  def cut(self):\n",
        "    print(f'{self.material}を{self.how_to_cut}します')\n",
        "\n",
        "  def heat(self):\n",
        "    print(f'{self.material}を{self.heating_method}します')"
      ],
      "metadata": {
        "id": "krbn6FLU2kcj"
      },
      "execution_count": null,
      "outputs": []
    },
    {
      "cell_type": "code",
      "source": [
        "vegetable_curry = Curry(\"野菜\", \"ざく切り\", \"煮込む\")"
      ],
      "metadata": {
        "id": "TBJkYvM72tFK"
      },
      "execution_count": null,
      "outputs": []
    },
    {
      "cell_type": "code",
      "source": [
        "vegetable_curry.buy()"
      ],
      "metadata": {
        "colab": {
          "base_uri": "https://localhost:8080/"
        },
        "id": "ecA9l5505pJv",
        "outputId": "a0ff4451-bb78-4475-a1d4-1090dc7bed12"
      },
      "execution_count": null,
      "outputs": [
        {
          "output_type": "stream",
          "name": "stdout",
          "text": [
            "野菜を買います\n"
          ]
        }
      ]
    },
    {
      "cell_type": "code",
      "source": [
        "vegetable_curry.cut()"
      ],
      "metadata": {
        "colab": {
          "base_uri": "https://localhost:8080/"
        },
        "id": "nrtAU9Ie5r1v",
        "outputId": "79ff5b9a-5298-40be-adbf-865967f0dc58"
      },
      "execution_count": null,
      "outputs": [
        {
          "output_type": "stream",
          "name": "stdout",
          "text": [
            "野菜をざく切りします\n"
          ]
        }
      ]
    },
    {
      "cell_type": "code",
      "source": [
        "vegetable_curry.heat()"
      ],
      "metadata": {
        "colab": {
          "base_uri": "https://localhost:8080/"
        },
        "id": "eoSRb6w96tQa",
        "outputId": "08205f88-d9fa-4541-f9df-3c45a743ab9d"
      },
      "execution_count": null,
      "outputs": [
        {
          "output_type": "stream",
          "name": "stdout",
          "text": [
            "野菜を煮込むします\n"
          ]
        }
      ]
    },
    {
      "cell_type": "code",
      "source": [
        "vegetable_curry.cook()"
      ],
      "metadata": {
        "colab": {
          "base_uri": "https://localhost:8080/"
        },
        "id": "a-uj4Vdb6wNy",
        "outputId": "2dbb98c1-2443-4942-ca36-70f6f5e2c768"
      },
      "execution_count": null,
      "outputs": [
        {
          "output_type": "stream",
          "name": "stdout",
          "text": [
            "野菜を買います\n",
            "野菜をざく切りします\n",
            "野菜を煮込むします\n"
          ]
        }
      ]
    },
    {
      "cell_type": "markdown",
      "source": [
        "## 設計原則とデザインパターン"
      ],
      "metadata": {
        "id": "YZDmVOe47d_o"
      }
    },
    {
      "cell_type": "code",
      "source": [
        "# オブジェクト指向設計原則とは？ → オブジェクト指向を使って保守性と再利用性の高い開発を行うための設計原則\n",
        "#"
      ],
      "metadata": {
        "id": "ptE3OBl-7ZSl"
      },
      "execution_count": null,
      "outputs": []
    },
    {
      "cell_type": "code",
      "source": [
        "#**SOLIDの原則**\n",
        "\n",
        "#*   単一責任の原則（**S**ingle Responsibility Principle）\n",
        "#*   オープン・クローズドの原則（**O**pen-Closed Principle）\n",
        "#*   リスコフの置換原則（**L**iskov Substitution Principle）\n",
        "#*   インタフェース分離の原則（**I**nterface Segregation Principle）\n",
        "#*   依存性逆転の原則（**D**ependency InversionPrinciple）"
      ],
      "metadata": {
        "id": "VkG37xWQ7dU6"
      },
      "execution_count": null,
      "outputs": []
    },
    {
      "cell_type": "code",
      "source": [
        "# デザインパターンとは？ → オブジェクト指向の設計原則を、具体的な23個の実装パターンとしてカタログ化したもの"
      ],
      "metadata": {
        "id": "q2wBrkt68AFo"
      },
      "execution_count": null,
      "outputs": []
    },
    {
      "cell_type": "markdown",
      "source": [
        "# 結局OOPとは何か？"
      ],
      "metadata": {
        "id": "rkiaxBaY8Srw"
      }
    },
    {
      "cell_type": "markdown",
      "source": [
        "## データの抽象化"
      ],
      "metadata": {
        "id": "Wv0z5keMAW2d"
      }
    },
    {
      "cell_type": "code",
      "source": [
        "# オブジェクト指向の価値は「データの抽象化」\n",
        "# データの抽象化とは？ 複雑な詳細を隠ぺいして、分かりやすいインターフェースを提供すること\n",
        "# 抽象化の例；電子レンジは、中の配線などの仕組みが隠蔽されて、ボタンやつまみなどのインターフェースが操作できる"
      ],
      "metadata": {
        "id": "jnq4_iMp8VrP"
      },
      "execution_count": null,
      "outputs": []
    },
    {
      "cell_type": "code",
      "source": [
        "class Coordinate:\n",
        "  def __init__(self, x, y):\n",
        "    self.x = x\n",
        "    self.y = y\n",
        "\n",
        "  #特殊メソッドをオーバーライド\n",
        "  def __add__(self, c):\n",
        "    return Coordinate(self.x + c.x, self.y + c.y)\n",
        "\n",
        "  def __str__(self):\n",
        "    return f'({self.x}, {self.y})'"
      ],
      "metadata": {
        "id": "Rh3w7ydW8-yp"
      },
      "execution_count": null,
      "outputs": []
    },
    {
      "cell_type": "code",
      "source": [
        "# Coordinateクラスの仕様部分にだけ注目しても\n",
        "# Coordinateクラスの具体的な実装は何も見えない\n",
        "\n",
        "vector1 = Coordinate(1,5)\n",
        "vector2 = Coordinate(2,4)\n",
        "vector3 = vector1 + vector2\n",
        "\n",
        "print(vector1)\n",
        "print(vector2)\n",
        "print(vector3)"
      ],
      "metadata": {
        "id": "iOGmiTkO9lLP",
        "colab": {
          "base_uri": "https://localhost:8080/"
        },
        "outputId": "64950d50-54b6-480b-bbd0-9ea289a0f0db"
      },
      "execution_count": null,
      "outputs": [
        {
          "output_type": "stream",
          "name": "stdout",
          "text": [
            "(1, 5)\n",
            "(2, 4)\n",
            "(3, 9)\n"
          ]
        }
      ]
    },
    {
      "cell_type": "code",
      "source": [
        "# Coordinateクラスは下記のインターフェースをも持っている\n",
        "# ・x,yというインスタンス変数を持つ  :__init__のコンストラクタのインスタンス変数\n",
        "# ・f文字列を使っている  :__str__のメソッド\n",
        "# ・特殊メソッド以外のメソッドを持たない  ：__add__, __str__, __init__"
      ],
      "metadata": {
        "id": "mC3gsztQ9x8P"
      },
      "execution_count": null,
      "outputs": []
    },
    {
      "cell_type": "code",
      "source": [],
      "metadata": {
        "id": "fk_ud0Tz_6GV"
      },
      "execution_count": null,
      "outputs": []
    },
    {
      "cell_type": "markdown",
      "source": [
        "## OOPを使わないと発生する問題"
      ],
      "metadata": {
        "id": "-ORGNMe8AZjy"
      }
    },
    {
      "cell_type": "code",
      "source": [
        "# OOPを使わずにCoordinateクラスを表現しようとした場合\n",
        "\n",
        "def v_add(v1, v2):\n",
        "  new_v = []\n",
        "  new_v.append(v1[0] + v2[0])\n",
        "  new_v.append(v1[1] + v2[1])\n",
        "  return new_v\n",
        "\n",
        "def v_print(v):\n",
        "  print(f'({v[0]}, {v[1]})')"
      ],
      "metadata": {
        "id": "MY56RHdjAcdG"
      },
      "execution_count": null,
      "outputs": []
    },
    {
      "cell_type": "code",
      "source": [
        "v1 = [1,5]\n",
        "v2 = [2,4]\n",
        "\n",
        "v3 = v_add(v1, v2)"
      ],
      "metadata": {
        "id": "Grx9OKyJBjLu"
      },
      "execution_count": null,
      "outputs": []
    },
    {
      "cell_type": "code",
      "source": [
        "v_print(v1)\n",
        "v_print(v2)\n",
        "v_print(v3)"
      ],
      "metadata": {
        "colab": {
          "base_uri": "https://localhost:8080/"
        },
        "id": "5DRGozmlBpC8",
        "outputId": "ffcf585e-7300-47dd-d088-e9b3cd8305e3"
      },
      "execution_count": null,
      "outputs": [
        {
          "output_type": "stream",
          "name": "stdout",
          "text": [
            "(1, 5)\n",
            "(2, 4)\n",
            "(3, 9)\n"
          ]
        }
      ]
    },
    {
      "cell_type": "code",
      "source": [
        "# 問題点①：実装が外部に公開されてしまっている\n",
        "#   > 座標の実態がリストであることが公開されてしまっている\n",
        "#     座標の実態がリストであることが公開されてしまっているため、\n",
        "#       ①座標の用途以外でも、座標用のリストが使用される可能性がある\n",
        "#       ②リストが使用されていることを、座標の利用者が知っておく必要がある"
      ],
      "metadata": {
        "id": "RGX5ZSADBuV0"
      },
      "execution_count": null,
      "outputs": []
    },
    {
      "cell_type": "code",
      "source": [
        "# 座標以外の用途で使われてしまう例\n",
        "v1[1] = 4\n",
        "list_foo = v1\n",
        "print(list_foo)"
      ],
      "metadata": {
        "colab": {
          "base_uri": "https://localhost:8080/"
        },
        "id": "tlMLPUS_CnDq",
        "outputId": "2f11b952-461c-41e6-923a-ba9e46f630e6"
      },
      "execution_count": null,
      "outputs": [
        {
          "output_type": "stream",
          "name": "stdout",
          "text": [
            "[1, 4]\n"
          ]
        }
      ]
    },
    {
      "cell_type": "code",
      "source": [
        "print(v1) #予期せぬ変更が行われている"
      ],
      "metadata": {
        "colab": {
          "base_uri": "https://localhost:8080/"
        },
        "id": "ne-mHKAlC7eM",
        "outputId": "a649d15c-5b40-4712-ead8-f635377c07ef"
      },
      "execution_count": null,
      "outputs": [
        {
          "output_type": "stream",
          "name": "stdout",
          "text": [
            "[1, 4]\n"
          ]
        }
      ]
    },
    {
      "cell_type": "code",
      "source": [
        "#タプルと勘違いして、予期せぬバグが発生してしまう可能性がある\n",
        "v4 = (4, 6)\n",
        "v5 = (2, 4)\n",
        "\n",
        "v6 = v_add(v4, v5)\n",
        "v_print(v6)"
      ],
      "metadata": {
        "colab": {
          "base_uri": "https://localhost:8080/"
        },
        "id": "nx5Hdm_3C-N0",
        "outputId": "f298a8f6-09e5-4e87-8851-3da4f1925626"
      },
      "execution_count": null,
      "outputs": [
        {
          "output_type": "stream",
          "name": "stdout",
          "text": [
            "(6, 10)\n"
          ]
        }
      ]
    },
    {
      "cell_type": "code",
      "source": [
        "# 問題点②：データがバラバラに散らばってしまうため\n",
        "# 座標を表現するデータ（v_print）と座標を処理する関数（v_add）がまとまっていないため、\n",
        "# 変更の手間やリスクがおおきくなる\n",
        "\n",
        "# 座標を表現する実装をリストからタプルへ変更したい場合、\n",
        "#   ・関数の修正に加えて、全ての座標のリストを、タプルに変更する必要がある\n",
        "#   ・データと関数（データの処理）がまとまっていないため、理解しづらく、修正箇所も見つけずらい\n"
      ],
      "metadata": {
        "id": "y3JjVTpqDYxs"
      },
      "execution_count": null,
      "outputs": []
    },
    {
      "cell_type": "markdown",
      "source": [
        "## OOPを使った抽象化"
      ],
      "metadata": {
        "id": "yyoVKyc4Fj_Y"
      }
    },
    {
      "cell_type": "code",
      "source": [
        "# データを抽象化することで、データの手続きをまとめることができる"
      ],
      "metadata": {
        "id": "DMjAFMrQFme-"
      },
      "execution_count": null,
      "outputs": []
    },
    {
      "cell_type": "code",
      "source": [
        "# クラスを使うことで、データと手続き（関数）をまとめれば\n",
        "\n",
        "# ・変更箇所が明確になる（座標のことならCoordinateクラス内）\n",
        "# ・座標のデータを扱っていることがクラス内から明確になる"
      ],
      "metadata": {
        "id": "KekwJ_5yFvPH"
      },
      "execution_count": null,
      "outputs": []
    },
    {
      "cell_type": "code",
      "source": [
        "# OOP以前で解決できた問題 → 処理の複雑さを軽減\n",
        "#  ・基本3構造という制約\n",
        "#  ・サブルーチンによる処理の再利用"
      ],
      "metadata": {
        "id": "oB0D9MTiHGDA"
      },
      "execution_count": null,
      "outputs": []
    },
    {
      "cell_type": "code",
      "source": [
        "# OOPが解決した課題 → データの複雑さの軽減\n",
        "# データと手続きをまとめることで、データを抽象化\n",
        "# データが抽象化されたことで、より分かりやすく、より扱いやすくなった"
      ],
      "metadata": {
        "id": "x7Wwla02ILrG"
      },
      "execution_count": null,
      "outputs": []
    },
    {
      "cell_type": "code",
      "source": [],
      "metadata": {
        "id": "ofbR0ycXJBW6"
      },
      "execution_count": null,
      "outputs": []
    },
    {
      "cell_type": "markdown",
      "source": [
        "## OOP学習のつづき\n"
      ],
      "metadata": {
        "id": "9VB7SreqJRPY"
      }
    },
    {
      "cell_type": "code",
      "source": [
        "# ・設計原則とデザインパターン\n",
        "# ・Python以外の言語を学ぶ > Javaを学ぶのが良い"
      ],
      "metadata": {
        "id": "bpgXRDA6JYId"
      },
      "execution_count": null,
      "outputs": []
    },
    {
      "cell_type": "markdown",
      "source": [
        "質問をする前に必ず読んでください\n",
        "本コースで質問をする前には、必ず以下の記事を読むようにしてください。\n",
        "\n",
        "「安易な質問は、むしろ害である」という話について書いています。\n",
        "\n",
        "https://hiramatsuu.com/archives/1274"
      ],
      "metadata": {
        "id": "RtMyUDqEL8y5"
      }
    },
    {
      "cell_type": "code",
      "source": [],
      "metadata": {
        "id": "qSA94PTcL9T2"
      },
      "execution_count": null,
      "outputs": []
    }
  ]
}