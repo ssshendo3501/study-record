{
 "cells": [
  {
   "cell_type": "markdown",
   "id": "5bde7c23-f33f-4347-ac4a-d970a6ffe888",
   "metadata": {},
   "source": [
    "# Section8 汎化性能と過学習"
   ]
  },
  {
   "cell_type": "markdown",
   "id": "a73e2f5d-9359-43f2-9e15-b4d148518250",
   "metadata": {},
   "source": [
    "## hold-out"
   ]
  },
  {
   "cell_type": "markdown",
   "id": "293dbfec-01c0-409c-8813-d3c8267a73d9",
   "metadata": {},
   "source": [
    "hold-out\n",
    "- sklearn.model_selection.train_test_split\n",
    "    - train_test_split(X, y)\n",
    "    - X,yに引数にして渡すと、それぞれｒの学習データとテストデータを返す\n",
    "    - test_size引数にテストデータの割合を指定する（デフォルトでは0.25）\n",
    "    - X_train, X_test, y_train, y_test =  train_test_split(X, y)のように受け取るのが通例\n",
    "    - random_state=0を引数に渡すことで、サンプリングが固定され毎回同じ結果が得られる\n",
    "\n",
    "MSE\n",
    "- sklearn.metrics.mean_squared_error\n",
    "    - mean_squared_error(y_test, y_pred)のように正解値と予測値のリストを返す"
   ]
  },
  {
   "cell_type": "code",
   "execution_count": 1,
   "id": "e53d6425-24fb-4889-ad77-3d7f4ef24037",
   "metadata": {},
   "outputs": [],
   "source": [
    "import numpy as np\n",
    "import pandas as pd\n",
    "import seaborn as sns\n",
    "from sklearn.model_selection import train_test_split\n",
    "\n",
    "df = sns.load_dataset('tips')\n",
    "\n",
    "y_col = 'tip'\n",
    "X = df.drop(columns=[y_col])\n",
    "\n",
    "# 標準化のために数値のカラムのリストを取得\n",
    "numeric_cols = X.select_dtypes(include=np.number).columns.to_list()\n",
    "\n",
    "X = pd.get_dummies(X, drop_first=True)\n",
    "y = df[y_col]\n",
    "\n",
    "# サンプルデータを学習データ:テストデータ=7:3で分割する\n",
    "X_train, X_test, y_train, y_test =  train_test_split(X, y, test_size=0.3, random_state=0)"
   ]
  },
  {
   "cell_type": "code",
   "execution_count": 2,
   "id": "f0f397f1-28b5-421a-805f-90a431aec114",
   "metadata": {},
   "outputs": [],
   "source": [
    "# 標準化\n",
    "# 標準化はサンプルデータを学習とテストに分割した時に実施する\n",
    "from sklearn.preprocessing import StandardScaler\n",
    "scaler = StandardScaler()\n",
    "X_train_scaled = X_train.copy()\n",
    "X_test_scaled = X_test.copy()\n",
    "# 数値カラムのみ標準化\n",
    "X_train_scaled[numeric_cols] = scaler.fit_transform(X_train[numeric_cols])\n",
    "X_test_scaled[numeric_cols] = scaler.transform(X_test[numeric_cols])"
   ]
  },
  {
   "cell_type": "code",
   "execution_count": 3,
   "id": "cead9f54-78ff-41e5-a49c-83e9f8cc6bda",
   "metadata": {},
   "outputs": [],
   "source": [
    "# 線形回帰モデル学習\n",
    "from sklearn.linear_model import LinearRegression\n",
    "\n",
    "model = LinearRegression()\n",
    "model.fit(X_train_scaled, y_train)\n",
    "y_pred = model.predict(X_test_scaled)"
   ]
  },
  {
   "cell_type": "code",
   "execution_count": 4,
   "id": "a636956c-aae1-4354-b72a-509fc43e4220",
   "metadata": {},
   "outputs": [
    {
     "data": {
      "text/plain": [
       "0.9550808988617148"
      ]
     },
     "execution_count": 4,
     "metadata": {},
     "output_type": "execute_result"
    }
   ],
   "source": [
    "# テストデータの精度（MSE）\n",
    "from sklearn.metrics import mean_squared_error\n",
    "\n",
    "mean_squared_error(y_test, y_pred)\n",
    "# np.mean(np.square(y_test - y_pred)) と同義"
   ]
  },
  {
   "cell_type": "markdown",
   "id": "d84d0cad-d4ab-4b5b-ad3d-2d2f208f0d1c",
   "metadata": {},
   "source": [
    "## LOOCV"
   ]
  },
  {
   "cell_type": "markdown",
   "id": "254a5540-34e3-418e-98a6-43c886c7e543",
   "metadata": {},
   "source": [
    "- sklearn.model_selection.LeaveOneOut\n",
    "    1. インスタンス生成\n",
    "    2. split(X)メソッドでイテレーション\n",
    "        - train_indexとtest_indexを生成"
   ]
  },
  {
   "cell_type": "code",
   "execution_count": 5,
   "id": "620bf63c-9964-465a-987e-ad5b5b8acf7f",
   "metadata": {},
   "outputs": [],
   "source": [
    "X = df['total_bill'].values.reshape(-1,1)\n",
    "y = df['tip']"
   ]
  },
  {
   "cell_type": "code",
   "execution_count": 6,
   "id": "7dbdcf14-449b-4030-8fc6-cf21ae75385c",
   "metadata": {},
   "outputs": [],
   "source": [
    "from sklearn.linear_model import LinearRegression\n",
    "from sklearn.model_selection import LeaveOneOut\n",
    "from sklearn.metrics import mean_squared_error\n",
    "\n",
    "loo = LeaveOneOut()   "
   ]
  },
  {
   "cell_type": "code",
   "execution_count": 7,
   "id": "7a752c6c-6208-499f-ad58-265b63d551a7",
   "metadata": {
    "tags": []
   },
   "outputs": [],
   "source": [
    "model = LinearRegression()\n",
    "mse_list = []\n",
    "for train_index, test_index in loo.split(X):\n",
    "    X_train, X_test = X[train_index], X[test_index]\n",
    "    y_train, y_test = y[train_index], y[test_index]\n",
    "    \n",
    "    # モデル学習\n",
    "    model.fit(X_train, y_train)\n",
    "    # テストデータの予測\n",
    "    y_pred = model.predict(X_test)\n",
    "    # MSE\n",
    "    mse = mean_squared_error(y_test, y_pred)\n",
    "    mse_list.append(mse) "
   ]
  },
  {
   "cell_type": "code",
   "execution_count": 8,
   "id": "fbf5b739-913e-4c56-8898-2647687eabdb",
   "metadata": {},
   "outputs": [
    {
     "name": "stdout",
     "output_type": "stream",
     "text": [
      "MSE(LOOCV): 1.0675673489857436\n",
      "std: 2.099794455177631\n"
     ]
    }
   ],
   "source": [
    "print(f\"MSE(LOOCV): {np.mean(mse_list)}\")\n",
    "print(f\"std: {np.std(mse_list)}\")"
   ]
  },
  {
   "cell_type": "code",
   "execution_count": null,
   "id": "b84a1887-9de5-4b40-b900-56c6420f7c57",
   "metadata": {},
   "outputs": [],
   "source": []
  },
  {
   "cell_type": "markdown",
   "id": "d73d3990-1b5f-4f20-ae01-c3f8f14bef99",
   "metadata": {},
   "source": [
    "## Cross-Validation"
   ]
  },
  {
   "cell_type": "markdown",
   "id": "b6d60d9c-1127-4539-b2d3-a71edc140e2d",
   "metadata": {},
   "source": [
    "Cross Validation\n",
    "- sklearn.model_selection.cross_val_score\n",
    "    - cross_val_score(model, X, y, cv=cv)で一発で交差検証(CV)をしてくれる\n",
    "    - cv引数にはLeaveOneOut()などのcvオブジェクトを渡す\n",
    "    - n_jobsには使用するCPUコア数を指定する\n",
    "    - scoringには評価指標を指定"
   ]
  },
  {
   "cell_type": "code",
   "execution_count": 9,
   "id": "7236b8c1-fc1f-4bdd-be29-4671e45a429e",
   "metadata": {},
   "outputs": [
    {
     "name": "stdout",
     "output_type": "stream",
     "text": [
      "MSE(LOOCV): -1.0675673489857436\n",
      "std: 2.099794455177631\n"
     ]
    }
   ],
   "source": [
    "from sklearn.model_selection import cross_val_score\n",
    "cv = LeaveOneOut()\n",
    "scores = cross_val_score(model, X, y, cv=cv, scoring='neg_mean_squared_error')\n",
    "print(f\"MSE(LOOCV): {np.mean(scores)}\")\n",
    "print(f\"std: {np.std(scores)}\")"
   ]
  },
  {
   "cell_type": "markdown",
   "id": "39d9e0db-e5df-42c1-9f2e-8ff1f2143455",
   "metadata": {},
   "source": [
    "## k-Fold"
   ]
  },
  {
   "cell_type": "markdown",
   "id": "9e013651-0cf4-4928-aff0-443a968e3b63",
   "metadata": {},
   "source": [
    "k-fold\n",
    "- sklearn.model_selection.KFold\n",
    "    1. KFold()インスタンス生成\n",
    "        - n_splits引数にｋを指定（デフォルトはk=5）\n",
    "        - shuffle引数にTrueを指定すると事前にシャッフルする（デフォルトはFalse)\n",
    "    2. .split(X)メソッドでイテレーション\n",
    "        - train_index, test_indexを生成\n",
    "- cross_val_score()を使って一発でMSEなどの精度算出を可能\n",
    "    - cross_val_scoreを使うとモデルとX,yを指定すると一気に答えが出てしまうので、標準化ができなくなってしまう\n",
    "    - そういう時はPipelineを使うと良い\n",
    "\n",
    "Repeated k-Fold CV\n",
    "- sklearn.model_selection.RepeatedKFold\n",
    "    - k-Fold CVを複数回実施\n",
    "    - n_repeats引数に回数を指定する\n",
    "    - 他の使い方はKFoldクラスと同様\n"
   ]
  },
  {
   "cell_type": "code",
   "execution_count": 10,
   "id": "24d2be45-1f1c-4ffc-9ac3-4cc1fdff63b8",
   "metadata": {},
   "outputs": [],
   "source": [
    "from sklearn.model_selection import KFold\n",
    "\n",
    "k = 5\n",
    "cv = KFold(n_splits=k, shuffle=True, random_state=0)\n",
    "model = LinearRegression()\n",
    "mse_list = []\n",
    "\n",
    "for train_index, test_index in cv.split(X):\n",
    "    X_train, X_test = X[train_index], X[test_index]\n",
    "    y_train, y_test = y[train_index], y[test_index]   \n",
    "    \n",
    "    # 標準化\n",
    "    \n",
    "    # モデル学習\n",
    "    model.fit(X_train, y_train)\n",
    "    # テストデータ予測\n",
    "    y_pred = model.predict(X_test)\n",
    "    # MSE\n",
    "    mse = mean_squared_error(y_test, y_pred)\n",
    "    mse_list.append(mse)"
   ]
  },
  {
   "cell_type": "code",
   "execution_count": 11,
   "id": "996c32d3-117b-4000-9514-beb779466a44",
   "metadata": {},
   "outputs": [
    {
     "name": "stdout",
     "output_type": "stream",
     "text": [
      "[0.8213090642766288, 1.0745842125927971, 1.0880123892600384, 1.3323867714930204, 1.084763004349474]\n"
     ]
    }
   ],
   "source": [
    "print(mse_list)"
   ]
  },
  {
   "cell_type": "code",
   "execution_count": 12,
   "id": "0edb97ca-3c0e-4cff-8d57-470d7817508c",
   "metadata": {},
   "outputs": [
    {
     "name": "stdout",
     "output_type": "stream",
     "text": [
      "MSE(KFoldCV): 1.0802110883943918\n",
      "std: 0.16170100507039514\n"
     ]
    }
   ],
   "source": [
    "print(f\"MSE(KFoldCV): {np.mean(mse_list)}\")\n",
    "print(f\"std: {np.std(mse_list)}\")"
   ]
  },
  {
   "cell_type": "code",
   "execution_count": 13,
   "id": "4b3623be-46d1-4f6c-9d91-fe7a6f06d6ff",
   "metadata": {},
   "outputs": [],
   "source": [
    "scores = cross_val_score(model, X, y, cv=cv, scoring='neg_mean_squared_error')"
   ]
  },
  {
   "cell_type": "code",
   "execution_count": 14,
   "id": "dcd7cbc0-8ef4-43a6-a73f-dfd6d599ca97",
   "metadata": {},
   "outputs": [
    {
     "data": {
      "text/plain": [
       "array([-0.82130906, -1.07458421, -1.08801239, -1.33238677, -1.084763  ])"
      ]
     },
     "execution_count": 14,
     "metadata": {},
     "output_type": "execute_result"
    }
   ],
   "source": [
    "scores"
   ]
  },
  {
   "cell_type": "code",
   "execution_count": null,
   "id": "9d254622-d275-4976-88b0-30bc3f44c8b4",
   "metadata": {},
   "outputs": [],
   "source": []
  },
  {
   "cell_type": "code",
   "execution_count": 15,
   "id": "bfefbdd9-0b8b-4e04-b14a-c441aae9ad53",
   "metadata": {},
   "outputs": [],
   "source": [
    "from sklearn.model_selection import KFold, RepeatedKFold\n",
    "\n",
    "k = 5\n",
    "n_repeats = 3\n",
    "# cv = KFold(n_splits=k, shuffle=True, random_state=0)\n",
    "cv = RepeatedKFold(n_splits=k, n_repeats=n_repeats, random_state=0)\n",
    "mse_list = []\n",
    "\n",
    "for train_index, test_index in cv.split(X):\n",
    "    X_train, X_test = X[train_index], X[test_index]\n",
    "    y_train, y_test = y[train_index], y[test_index]\n",
    "    \n",
    "    # 標準化\n",
    "    \n",
    "    # モデル学習\n",
    "    model.fit(X_train, y_train)\n",
    "    # テストデータ予測\n",
    "    y_pred = model.predict(X_test)\n",
    "    # MSE\n",
    "    mse = mean_squared_error(y_test, y_pred)\n",
    "    mse_list.append(mse)"
   ]
  },
  {
   "cell_type": "code",
   "execution_count": 16,
   "id": "e05f9803-230f-44e1-ad48-ce96df389798",
   "metadata": {},
   "outputs": [
    {
     "name": "stdout",
     "output_type": "stream",
     "text": [
      "MSE(KFoldCV): 1.0746387233165984\n",
      "std: 0.26517178540898434\n"
     ]
    }
   ],
   "source": [
    "print(f\"MSE(KFoldCV): {np.mean(mse_list)}\")\n",
    "print(f\"std: {np.std(mse_list)}\")"
   ]
  },
  {
   "cell_type": "code",
   "execution_count": 17,
   "id": "437be319-b88f-42dd-ae47-0a8f6d64f058",
   "metadata": {},
   "outputs": [
    {
     "data": {
      "text/plain": [
       "[0.8213090642766288,\n",
       " 1.0745842125927971,\n",
       " 1.0880123892600384,\n",
       " 1.3323867714930204,\n",
       " 1.084763004349474,\n",
       " 1.1587839131131425,\n",
       " 1.6042084002514578,\n",
       " 1.0307086207441927,\n",
       " 0.7120290668798744,\n",
       " 0.8472985410140899,\n",
       " 0.8856103319481907,\n",
       " 1.5248521639391936,\n",
       " 0.6332659028150582,\n",
       " 1.200354200262607,\n",
       " 1.121414266809207]"
      ]
     },
     "execution_count": 17,
     "metadata": {},
     "output_type": "execute_result"
    }
   ],
   "source": [
    "mse_list"
   ]
  },
  {
   "cell_type": "code",
   "execution_count": 18,
   "id": "629e49f8-c96b-463a-b815-f082c36c7402",
   "metadata": {},
   "outputs": [
    {
     "data": {
      "text/plain": [
       "array([-0.82130906, -1.07458421, -1.08801239, -1.33238677, -1.084763  ,\n",
       "       -1.15878391, -1.6042084 , -1.03070862, -0.71202907, -0.84729854,\n",
       "       -0.88561033, -1.52485216, -0.6332659 , -1.2003542 , -1.12141427])"
      ]
     },
     "execution_count": 18,
     "metadata": {},
     "output_type": "execute_result"
    }
   ],
   "source": [
    "scores = cross_val_score(model, X, y, cv=cv, scoring='neg_mean_squared_error')\n",
    "scores"
   ]
  },
  {
   "cell_type": "markdown",
   "id": "e5f28d1b-951e-4bf7-8dea-0f2af6f5b6f1",
   "metadata": {},
   "source": [
    "## Pipeline"
   ]
  },
  {
   "cell_type": "markdown",
   "id": "eab65628-1771-46b7-afb5-05c8cd76e8d4",
   "metadata": {},
   "source": [
    "### Pipeline + KFold"
   ]
  },
  {
   "cell_type": "code",
   "execution_count": 19,
   "id": "e1f690b6-4030-4ba7-b3c6-5d28ac7d7d64",
   "metadata": {},
   "outputs": [],
   "source": [
    "from sklearn.pipeline import Pipeline\n",
    "\n",
    "pipeline = Pipeline(steps=[('scaler', StandardScaler()), ('model', LinearRegression())])\n",
    "\n",
    "cv = KFold(n_splits=5, shuffle=True, random_state=0)\n",
    "scores = cross_val_score(pipeline, X, y , scoring='neg_mean_squared_error', cv=cv)"
   ]
  },
  {
   "cell_type": "code",
   "execution_count": 20,
   "id": "f6d36180-20d4-4f84-8933-271c9861bb88",
   "metadata": {},
   "outputs": [
    {
     "data": {
      "text/plain": [
       "Pipeline(steps=[('scaler', StandardScaler()), ('model', LinearRegression())])"
      ]
     },
     "execution_count": 20,
     "metadata": {},
     "output_type": "execute_result"
    }
   ],
   "source": [
    "pipeline"
   ]
  },
  {
   "cell_type": "code",
   "execution_count": 21,
   "id": "c8d3dbdf-7b09-427e-abd6-fab2c320c9ee",
   "metadata": {},
   "outputs": [
    {
     "data": {
      "text/plain": [
       "array([-0.82130906, -1.07458421, -1.08801239, -1.33238677, -1.084763  ])"
      ]
     },
     "execution_count": 21,
     "metadata": {},
     "output_type": "execute_result"
    }
   ],
   "source": [
    "scores"
   ]
  },
  {
   "cell_type": "markdown",
   "id": "fa5dea3f-f31f-46f7-972a-77259f06f828",
   "metadata": {},
   "source": [
    "### Pipelineなし"
   ]
  },
  {
   "cell_type": "code",
   "execution_count": 22,
   "id": "2989f8c0-1914-4764-8d68-7fc42cb9dd7a",
   "metadata": {
    "tags": []
   },
   "outputs": [],
   "source": [
    "## Pipelinenasiなし\n",
    "# 標準化　＋　線形回帰\n",
    "X_train, X_test, y_train, y_test =  train_test_split(X, y, test_size=0.3, random_state=0)\n",
    "model = LinearRegression()\n",
    "scaler = StandardScaler()\n",
    "X_train_scaled = scaler.fit_transform(X_train)\n",
    "model.fit(X_train_scaled, y_train)\n",
    "y_pred = model.predict(X_test)"
   ]
  },
  {
   "cell_type": "code",
   "execution_count": 23,
   "id": "367a5329-14fe-46e9-9ac3-747aceabe090",
   "metadata": {},
   "outputs": [
    {
     "data": {
      "text/plain": [
       "array([19.35120139, 20.0033239 , 21.12124822,  9.71842019, 18.12148464,\n",
       "        8.3210148 , 19.65863057, 24.69860603, 19.8728994 , 35.24435875,\n",
       "       26.51523305, 26.45002079, 16.07195673, 15.07514088, 15.46641439,\n",
       "       31.28504346, 10.74318415, 16.00674447, 20.45980967, 24.48433721,\n",
       "       30.96829824, 22.45344136, 17.86995167, 16.97561221, 15.55025871,\n",
       "       18.24259311, 14.29259386, 30.7260813 , 26.52454908, 17.65568284,\n",
       "       16.6868151 , 14.59070701, 17.32962158, 12.82997621, 20.0033239 ,\n",
       "       15.43846628, 18.73634301, 12.58775927, 47.98869595, 17.8513196 ,\n",
       "       10.95745298, 14.54412683, 17.58115455, 30.77266148, 14.85155601,\n",
       "       18.77360716, 19.95674372, 23.06829974, 18.86676752, 28.0057988 ,\n",
       "       33.40909966, 19.63068247, 22.05285182, 47.83963938, 11.90768865,\n",
       "       14.17148539, 30.84718977, 22.23917254, 16.24896141, 14.75839565,\n",
       "       28.37844024, 17.69294698, 22.67702623, 26.25438404, 31.04282653,\n",
       "       17.43209798, 18.30780536, 33.5488402 , 12.58775927, 29.95285032,\n",
       "       17.29235744, 12.75544792, 25.87242656, 16.29554159])"
      ]
     },
     "execution_count": 23,
     "metadata": {},
     "output_type": "execute_result"
    }
   ],
   "source": [
    "y_pred"
   ]
  },
  {
   "cell_type": "code",
   "execution_count": 24,
   "id": "f3a003d8-82bc-4441-856c-5dfde220abc9",
   "metadata": {},
   "outputs": [],
   "source": [
    "## Pipelineあり\n",
    "X_train, X_test, y_train, y_test =  train_test_split(X, y, test_size=0.3, random_state=0)\n",
    "pipeline = Pipeline(steps=[('scaler', StandardScaler()), ('model', LinearRegression())])\n",
    "pipeline.fit(X_train, y_train)\n",
    "y_pred = model.predict(X_test)"
   ]
  },
  {
   "cell_type": "code",
   "execution_count": 25,
   "id": "dcb3ee57-a769-456a-a04c-d16c60a51d98",
   "metadata": {},
   "outputs": [
    {
     "data": {
      "text/plain": [
       "array([19.35120139, 20.0033239 , 21.12124822,  9.71842019, 18.12148464,\n",
       "        8.3210148 , 19.65863057, 24.69860603, 19.8728994 , 35.24435875,\n",
       "       26.51523305, 26.45002079, 16.07195673, 15.07514088, 15.46641439,\n",
       "       31.28504346, 10.74318415, 16.00674447, 20.45980967, 24.48433721,\n",
       "       30.96829824, 22.45344136, 17.86995167, 16.97561221, 15.55025871,\n",
       "       18.24259311, 14.29259386, 30.7260813 , 26.52454908, 17.65568284,\n",
       "       16.6868151 , 14.59070701, 17.32962158, 12.82997621, 20.0033239 ,\n",
       "       15.43846628, 18.73634301, 12.58775927, 47.98869595, 17.8513196 ,\n",
       "       10.95745298, 14.54412683, 17.58115455, 30.77266148, 14.85155601,\n",
       "       18.77360716, 19.95674372, 23.06829974, 18.86676752, 28.0057988 ,\n",
       "       33.40909966, 19.63068247, 22.05285182, 47.83963938, 11.90768865,\n",
       "       14.17148539, 30.84718977, 22.23917254, 16.24896141, 14.75839565,\n",
       "       28.37844024, 17.69294698, 22.67702623, 26.25438404, 31.04282653,\n",
       "       17.43209798, 18.30780536, 33.5488402 , 12.58775927, 29.95285032,\n",
       "       17.29235744, 12.75544792, 25.87242656, 16.29554159])"
      ]
     },
     "execution_count": 25,
     "metadata": {},
     "output_type": "execute_result"
    }
   ],
   "source": [
    "y_pred"
   ]
  },
  {
   "cell_type": "code",
   "execution_count": null,
   "id": "7334f3c7-a947-45fd-8119-86cfc1cb67cd",
   "metadata": {},
   "outputs": [],
   "source": []
  }
 ],
 "metadata": {
  "kernelspec": {
   "display_name": "Python 3",
   "language": "python",
   "name": "python3"
  },
  "language_info": {
   "codemirror_mode": {
    "name": "ipython",
    "version": 3
   },
   "file_extension": ".py",
   "mimetype": "text/x-python",
   "name": "python",
   "nbconvert_exporter": "python",
   "pygments_lexer": "ipython3",
   "version": "3.8.8"
  }
 },
 "nbformat": 4,
 "nbformat_minor": 5
}
