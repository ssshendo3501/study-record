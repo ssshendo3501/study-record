{
 "cells": [
  {
   "cell_type": "markdown",
   "id": "c6b49e03-dfb6-4fd4-8646-99b9f4d928f7",
   "metadata": {},
   "source": [
    "# Data Augmentation"
   ]
  },
  {
   "cell_type": "code",
   "execution_count": 2,
   "id": "cdbe8102-9ded-41a1-909f-5827c22dad31",
   "metadata": {},
   "outputs": [],
   "source": [
    "import numpy as np\n",
    "from torchvision import transforms\n",
    "from torch import optim\n",
    "from torch.nn import functional as F\n",
    "from torchvision.datasets import CIFAR10\n",
    "from torch.utils.data import DataLoader\n",
    "from torchvision.utils import make_grid\n",
    "import matplotlib.pyplot as plt\n",
    "\n",
    "%load_ext autoreload\n",
    "%autoreload 2\n",
    "import utils"
   ]
  },
  {
   "cell_type": "markdown",
   "id": "535a481b-05d6-4372-91e3-be60a6628960",
   "metadata": {},
   "source": [
    "## torchvision.transforms"
   ]
  },
  {
   "cell_type": "markdown",
   "id": "60125e89-8eaf-4ad1-adc9-e92cdfe691d2",
   "metadata": {},
   "source": [
    "torchvision.transformsを使用\n",
    "\n",
    "1. transforms.Composeクラスにさまざまなtransformのインスタンスのリストを\n",
    "渡す\n",
    "    - https://pytorch.org/vision/0.15/transforms.html\n",
    "    - RandomHorizontalFlip: ランダムに画像を水平反転\n",
    "    - RandomCrop: ランダムに画像を切り抜く\n",
    "    - RandomRotaton: ランダムに画像を回転\n",
    "2. Datasetクラスのtransform引数に，transforms.Composeのインスタンスを指 定する"
   ]
  },
  {
   "cell_type": "code",
   "execution_count": 3,
   "id": "3cefb6c0-610f-448c-a56b-c4dc3a00d8a6",
   "metadata": {},
   "outputs": [
    {
     "name": "stdout",
     "output_type": "stream",
     "text": [
      "Downloading https://www.cs.toronto.edu/~kriz/cifar-10-python.tar.gz to ./cifar10_data/cifar-10-python.tar.gz\n"
     ]
    },
    {
     "name": "stderr",
     "output_type": "stream",
     "text": [
      "100%|██████████| 170498071/170498071 [00:44<00:00, 3864323.17it/s]\n"
     ]
    },
    {
     "name": "stdout",
     "output_type": "stream",
     "text": [
      "Extracting ./cifar10_data/cifar-10-python.tar.gz to ./cifar10_data\n"
     ]
    }
   ],
   "source": [
    "transform = transforms.Compose([\n",
    "    transforms.RandomHorizontalFlip(),\n",
    "    transforms.RandomCrop(32, padding=4),\n",
    "    transforms.RandomRotation(30),\n",
    "    transforms.ToTensor(),\n",
    "    transforms.Normalize((0.5, 0.5, 0.5), (0.5, 0.5, 0.5)),\n",
    "])\n",
    "\n",
    "train_dataset = CIFAR10('./cifar10_data', train=True, download=True, transform=transform)\n",
    "train_loader = DataLoader(train_dataset, batch_size=4, shuffle=True, num_workers=4)"
   ]
  },
  {
   "cell_type": "code",
   "execution_count": 4,
   "id": "ccdb031a-a431-41c8-a511-8ca0dcc5719e",
   "metadata": {},
   "outputs": [
    {
     "data": {
      "text/plain": [
       "<matplotlib.image.AxesImage at 0x7f6f26dc57c0>"
      ]
     },
     "execution_count": 4,
     "metadata": {},
     "output_type": "execute_result"
    },
    {
     "data": {
      "image/png": "[encoded data removed]",
      "text/plain": [
       "<Figure size 640x480 with 1 Axes>"
      ]
     },
     "metadata": {},
     "output_type": "display_data"
    }
   ],
   "source": [
    "X, y = next(iter(train_loader))\n",
    "X = make_grid(X).permute(1, 2, 0)\n",
    "X = X / 2 + 0.5\n",
    "plt.imshow(X)"
   ]
  },
  {
   "cell_type": "markdown",
   "id": "b0fd8dfc-cc8e-47bb-98bf-c318433b3153",
   "metadata": {},
   "source": [
    "## Albumentations"
   ]
  },
  {
   "cell_type": "markdown",
   "id": "d5e3a0f2-007d-48fa-9a62-26dad4b7a0e8",
   "metadata": {},
   "source": [
    "1. albumenta+ons.Composeに，albumenta+ons.に続くクラスのインスタンスのリストを入れる\n",
    "2. tensorへの変換はalbumenta+ons.pytorch.ToTensorV2を使用する\n",
    "3. wrapperクラスを作成\n",
    "    - transformを引数にとる\n",
    "    - __call__メソッドを作成し，transformを適用し画像とラベル(ラベルがない場合は画像のみ)を返す\n",
    "    - albumenta+ons.Composeのインスタンスをcallする時にはnumpy arrayを引数とし，結果は[’image’]でアクセスする\n",
    "4. Datasetクラスのtransform引数にwrapperクラスのインスタンスを渡す"
   ]
  },
  {
   "cell_type": "code",
   "execution_count": 3,
   "id": "6b583e0b-f409-40b8-ad53-06713b6826c2",
   "metadata": {},
   "outputs": [],
   "source": [
    "# 以下はOpenCVインストールに必要なコマンド\n",
    "# !pip install albumentations\n",
    "# !pip install opencv-python\n",
    "#$sudo apt-get update\n",
    "#$sudo apt-get install libgll-mesa-glx\n",
    "import albumentations as A\n",
    "from albumentations.pytorch import ToTensorV2\n",
    "import cv2"
   ]
  },
  {
   "cell_type": "code",
   "execution_count": 4,
   "id": "841ac0af-d0a7-4227-82c0-5ae0ebed77f2",
   "metadata": {},
   "outputs": [],
   "source": [
    "transform = A.Compose([\n",
    "    A.HorizontalFlip(),\n",
    "    A.PadIfNeeded(min_height=40, min_width=40, border_mode=cv2.BORDER_CONSTANT),\n",
    "    A.RandomCrop(height=32, width=32),\n",
    "    A.Rotate(limit=30, border_mode=cv2.BORDER_CONSTANT),\n",
    "    A.Normalize([0.5, 0.5, 0.5], [0.5, 0.5, 0.5]),\n",
    "    ToTensorV2(),\n",
    "])"
   ]
  },
  {
   "cell_type": "code",
   "execution_count": 5,
   "id": "5a3eecc2-e824-401c-b021-dcc5aba57a71",
   "metadata": {},
   "outputs": [],
   "source": [
    "class AlbumentationsTransform:\n",
    "    def __init__(self, transform):\n",
    "        self.transform = transform\n",
    "\n",
    "    def __call__(self, image, target=None):\n",
    "        image = self.transform(image=np.array(image))['image']\n",
    "        if target:\n",
    "            return image, target\n",
    "        else:\n",
    "            return image"
   ]
  },
  {
   "cell_type": "code",
   "execution_count": 6,
   "id": "ec199615-a86d-4b3e-b922-d2b4408b0ca6",
   "metadata": {},
   "outputs": [
    {
     "name": "stdout",
     "output_type": "stream",
     "text": [
      "Files already downloaded and verified\n"
     ]
    }
   ],
   "source": [
    "transform = AlbumentationsTransform(transform)\n",
    "train_dataset = CIFAR10('./cifar10_data', train=True, download=True, transform=transform)\n",
    "train_loader = DataLoader(train_dataset, batch_size=4, shuffle=True, num_workers=4)"
   ]
  },
  {
   "cell_type": "code",
   "execution_count": 7,
   "id": "c77d216a-e834-42c1-a186-ca63acd4ef42",
   "metadata": {},
   "outputs": [
    {
     "data": {
      "text/plain": [
       "<matplotlib.image.AxesImage at 0x7f1fcdec8610>"
      ]
     },
     "execution_count": 7,
     "metadata": {},
     "output_type": "execute_result"
    },
    {
     "data": {
      "image/png": "[encoded data removed]",
      "text/plain": [
       "<Figure size 640x480 with 1 Axes>"
      ]
     },
     "metadata": {},
     "output_type": "display_data"
    }
   ],
   "source": [
    "X, y = next(iter(train_loader))\n",
    "X = make_grid(X).permute(1, 2, 0)\n",
    "X = X / 2 + 0.5\n",
    "plt.imshow(X)"
   ]
  },
  {
   "cell_type": "markdown",
   "id": "0c4fea1f-ba90-4d82-a35c-8ab56da3443e",
   "metadata": {},
   "source": [
    "## imgaug"
   ]
  },
  {
   "cell_type": "markdown",
   "id": "9a37d027-376f-42cc-9367-9570d9aa6b37",
   "metadata": {},
   "source": [
    "1. imgaug.augmenters.Sequen+al()にimgaug.augmenters.に続くaugmenta+on用のク ラスのインスタンスのリストを渡しインスタンス作成\n",
    "2. wrapperクラスを作成\n",
    "    - imgaug.augmenters.Sequen+al()のインスタンスを受け取り，インスタンス変数にする\n",
    "    - __call__メソッドを作成， imgaug.augmenters.Sequen+alのインスタンスに対して.augment_imageを実行し返す(引数にはnumpyを使用)\n",
    "3. torchvision.transforms.Composeの引数のリストにwrapperクラスのインスタンスを入れる\n",
    "4. Datasetのtransformに, torchvision.transforms.Composeのインスタンスを渡す"
   ]
  },
  {
   "cell_type": "code",
   "execution_count": 8,
   "id": "24dcf1fe-e5f2-4eba-b919-a0269ccb609a",
   "metadata": {},
   "outputs": [],
   "source": [
    "# !pip install imgaug\n",
    "from imgaug import augmenters as iaa\n",
    "import imgaug as ia"
   ]
  },
  {
   "cell_type": "code",
   "execution_count": 9,
   "id": "63cba62b-242d-4fa6-97bb-9c66cfe3b30a",
   "metadata": {},
   "outputs": [],
   "source": [
    "transform_ia_seq = iaa.Sequential([\n",
    "    iaa.Fliplr(0.5),\n",
    "    iaa.Pad(px=4),\n",
    "    iaa.CropToFixedSize(width=32, height=32),\n",
    "    iaa.Affine(rotate=(-30, 30))\n",
    "])\n",
    "\n",
    "class ImgAugTransform:\n",
    "    def __init__(self, ia_seq):\n",
    "        self.ia_seq = ia_seq\n",
    "\n",
    "    def __call__(self, image, target=None):\n",
    "        image = self.ia_seq.augment_image(np.array(image))\n",
    "        if target:\n",
    "            return image, target\n",
    "        else:\n",
    "            return image"
   ]
  },
  {
   "cell_type": "code",
   "execution_count": 10,
   "id": "d261d771-fd06-44ab-9062-32b7adba9177",
   "metadata": {},
   "outputs": [
    {
     "name": "stdout",
     "output_type": "stream",
     "text": [
      "Files already downloaded and verified\n"
     ]
    },
    {
     "data": {
      "text/plain": [
       "<matplotlib.image.AxesImage at 0x7f208d958c10>"
      ]
     },
     "execution_count": 10,
     "metadata": {},
     "output_type": "execute_result"
    },
    {
     "data": {
      "image/png": "[encoded data removed]",
      "text/plain": [
       "<Figure size 640x480 with 1 Axes>"
      ]
     },
     "metadata": {},
     "output_type": "display_data"
    }
   ],
   "source": [
    "transform_ia = ImgAugTransform(transform_ia_seq)\n",
    "transform = transforms.Compose([\n",
    "    transform_ia,\n",
    "    transforms.ToTensor(),\n",
    "    transforms.Normalize((0.5, 0.5, 0.5), (0.5, 0.5, 0.5)),\n",
    "])\n",
    "train_dataset = CIFAR10('./cifar10_data', train=True, download=True, transform=transform)\n",
    "train_loader = DataLoader(train_dataset, batch_size=4, shuffle=True, num_workers=4)\n",
    "X, y = next(iter(train_loader))\n",
    "X = make_grid(X).permute(1, 2, 0)\n",
    "X = X / 2 + 0.5\n",
    "plt.imshow(X)"
   ]
  },
  {
   "cell_type": "markdown",
   "id": "375ee181-c21a-4ed6-9bf5-00472a271fd0",
   "metadata": {},
   "source": [
    "## DataAugmentationで学習"
   ]
  },
  {
   "cell_type": "markdown",
   "id": "0a964e91-4669-4cda-8ca1-2b643079ecb1",
   "metadata": {},
   "source": [
    "どのライブラリを選択するか?\n",
    "- チームで普段使っているものがあればそれを使う，そうでなければそれぞれの 特徴を理解してやりたいことが実現できるライブラリを選択する\n",
    "- Pytorch:\n",
    "    - ○Pytorchとの統合が容易で簡単に始められる\n",
    "    - ×機能が限られる\n",
    "- Albumenta+ons:\n",
    "    - ○高速で拡張機能が多様\n",
    "    - ○様々なデータタイプに統一的なAPIを提供\n",
    "    - ×APIが少し複雑\n",
    "- imgaug:\n",
    "    - ○豊富なAugmenta+on • ×場合によっては低速"
   ]
  },
  {
   "cell_type": "code",
   "execution_count": 11,
   "id": "98283b35-c902-4a02-84cc-3454ddc25195",
   "metadata": {},
   "outputs": [
    {
     "name": "stdout",
     "output_type": "stream",
     "text": [
      "Files already downloaded and verified\n",
      "Files already downloaded and verified\n"
     ]
    }
   ],
   "source": [
    "transform = transforms.Compose([\n",
    "    transforms.RandomHorizontalFlip(),\n",
    "    transforms.RandomCrop(32, padding=4),\n",
    "    transforms.RandomRotation(30),\n",
    "    transforms.ToTensor(),\n",
    "    transforms.Normalize((0.5, 0.5, 0.5), (0.5, 0.5, 0.5)),\n",
    "])\n",
    "\n",
    "transform_val = transforms.Compose([\n",
    "    transforms.ToTensor(),\n",
    "    transforms.Normalize((0.5, 0.5, 0.5), (0.5, 0.5, 0.5)),\n",
    "])\n",
    "\n",
    "train_dataset = CIFAR10('./cifar10_data', train=True, download=True, transform=transform)\n",
    "val_dataset = CIFAR10('./cifar10_data', train=False, download=True, transform=transform_val)\n",
    "train_loader = DataLoader(train_dataset, batch_size=128, shuffle=True, num_workers=6)\n",
    "val_loader = DataLoader(val_dataset, batch_size=128, num_workers=6)"
   ]
  },
  {
   "cell_type": "code",
   "execution_count": 12,
   "id": "647cbb90-648a-414b-b3cf-b3e826f36d9b",
   "metadata": {},
   "outputs": [
    {
     "name": "stderr",
     "output_type": "stream",
     "text": [
      "                                                           "
     ]
    },
    {
     "name": "stdout",
     "output_type": "stream",
     "text": [
      "epoch: 0: train error: 1.7749503222877716, validation error: 1.5948650369161292, validation accuracy: 0.4182159810126582\n"
     ]
    },
    {
     "name": "stderr",
     "output_type": "stream",
     "text": [
      "                                                           "
     ]
    },
    {
     "name": "stdout",
     "output_type": "stream",
     "text": [
      "epoch: 1: train error: 1.6002623620240584, validation error: 1.5680880259863939, validation accuracy: 0.4442246835443038\n"
     ]
    },
    {
     "name": "stderr",
     "output_type": "stream",
     "text": [
      "                                                           "
     ]
    },
    {
     "name": "stdout",
     "output_type": "stream",
     "text": [
      "epoch: 2: train error: 1.5422998959451075, validation error: 1.4450445160081116, validation accuracy: 0.473496835443038\n"
     ]
    },
    {
     "name": "stderr",
     "output_type": "stream",
     "text": [
      "                                                           "
     ]
    },
    {
     "name": "stdout",
     "output_type": "stream",
     "text": [
      "epoch: 3: train error: 1.516715958295271, validation error: 1.4609673521186732, validation accuracy: 0.46825553797468356\n"
     ]
    },
    {
     "name": "stderr",
     "output_type": "stream",
     "text": [
      "                                                           "
     ]
    },
    {
     "name": "stdout",
     "output_type": "stream",
     "text": [
      "epoch: 4: train error: 1.4966478469731557, validation error: 1.3740788713286194, validation accuracy: 0.5019778481012658\n"
     ]
    },
    {
     "name": "stderr",
     "output_type": "stream",
     "text": [
      "\r"
     ]
    }
   ],
   "source": [
    "conv_model = utils.get_conv_model(in_ch=3)\n",
    "opt = optim.Adam(conv_model.parameters(), lr=0.03)\n",
    "train_losses, val_losses, val_accuracies = utils.learn(conv_model, train_loader, val_loader, opt, F.cross_entropy, 5)"
   ]
  },
  {
   "cell_type": "code",
   "execution_count": 13,
   "id": "1263bce0-dfea-400b-92db-644da3cbafab",
   "metadata": {},
   "outputs": [
    {
     "name": "stdout",
     "output_type": "stream",
     "text": [
      "Files already downloaded and verified\n"
     ]
    },
    {
     "name": "stderr",
     "output_type": "stream",
     "text": [
      "                                                           "
     ]
    },
    {
     "name": "stdout",
     "output_type": "stream",
     "text": [
      "epoch: 0: train error: 1.6029438932838342, validation error: 1.4540421660942366, validation accuracy: 0.4653876582278481\n"
     ]
    },
    {
     "name": "stderr",
     "output_type": "stream",
     "text": [
      "                                                           "
     ]
    },
    {
     "name": "stdout",
     "output_type": "stream",
     "text": [
      "epoch: 1: train error: 1.388188616698965, validation error: 1.4675746507282499, validation accuracy: 0.47972705696202533\n"
     ]
    },
    {
     "name": "stderr",
     "output_type": "stream",
     "text": [
      "                                                           "
     ]
    },
    {
     "name": "stdout",
     "output_type": "stream",
     "text": [
      "epoch: 2: train error: 1.3164698385521578, validation error: 1.3176775627498385, validation accuracy: 0.5225474683544303\n"
     ]
    },
    {
     "name": "stderr",
     "output_type": "stream",
     "text": [
      "                                                           "
     ]
    },
    {
     "name": "stdout",
     "output_type": "stream",
     "text": [
      "epoch: 3: train error: 1.274949569226531, validation error: 1.3438881952551347, validation accuracy: 0.5188884493670886\n"
     ]
    },
    {
     "name": "stderr",
     "output_type": "stream",
     "text": [
      "                                                           "
     ]
    },
    {
     "name": "stdout",
     "output_type": "stream",
     "text": [
      "epoch: 4: train error: 1.2460994976560782, validation error: 1.295781425282925, validation accuracy: 0.5349090189873418\n"
     ]
    },
    {
     "name": "stderr",
     "output_type": "stream",
     "text": [
      "\r"
     ]
    }
   ],
   "source": [
    "train_dataset_no_aug = CIFAR10('./cifar10_data', train=True, download=True, transform=transform_val)\n",
    "train_loader_no_aug = DataLoader(train_dataset_no_aug, batch_size=128, shuffle=True, num_workers=4)\n",
    "conv_model_no_aug = utils.get_conv_model(in_ch=3)\n",
    "opt_no_aug = optim.Adam(conv_model_no_aug.parameters(), lr=0.03)\n",
    "train_losses, val_losses, val_accuracies = utils.learn(conv_model_no_aug, train_loader_no_aug, val_loader, opt_no_aug, F.cross_entropy, 5)"
   ]
  },
  {
   "cell_type": "code",
   "execution_count": null,
   "id": "bcd9d8e5-9f00-4279-b6a7-04fe2a32cdc9",
   "metadata": {},
   "outputs": [],
   "source": []
  }
 ],
 "metadata": {
  "kernelspec": {
   "display_name": "Python 3 (ipykernel)",
   "language": "python",
   "name": "python3"
  },
  "language_info": {
   "codemirror_mode": {
    "name": "ipython",
    "version": 3
   },
   "file_extension": ".py",
   "mimetype": "text/x-python",
   "name": "python",
   "nbconvert_exporter": "python",
   "pygments_lexer": "ipython3",
   "version": "3.8.18"
  }
 },
 "nbformat": 4,
 "nbformat_minor": 5
}
