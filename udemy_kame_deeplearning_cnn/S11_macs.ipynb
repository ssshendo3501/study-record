{
 "cells": [
  {
   "cell_type": "markdown",
   "id": "3d06008c-75e3-4c9a-bb53-d9b928363169",
   "metadata": {},
   "source": [
    "# MACs"
   ]
  },
  {
   "cell_type": "code",
   "execution_count": 1,
   "id": "a000e815-e181-468c-9a0c-0901bd0a264f",
   "metadata": {},
   "outputs": [],
   "source": [
    "import torch\n",
    "from torch import nn"
   ]
  },
  {
   "cell_type": "markdown",
   "id": "ce69ecaa-b245-4c28-9e14-286e68d12ac1",
   "metadata": {},
   "source": [
    "## MACsを計算する"
   ]
  },
  {
   "cell_type": "markdown",
   "id": "578499a9-97ef-4fdf-967f-3ce78dd86915",
   "metadata": {},
   "source": [
    "- 畳み込み層のMACsを計算する関数を作成\n",
    "    - nn.Conv2dのインスタンスと入力shapeを引数に取る\n",
    "        - .weight.shape()で重みのshapeを取得\n",
    "- 全結合層のMACsを計算する関数を作成\n",
    "  - nn.Linearのインスタンスと入力shapeを引数に取る\n",
    "- 出力のshapeを計算する関数を作成\n",
    "    - Layerインスタンスと入力tensorを使って順伝播させることを計算する"
   ]
  },
  {
   "cell_type": "code",
   "execution_count": 2,
   "id": "538240d4-8ec8-4d2d-b7c1-df2e4d998035",
   "metadata": {},
   "outputs": [],
   "source": [
    "# LayerとInput　sizeを受け取ったらshapeを返す関数\n",
    "def calc_output_shape(layer, input_shape):\n",
    "    input = torch.randn(input_shape)\n",
    "    output = layer(input)\n",
    "    return tuple(output.shape)\n",
    "\n",
    "\n",
    "# 畳み込み層のMACsを計算する関数\n",
    "def calc_macs_conv2d(layer, input_shape):\n",
    "    b, in_ch, in_h, in_w= input_shape\n",
    "    out_ch, _, f_h, f_w = layer.weight.shape\n",
    "\n",
    "    _, _, out_h, out_w = calc_output_shape(layer, input_shape)\n",
    "\n",
    "    macs = b * in_ch * out_ch * f_h * f_w * out_h * out_w\n",
    "\n",
    "    return macs\n",
    "\n",
    "\n",
    "# 全結合層のMACsを計算する関数\n",
    "def calc_macs_linear(layer, input_shape):\n",
    "    b, in_features= input_shape\n",
    "    out_features, _ = layer.weight.shape\n",
    "\n",
    "    macs = b * in_features * out_features\n",
    "\n",
    "    return macs"
   ]
  },
  {
   "cell_type": "code",
   "execution_count": 3,
   "id": "884fadd4-c7b4-42aa-b134-62b717bbcac9",
   "metadata": {},
   "outputs": [
    {
     "data": {
      "text/plain": [
       "1143072"
      ]
     },
     "execution_count": 3,
     "metadata": {},
     "output_type": "execute_result"
    }
   ],
   "source": [
    "input_shape = (1, 1, 128, 128)\n",
    "X = torch.randn(input_shape)\n",
    "# 畳み込み層\n",
    "conv_layer = nn.Conv2d(1, 8, kernel_size=3)\n",
    "calc_macs_conv2d(conv_layer, input_shape)"
   ]
  },
  {
   "cell_type": "code",
   "execution_count": 4,
   "id": "071bdaa9-3308-4233-b867-b7d3a5a51919",
   "metadata": {},
   "outputs": [
    {
     "data": {
      "text/plain": [
       "640"
      ]
     },
     "execution_count": 4,
     "metadata": {},
     "output_type": "execute_result"
    }
   ],
   "source": [
    "# 全結合層\n",
    "linear_layer = nn.Linear(64, 10)\n",
    "input_shape = (1, 64)\n",
    "calc_macs_linear(linear_layer, input_shape)"
   ]
  },
  {
   "cell_type": "markdown",
   "id": "920e849f-731d-4575-99a9-71a97875d514",
   "metadata": {},
   "source": [
    "## thopライブラリで計算する"
   ]
  },
  {
   "cell_type": "markdown",
   "id": "3de377af-4c7c-4c78-bfbf-5a2be0a302e2",
   "metadata": {},
   "source": [
    "thop.profile()\n",
    "\n",
    "- thopライブラリを使用することで簡単にMACsを計算できる\n",
    "- thop.profile():\n",
    "    - model引数にpytorchのモデルを渡す\n",
    "    - input引数に入力tensorを(X,y)の形でtupleで渡す\n",
    "        - 通常のmodelはXのみを入力と取るので、(X, )のようにして渡す\n",
    "    - MACsおよびパラメータの総数を返す"
   ]
  },
  {
   "cell_type": "code",
   "execution_count": 5,
   "id": "69430e11-9a1c-4826-adb1-0cbbe5bac4c3",
   "metadata": {},
   "outputs": [],
   "source": [
    "# !pip install thop\n",
    "import thop"
   ]
  },
  {
   "cell_type": "code",
   "execution_count": 6,
   "id": "790f67ea-a4e4-43ce-a21d-874ff046ba57",
   "metadata": {},
   "outputs": [
    {
     "name": "stdout",
     "output_type": "stream",
     "text": [
      "[INFO] Register count_convNd() for <class 'torch.nn.modules.conv.Conv2d'>.\n"
     ]
    },
    {
     "data": {
      "text/plain": [
       "1143072.0"
      ]
     },
     "execution_count": 6,
     "metadata": {},
     "output_type": "execute_result"
    }
   ],
   "source": [
    "# conv2d\n",
    "macs, params = thop.profile(conv_layer, (X,))\n",
    "# スクラッチで求めたMACsと等しい\n",
    "macs"
   ]
  },
  {
   "cell_type": "code",
   "execution_count": 7,
   "id": "de00d83d-15a7-4353-b574-446ce71dd1be",
   "metadata": {},
   "outputs": [
    {
     "name": "stdout",
     "output_type": "stream",
     "text": [
      "[INFO] Register count_linear() for <class 'torch.nn.modules.linear.Linear'>.\n"
     ]
    },
    {
     "data": {
      "text/plain": [
       "640.0"
      ]
     },
     "execution_count": 7,
     "metadata": {},
     "output_type": "execute_result"
    }
   ],
   "source": [
    "# linear\n",
    "X = torch.randn(input_shape)\n",
    "macs, params = thop.profile(linear_layer, (X,))\n",
    "# スクラッチの関数で求めたMACsと等しい\n",
    "macs"
   ]
  },
  {
   "cell_type": "code",
   "execution_count": null,
   "id": "b137f39f-6fa5-46d1-8cc5-cbfe3764ec07",
   "metadata": {},
   "outputs": [],
   "source": []
  }
 ],
 "metadata": {
  "kernelspec": {
   "display_name": "Python 3 (ipykernel)",
   "language": "python",
   "name": "python3"
  },
  "language_info": {
   "codemirror_mode": {
    "name": "ipython",
    "version": 3
   },
   "file_extension": ".py",
   "mimetype": "text/x-python",
   "name": "python",
   "nbconvert_exporter": "python",
   "pygments_lexer": "ipython3",
   "version": "3.8.18"
  }
 },
 "nbformat": 4,
 "nbformat_minor": 5
}
