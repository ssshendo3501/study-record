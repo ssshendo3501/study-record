{
  "nbformat": 4,
  "nbformat_minor": 0,
  "metadata": {
    "colab": {
      "provenance": [],
      "toc_visible": true,
      "include_colab_link": true
    },
    "kernelspec": {
      "name": "python3",
      "display_name": "Python 3"
    }
  },
  "cells": [
    {
      "cell_type": "markdown",
      "metadata": {
        "id": "view-in-github",
        "colab_type": "text"
      },
      "source": [
        "<a href=\"https://colab.research.google.com/github/ssshendo3501/study-record/blob/main/Python%E3%82%AA%E3%83%96%E3%82%B8%E3%82%A7%E3%82%AF%E3%83%88%E6%8C%87%E5%90%91.ipynb\" target=\"_parent\"><img src=\"https://colab.research.google.com/assets/colab-badge.svg\" alt=\"Open In Colab\"/></a>"
      ]
    },
    {
      "cell_type": "markdown",
      "metadata": {
        "id": "ZpsFhx9hRJNF"
      },
      "source": [
        "# クラス"
      ]
    },
    {
      "cell_type": "markdown",
      "metadata": {
        "id": "06zYQilRR7xw"
      },
      "source": [
        "オブジェクト指向において、最も基本的な仕組みは**クラス**である\n",
        "\n",
        "クラスの機能として「**カプセル化**」と「**インスタンス（オブジェクト）の生成**」がある"
      ]
    },
    {
      "cell_type": "markdown",
      "metadata": {
        "id": "MpQLnqxz20wz"
      },
      "source": [
        "## カプセル化"
      ]
    },
    {
      "cell_type": "markdown",
      "metadata": {
        "id": "qNui7nGk4Iqt"
      },
      "source": [
        "**変数と関数をまとめた上で、外部に公開する情報を制限する機能のこと**"
      ]
    },
    {
      "cell_type": "markdown",
      "metadata": {
        "id": "4Fyg8UjMHlRV"
      },
      "source": [
        "**「変数と関数をまとめる」とは？**\n",
        "\n",
        "複数の変数と関数をまとめて一つのクラスにすることで、\n",
        "\n",
        "**プログラムを整理整頓する**ことができる"
      ]
    },
    {
      "cell_type": "markdown",
      "metadata": {
        "id": "yGWUax1WFlZo"
      },
      "source": [
        "例：半径を渡すと円周の長さと面積を求める関数"
      ]
    },
    {
      "cell_type": "code",
      "metadata": {
        "id": "uO0I2-dIFoqI"
      },
      "source": [
        "pi = 3.14 #円周率\n",
        "\n",
        "def circle_length(r):\n",
        "  return r * 2 * pi\n",
        "\n",
        "def circle_area(r):\n",
        "  return r * r * pi"
      ],
      "execution_count": null,
      "outputs": []
    },
    {
      "cell_type": "markdown",
      "metadata": {
        "id": "SiSYhw5kHD13"
      },
      "source": [
        "**piというグローバル変数が使われている**ことに注意\n",
        "\n",
        "クラスを使うと以下のようになる"
      ]
    },
    {
      "cell_type": "code",
      "metadata": {
        "id": "0P8Hgh3-G7oq"
      },
      "source": [
        "class Circle:\n",
        "  pi = 3.14 #円周率\n",
        "\n",
        "  def length(self, r):\n",
        "    return r * 2 * Circle.pi\n",
        "\n",
        "  def area(self, r):\n",
        "    return r * r * Circle.pi"
      ],
      "execution_count": null,
      "outputs": []
    },
    {
      "cell_type": "markdown",
      "metadata": {
        "id": "iBdQqTGzICzC"
      },
      "source": [
        "クラスを使うと**変数と関数をまとめる**ことができる\n",
        "\n",
        "上の例では、変数piと関数lengthと関数areaを、Circleという一つのクラスにまとめている\n"
      ]
    },
    {
      "cell_type": "markdown",
      "metadata": {
        "id": "ewp9wE_F_tOv"
      },
      "source": [
        "\n",
        "クラス名の最初の文字は慣例的に**大文字**で記述する\n",
        "\n",
        "詳しくは、[PEP 8](https://pep8-ja.readthedocs.io/ja/latest/)（Pythonのコーディング規約）参照"
      ]
    },
    {
      "cell_type": "markdown",
      "metadata": {
        "id": "wDWVusOPIYx4"
      },
      "source": [
        "クラスが持つ変数を**クラス変数**（属性）、クラスが持つ関数を**メソッド**という名前で呼ぶ\n",
        "\n",
        "上の例だとCircleクラスはクラス変数piとlengthメソッド、areaメソッドを持つクラスであると言える\n",
        "\n",
        "メソッドの引数に**self**というものが追加されていることに注目、後ほど説明"
      ]
    },
    {
      "cell_type": "markdown",
      "metadata": {
        "id": "6E7p1J40IYoN"
      },
      "source": [
        "変数と関数をクラスによってまとめると次のようなメリットがある\n",
        "\n",
        "*   変数と関数をまとめて、**意味のある1つの部品**にすることができる\n",
        "*   変数や関数の名前がシンプルになる\n"
      ]
    },
    {
      "cell_type": "markdown",
      "metadata": {
        "id": "o8ymlVRwJXM8"
      },
      "source": [
        "**「外部に公開する情報を制限する」とは？**\n",
        "\n",
        "クラスの中に入れた変数は、外部からのアクセスを制限できる機能を使える"
      ]
    },
    {
      "cell_type": "markdown",
      "metadata": {
        "id": "4ZkLFygbLApx"
      },
      "source": [
        "クラス変数piは、単に変数名を書くだけでは呼び出せないようになっている\n",
        "\n",
        "クラス変数は「**クラス名.クラス変数名**」と書くことで、呼び出すことができる"
      ]
    },
    {
      "cell_type": "code",
      "metadata": {
        "id": "3klTxMynIXnD",
        "colab": {
          "base_uri": "https://localhost:8080/",
          "height": 35
        },
        "outputId": "706b51db-6454-4e7f-a318-6d0a0b918fc0"
      },
      "source": [
        "class Circle:\n",
        "  pi = 3.14 #円周率\n",
        "\n",
        "  def length(self, r):\n",
        "    return r * 2 * Circle.pi\n",
        "\n",
        "  def area(self, r):\n",
        "    return r * r * Circle.pi\n",
        "\n",
        "#print(pi)\n",
        "print(Circle.pi) #クラス変数の呼び出し"
      ],
      "execution_count": null,
      "outputs": [
        {
          "output_type": "stream",
          "text": [
            "3.14\n"
          ],
          "name": "stdout"
        }
      ]
    },
    {
      "cell_type": "markdown",
      "metadata": {
        "id": "njb6wMllO-AF"
      },
      "source": [
        "piという変数は、areaとlengthという2つのメソッドでのみ使用される変数なので、\n",
        "\n",
        "この**2つのメソッド以外からはアクセス出来ないようにした方が保守性が高くなる**\n",
        "\n",
        "→　クラス変数をクラスの中（のメソッド）からしか呼び出せないようにするには、\n",
        "\n",
        "　　「**__クラス変数名**」というように書く（クラス変数名の前にアンダーバーを2つ書く）"
      ]
    },
    {
      "cell_type": "code",
      "metadata": {
        "id": "ndehYA1LO9aQ",
        "colab": {
          "base_uri": "https://localhost:8080/",
          "height": 35
        },
        "outputId": "a8003362-1328-4769-a213-c236e43f73bc"
      },
      "source": [
        "class Circle:\n",
        "  __pi = 3.14 #クラスの中のメソッドからしか呼び出せない\n",
        "\n",
        "  def length(self, r):\n",
        "    return r * 2 * Circle.__pi\n",
        "\n",
        "  def area(self, r):\n",
        "    return r * r * Circle.__pi\n",
        "\n",
        "#print(Circle.__pi) #クラス変数の呼び出し\n",
        "Circle().length(1) #メソッドの呼び出し（後ほど説明）"
      ],
      "execution_count": null,
      "outputs": [
        {
          "output_type": "execute_result",
          "data": {
            "text/plain": [
              "6.28"
            ]
          },
          "metadata": {
            "tags": []
          },
          "execution_count": 9
        }
      ]
    },
    {
      "cell_type": "markdown",
      "metadata": {
        "id": "a1UYqX80RqjR"
      },
      "source": [
        "クラスの中からしかアクセスできない変数を**プライベート変数**と呼ぶこともある\n",
        "\n",
        "プライベート変数を利用することで、**複数の関数（areaとlength）で利用する必要のある変数（pi）を、**\n",
        "\n",
        "**グローバル変数として保持する必要がなくなった！**\n",
        "\n",
        "→　**グローバル変数問題の解決！**"
      ]
    },
    {
      "cell_type": "markdown",
      "metadata": {
        "id": "rmEu12mx3YRV"
      },
      "source": [
        "## インスタンス（オブジェクト）の生成"
      ]
    },
    {
      "cell_type": "markdown",
      "metadata": {
        "id": "RLBOoVey6NIo"
      },
      "source": [
        "クラスからは**インスタンス（オブジェクト）を作る**ことができる"
      ]
    },
    {
      "cell_type": "markdown",
      "metadata": {
        "id": "golysbEaau4X"
      },
      "source": [
        "**クラス（class）**→　**分類**、種類\n",
        "\n",
        "**インスタンス（instance）**→　**実例**、具体的なもの\n"
      ]
    },
    {
      "cell_type": "markdown",
      "metadata": {
        "id": "YfaCx5hub4Pe"
      },
      "source": [
        "**クラス：インスタンス**\n",
        "\n",
        "人間　：太郎くん、花子さん、次郎くん、…\n",
        "\n",
        "国　　：日本、アメリカ、オランダ、…"
      ]
    },
    {
      "cell_type": "markdown",
      "metadata": {
        "id": "nfJvsUdLnhHq"
      },
      "source": [
        "クラスからインスタンスを作ることができるので、言い換えるならば\n",
        "\n",
        "**人間というクラス（分類）**から**太郎くんや花子さんというインスタンス（実例）**を作ることができる"
      ]
    },
    {
      "cell_type": "markdown",
      "metadata": {
        "id": "oX9vwdCqcN9f"
      },
      "source": [
        "クラスとは**変数とメソッドを意味のある1つの部品としてまとめたもの**\n",
        "\n",
        "人間は、「名前」「年齢」「出身地」という**変数**を持っているし、\n",
        "\n",
        "「話す」「歩く」「寝る」という**メソッド**（処理）を持っていると言える\n",
        "\n",
        "→　人間を**クラス**として考えることができる"
      ]
    },
    {
      "cell_type": "code",
      "metadata": {
        "id": "If_5Cfsgb3kE"
      },
      "source": [
        "class Human:\n",
        "  name = \"\"\n",
        "  age = 0\n",
        "  born = \"\"\n",
        "\n",
        "  def talk(self):\n",
        "    print(\"私の名前は\" + self.name + \"です\")\n",
        "\n",
        "  def walk(self):\n",
        "    print(\"歩く\")\n",
        "\n",
        "  def sleep(self):\n",
        "    print(\"寝る\")"
      ],
      "execution_count": null,
      "outputs": []
    },
    {
      "cell_type": "markdown",
      "metadata": {
        "id": "EX55KvruohWM"
      },
      "source": [
        "クラス（分類）とインスタンス（実例）の違いは？\n",
        "\n",
        "→　**変数に具体的な値を持つこと**\n",
        "\n",
        "太郎くんなら「name=”太郎”」だし、花子さんは「name=\"花子\"」というような感じ"
      ]
    },
    {
      "cell_type": "markdown",
      "metadata": {
        "id": "UXGHcth-ULDk"
      },
      "source": [
        "クラスから作られる、実例ごとの具体的な値を入れるための入れ物を**インスタンス**と呼び、\n",
        "\n",
        "このようなインスタンス固有の値が入る変数を**インスタンス変数**と呼ぶ"
      ]
    },
    {
      "cell_type": "markdown",
      "metadata": {
        "id": "xycdDO_lpVoq"
      },
      "source": [
        "「**クラス名()**」と記述することでクラスからインスタンスを作ることができる\n",
        "\n",
        "インスタンス変数は「**インスタンス.インスタンス変数名**」、\n",
        "\n",
        "メソッドは「**インスタンス.メソッド名()**」とすることで使うことができる"
      ]
    },
    {
      "cell_type": "code",
      "metadata": {
        "id": "jyuCGIcBpmK6",
        "colab": {
          "base_uri": "https://localhost:8080/",
          "height": 71
        },
        "outputId": "9183b795-a4c9-455d-eba1-cd6b9d66f998"
      },
      "source": [
        "class Human:\n",
        "  name = \"\"\n",
        "  age = 0\n",
        "  born = \"\"\n",
        "\n",
        "  def talk(self):\n",
        "    print(\"私の名前は\" + self.name + \"です\")\n",
        "\n",
        "  def walk(self):\n",
        "    print(\"歩く\")\n",
        "\n",
        "  def sleep(self):\n",
        "    print(\"寝る\")\n",
        "\n",
        "taro = Human() #インスタンスの生成\n",
        "taro.name = \"太郎\" #インスタンス変数の定義\n",
        "taro.age = 20\n",
        "taro.born = \"東京\"\n",
        "taro.talk() #メソッドの呼び出し\n",
        "\n",
        "hanako = Human()\n",
        "hanako.name = \"花子\"\n",
        "hanako.age = 30\n",
        "hanako.born = \"大阪\"\n",
        "hanako.talk()\n",
        "\n",
        "jiro = Human()\n",
        "jiro.talk()"
      ],
      "execution_count": null,
      "outputs": [
        {
          "output_type": "stream",
          "text": [
            "私の名前は太郎です\n",
            "私の名前は花子です\n",
            "私の名前はです\n"
          ],
          "name": "stdout"
        }
      ]
    },
    {
      "cell_type": "markdown",
      "metadata": {
        "id": "iOR1dWJNu_fI"
      },
      "source": [
        "メソッドの中にある**selfという引数には、メソッドを呼び出したインスタンスが入る**\n",
        "\n",
        "なので、「taro.talk()」とメソッドを呼び出すと、selfには「taro」が入っているので、\n",
        "\n",
        "talk()メソッドの中の「self.name」は「taro.name」を意味することになる\n",
        "\n",
        "こういった理由で「私の名前は太郎です」という出力が行われている"
      ]
    },
    {
      "cell_type": "markdown",
      "metadata": {
        "id": "lqcngZ0WV1CW"
      },
      "source": [
        "クラス変数は、**そのクラスから作られたインスタンスからもアクセスできる**\n",
        "\n",
        "なので、「jiro」というインスタンスのインスタンス変数を定義しなくても、\n",
        "\n",
        "「jiro.talk()」とすると「self.name」にはクラス変数の「name = \"\"」が使われて、結果が出力される\n",
        "\n",
        "同名のインスタンス変数が定義されていると、インスタンス変数が優先になる"
      ]
    },
    {
      "cell_type": "markdown",
      "metadata": {
        "id": "Bwig4zEIzT9t"
      },
      "source": [
        "**クラス変数とインスタンス変数の使い分け**\n",
        "\n",
        "クラス変数　　　　→　**インスタンスで共通する値（クラス固有の値）**を持たせる\n",
        "\n",
        "インスタンス変数　→　**インスタンスごとに異なる値（インスタンス固有の値）**を持たせる"
      ]
    },
    {
      "cell_type": "markdown",
      "metadata": {
        "id": "c0fbJzFbZ3Vj"
      },
      "source": [
        "人間をクラスとして表現するときの説明のためにクラス変数を定義しているが、\n",
        "\n",
        "Humanクラスにはインスタンスで共通する変数がないので、クラス変数は特に必要ない"
      ]
    },
    {
      "cell_type": "code",
      "metadata": {
        "id": "cYEkGSLYaTdC"
      },
      "source": [
        "class Human:\n",
        "  def talk(self):\n",
        "    print(\"私の名前は\" + self.name + \"です\")\n",
        "\n",
        "  def walk(self):\n",
        "    print(\"歩く\")\n",
        "\n",
        "  def sleep(self):\n",
        "    print(\"寝る\")\n",
        "\n",
        "hanako = Human()\n",
        "hanako.name = \"花子\"\n",
        "hanako.age = 30\n",
        "hanako.born = \"大阪\"\n",
        "hanako.talk()"
      ],
      "execution_count": null,
      "outputs": []
    },
    {
      "cell_type": "markdown",
      "metadata": {
        "id": "au8hvqGUpl1X"
      },
      "source": [
        "「taro.インスタンス変数名」と何行か書くことによってインスタンス変数を定義したが、\n",
        "\n",
        "インスタンスごとにこの記述を繰り返すのは面倒\n",
        "\n",
        "→　以下のように書けると楽（インスタンス生成時にまとめて定義）"
      ]
    },
    {
      "cell_type": "code",
      "metadata": {
        "id": "lpSTsO4pqwnU"
      },
      "source": [
        "taro = Human(\"太郎\", 20, \"東京\")\n",
        "hanako = Human(\"花子\", 30, \"大阪\")"
      ],
      "execution_count": null,
      "outputs": []
    },
    {
      "cell_type": "markdown",
      "metadata": {
        "id": "wd42FdBorEoa"
      },
      "source": [
        "このような簡単な記述で、インスタンス変数を設定するための機能が**コンストラクタ**である"
      ]
    },
    {
      "cell_type": "markdown",
      "metadata": {
        "id": "NqwOrwjhrK2j"
      },
      "source": [
        "**コンストラクタとは？**\n",
        "\n",
        "インスタンス生成時に自動的に呼び出されるメソッド"
      ]
    },
    {
      "cell_type": "code",
      "metadata": {
        "id": "ohhHviGyr15y",
        "colab": {
          "base_uri": "https://localhost:8080/",
          "height": 53
        },
        "outputId": "377d2cdd-dc21-4933-85f6-eb5ce7ea4368"
      },
      "source": [
        "class Human:\n",
        "  def __init__(self, name, age, born): #コンストラクタ\n",
        "    self.name = name\n",
        "    self.age = age\n",
        "    self.born = born\n",
        "\n",
        "  def talk(self):\n",
        "    print(\"私の名前は\" + self.name + \"です\")\n",
        "\n",
        "  def walk(self):\n",
        "    print(\"歩く\")\n",
        "\n",
        "  def sleep(self):\n",
        "    print(\"寝る\")\n",
        "\n",
        "hanako = Human(\"花子\", 30, \"大阪\") #インスタンス生成とインスタンス変数の定義\n",
        "hanako.talk() #メソッドの呼び出し\n",
        "\n",
        "taro = Human(\"太郎\", 20, \"東京\")\n",
        "taro.talk()"
      ],
      "execution_count": null,
      "outputs": [
        {
          "output_type": "stream",
          "text": [
            "私の名前は花子です\n",
            "私の名前は太郎です\n"
          ],
          "name": "stdout"
        }
      ]
    },
    {
      "cell_type": "markdown",
      "metadata": {
        "id": "0YUd1Glzr1Xb"
      },
      "source": [
        "「**\\_\\_init__**」というメソッドを書くとこれがコンストラクタになる\n",
        "\n",
        "コンストラクタはインスタンス生成のタイミングで呼び出される\n",
        "\n",
        "→　インスタンス生成時に渡している引数(\"花子\", 30, \"大阪\")は、コンストラクタに渡される引数"
      ]
    },
    {
      "cell_type": "markdown",
      "metadata": {
        "id": "gex2KZB7bmbZ"
      },
      "source": [
        "コンストラクタの中ではインスタンス変数の定義がまとめて行われている\n",
        "\n",
        "第一引数selfには、生成したインスタンス（上の例ではhanako）が入り、\n",
        "\n",
        "self以外の引数にはインスタンス生成時に渡された引数が入るので、以下の意味になる（taroの場合も同様）"
      ]
    },
    {
      "cell_type": "code",
      "metadata": {
        "id": "Pa3BMkz7b5vX"
      },
      "source": [
        "hanako.name = \"花子\"\n",
        "hanako.age = 30\n",
        "hanako.born = \"大阪\""
      ],
      "execution_count": null,
      "outputs": []
    },
    {
      "cell_type": "markdown",
      "metadata": {
        "id": "x8FLC7IDtQby"
      },
      "source": [
        "コンストラクタの中の左辺と右辺のどちらにも「name」や「age」という記述があるが、\n",
        "\n",
        "**左辺はインスタンス変数、右辺は引数**であることに注意"
      ]
    },
    {
      "cell_type": "markdown",
      "metadata": {
        "id": "3KEpreMtxSI6"
      },
      "source": [
        "コンストラクタのような特別な意味を持つメソッドを**特殊メソッド**という、コンストラクタの他にも、\n",
        "\n",
        "インスタンスが消去されるときに呼び出されるデストラクタ「\\_\\_del__」というものなどがある"
      ]
    },
    {
      "cell_type": "markdown",
      "metadata": {
        "id": "P2UF3xG7nOHp"
      },
      "source": [
        "## まとめ・ポイント"
      ]
    },
    {
      "cell_type": "markdown",
      "metadata": {
        "id": "6_z0dEVZdlkY"
      },
      "source": [
        "クラスの2つの機能「**カプセル化**」と「**インスタンスの生成**」について学んだ\n"
      ]
    },
    {
      "cell_type": "markdown",
      "metadata": {
        "id": "LkEfiyeId1Wf"
      },
      "source": [
        "**カプセル化**\n",
        "\n",
        "変数と関数をまとめた上で、外部に公開する情報を制限する機能のこと\n",
        "\n",
        "カプセル化によって、\n",
        "\n",
        "*   変数と関数を意味のある一つの部品としてまとめる\n",
        "*   クラスの外部からのアクセスを制限する\n",
        "\n",
        "ことが可能になり**グローバル変数問題を解決**することができた"
      ]
    },
    {
      "cell_type": "markdown",
      "metadata": {
        "id": "Xoy4hEwzeXWI"
      },
      "source": [
        "**インスタンスの生成**\n",
        "\n",
        "クラスからはインスタンスを複数作ることができた\n",
        "\n",
        "クラス・インスタンスを利用すると、共通の処理をもつ複数の実体を扱うときに、\n",
        "\n",
        "**クラスの中に共通処理をまとめて記述できる**というメリットがあった"
      ]
    },
    {
      "cell_type": "markdown",
      "metadata": {
        "id": "Eme0APyL6wDT"
      },
      "source": [
        "## 演習問題①"
      ]
    },
    {
      "cell_type": "markdown",
      "metadata": {
        "id": "Fa2aejgO62u2"
      },
      "source": [
        "合計金額を算出するOrderクラスを定義しましょう！\n",
        "\n",
        "Orderクラスは以下のようなクラスであるとします\n",
        "\n",
        "*   インスタンス変数として単価（price）と数量（count）を持つ\n",
        "*   インスタンス変数の定義はコンストラクタで行われている\n",
        "*   クラス変数として消費税（tax）を持つ、消費税の値は1.1（10%）とする\n",
        "*   単価×数量×消費税で合計金額を算出するtotal_priceメソッドを持つ\n"
      ]
    },
    {
      "cell_type": "code",
      "metadata": {
        "id": "bjTuWa4z638K"
      },
      "source": [
        "#解答はここに記入\n"
      ],
      "execution_count": null,
      "outputs": []
    },
    {
      "cell_type": "markdown",
      "metadata": {
        "id": "6R9FsCjn-F8E"
      },
      "source": [
        "## Pythonはすべてがオブジェクト"
      ]
    },
    {
      "cell_type": "markdown",
      "metadata": {
        "id": "8rhQXGaJ0jXc"
      },
      "source": [
        "**Pythonはすべてのデータ型がオブジェクトである**\n",
        "\n",
        "それぞれのデータ型は以下のクラスから作られたオブジェクト\n",
        "\n",
        "文字列　→　class str\n",
        "\n",
        "整数　　→　class int\n",
        "\n",
        "リスト　→　class list"
      ]
    },
    {
      "cell_type": "markdown",
      "metadata": {
        "id": "dXmmwDdy1tX2"
      },
      "source": [
        "文字列型のデータは、strクラスのオブジェクトなので**メソッドを持つ**"
      ]
    },
    {
      "cell_type": "code",
      "metadata": {
        "id": "xe0BDIDt3sOi",
        "colab": {
          "base_uri": "https://localhost:8080/",
          "height": 53
        },
        "outputId": "14f1e14a-f705-4f4f-d6d8-cc20040effe8"
      },
      "source": [
        "print(type(\"Hello\"))   #type()関数でどのクラスのオブジェクトか確認できる\n",
        "print(\"Hello\".upper()) #メソッドの呼び出し"
      ],
      "execution_count": null,
      "outputs": [
        {
          "output_type": "stream",
          "text": [
            "<class 'str'>\n",
            "HELLO\n"
          ],
          "name": "stdout"
        }
      ]
    },
    {
      "cell_type": "markdown",
      "metadata": {
        "id": "wRTIAg4F6O-b"
      },
      "source": [
        "それぞれのデータ型がどんなメソッドを持つのかは公式ドキュメントで確認できる\n",
        "\n",
        "[公式ドキュメント（str型のメソッド）](https://docs.python.org/ja/3/library/stdtypes.html#string-methods)"
      ]
    },
    {
      "cell_type": "markdown",
      "source": [
        "# コラム：値渡しと参照渡し"
      ],
      "metadata": {
        "id": "djZhNSnUZh81"
      }
    },
    {
      "cell_type": "markdown",
      "source": [
        "関数に引数を渡す方法には、主に**値渡し**と**参照渡し**の2つがあり、\n",
        "\n",
        "現代のプログラミング言語のほとんどは、\n",
        "\n",
        "保守性の向上のメリットから、**値渡し**を採用している\n",
        "\n",
        "\n",
        "\n"
      ],
      "metadata": {
        "id": "75WYjGUaaMAY"
      }
    },
    {
      "cell_type": "markdown",
      "source": [
        "値渡し・参照渡しとは何か？メリット・デメリットは何か？を理解するには、\n",
        "\n",
        "まず**オブジェクトとメモリの関係**について知る必要がある"
      ],
      "metadata": {
        "id": "BKkw55i8LAZW"
      }
    },
    {
      "cell_type": "markdown",
      "source": [
        "## オブジェクトの分類"
      ],
      "metadata": {
        "id": "Ji-DJmL7wlpH"
      }
    },
    {
      "cell_type": "markdown",
      "source": [
        "Pythonに扱うオブジェクトは、大きく次の２軸で分類することができる\n",
        "\n",
        "\n",
        "\n",
        "*   コンテナオブジェクトかどうか\n",
        "*   ミュータブル（mutable）か、イミュータブル（immutable）か\n",
        "\n",
        "\n",
        "\n",
        "\n",
        "\n",
        "\n"
      ],
      "metadata": {
        "id": "PT6davkCw9_l"
      }
    },
    {
      "cell_type": "markdown",
      "source": [
        "### コンテナオブジェクトとは"
      ],
      "metadata": {
        "id": "kd2BgUMowvyc"
      }
    },
    {
      "cell_type": "markdown",
      "source": [
        "他のオブジェクトへの参照を持つオブジェクトのことを**コンテナオブジェクト**という\n",
        "\n",
        "簡単に言えば、リストや辞書のように、要素として**複数のオブジェクトを持てるオブジェクト**のこと\n",
        "\n"
      ],
      "metadata": {
        "id": "SvWzGmbh03hd"
      }
    },
    {
      "cell_type": "markdown",
      "source": [
        "Pythonの組み込みのコンテナオブジェクト（コンテナデータ型）としては、\n",
        "\n",
        "リスト型（list）、辞書型（dict）、集合型（set）、タプル型（tuple）がある"
      ],
      "metadata": {
        "id": "IX05RF4T3aCH"
      }
    },
    {
      "cell_type": "code",
      "source": [
        "hoge_list = [1,2,3] # リスト型\n",
        "hoge_dict= {'first':1, \"second\":2, \"third\":3} # 辞書型\n",
        "hoge_set = {1,2,3} # 集合型\n",
        "hoge_tuple = (1,2,3) # タプル型"
      ],
      "metadata": {
        "id": "S9w9p12q02yh"
      },
      "execution_count": null,
      "outputs": []
    },
    {
      "cell_type": "markdown",
      "source": [
        "集合型は順序がない上に、要素もユニーク（重複がない）"
      ],
      "metadata": {
        "id": "qAz95xwi6MC4"
      }
    },
    {
      "cell_type": "code",
      "source": [
        "hoge_set = {1,2,3} # 集合型\n",
        "print(hoge_set[0]) # 要素に順序はなく、インデックスでアクセスできない"
      ],
      "metadata": {
        "id": "Ssb5SvVz6PFm",
        "colab": {
          "base_uri": "https://localhost:8080/",
          "height": 191
        },
        "outputId": "1f67a4a3-8e13-4c42-985c-881389c2b0b0"
      },
      "execution_count": null,
      "outputs": [
        {
          "output_type": "error",
          "ename": "TypeError",
          "evalue": "ignored",
          "traceback": [
            "\u001b[0;31m---------------------------------------------------------------------------\u001b[0m",
            "\u001b[0;31mTypeError\u001b[0m                                 Traceback (most recent call last)",
            "\u001b[0;32m<ipython-input-1-1141ffffe54a>\u001b[0m in \u001b[0;36m<cell line: 2>\u001b[0;34m()\u001b[0m\n\u001b[1;32m      1\u001b[0m \u001b[0mhoge_set\u001b[0m \u001b[0;34m=\u001b[0m \u001b[0;34m{\u001b[0m\u001b[0;36m1\u001b[0m\u001b[0;34m,\u001b[0m\u001b[0;36m2\u001b[0m\u001b[0;34m,\u001b[0m\u001b[0;36m3\u001b[0m\u001b[0;34m}\u001b[0m \u001b[0;31m# 集合型\u001b[0m\u001b[0;34m\u001b[0m\u001b[0;34m\u001b[0m\u001b[0m\n\u001b[0;32m----> 2\u001b[0;31m \u001b[0mprint\u001b[0m\u001b[0;34m(\u001b[0m\u001b[0mhoge_set\u001b[0m\u001b[0;34m[\u001b[0m\u001b[0;36m0\u001b[0m\u001b[0;34m]\u001b[0m\u001b[0;34m)\u001b[0m \u001b[0;31m# 要素に順序がないので、インデックスでアクセスできない\u001b[0m\u001b[0;34m\u001b[0m\u001b[0;34m\u001b[0m\u001b[0m\n\u001b[0m",
            "\u001b[0;31mTypeError\u001b[0m: 'set' object is not subscriptable"
          ]
        }
      ]
    },
    {
      "cell_type": "code",
      "source": [
        "foo1_set = {1,2,2,3,3,3} # 要素はユニーク（重複がない）\n",
        "print(foo1_set)\n",
        "print({1,2,2,3,3,3} == {1,2,3}) # 同値\n",
        "\n",
        "foo2_set = {4,2,1,3} # 順序がない\n",
        "print(foo2_set)\n",
        "print({4,2,1,3} == {1,2,3,4}) # 同値"
      ],
      "metadata": {
        "id": "58Mr4Sfi685x",
        "colab": {
          "base_uri": "https://localhost:8080/"
        },
        "outputId": "9a5a28a1-ab63-4b68-d76d-18c2ea360efc"
      },
      "execution_count": null,
      "outputs": [
        {
          "output_type": "stream",
          "name": "stdout",
          "text": [
            "{1, 2, 3}\n",
            "True\n",
            "{1, 2, 3, 4}\n",
            "True\n"
          ]
        }
      ]
    },
    {
      "cell_type": "markdown",
      "source": [
        "集合型は主に、以下のような用途で使われる\n",
        "\n",
        "*   集合に属しているかの高速なテスト\n",
        "*   リストなどからの重複の排除\n",
        "*   共通集合・和集合・差・対称差といった数学的な演算の計算"
      ],
      "metadata": {
        "id": "35QMdBSJ68aH"
      }
    },
    {
      "cell_type": "code",
      "source": [
        "# setの使用例（リストでも実現できるが、集合の方がリストよりも高速）\n",
        "\n",
        "def check_existence(n):\n",
        "  hoge_set = {1,2,3,5,7}\n",
        "  if n in hoge_set:\n",
        "    print('集合に含まれます')\n",
        "  else:\n",
        "    print('集合に含まれません')\n",
        "\n",
        "check_existence(3)"
      ],
      "metadata": {
        "colab": {
          "base_uri": "https://localhost:8080/"
        },
        "id": "vTvM5SifkuGv",
        "outputId": "63ca5bfb-d7b5-4503-9929-78fdd56bd9c7"
      },
      "execution_count": null,
      "outputs": [
        {
          "output_type": "stream",
          "name": "stdout",
          "text": [
            "集合に含まれます\n"
          ]
        }
      ]
    },
    {
      "cell_type": "markdown",
      "source": [
        "リストとタプルの違いは、要素の変更が可能（ミュータブル）\n",
        "かどうか"
      ],
      "metadata": {
        "id": "lnY4ThbO5g1k"
      }
    },
    {
      "cell_type": "markdown",
      "source": [
        "### ミュータブル（mutable）とイミュータブル（immutable）"
      ],
      "metadata": {
        "id": "wWVZ8Rr6u6lU"
      }
    },
    {
      "cell_type": "markdown",
      "source": [
        "オブジェクトには**変更可能（mutable）な型**と、**変更不可能（immutable）な型がある**\n",
        "\n",
        "**ミュータブルなデータ型**　　→　リスト型（list）、辞書型（dict）、集合型（set）など\n",
        "\n",
        "**イミュータブルなデータ型**　→　数値型（int,floatなど）、文字列型（str）、タプル型（tuple）など"
      ],
      "metadata": {
        "id": "Wy7foAW2wGCP"
      }
    },
    {
      "cell_type": "code",
      "source": [
        "hoge_list = [1,2,3] # リスト型\n",
        "hoge_list[0] = 0 # リストはミュータブルなので要素の変更が可能\n",
        "print(hoge_list)"
      ],
      "metadata": {
        "id": "c4j2Qa0b0uEy",
        "colab": {
          "base_uri": "https://localhost:8080/"
        },
        "outputId": "e444dd81-9fef-478d-ff53-4ce0702b5d43"
      },
      "execution_count": null,
      "outputs": [
        {
          "output_type": "stream",
          "name": "stdout",
          "text": [
            "[0, 2, 3]\n"
          ]
        }
      ]
    },
    {
      "cell_type": "code",
      "source": [
        "hoge_tuple = (1,2,3) # タプル型\n",
        "hoge_tuple[0] = 0 # tupleはイミュータブルなので要素の変更ができない"
      ],
      "metadata": {
        "colab": {
          "base_uri": "https://localhost:8080/",
          "height": 191
        },
        "id": "wSv-4xIju5Hg",
        "outputId": "6090aec6-5715-4c65-f324-04015ae98f9b"
      },
      "execution_count": null,
      "outputs": [
        {
          "output_type": "error",
          "ename": "TypeError",
          "evalue": "ignored",
          "traceback": [
            "\u001b[0;31m---------------------------------------------------------------------------\u001b[0m",
            "\u001b[0;31mTypeError\u001b[0m                                 Traceback (most recent call last)",
            "\u001b[0;32m<ipython-input-6-ff198d32be79>\u001b[0m in \u001b[0;36m<cell line: 2>\u001b[0;34m()\u001b[0m\n\u001b[1;32m      1\u001b[0m \u001b[0mhoge_tuple\u001b[0m \u001b[0;34m=\u001b[0m \u001b[0;34m(\u001b[0m\u001b[0;36m1\u001b[0m\u001b[0;34m,\u001b[0m\u001b[0;36m2\u001b[0m\u001b[0;34m,\u001b[0m\u001b[0;36m3\u001b[0m\u001b[0;34m)\u001b[0m \u001b[0;31m# タプル型\u001b[0m\u001b[0;34m\u001b[0m\u001b[0;34m\u001b[0m\u001b[0m\n\u001b[0;32m----> 2\u001b[0;31m \u001b[0mhoge_tuple\u001b[0m\u001b[0;34m[\u001b[0m\u001b[0;36m0\u001b[0m\u001b[0;34m]\u001b[0m \u001b[0;34m=\u001b[0m \u001b[0;36m0\u001b[0m \u001b[0;31m#　tupleはイミュータブルなので要素の変更ができない\u001b[0m\u001b[0;34m\u001b[0m\u001b[0;34m\u001b[0m\u001b[0m\n\u001b[0m",
            "\u001b[0;31mTypeError\u001b[0m: 'tuple' object does not support item assignment"
          ]
        }
      ]
    },
    {
      "cell_type": "markdown",
      "source": [
        "イミュータブル（変更不可能）なオブジェクトも、\n",
        "\n",
        "変数への再代入による、値の**交換**は可能\n"
      ],
      "metadata": {
        "id": "UpZA49QfLxeH"
      }
    },
    {
      "cell_type": "code",
      "source": [
        "a = 1\n",
        "a = 2 # 再代入して変数の値を交換\n",
        "print(a)"
      ],
      "metadata": {
        "colab": {
          "base_uri": "https://localhost:8080/"
        },
        "id": "8HIdOA54MGa4",
        "outputId": "0d1502ea-d796-46fe-9bc9-37290ec0727e"
      },
      "execution_count": null,
      "outputs": [
        {
          "output_type": "stream",
          "name": "stdout",
          "text": [
            "2\n"
          ]
        }
      ]
    },
    {
      "cell_type": "markdown",
      "source": [
        "1という値のオブジェクト自体が変更されているわけではなく、\n",
        "\n",
        "変数aに値が2のオブジェクトが格納されただけ\n",
        "\n",
        "1というオブジェクトの値が、2に変更されたわけではない"
      ],
      "metadata": {
        "id": "iYeGCPO6-ixs"
      }
    },
    {
      "cell_type": "code",
      "source": [
        "hoge_tuple = (1,2,3)\n",
        "hoge_tuple = (2,3,4) # tupleも値の交換は可能\n",
        "print(hoge_tuple)"
      ],
      "metadata": {
        "colab": {
          "base_uri": "https://localhost:8080/"
        },
        "id": "MGG1WV9_VZ2O",
        "outputId": "7d3cf8da-cbea-4b10-982b-e1161c81d577"
      },
      "execution_count": null,
      "outputs": [
        {
          "output_type": "stream",
          "name": "stdout",
          "text": [
            "(2, 3, 4)\n"
          ]
        }
      ]
    },
    {
      "cell_type": "markdown",
      "source": [
        "## オブジェクトとメモリ"
      ],
      "metadata": {
        "id": "gIYtJtoT5PSu"
      }
    },
    {
      "cell_type": "markdown",
      "source": [
        "コンテナオブジェクトと、ミュータブル・イミュータブルについて深く理解するには、\n",
        "\n",
        "Pythonでオブジェクトを扱う際に、**メモリがどう使われているのか？**を知る必要がある\n",
        "\n",
        "⇒ OOPと同様に、プログラミング中級者になるためには理解必須\n"
      ],
      "metadata": {
        "id": "GXmb3J9I_oMK"
      }
    },
    {
      "cell_type": "markdown",
      "source": [
        "Pythonにおいて、すべてのオブジェクトは、**型・値・アドレス**を持つ\n",
        "\n",
        "*   **型**：int型やstr型など\n",
        "*   **値**：1や'Hello'など\n",
        "*   **アドレス**；オブジェクトがメモリのどの場所に格納されているか"
      ],
      "metadata": {
        "id": "66N7J_IpvHAM"
      }
    },
    {
      "cell_type": "markdown",
      "source": [
        "コンピュータには、**メモリ**と呼ばれるデータを格納するための箱が用意されており、\n",
        "\n",
        "メモリには場所ごとに**アドレス**（住所）が割り振られている\n",
        "\n",
        "\n",
        "\n",
        "\n",
        "\n",
        "\n"
      ],
      "metadata": {
        "id": "nV4zpWTHA7xN"
      }
    },
    {
      "cell_type": "markdown",
      "source": [
        "![オブジェクトとメモリ図解.png](data:image/png;base64,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)"
      ],
      "metadata": {
        "id": "mT4S6tfh1NX_"
      }
    },
    {
      "cell_type": "markdown",
      "source": [
        "![オブジェクトとメモリ図解 (1).png](data:image/png;base64,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)"
      ],
      "metadata": {
        "id": "ZOu8SyzX1Xt8"
      }
    },
    {
      "cell_type": "markdown",
      "source": [
        "変数は、具体的なメモリアドレスを隠蔽して、\n",
        "\n",
        "人間にとってわかりやすい文字でアドレスを扱えるようにするための仕組み、と言える"
      ],
      "metadata": {
        "id": "sTGnQCtdYQNT"
      }
    },
    {
      "cell_type": "markdown",
      "source": [
        "オブジェクトによって、格納に必要な容量は異なる\n",
        "\n",
        "同じデータ型でも、値や実行環境によっても変わる"
      ],
      "metadata": {
        "id": "lGmkMfrbYYlo"
      }
    },
    {
      "cell_type": "markdown",
      "source": [
        "オブジェクトの容量を確認するには、**sysモジュールのgetsizeof()**が使える"
      ],
      "metadata": {
        "id": "lzRHLAEnZqmI"
      }
    },
    {
      "cell_type": "code",
      "source": [
        "import sys\n",
        "\n",
        "print(sys.getsizeof(1)) # int型\n",
        "print(sys.getsizeof('abc')) # str型\n",
        "print(sys.getsizeof([1,2,3])) # list型\n",
        "print(sys.getsizeof({'first':1, \"second\":2, \"third\":3})) # dict型\n",
        "print(sys.getsizeof({1,2,3})) # set型"
      ],
      "metadata": {
        "colab": {
          "base_uri": "https://localhost:8080/"
        },
        "id": "aeEfT-MQYYN9",
        "outputId": "93ca3594-657b-407b-e6c3-d379aaa48ba5"
      },
      "execution_count": null,
      "outputs": [
        {
          "output_type": "stream",
          "name": "stdout",
          "text": [
            "28\n",
            "52\n",
            "120\n",
            "232\n",
            "216\n"
          ]
        }
      ]
    },
    {
      "cell_type": "markdown",
      "source": [
        "オブジェクトのメモリアドレスを知るには、**[id()](https://docs.python.org/ja/3/library/functions.html#id)**が使える\n",
        "\n",
        "id()では、メモリの先頭番号が表示される"
      ],
      "metadata": {
        "id": "Bn52bQBEZy-1"
      }
    },
    {
      "cell_type": "code",
      "source": [
        "a = 1\n",
        "b = 'abc'\n",
        "c = [1,2,3]\n",
        "\n",
        "print(id(a))\n",
        "print(id(b))\n",
        "print(id(c))"
      ],
      "metadata": {
        "colab": {
          "base_uri": "https://localhost:8080/"
        },
        "id": "LNz8xbFSZ5DW",
        "outputId": "0af6dd70-a4c3-4c52-e2dd-b34a93914b5a"
      },
      "execution_count": null,
      "outputs": [
        {
          "output_type": "stream",
          "name": "stdout",
          "text": [
            "140309000378672\n",
            "140308999741040\n",
            "140307735421824\n"
          ]
        }
      ]
    },
    {
      "cell_type": "markdown",
      "source": [
        "## メモリの観点でコンテナオブジェクトを理解する"
      ],
      "metadata": {
        "id": "ZymqrxJTavRY"
      }
    },
    {
      "cell_type": "markdown",
      "source": [
        "他のオブジェクトへの**参照**を持つオブジェクトのことをコンテナオブジェクトという\n",
        "\n",
        "⇒ 参照とは、メモリアドレスのこと"
      ],
      "metadata": {
        "id": "pGl7qnL-bpiC"
      }
    },
    {
      "cell_type": "markdown",
      "source": [
        "コンテナオブジェクト以外の場合は、**値**がメモリに入っており、\n",
        "\n",
        "コンテナオブジェクトの場合は、**要素のメモリアドレス**が入っている\n",
        "\n",
        "とイメージしよう\n",
        "\n",
        "\n"
      ],
      "metadata": {
        "id": "N4enFYL9CD0J"
      }
    },
    {
      "cell_type": "markdown",
      "source": [
        "例えば、\n",
        "\n",
        "```\n",
        "list_a = [1,2,3]\n",
        "```\n",
        "\n",
        "このリストなら、以下の画像のイメージ"
      ],
      "metadata": {
        "id": "0RHwbHQfZ4rU"
      }
    },
    {
      "cell_type": "markdown",
      "source": [
        "![オブジェクトとメモリ図解.png](data:image/png;base64,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)"
      ],
      "metadata": {
        "id": "zagHC8tTaTdN"
      }
    },
    {
      "cell_type": "markdown",
      "source": [
        "## メモリの観点でミュータブルとイミュータブルを理解する"
      ],
      "metadata": {
        "id": "UiWTBk6ibYyA"
      }
    },
    {
      "cell_type": "markdown",
      "source": [
        "ミュータブルなオブジェクトは、\n",
        "\n",
        "**アドレス**を変えずに**値**を変えることができるオブジェクトと言える"
      ],
      "metadata": {
        "id": "xTf_GX5YB8hm"
      }
    },
    {
      "cell_type": "markdown",
      "source": [
        "例えばリスト型なら、\n",
        "\n",
        "アドレスはそのままで、要素の値を変更することができる"
      ],
      "metadata": {
        "id": "mD1H7G84CW_V"
      }
    },
    {
      "cell_type": "code",
      "source": [
        "m = [1]\n",
        "print(id(m))\n",
        "print(m)\n",
        "\n",
        "m[0] = 2\n",
        "print(id(m)) # リストのオブジェクトのアドレスは変わらず\n",
        "print(m) # リストのオブジェクトの値は変わっている"
      ],
      "metadata": {
        "colab": {
          "base_uri": "https://localhost:8080/"
        },
        "id": "xAL5iGJEDdiP",
        "outputId": "3126525f-454a-4cb1-a3f9-c7f6aef136d5"
      },
      "execution_count": null,
      "outputs": [
        {
          "output_type": "stream",
          "name": "stdout",
          "text": [
            "139982022073664\n",
            "[1]\n",
            "139982022073664\n",
            "[2]\n"
          ]
        }
      ]
    },
    {
      "cell_type": "markdown",
      "source": [
        "一方で、整数型ならアドレスを変えずに値を変えることはできず、\n",
        "\n",
        "値が変わるならアドレスも変わる（オブジェクトの交換）"
      ],
      "metadata": {
        "id": "C8TYMF5hCnaO"
      }
    },
    {
      "cell_type": "code",
      "source": [
        "i = 1\n",
        "print(id(i))\n",
        "i = 2\n",
        "print(id(i))"
      ],
      "metadata": {
        "colab": {
          "base_uri": "https://localhost:8080/"
        },
        "id": "mYVfk7dYpbZp",
        "outputId": "d17dda4b-3fd1-43a2-869c-65f5233bb582"
      },
      "execution_count": null,
      "outputs": [
        {
          "output_type": "stream",
          "name": "stdout",
          "text": [
            "139982508130544\n",
            "139982508130576\n"
          ]
        }
      ]
    },
    {
      "cell_type": "code",
      "source": [
        "m = [1]\n",
        "print(id(m))\n",
        "print(id(m[0]))\n",
        "\n",
        "m[0] = 2\n",
        "print(id(m)) # リストのオブジェクトのアドレスは変わらず\n",
        "print(id(m[0])) # m[0]が指すアドレスが変わっている"
      ],
      "metadata": {
        "colab": {
          "base_uri": "https://localhost:8080/"
        },
        "id": "Gb-l2GQ0lF1L",
        "outputId": "b850010a-eef7-45ac-cb85-c68f8805eb61"
      },
      "execution_count": null,
      "outputs": [
        {
          "output_type": "stream",
          "name": "stdout",
          "text": [
            "139981260652288\n",
            "139982508130544\n",
            "139981260652288\n",
            "139982508130576\n"
          ]
        }
      ]
    },
    {
      "cell_type": "markdown",
      "source": [
        "## 値渡し（call by value）とは"
      ],
      "metadata": {
        "id": "kCDFAOVnATea"
      }
    },
    {
      "cell_type": "markdown",
      "metadata": {
        "id": "7070KC5V-Lg4"
      },
      "source": [
        "\n",
        "関数に引数の値を**コピーして渡す**方法"
      ]
    },
    {
      "cell_type": "markdown",
      "source": [
        "\n",
        "\n",
        "```\n",
        "def hoge(a):\n",
        "  a += 1\n",
        "\n",
        "x = 1\n",
        "hoge(x)\n",
        "print(x)  # 出力は 1\n",
        "```\n",
        "\n"
      ],
      "metadata": {
        "id": "OLpj4BttbfDO"
      }
    },
    {
      "cell_type": "markdown",
      "source": [
        "![オブジェクトとメモリ図解 (3).png](data:image/png;base64,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)"
      ],
      "metadata": {
        "id": "8Me-k3Gc3l-I"
      }
    },
    {
      "cell_type": "markdown",
      "metadata": {
        "id": "fivaYmSr_Ezm"
      },
      "source": [
        "関数hogeには変数xそのものではなくコピーした値を渡すので、\n",
        "\n",
        "関数hogeが実行されても変数xの値は変わらない"
      ]
    },
    {
      "cell_type": "markdown",
      "source": [
        "## 参照渡し（call by reference）とは"
      ],
      "metadata": {
        "id": "aI1HiTRlAXXe"
      }
    },
    {
      "cell_type": "markdown",
      "metadata": {
        "id": "SGLiUVAM_kav"
      },
      "source": [
        "\n",
        "\n",
        "関数に引数の**値への参照を渡す**方法\n"
      ]
    },
    {
      "cell_type": "markdown",
      "source": [
        "```\n",
        "def hoge(a):\n",
        "  a += 1\n",
        "\n",
        "x = 1\n",
        "hoge(x)\n",
        "print(x)  # 出力は 2\n",
        "```"
      ],
      "metadata": {
        "id": "Uh1YLdCxb9sF"
      }
    },
    {
      "cell_type": "markdown",
      "source": [
        "![オブジェクトとメモリ図解 (4).png](data:image/png;base64,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)"
      ],
      "metadata": {
        "id": "BXyhCaO0cPH2"
      }
    },
    {
      "cell_type": "markdown",
      "source": [
        "関数hogeには変数xそのもの（変数xのメモリアドレス）を渡すので、\n",
        "\n",
        "関数hogeが実行されると変数xの値が変わる"
      ],
      "metadata": {
        "id": "Jg8OdYXJcPda"
      }
    },
    {
      "cell_type": "markdown",
      "source": [
        "## 参照渡しの問題点、値渡しのメリット"
      ],
      "metadata": {
        "id": "uj_W8WlMHDxQ"
      }
    },
    {
      "cell_type": "markdown",
      "source": [
        "同一の値を複数の場所から参照するようにすると、\n",
        "\n",
        "値がどこから変更されるか予測しづらい上に、変更された場合、変更の範囲がとても大きくなってしまう\n",
        "\n",
        "⇒ **グローバル変数と似たような問題**が発生する"
      ],
      "metadata": {
        "id": "YAyFBqba47XO"
      }
    },
    {
      "cell_type": "markdown",
      "source": [
        "値渡しをすると、データの共有を最小限にできるので、保守性が向上する\n",
        "\n",
        "⇒ ローカル変数と同じようなメリット\n"
      ],
      "metadata": {
        "id": "fwUdmTJIWvEP"
      }
    },
    {
      "cell_type": "markdown",
      "source": [
        "参照渡しの唯一のメリットは、オブジェクトを共有することにより、\n",
        "\n",
        "オブジェクト生成の時間がかからなかったり、メモリを節約できたりするため、\n",
        "\n",
        "**パフォーマンス的に値渡しよりも優れる場合がある**\n",
        "\n"
      ],
      "metadata": {
        "id": "MQkiXi1i4jjy"
      }
    },
    {
      "cell_type": "markdown",
      "source": [
        "現代のソフトウェア開発環境では、コンピュータの性能よりも、人間の注意力がボトルネックになる\n",
        "\n",
        "⇒ プログラムが複雑になることのデメリットの方が大きくなることが多い\n",
        "\n",
        "⇒ 最近のプログラミング言語のほとんどでは、値渡しが採用されている"
      ],
      "metadata": {
        "id": "ySPqWuA_WXKB"
      }
    },
    {
      "cell_type": "markdown",
      "source": [
        "## Pythonは値渡し"
      ],
      "metadata": {
        "id": "LFWJMbypZrK9"
      }
    },
    {
      "cell_type": "markdown",
      "source": [
        "Pythonも、値渡しのプログラミング言語\n",
        "\n",
        "\n",
        "\n"
      ],
      "metadata": {
        "id": "sojh2eT4ZPQS"
      }
    },
    {
      "cell_type": "code",
      "source": [
        "#先ほど掲載した、値渡しの場合の振る舞いのコード\n",
        "\n",
        "def hoge(a):\n",
        "  a += 1\n",
        "\n",
        "x = 1\n",
        "hoge(x)\n",
        "print(x)  # 出力は 1、もし参照渡しなら 2　になる"
      ],
      "metadata": {
        "colab": {
          "base_uri": "https://localhost:8080/"
        },
        "id": "4gjiUye-XLUT",
        "outputId": "955b57e4-df65-40f9-b426-feb105efa285"
      },
      "execution_count": null,
      "outputs": [
        {
          "output_type": "stream",
          "name": "stdout",
          "text": [
            "1\n"
          ]
        }
      ]
    },
    {
      "cell_type": "markdown",
      "source": [
        "Web上の記事では、「Pythonは参照渡しである」との記述も多いが、これは間違い\n",
        "\n",
        "勘違いしやすいのは、以下のコードのような振る舞いになるから\n"
      ],
      "metadata": {
        "id": "AdBDKn7fehjh"
      }
    },
    {
      "cell_type": "code",
      "source": [
        "def foo1(a):\n",
        "  a[0] = 0\n",
        "\n",
        "x = [1,2]\n",
        "foo1(x)\n",
        "print(x) # 中身が変更されている"
      ],
      "metadata": {
        "colab": {
          "base_uri": "https://localhost:8080/"
        },
        "id": "CIcRtlTNdK0q",
        "outputId": "f0e9b54f-d222-4a68-f0da-cb3a78b5c657"
      },
      "execution_count": null,
      "outputs": [
        {
          "output_type": "stream",
          "name": "stdout",
          "text": [
            "[0, 2]\n"
          ]
        }
      ]
    },
    {
      "cell_type": "markdown",
      "source": [
        "関数内での操作によって、引数で渡したリストが変更されている\n",
        "\n",
        "⇒ 引数に渡した値そのものが変更されているので、参照渡し？\n",
        "\n",
        "⇒ 実際には、**オブジェクトの参照を値渡し**している"
      ],
      "metadata": {
        "id": "jC5wwgpPfdnH"
      }
    },
    {
      "cell_type": "markdown",
      "source": [
        "### 参照の値渡し（call by sharing）とは"
      ],
      "metadata": {
        "id": "-ed-9MBBsGIo"
      }
    },
    {
      "cell_type": "markdown",
      "source": [
        "参照の値渡し（call by sharing）について理解するために、\n",
        "\n",
        "CPythonにおいてリストがどのように実装されているかを知ろう"
      ],
      "metadata": {
        "id": "WXfA5vuXYk-W"
      }
    },
    {
      "cell_type": "markdown",
      "source": [
        "CPythonとは？\n",
        "\n",
        "⇒ Pythonのいくつかある実装のひとつで、もっとも代表的なもの。C言語で実装されている。\n",
        "\n",
        "*   Python：言語仕様\n",
        "*   CPythonやJythonなど：Pythonの具体的な実装\n",
        "\n",
        "Pythonで定められている仕様の実現方法が、実装によって異なる場合もある"
      ],
      "metadata": {
        "id": "LYY70dW_ZGRY"
      }
    },
    {
      "cell_type": "markdown",
      "source": [
        "例えば、\n",
        "\n",
        "```\n",
        "list_a = [1,2]\n",
        "```\n",
        "このリストでは、以下の図のようにメモリが使われている\n"
      ],
      "metadata": {
        "id": "uNKy-paAZ8St"
      }
    },
    {
      "cell_type": "markdown",
      "source": [
        "![オブジェクトとメモリ図解 (5).png](data:image/png;base64,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)"
      ],
      "metadata": {
        "id": "k9dnnpRa6nDr"
      }
    },
    {
      "cell_type": "markdown",
      "source": [
        "\n",
        "\n",
        "```\n",
        "list_a = [1,2]\n",
        "list_a[0] = 0\n",
        "```\n",
        "\n",
        "上記のように要素の値を交換した場合、以下の図のようになる\n"
      ],
      "metadata": {
        "id": "5EYhIzV6aZoQ"
      }
    },
    {
      "cell_type": "markdown",
      "source": [
        "![オブジェクトとメモリ図解 (1).png](data:image/png;base64,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)"
      ],
      "metadata": {
        "id": "4ICk9X8RdrbF"
      }
    },
    {
      "cell_type": "markdown",
      "source": [
        "参照の値渡しとは？\n",
        "\n",
        "⇒ その名の通り、**参照（メモリアドレス）を値渡し**する"
      ],
      "metadata": {
        "id": "GMm9gXIjdy_-"
      }
    },
    {
      "cell_type": "code",
      "source": [
        "def foo1(a):\n",
        "  a[0] = 0\n",
        "\n",
        "x = [1,2,3]\n",
        "foo1(x)\n",
        "print(x) # 中身が変更されている"
      ],
      "metadata": {
        "colab": {
          "base_uri": "https://localhost:8080/"
        },
        "id": "GJwX39SSbkD1",
        "outputId": "dc3a1432-f595-4b6e-d61e-30c2dae65e8a"
      },
      "execution_count": null,
      "outputs": [
        {
          "output_type": "stream",
          "name": "stdout",
          "text": [
            "[0, 2, 3]\n"
          ]
        }
      ]
    },
    {
      "cell_type": "markdown",
      "source": [
        "![オブジェクトとメモリ図解 (2).png](data:image/png;base64,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)"
      ],
      "metadata": {
        "id": "VjdvWPgAfWxU"
      }
    },
    {
      "cell_type": "markdown",
      "source": [
        "![オブジェクトとメモリ図解 (7).png](data:image/png;base64,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)"
      ],
      "metadata": {
        "id": "_FSx0m8kAw1M"
      }
    },
    {
      "cell_type": "markdown",
      "source": [
        "仮に参照渡しならば、以下のコードの挙動は説明できない"
      ],
      "metadata": {
        "id": "zqIa_3zrjLPj"
      }
    },
    {
      "cell_type": "code",
      "source": [
        "def foo2(a):\n",
        "  a = [4,5,6]\n",
        "\n",
        "x = [1,2,3]\n",
        "foo2(x)\n",
        "print(x) # 変更されない"
      ],
      "metadata": {
        "colab": {
          "base_uri": "https://localhost:8080/"
        },
        "id": "zWOnvn-OgGYj",
        "outputId": "add1a36e-3998-4a99-a4a4-14b76fcbe4da"
      },
      "execution_count": null,
      "outputs": [
        {
          "output_type": "stream",
          "name": "stdout",
          "text": [
            "[1, 2, 3]\n"
          ]
        }
      ]
    },
    {
      "cell_type": "markdown",
      "source": [
        "より詳しく知りたい方は、公式ドキュメントの以下のページを参照してください\n",
        "\n",
        "*   [3. データモデル](https://docs.python.org/ja/3/reference/datamodel.html?highlight=mutable)\n",
        "*   [4.7. 関数を定義する](https://docs.python.org/ja/3/tutorial/controlflow.html#defining-functions)\n",
        "*   [CPythonでリストはどのように実装されているのですか？](https://docs.python.org/ja/3/faq/design.html#how-are-lists-implemented-in-cpython)"
      ],
      "metadata": {
        "id": "EjrjSVrPhNVw"
      }
    },
    {
      "cell_type": "markdown",
      "source": [
        "## おまけ：is演算子と==演算子"
      ],
      "metadata": {
        "id": "LWsbiK7F82zi"
      }
    },
    {
      "cell_type": "markdown",
      "source": [
        "オブジェクトとメモリの関係を理解できると、\n",
        "\n",
        "is 演算子と == 演算子の違いも、すっきりと理解できる\n",
        "\n",
        "\n"
      ],
      "metadata": {
        "id": "fHRSS_bpKrGJ"
      }
    },
    {
      "cell_type": "markdown",
      "source": [
        "*   同じアドレスのオブジェクト　⇒　同一（is 演算子がTrue）\n",
        "*   同じ値のオブジェクト　⇒　同値（== 演算子がTrue）"
      ],
      "metadata": {
        "id": "Q0D5fEdlLZaD"
      }
    },
    {
      "cell_type": "code",
      "source": [
        "list1 = [1,2,3]\n",
        "list2 = [1,2,3]\n",
        "\n",
        "print(id(list1))\n",
        "print(id(list2))\n",
        "\n",
        "print(list1 is list2)\n",
        "print(list1 == list2)"
      ],
      "metadata": {
        "colab": {
          "base_uri": "https://localhost:8080/"
        },
        "id": "ViIdRUvPK1dv",
        "outputId": "62215a59-1b82-4724-eded-43b104b33e5a"
      },
      "execution_count": null,
      "outputs": [
        {
          "output_type": "stream",
          "name": "stdout",
          "text": [
            "140665654761280\n",
            "140665189216768\n",
            "False\n",
            "True\n"
          ]
        }
      ]
    },
    {
      "cell_type": "markdown",
      "source": [
        "イミュータブルなオブジェクトなら、値が変更されることはないので、\n",
        "\n",
        "同じオブジェクトを参照しても問題が発生しない（むしろ、パフォーマンス的に優れる）\n",
        "\n"
      ],
      "metadata": {
        "id": "iAQCzvX2MfKW"
      }
    },
    {
      "cell_type": "code",
      "source": [
        "a = 1\n",
        "b = 1\n",
        "\n",
        "print(id(a))\n",
        "print(id(b))\n",
        "\n",
        "print(a is b)\n",
        "print(a == b)"
      ],
      "metadata": {
        "colab": {
          "base_uri": "https://localhost:8080/"
        },
        "id": "mTTJK34vMLs5",
        "outputId": "14cbd9fb-793e-40ed-b330-c99f585daaa5"
      },
      "execution_count": null,
      "outputs": [
        {
          "output_type": "stream",
          "name": "stdout",
          "text": [
            "140665675448560\n",
            "140665675448560\n",
            "True\n",
            "True\n"
          ]
        }
      ]
    },
    {
      "cell_type": "markdown",
      "metadata": {
        "id": "iv9LEXU3RMPJ"
      },
      "source": [
        "# 継承"
      ]
    },
    {
      "cell_type": "markdown",
      "metadata": {
        "id": "fWGniaKs0yb3"
      },
      "source": [
        "**既存のクラスが持つ変数とメソッドを引き継いで（継承して）、新しいクラスを作る仕組み**"
      ]
    },
    {
      "cell_type": "markdown",
      "metadata": {
        "id": "Zbzgp5hg7TAa"
      },
      "source": [
        "継承を実装するには以下のように書く（ClassAクラスを継承したClassBクラスを定義）"
      ]
    },
    {
      "cell_type": "code",
      "metadata": {
        "id": "c8MyB7q07Y6Y"
      },
      "source": [
        "class ClassB(ClassA):\n",
        "  クラス内部の記述"
      ],
      "execution_count": null,
      "outputs": []
    },
    {
      "cell_type": "markdown",
      "metadata": {
        "id": "eHnSqhTJ6ANk"
      },
      "source": [
        "例：SuperClassクラスを継承したSubClassクラスを定義する"
      ]
    },
    {
      "cell_type": "code",
      "metadata": {
        "id": "9KWkdXgr1UV6",
        "colab": {
          "base_uri": "https://localhost:8080/",
          "height": 71
        },
        "outputId": "290dbdff-6497-484b-bcb7-5ce9510f3e4a"
      },
      "source": [
        "class SuperClass:\n",
        "  spr = \"スーパー\"\n",
        "\n",
        "  def super_print(self):\n",
        "    print(\"スーパークラスのメソッドです\")\n",
        "\n",
        "\n",
        "class SubClass(SuperClass): #SuperClassを継承\n",
        "  def sub_print(self):\n",
        "    print(\"サブクラスのメソッドです\")\n",
        "\n",
        "  def spr_print(self):\n",
        "    print(self.spr)\n",
        "\n",
        "\n",
        "obj = SubClass()\n",
        "obj.super_print()\n",
        "obj.sub_print()\n",
        "obj.spr_print()"
      ],
      "execution_count": null,
      "outputs": [
        {
          "output_type": "stream",
          "text": [
            "スーパークラスのメソッドです\n",
            "サブクラスのメソッドです\n",
            "スーパー\n"
          ],
          "name": "stdout"
        }
      ]
    },
    {
      "cell_type": "markdown",
      "metadata": {
        "id": "rO-VLSBk62bY"
      },
      "source": [
        "上のプログラムを見るとSubClassのオブジェクト（obj）が、\n",
        "\n",
        "SuperClassのメソッド（super_print）とクラス変数（spr）を使っているのがわかる\n",
        "\n",
        "このように継承を用いると、継承元のクラスの変数とメソッドを継承先のクラスで利用できる\n",
        "\n",
        "→　**既存のクラスを修正せずに機能追加が可能になる**　→　**保守性・再利用性の向上**"
      ]
    },
    {
      "cell_type": "markdown",
      "metadata": {
        "id": "84mRjOmP_HHa"
      },
      "source": [
        "継承先のクラスをサブクラス（子クラス）、継承元のクラスをスーパークラス（親クラス）と呼ぶ"
      ]
    },
    {
      "cell_type": "markdown",
      "metadata": {
        "id": "XxAhT74n69Op"
      },
      "source": [
        "また継承は見方を変えると、**クラスの共通部分を別クラスとしてまとめる仕組み**とも言える\n",
        "\n",
        "以下の2つのクラスを見てみると、プログラムの内容に共通する部分が多いことがわかる"
      ]
    },
    {
      "cell_type": "code",
      "metadata": {
        "id": "4_J2QkxF7Ab_"
      },
      "source": [
        "class Teacher:\n",
        "  def __init__(self, name):\n",
        "    self.name = name\n",
        "\n",
        "  def hello(self):\n",
        "    print(\"私の名前は\" + self.name + \"です\")\n",
        "\n",
        "  def teach(self, student):\n",
        "    print(student + \"に教えた\")\n",
        "\n",
        "\n",
        "class Programmer:\n",
        "  def __init__(self, name):\n",
        "    self.name = name\n",
        "\n",
        "  def hello(self):\n",
        "    print(\"私の名前は\" + self.name + \"です\")\n",
        "\n",
        "  def programming(self, lang):\n",
        "    print(lang + \"でプログラミング\")"
      ],
      "execution_count": null,
      "outputs": []
    },
    {
      "cell_type": "markdown",
      "metadata": {
        "id": "0TAryls6yPv1"
      },
      "source": [
        "継承を使うとこのコードの共通部分をまとめることができる"
      ]
    },
    {
      "cell_type": "code",
      "metadata": {
        "id": "o7PIyYEDyWYF",
        "colab": {
          "base_uri": "https://localhost:8080/",
          "height": 89
        },
        "outputId": "6f22d5c5-6ba9-44b9-e723-7a1feb20a023"
      },
      "source": [
        "class Worker: #共通部分を抽出したWorkerクラスを定義\n",
        "  def __init__(self, name):\n",
        "    self.name = name\n",
        "\n",
        "  def hello(self):\n",
        "    print(\"私の名前は\" + self.name + \"です\")\n",
        "\n",
        "\n",
        "class Teacher(Worker): #Workerクラスの継承でシンプルな記述に\n",
        "  def teach(self, student):\n",
        "    print(self.name + \"は、\" + student + \"に教えた\")\n",
        "\n",
        "class Programmer(Worker):\n",
        "  def programming(self, lang):\n",
        "    print(self.name + \"は、\" + lang + \"でプログラミング\")\n",
        "\n",
        "teacher = Teacher(\"金八\")\n",
        "programmer = Programmer(\"松本\")\n",
        "teacher.hello()\n",
        "teacher.teach(\"杉田\")\n",
        "programmer.hello()\n",
        "programmer.programming(\"Ruby\")"
      ],
      "execution_count": null,
      "outputs": [
        {
          "output_type": "stream",
          "text": [
            "私の名前は金八です\n",
            "金八は、杉田に教えた\n",
            "私の名前は松本です\n",
            "松本は、Rubyでプログラミング\n"
          ],
          "name": "stdout"
        }
      ]
    },
    {
      "cell_type": "markdown",
      "metadata": {
        "id": "Ypx07WG-0mO4"
      },
      "source": [
        "TeacherクラスとProgrammerクラスはWorkerクラスを継承している\n",
        "\n",
        "2つのクラスの共通部分をWorkerクラスにまとめた上で、Workerクラスを継承している\n",
        "\n"
      ]
    },
    {
      "cell_type": "markdown",
      "metadata": {
        "id": "DNV_uoHQBP6D"
      },
      "source": [
        "共通部分をまとめると、以下のようなメリットがある\n",
        "\n",
        "*   プログラムの記述量が少なくなり、見通しが良くなる\n",
        "*   他の職業のクラスを定義するのが簡単になる\n",
        "*   共通部分の変更が容易になる\n",
        "\n",
        "共通部分をまとめることで、**プログラムの保守性・再利用性を向上**させている"
      ]
    },
    {
      "cell_type": "markdown",
      "metadata": {
        "id": "aXL4DHAnAcRp"
      },
      "source": [
        "継承は「**is-a関係**」と言われる「Teacher is a Worker.（教師は労働者の一種である）」\n",
        "\n",
        "プログラムの共通部分があっても、**is-a関係が存在しないならば継承でまとめるのは不適切**な場合が多い"
      ]
    },
    {
      "cell_type": "markdown",
      "metadata": {
        "id": "Dw78YdrfC3Nu"
      },
      "source": [
        "## オーバーライド"
      ]
    },
    {
      "cell_type": "markdown",
      "metadata": {
        "id": "c4ww8Th4C6-f"
      },
      "source": [
        "**スーパークラスのメソッドをサブクラスが上書きする機能**"
      ]
    },
    {
      "cell_type": "markdown",
      "metadata": {
        "id": "4FtdkG7NG4Tl"
      },
      "source": [
        "以下のプログラムを見てみると、スーパークラスとサブクラスで同じ名前のメソッドを持っている"
      ]
    },
    {
      "cell_type": "code",
      "metadata": {
        "id": "n-QC8__7DO6t",
        "colab": {
          "base_uri": "https://localhost:8080/",
          "height": 35
        },
        "outputId": "29f04a45-3c6d-4ae4-d50a-91d4e7bdbc45"
      },
      "source": [
        "class Human:\n",
        "  def hello(self):\n",
        "    print(\"hello\")\n",
        "\n",
        "class Japanese(Human):\n",
        "  def hello(self): #helloメソッドを上書き\n",
        "    print(\"I'm Japanese\")\n",
        "\n",
        "japanese = Japanese()\n",
        "japanese.hello()"
      ],
      "execution_count": null,
      "outputs": [
        {
          "output_type": "stream",
          "text": [
            "I'm Japanese\n"
          ],
          "name": "stdout"
        }
      ]
    },
    {
      "cell_type": "markdown",
      "metadata": {
        "id": "EmUomZUdHHP6"
      },
      "source": [
        "スーパークラスとサブクラスで同じ名前のメソッドがあるとき、**サブクラスのメソッドが優先**された\n",
        "\n",
        "→　スーパークラスのメソッドを、サブクラスのメソッドで**上書き**していると見ることもできる\n",
        "\n",
        "→　これをメソッドの**オーバーライド**と呼ぶ"
      ]
    },
    {
      "cell_type": "markdown",
      "metadata": {
        "id": "k48sLi5FG253"
      },
      "source": [
        "**スーパークラスを表すsuper()関数**を使うと、\n",
        "\n",
        "スーパークラスのメソッドをサブクラスから利用できる"
      ]
    },
    {
      "cell_type": "code",
      "metadata": {
        "id": "6UMlDVVNEe7Z",
        "colab": {
          "base_uri": "https://localhost:8080/",
          "height": 53
        },
        "outputId": "837fe2da-7e14-44ff-d73e-3ef0d08695a4"
      },
      "source": [
        "class Human:\n",
        "  def hello(self):\n",
        "    print(\"hello\")\n",
        "\n",
        "class Japanese(Human):\n",
        "  def hello(self):\n",
        "    super().hello() #スーパークラスのhelloメソッドを呼び出し\n",
        "    print(\"I'm Japanese\")\n",
        "\n",
        "japanese = Japanese()\n",
        "japanese.hello()"
      ],
      "execution_count": null,
      "outputs": [
        {
          "output_type": "stream",
          "text": [
            "hello\n",
            "I'm Japanese\n"
          ],
          "name": "stdout"
        }
      ]
    },
    {
      "cell_type": "markdown",
      "metadata": {
        "id": "Jo_xVeiM_y7G"
      },
      "source": [
        "オーバーライドは、**ポリモーフィズムを実装する**上で極めて重要な機能（後ほど説明）"
      ]
    },
    {
      "cell_type": "markdown",
      "metadata": {
        "id": "aX7UzTQaJuhA"
      },
      "source": [
        "## まとめ・ポイント"
      ]
    },
    {
      "cell_type": "markdown",
      "metadata": {
        "id": "LxcEgkMOAxCo"
      },
      "source": [
        "**継承とは**\n",
        "\n",
        "既存クラスの変数とメソッドを受け継いで新たなクラスを定義する機能のこと"
      ]
    },
    {
      "cell_type": "markdown",
      "metadata": {
        "id": "WZ4ypwODA__7"
      },
      "source": [
        "継承を使うメリットとして、以下のようなメリットがあった\n",
        "\n",
        "*   既存のプログラムを利用したプログラミングが可能になる\n",
        "*   共通部分をまとめてシンプルなプログラムを書くことができる\n",
        "\n",
        "このようなメリットによって、保守性と再利用性の高い開発を行うことができる\n"
      ]
    },
    {
      "cell_type": "markdown",
      "metadata": {
        "id": "aO10gM9cBYgE"
      },
      "source": [
        "**オーバーライドとは**\n",
        "\n",
        "スーパークラスのメソッドをサブクラスが上書きすること\n",
        "\n",
        "オーバーライドの活躍は、ポリモーフィズムの章で"
      ]
    },
    {
      "cell_type": "markdown",
      "metadata": {
        "id": "5x1vzq6i701u"
      },
      "source": [
        "## 演習問題②"
      ]
    },
    {
      "cell_type": "markdown",
      "metadata": {
        "id": "Pl45c7t3AvAH"
      },
      "source": [
        "以下の要件を満たすDecoDisplayクラスを定義しましょう！\n",
        "\n",
        "*   Displayクラスを継承している\n",
        "*   唯一のメソッドとして、displayメソッドを持つ（オーバーライドしている）\n",
        "*   引数として渡された文章の先頭と末尾に「～」を追加して表示するメソッド\n",
        "\n",
        "クラスが定義できたら、インスタンスを生成してメソッドを呼び出してみましょう！"
      ]
    },
    {
      "cell_type": "code",
      "metadata": {
        "id": "rLZP-cVqAv3M"
      },
      "source": [
        "class Display:\n",
        "  def __init__(self):\n",
        "    print(\"文章を出力できるよ\")\n",
        "\n",
        "  def display(self, sentence):\n",
        "    print(sentence)\n",
        "\n",
        "#解答はここに記入\n"
      ],
      "execution_count": null,
      "outputs": []
    },
    {
      "cell_type": "markdown",
      "metadata": {
        "id": "hB0jcyZS8eTB"
      },
      "source": [
        "## 関数に機能を追加する関数（デコレータ）"
      ]
    },
    {
      "cell_type": "markdown",
      "metadata": {
        "id": "4ksb6UfGqSnI"
      },
      "source": [
        "Pythonはすべてがオブジェクトであるので、\n",
        "\n",
        "**関数の引数として関数を渡すこともできる**"
      ]
    },
    {
      "cell_type": "markdown",
      "metadata": {
        "id": "6HV2iI8_SoQL"
      },
      "source": [
        "例：obj関数とfree関数を引数にとるpy関数"
      ]
    },
    {
      "cell_type": "code",
      "metadata": {
        "id": "7-StaT2srI2t",
        "colab": {
          "base_uri": "https://localhost:8080/",
          "height": 53
        },
        "outputId": "6cb9119b-6312-4bbb-f4eb-b98f3988daa3"
      },
      "source": [
        "def obj():\n",
        "  return \"オブジェクト\"\n",
        "\n",
        "def free(word):\n",
        "  return word\n",
        "\n",
        "def py(func): #機能を追加するための関数\n",
        "  def wrapper(*args, **kwargs):\n",
        "    return \"Pythonは\" + func(*args, **kwargs)\n",
        "  return wrapper #関数py()の戻り値は関数\n",
        "\n",
        "pyobj = py(obj) #関数objを引数としてpy関数を呼び出し、戻り値をpyobjに\n",
        "pyfree = py(free)\n",
        "print(pyobj())\n",
        "print(pyfree(\"楽しい\"))"
      ],
      "execution_count": null,
      "outputs": [
        {
          "output_type": "stream",
          "text": [
            "Pythonはオブジェクト\n",
            "Pythonは楽しい\n"
          ],
          "name": "stdout"
        }
      ]
    },
    {
      "cell_type": "markdown",
      "metadata": {
        "id": "cvDK2IJOTFfs"
      },
      "source": [
        "上のプログラムのポイントは、\n",
        "\n",
        "\n",
        "*   py関数には、関数のオブジェクトが引数として渡されている\n",
        "*   py関数の戻り値は、py関数の中で定義されたwrapper関数\n",
        "*   wrapper関数の中の処理では、引数（func）として受け取った関数を呼び出している\n",
        "*   \\*argsと\\*\\*kwargsはそれぞれ、任意の数の引数・任意の数のキーワード引数という意味\n",
        "*   引数として受け取った関数の戻り値に「Pythonは」という文字を追加している（**機能追加**）\n",
        "\n"
      ]
    },
    {
      "cell_type": "markdown",
      "metadata": {
        "id": "Ql379rNzxn5m"
      },
      "source": [
        "このように関数を引数とする関数を定義することで、\n",
        "\n",
        "**すでにある関数に機能を追加する**ことができる\n",
        "\n",
        "このような関数を**デコレータ**と呼ぶ\n",
        "\n",
        "一般化すると以下のようになる"
      ]
    },
    {
      "cell_type": "code",
      "metadata": {
        "id": "kBs1JeamV0Lw"
      },
      "source": [
        "機能追加された関数オブジェクト = デコレータ(機能追加したい関数オブジェクト)"
      ],
      "execution_count": null,
      "outputs": []
    },
    {
      "cell_type": "markdown",
      "metadata": {
        "id": "V16njS0Ox53W"
      },
      "source": [
        "デコレータは、**「@デコレータ名」と、修飾する（decorate）関数の上に書く**ことでも利用できる"
      ]
    },
    {
      "cell_type": "code",
      "metadata": {
        "id": "UK3aOfvJWa-q"
      },
      "source": [
        "@機能追加の関数（デコレータ）\n",
        "def 機能追加したい関数():\n",
        "  処理"
      ],
      "execution_count": null,
      "outputs": []
    },
    {
      "cell_type": "code",
      "metadata": {
        "id": "xAOEH3XNwv-l",
        "colab": {
          "base_uri": "https://localhost:8080/",
          "height": 53
        },
        "outputId": "b542e100-2164-40b1-def4-b0f95de668b7"
      },
      "source": [
        "def py(func): #デコレータの定義\n",
        "  def wrapper(*args, **kwargs):\n",
        "    return \"Pythonは\" + func(*args, **kwargs)\n",
        "  return wrapper #関数py()の戻り値は関数\n",
        "\n",
        "@py #デコレータの利用\n",
        "def obj():\n",
        "  return \"オブジェクト\"\n",
        "\n",
        "@py #デコレータの利用\n",
        "def free(word):\n",
        "  return word\n",
        "\n",
        "print(obj())\n",
        "print(free(\"楽しい\"))"
      ],
      "execution_count": null,
      "outputs": [
        {
          "output_type": "stream",
          "text": [
            "Pythonはオブジェクト\n",
            "Pythonは楽しい\n"
          ],
          "name": "stdout"
        }
      ]
    },
    {
      "cell_type": "markdown",
      "metadata": {
        "id": "OK27njL1xm6P"
      },
      "source": [
        "デコレータは上のように自分で定義できる他にも、\n",
        "\n",
        "Pythonにあらかじめ用意されているものや、モジュールとして提供されているものもある\n",
        "\n",
        "ここでは**クラスメソッド**を定義するために用いるデコレータの**@classmethod**について扱う"
      ]
    },
    {
      "cell_type": "markdown",
      "metadata": {
        "id": "o9oxKuxmy912"
      },
      "source": [
        "**クラスメソッドとは？**\n",
        "\n",
        "クラス内で定義されたメソッドで、**インスタンス化しなくても呼び出すことのできるメソッド**\n",
        "\n",
        "クラスからもインスタンスからも呼び出すこともできる"
      ]
    },
    {
      "cell_type": "code",
      "metadata": {
        "id": "0_MYA6ntxk1r",
        "colab": {
          "base_uri": "https://localhost:8080/",
          "height": 53
        },
        "outputId": "c75dde57-3f35-4332-fe2c-f368ed676328"
      },
      "source": [
        "class Hoge:\n",
        "  @classmethod #クラスメソッドを定義\n",
        "  def foo(cls):\n",
        "    print(\"インスタンス化しなくても呼び出せるメソッド\")\n",
        "\n",
        "Hoge.foo()\n",
        "Hoge().foo()"
      ],
      "execution_count": null,
      "outputs": [
        {
          "output_type": "stream",
          "text": [
            "インスタンス化しなくても呼び出せるメソッド\n",
            "インスタンス化しなくても呼び出せるメソッド\n"
          ],
          "name": "stdout"
        }
      ]
    },
    {
      "cell_type": "markdown",
      "metadata": {
        "id": "KpIE6j2oevUY"
      },
      "source": [
        "**クラス（分類）固有**の処理は、クラスメソッドとして定義\n",
        "\n",
        "**インスタンス（実例）固有**の処理は、メソッドとして定義"
      ]
    },
    {
      "cell_type": "markdown",
      "metadata": {
        "id": "un9PHJPORNxh"
      },
      "source": [
        "# ポリモーフィズム"
      ]
    },
    {
      "cell_type": "markdown",
      "metadata": {
        "id": "M-D_BtlWEQh8"
      },
      "source": [
        "**呼び出し側のロジック（インターフェース）を一本化すること**"
      ]
    },
    {
      "cell_type": "markdown",
      "metadata": {
        "id": "Dbt69fX-IEWx"
      },
      "source": [
        "以下のプログラムを見ると、\n",
        "\n",
        "Dogクラス、Catクラス、Humanクラスがすべてcry()メソッドを持つ"
      ]
    },
    {
      "cell_type": "code",
      "metadata": {
        "id": "kusBy0ZCE0lL",
        "colab": {
          "base_uri": "https://localhost:8080/",
          "height": 71
        },
        "outputId": "58660e1c-277d-49f8-b3a0-2a126b963952"
      },
      "source": [
        "class Dog:\n",
        "  def cry(self):\n",
        "    print(\"わんわん\")\n",
        "\n",
        "class Cat:\n",
        "  def cry(self):\n",
        "    print(\"にゃーにゃー\")\n",
        "\n",
        "class Human:\n",
        "  def cry(self):\n",
        "    print(\"えーんえーん\")\n",
        "\n",
        "def nake(animal):\n",
        "  animal.cry() #どのクラスのオブジェクトか気にすることなくcry()メソッドを使うことができる\n",
        "\n",
        "dog = Dog()\n",
        "cat = Cat()\n",
        "human = Human()\n",
        "\n",
        "#どのクラスのオブジェクトか気にすることなくnake()関数を使うことができる\n",
        "nake(dog)\n",
        "nake(cat)\n",
        "nake(human)"
      ],
      "execution_count": null,
      "outputs": [
        {
          "output_type": "stream",
          "text": [
            "わんわん\n",
            "にゃーにゃー\n",
            "えーんえーん\n"
          ],
          "name": "stdout"
        }
      ]
    },
    {
      "cell_type": "markdown",
      "metadata": {
        "id": "MjqOPwlYG8G7"
      },
      "source": [
        "このように異なるクラスに共通の名前のメソッドを定義することで、\n",
        "\n",
        "**どのクラスのオブジェクトかを気にせずcry()メソッドを使用できるようになっている**"
      ]
    },
    {
      "cell_type": "markdown",
      "metadata": {
        "id": "devrtR9YJnzb"
      },
      "source": [
        "**ポリモーフィズムとは？**\n",
        "\n",
        "オブジェクトの種類を意識しなくてもいいように、オブジェクト間で共通のインターフェースをもたせること"
      ]
    },
    {
      "cell_type": "markdown",
      "metadata": {
        "id": "e3SDJLFzL8ps"
      },
      "source": [
        "演算子の「＋」にもポリモーフィズムが利用されている\n",
        "\n",
        "→　数値のオブジェクトなら「足し算」を意味するし、文字列のオブジェクトなら「連結」を意味する\n",
        "\n",
        "→　**オブジェクトに共通のインターフェースをもたせるが、中身の実装が異なるので振る舞いが変わる**\n"
      ]
    },
    {
      "cell_type": "markdown",
      "metadata": {
        "id": "h6_MonW_M043"
      },
      "source": [
        "先程のプログラムのように実装することでポリモーフィズムは実現できるが、\n",
        "\n",
        "どのクラスにもcry()メソッドを定義する強制力がない\n",
        "\n",
        "→　**ポリモーフィズムを使わないで実装を行う余地が残ってしまっている**\n",
        "\n",
        "**ポリモーフィズムによる実装を強制する**方法として、**抽象クラス・抽象メソッド**を利用する方法がある"
      ]
    },
    {
      "cell_type": "markdown",
      "metadata": {
        "id": "GBonkeYy22si"
      },
      "source": [
        "**抽象（基底）クラスとは？**\n",
        "\n",
        "継承されることを前提としたクラス、インスタンスを生成できない\n",
        "\n",
        "**抽象メソッドとは？**\n",
        "\n",
        "実装を持たない、**インターフェースを規定**するためのメソッド、抽象クラスに定義できる\n",
        "\n",
        "抽象メソッドは**サブクラスの中のオーバーライドによって実装されなければいけない**"
      ]
    },
    {
      "cell_type": "markdown",
      "metadata": {
        "id": "SzDDtlgGOuW0"
      },
      "source": [
        "Pythonで抽象クラス・抽象メソッドを利用するには、**ABC (Abstract Base Class)モジュール**を使う\n",
        "\n",
        "抽象クラスを定義するには**ABCクラス**を継承し、\n",
        "\n",
        "抽象メソッドを定義するには**@abstractmethodデコレータ**を使用する"
      ]
    },
    {
      "cell_type": "markdown",
      "metadata": {
        "id": "L0vcsPcNMKc2"
      },
      "source": [
        "以下のプログラムでは、抽象クラスのAnimalを継承しているHumanクラスが、\n",
        "\n",
        "cry()メソッドの実装を行っていないので、Humanクラスのインスタンス生成時にエラーが発生する"
      ]
    },
    {
      "cell_type": "code",
      "metadata": {
        "id": "yWroRzxUH8y2",
        "colab": {
          "base_uri": "https://localhost:8080/",
          "height": 35
        },
        "outputId": "bda82c34-f1e1-4a98-bad3-fa7498d1490f"
      },
      "source": [
        "from abc import ABC, abstractmethod\n",
        "\n",
        "class Animal(ABC): #Animalクラスを抽象クラスとして定義\n",
        "  @abstractmethod #抽象メソッドにするデコレータ\n",
        "  def cry(self):\n",
        "    #ここに実装を記述することはできない、抽象メソッドに書けるのはpassのみ\n",
        "    pass\n",
        "\n",
        "class Dog(Animal):\n",
        "  def cry(self):\n",
        "    print(\"わんわん\")\n",
        "\n",
        "class Cat(Animal):\n",
        "  def cry(self):\n",
        "    print(\"にゃーにゃー\")\n",
        "\n",
        "class Human(Animal):\n",
        "  def cry(self):\n",
        "    print(\"えーんえーん\")\n",
        "\n",
        "human = Human()\n",
        "human.cry()"
      ],
      "execution_count": null,
      "outputs": [
        {
          "output_type": "stream",
          "text": [
            "えーんえーん\n"
          ],
          "name": "stdout"
        }
      ]
    },
    {
      "cell_type": "markdown",
      "metadata": {
        "id": "XPl6jUb3QkUQ"
      },
      "source": [
        "抽象クラスを継承したクラスは、サブクラス内でオーバーライドして抽象メソッドの実装を行う必要がある\n",
        "\n",
        "→　Dog、Cat、Humanクラスに、cry()メソッドの実装が強制されている\n",
        "\n",
        "→　**ポリモーフィズムによる実装を強制できる**"
      ]
    },
    {
      "cell_type": "markdown",
      "metadata": {
        "id": "cmcG_BQ6N1C7"
      },
      "source": [
        "## まとめ・ポイント"
      ]
    },
    {
      "cell_type": "markdown",
      "metadata": {
        "id": "Oauno2n0N3YP"
      },
      "source": [
        "**ポリモーフィズムとは**\n",
        "\n",
        "オブジェクト間で共通のメソッドをもたせることで、インターフェースを統一すること\n"
      ]
    },
    {
      "cell_type": "markdown",
      "metadata": {
        "id": "3Jgazo8fOCnc"
      },
      "source": [
        "ポリモーフィズムの実装を強制する方法として抽象メソッド・抽象クラスがあった\n",
        "\n",
        "抽象メソッドは抽象クラスに定義できるメソッドで、**実装を持たないメソッド**\n",
        "\n",
        "抽象クラスを継承した**サブクラスでのオーバーライドによる具体的な実装を強制する**機能を持つ\n",
        "\n",
        "→　ポリモーフィズムを強制するプログラミングが可能に！\n"
      ]
    },
    {
      "cell_type": "markdown",
      "metadata": {
        "id": "qWmc4LzbQDtc"
      },
      "source": [
        "抽象クラス・抽象メソッドは、PythonではABCモジュールで提供されている\n",
        "\n",
        "**ABCクラス**を継承したクラスは抽象クラスになり、\n",
        "\n",
        "**@abstractmethodデコレータ**をつけたメソッドは抽象メソッドになる"
      ]
    },
    {
      "cell_type": "markdown",
      "metadata": {
        "id": "oyqanVrT8jya"
      },
      "source": [
        "## 演習問題③"
      ]
    },
    {
      "cell_type": "code",
      "metadata": {
        "id": "I3Gpe89oTMBG"
      },
      "source": [
        "class Worker:\n",
        "  def __init__(self, name):\n",
        "    self.name = name\n",
        "\n",
        "  def hello(self):\n",
        "    print(\"私の名前は\" + self.name + \"です\")\n",
        "\n",
        "\n",
        "class Teacher(Worker):\n",
        "  def teach(self):\n",
        "    print(self.name + \"は、教えた\")\n",
        "\n",
        "class Programmer(Worker):\n",
        "  def programming(self):\n",
        "    print(self.name + \"は、プログラミングした\")"
      ],
      "execution_count": null,
      "outputs": []
    },
    {
      "cell_type": "markdown",
      "metadata": {
        "id": "WgnHExMcCW23"
      },
      "source": [
        "継承のセクションで登場した上のプログラムを、ポリモーフィズムを使って改善しましょう！\n",
        "\n",
        "以下の修正を行ってください\n",
        "\n",
        "*   Workerクラスを抽象クラスに変更\n",
        "*   Workerクラスに、新たにdo_workメソッドを追加\n",
        "*   do_workメソッドは、抽象メソッド\n",
        "*   Teacherクラスのteachメソッドと、Programmerクラスのprogrammingメソッドをdo_workメソッドに置き換える\n",
        "*   Workerクラスをスーパークラスにもつクラスのオブジェクトを引数として受け取る、instract関数を定義\n",
        "*   instract関数は渡されたオブジェクトのdo_workメソッドを呼び出す関数\n",
        "\n",
        "instract関数にTeacherクラスとProgrammerクラスのオブジェクトを渡して、実行してみましょう！\n"
      ]
    },
    {
      "cell_type": "code",
      "metadata": {
        "id": "fz9jgkfJCXJd"
      },
      "source": [
        "#解答はここに記入\n"
      ],
      "execution_count": null,
      "outputs": []
    },
    {
      "cell_type": "markdown",
      "metadata": {
        "id": "38ta1O_hJbQv"
      },
      "source": [
        "## 特殊メソッド"
      ]
    },
    {
      "cell_type": "markdown",
      "metadata": {
        "id": "DFxCC8DzlQ42"
      },
      "source": [
        "**objectクラスが持つメソッド、ダブルアンダースコアで囲われているのが特徴**\n",
        "\n",
        "**特殊メソッドをオーバーライドすることで、**\n",
        "\n",
        "**自作クラスに対しても演算子や組み込み関数を使えるようにすることができる**"
      ]
    },
    {
      "cell_type": "markdown",
      "metadata": {
        "id": "Mflm7N7NlsOZ"
      },
      "source": [
        "すべてのクラスは**objectクラス**という、Pythonにあらかじめ用意されているクラスを継承している\n"
      ]
    },
    {
      "cell_type": "code",
      "metadata": {
        "id": "Mvs8QgO8lzr2"
      },
      "source": [
        "#すべてのクラスはobjectクラスを継承している\n",
        "class Human(object):\n",
        "  def __init__(self, name, age, born):\n",
        "    self.name = name\n",
        "    self.age = age\n",
        "    self.born = born"
      ],
      "execution_count": null,
      "outputs": []
    },
    {
      "cell_type": "markdown",
      "metadata": {
        "id": "c71NuaMsmCZt"
      },
      "source": [
        "objectクラスは「\\__add__」や「\\__len__」、「\\__init__」などのメソッドを持っており、\n",
        "\n",
        "これらのアンダーバー2つに囲まれたメソッドを**特殊メソッド**という\n",
        "\n",
        "コンストラクタの「\\__init__」は、objectクラスのメソッドをオーバーライドしている\n",
        "\n",
        "\n",
        "```\n",
        "#objectクラスのイメージ\n",
        "class object:\n",
        "  def __init__(self, ...):\n",
        "    処理\n",
        "  def __len__(self, ...):\n",
        "    処理\n",
        "  def __add__(self, ...):\n",
        "    処理\n",
        "```\n",
        "\n"
      ]
    },
    {
      "cell_type": "markdown",
      "metadata": {
        "id": "iSws4g_0m8K0"
      },
      "source": [
        "これらの特殊メソッドは、**組み込み関数や演算子などと対応**している\n",
        "\n",
        "* 「\\__add__」→「+ 演算子」\n",
        "* 「\\__len__」→「len 関数」\n",
        "* 「\\__str__」→「str 関数」\n",
        "\n"
      ]
    },
    {
      "cell_type": "markdown",
      "metadata": {
        "id": "Lzo1-chu2fQ-"
      },
      "source": [
        "それぞれの特殊メソッドは、データ型ごとにオーバーライドされて、\n",
        "\n",
        "データ型に応じた実装がされているので、ポリモーフィズムが実現できる"
      ]
    },
    {
      "cell_type": "code",
      "metadata": {
        "colab": {
          "base_uri": "https://localhost:8080/"
        },
        "id": "WFjTScSnmKdy",
        "outputId": "ae931e1e-a7ef-4aad-c539-53c9d5fc5d85"
      },
      "source": [
        "#「+ 演算子」を用いて、intクラスの「__add__」メソッドを呼び出す\n",
        "print(1 + 1)\n",
        "print((1).__add__(1)) #浮動小数点数と区別するための()"
      ],
      "execution_count": null,
      "outputs": [
        {
          "output_type": "stream",
          "text": [
            "2\n",
            "2\n"
          ],
          "name": "stdout"
        }
      ]
    },
    {
      "cell_type": "code",
      "metadata": {
        "colab": {
          "base_uri": "https://localhost:8080/"
        },
        "id": "p1i7H7YJ4Nov",
        "outputId": "02c3e884-d460-4d5b-b247-54f2c726fc5f"
      },
      "source": [
        "#「+ 演算子」を用いて、strクラスの「__add__」メソッドを呼び出す\n",
        "print(\"田中\" + \"太郎\")\n",
        "print(\"田中\".__add__(\"太郎\"))"
      ],
      "execution_count": null,
      "outputs": [
        {
          "output_type": "stream",
          "text": [
            "田中太郎\n",
            "田中太郎\n"
          ],
          "name": "stdout"
        }
      ]
    },
    {
      "cell_type": "code",
      "metadata": {
        "colab": {
          "base_uri": "https://localhost:8080/"
        },
        "id": "JQK-2wVuoWGz",
        "outputId": "19e2019d-9a26-41d5-c9ce-6ceb5d94bd82"
      },
      "source": [
        "#「len関数」を用いて、listクラスの「__len__」メソッドを呼び出す\n",
        "print(len([1,2,3]))\n",
        "print([1,2,3].__len__())"
      ],
      "execution_count": null,
      "outputs": [
        {
          "output_type": "stream",
          "text": [
            "3\n",
            "3\n"
          ],
          "name": "stdout"
        }
      ]
    },
    {
      "cell_type": "code",
      "metadata": {
        "colab": {
          "base_uri": "https://localhost:8080/"
        },
        "id": "oLJTsMACpWWF",
        "outputId": "e44d5ab7-20cb-41c5-866b-654804fddf5f"
      },
      "source": [
        "#「str関数」を用いて、intクラスの「__str__」メソッドを呼び出す\n",
        "print(str(1))\n",
        "print((1).__str__())"
      ],
      "execution_count": null,
      "outputs": [
        {
          "output_type": "stream",
          "text": [
            "11\n"
          ],
          "name": "stdout"
        }
      ]
    },
    {
      "cell_type": "markdown",
      "metadata": {
        "id": "XaYlmFPmRr8R"
      },
      "source": [
        "特殊メソッドの使いどころを理解するために、\n",
        "\n",
        "以下のようなxy座標を表現するCoordinateクラスについて考える\n",
        "\n",
        "Coordinateクラスは(2, 3)や(4, -1)というような、(x, y)座標を表現するクラス\n",
        "\n",
        "このクラスに以下のような計算をできるようにするためのメソッドを用意する\n",
        "\n",
        "$(2, 3)+(4, -1)=(6,2)$\n",
        "\n",
        "$(1, 2)+(3, 6)=(4,8)$"
      ]
    },
    {
      "cell_type": "code",
      "metadata": {
        "colab": {
          "base_uri": "https://localhost:8080/",
          "height": 227
        },
        "id": "PfSYBThwqgeD",
        "outputId": "7a1eecc2-bed3-481a-ff51-882f1b36ee22"
      },
      "source": [
        "#xy座標を表現するCoordinateクラス\n",
        "class Coordinate:\n",
        "  def __init__(self, x, y):\n",
        "    self.x = x\n",
        "    self.y = y\n",
        "\n",
        "  def plus(self, c):\n",
        "    return Coordinate(self.x + c.x, self.y + c.y)\n",
        "\n",
        "vector1 = Coordinate(2, 3)\n",
        "vector2 = Coordinate(4, -1)\n",
        "vector3 = vector1.plus(vector2)\n",
        "# vector3 = vector1 + vector2\n",
        "print(vector3)"
      ],
      "execution_count": null,
      "outputs": [
        {
          "output_type": "error",
          "ename": "TypeError",
          "evalue": "ignored",
          "traceback": [
            "\u001b[0;31m---------------------------------------------------------------------------\u001b[0m",
            "\u001b[0;31mTypeError\u001b[0m                                 Traceback (most recent call last)",
            "\u001b[0;32m<ipython-input-1-2c4101bf54aa>\u001b[0m in \u001b[0;36m<module>\u001b[0;34m()\u001b[0m\n\u001b[1;32m     11\u001b[0m \u001b[0mvector2\u001b[0m \u001b[0;34m=\u001b[0m \u001b[0mCoordinate\u001b[0m\u001b[0;34m(\u001b[0m\u001b[0;36m4\u001b[0m\u001b[0;34m,\u001b[0m \u001b[0;34m-\u001b[0m\u001b[0;36m1\u001b[0m\u001b[0;34m)\u001b[0m\u001b[0;34m\u001b[0m\u001b[0;34m\u001b[0m\u001b[0m\n\u001b[1;32m     12\u001b[0m \u001b[0mvector3\u001b[0m \u001b[0;34m=\u001b[0m \u001b[0mvector1\u001b[0m\u001b[0;34m.\u001b[0m\u001b[0mplus\u001b[0m\u001b[0;34m(\u001b[0m\u001b[0mvector2\u001b[0m\u001b[0;34m)\u001b[0m\u001b[0;34m\u001b[0m\u001b[0;34m\u001b[0m\u001b[0m\n\u001b[0;32m---> 13\u001b[0;31m \u001b[0mvector3\u001b[0m \u001b[0;34m=\u001b[0m \u001b[0mvector1\u001b[0m \u001b[0;34m+\u001b[0m \u001b[0mvector2\u001b[0m\u001b[0;34m\u001b[0m\u001b[0;34m\u001b[0m\u001b[0m\n\u001b[0m\u001b[1;32m     14\u001b[0m \u001b[0mprint\u001b[0m\u001b[0;34m(\u001b[0m\u001b[0mvector3\u001b[0m\u001b[0;34m)\u001b[0m\u001b[0;34m\u001b[0m\u001b[0;34m\u001b[0m\u001b[0m\n",
            "\u001b[0;31mTypeError\u001b[0m: unsupported operand type(s) for +: 'Coordinate' and 'Coordinate'"
          ]
        }
      ]
    },
    {
      "cell_type": "markdown",
      "metadata": {
        "id": "3xEtB1EJqBQe"
      },
      "source": [
        "演算子や組み込み関数は、Pythonに備わっているクラス（型）に対しては操作できるが、\n",
        "\n",
        "開発者が自作したクラスには対応していない"
      ]
    },
    {
      "cell_type": "markdown",
      "metadata": {
        "id": "2VgE4vNys4ME"
      },
      "source": [
        "ポリモーフィズムの観点から考えると、新たなインターフェースを用意するよりも、\n",
        "\n",
        "「+ 演算子」のような、**使い慣れた既存のインターフェースを使って扱えた方が便利**\n",
        "\n",
        "なので、**Coordinateクラスに対しても「+ 演算子」を使えるようにする**ために、\n",
        "\n",
        "objectクラスの\\__add__メソッドを以下のようにオーバーライドする"
      ]
    },
    {
      "cell_type": "code",
      "metadata": {
        "colab": {
          "base_uri": "https://localhost:8080/"
        },
        "id": "GT_-a3YisUY4",
        "outputId": "5a1e82aa-5b29-44c2-820b-5a90529eade3"
      },
      "source": [
        "class Coordinate:\n",
        "  def __init__(self, x, y):\n",
        "    self.x = x\n",
        "    self.y = y\n",
        "\n",
        "  #特殊メソッドをオーバーライド\n",
        "  def __add__(self, c):\n",
        "    return Coordinate(self.x + c.x, self.y + c.y)\n",
        "\n",
        "\n",
        "vector1 = Coordinate(2, 3)\n",
        "vector2 = Coordinate(4, -1)\n",
        "vector3 = vector1 + vector2 #vector1.__add__(vector2)と同じ\n",
        "print(vector3)"
      ],
      "execution_count": null,
      "outputs": [
        {
          "output_type": "stream",
          "text": [
            "<__main__.Coordinate object at 0x7f4f6abf0b90>\n"
          ],
          "name": "stdout"
        }
      ]
    },
    {
      "cell_type": "markdown",
      "metadata": {
        "id": "iZaax9kMt2Ei"
      },
      "source": [
        "さらにvector1をprint関数で出力したら、(2, 3)と表示されるようにするには、\n",
        "\n",
        "print関数を呼び出すと暗黙的にstr関数が呼び出されるので、\n",
        "\n",
        "以下のように\\__str__メソッドをオーバーライドすればよい\n"
      ]
    },
    {
      "cell_type": "code",
      "metadata": {
        "colab": {
          "base_uri": "https://localhost:8080/"
        },
        "id": "HJo_gid4uE17",
        "outputId": "7dd99520-3237-45dd-8599-b22cf50e5ef1"
      },
      "source": [
        "class Coordinate:\n",
        "  def __init__(self, x, y):\n",
        "    self.x = x\n",
        "    self.y = y\n",
        "\n",
        "  def __add__(self, c):\n",
        "    return Coordinate(self.x + c.x, self.y + c.y)\n",
        "\n",
        "  def __str__(self):\n",
        "    return f\"({self.x}, {self.y})\" #f文字列を使用\n",
        "\n",
        "\n",
        "vector1 = Coordinate(2, 3)\n",
        "vector2 = Coordinate(4, -1)\n",
        "vector3 = vector1 + vector2\n",
        "print(vector1)\n",
        "print(vector2)\n",
        "print(vector3)"
      ],
      "execution_count": null,
      "outputs": [
        {
          "output_type": "stream",
          "text": [
            "(2, 3)\n",
            "(4, -1)\n",
            "(6, 2)\n"
          ],
          "name": "stdout"
        }
      ]
    },
    {
      "cell_type": "markdown",
      "metadata": {
        "id": "6I5DKtdKlMTj"
      },
      "source": [
        "このように、特殊メソッドをオーバーライドして処理を変更することで、\n",
        "\n",
        "自作したクラスでも演算子や組み込み関数を使えるようになるので、\n",
        "\n",
        "ポリモーフィズムが実現できる\n"
      ]
    },
    {
      "cell_type": "markdown",
      "metadata": {
        "id": "hDcPypV9v9Or"
      },
      "source": [
        "その他の特殊メソッドについては、[公式ドキュメント](https://docs.python.org/ja/3/reference/datamodel.html#special-method-names)を参照してください"
      ]
    },
    {
      "cell_type": "markdown",
      "metadata": {
        "id": "jF-Za4hmWTyx"
      },
      "source": [
        "**f文字列**を使えば、数値や式を簡単に文字列中に組み込める\n",
        "\n"
      ]
    },
    {
      "cell_type": "code",
      "metadata": {
        "id": "SSq8wBMhW1in",
        "colab": {
          "base_uri": "https://localhost:8080/"
        },
        "outputId": "e9e7dbc0-bd58-4d02-9bee-726714cb4802"
      },
      "source": [
        "a = 1\n",
        "b = 2\n",
        "print(f\"{a}+{b}は{a+b}です\")"
      ],
      "execution_count": null,
      "outputs": [
        {
          "output_type": "stream",
          "text": [
            "1+2は3です\n"
          ],
          "name": "stdout"
        }
      ]
    },
    {
      "cell_type": "markdown",
      "metadata": {
        "id": "nHny7NUyRVd1"
      },
      "source": [
        "# OOPがもたらした再利用技術"
      ]
    },
    {
      "cell_type": "markdown",
      "metadata": {
        "id": "kfDcR113YuFh"
      },
      "source": [
        "OOPによって「**プログラムの再利用**」と「**アイデアの再利用**」が可能になった\n",
        "\n",
        "プログラムの再利用　→　モジュール、フレームワーク\n",
        "\n",
        "アイデアの再利用　　→　設計原則とデザインパターン"
      ]
    },
    {
      "cell_type": "markdown",
      "metadata": {
        "id": "2O5wycliRk80"
      },
      "source": [
        "## モジュール"
      ]
    },
    {
      "cell_type": "markdown",
      "metadata": {
        "id": "536cn01RZl0z"
      },
      "source": [
        "**クラスや関数などを、外部から取り込んで再利用できるようにしたもの**"
      ]
    },
    {
      "cell_type": "markdown",
      "metadata": {
        "id": "4bZpVRggaZb6"
      },
      "source": [
        "モジュールは**特定の強みを持つ再利用可能部品**とも言える\n",
        "\n",
        "openpyxlモジュールであれば、Excel形式のファイルを扱うのに便利なクラスや関数がまとめられている"
      ]
    },
    {
      "cell_type": "markdown",
      "metadata": {
        "id": "X-KlYNqvQ1dH"
      },
      "source": [
        "例：Excel形式のファイルをPythonで扱うことができるopenpyxlモジュール"
      ]
    },
    {
      "cell_type": "code",
      "metadata": {
        "id": "IXavYHcSJJcz"
      },
      "source": [
        "import openpyxl\n",
        "wb = openpyxl.Workbook() #オブジェクトの生成\n",
        "wb.create_sheet()        #メソッドの呼び出し\n",
        "wb.active                #属性の呼び出し"
      ],
      "execution_count": null,
      "outputs": []
    },
    {
      "cell_type": "markdown",
      "metadata": {
        "id": "5eP4FtP4RSxf"
      },
      "source": [
        "上記の記述では、openpyxl.pyに書かれたクラスを利用している"
      ]
    },
    {
      "cell_type": "code",
      "metadata": {
        "id": "mQosr-gGLABC"
      },
      "source": [
        "#openpyxl.py\n",
        "\n",
        "class Workbook:\n",
        "  def __init__(...):\n",
        "    self.active = ...\n",
        "  def create_sheet(...):\n",
        "    ワークシートを追加するようなロジック\n",
        "  def ..."
      ],
      "execution_count": null,
      "outputs": []
    },
    {
      "cell_type": "markdown",
      "metadata": {
        "id": "B596P2UGL8aS"
      },
      "source": [
        "openpyxl.pyにどのような内容のプログラムが書かれているか知らなくても、\n",
        "\n",
        "*   openpyxl.pyの中に定義されているWorkbookクラスからワークブックを表すオブジェクトを作る\n",
        "*   そのオブジェクトはアクティブシートを返すactive属性や、新しいシートを作るcreate_sheetメソッドなどを持つ\n",
        "\n",
        "といった情報**（インターフェース）さえ知っていれば使うことができる**\n",
        "\n",
        "→　モジュールはプログラムの再利用性の象徴的な存在"
      ]
    },
    {
      "cell_type": "markdown",
      "metadata": {
        "id": "Qwzu0lC7RnwE"
      },
      "source": [
        "## フレームワーク"
      ]
    },
    {
      "cell_type": "markdown",
      "metadata": {
        "id": "5DKTFK90bEuc"
      },
      "source": [
        "**よくある処理の流れをひな形として用意しておくことで、**\n",
        "\n",
        "**開発者はプロジェクト固有の内容を埋めるだけで、開発が可能になるもの**"
      ]
    },
    {
      "cell_type": "markdown",
      "metadata": {
        "id": "y7q3FcqEb7PF"
      },
      "source": [
        "Webアプリケーションフレームワーク　→　Djangoなど\n",
        "\n",
        "Webスクレイピングフレームワーク　　→　Scrapyなど"
      ]
    },
    {
      "cell_type": "markdown",
      "metadata": {
        "id": "_leQAxZFcTJG"
      },
      "source": [
        "共通の処理の流れを抽象クラスが持つメソッドで実装（**インターフェースに対して実装**）しておいて、\n",
        "\n",
        "プロジェクト固有の内容は、オーバーライドによって開発者が実装する（ひな形を埋める）"
      ]
    },
    {
      "cell_type": "code",
      "metadata": {
        "id": "bzYGt-vSsSzH"
      },
      "source": [
        "#フレームワークに備わっているクラス\n",
        "class Cooking(ABC):\n",
        "  #料理の共通の処理（買う→切る→加熱する）\n",
        "  def cook(self):\n",
        "    self.buy()\n",
        "    self.cut()\n",
        "    self.heat()\n",
        "\n",
        "  @abstractmethod\n",
        "  def buy(self):\n",
        "    pass\n",
        "\n",
        "  @abstractmethod\n",
        "  def cut(self):\n",
        "    pass\n",
        "\n",
        "  @abstractmethod\n",
        "  def heat(self):\n",
        "    pass\n",
        "\n",
        "\n",
        "#開発者が実装するクラス\n",
        "class MyCooking(Cooking):\n",
        "  def buy(self):\n",
        "    #プロジェクト固有の処理\n",
        "\n",
        "  def cut(self):\n",
        "    #プロジェクト固有の処理\n",
        "\n",
        "  def heat(self):\n",
        "    #プロジェクト固有の処理\n",
        "\n",
        "\n",
        "cooking_obj = MyCooking()\n",
        "cooking_obj.cook()"
      ],
      "execution_count": null,
      "outputs": []
    },
    {
      "cell_type": "markdown",
      "metadata": {
        "id": "_geMXM1HRp-r"
      },
      "source": [
        "## 設計原則とデザインパターン"
      ]
    },
    {
      "cell_type": "markdown",
      "metadata": {
        "id": "4O965ohtlWNF"
      },
      "source": [
        "**オブジェクト指向設計原則とは？**\n",
        "\n",
        "オブジェクト指向を使って保守性と再利用性の高い開発を行うための設計原則\n",
        "\n",
        "**SOLIDの原則**\n",
        "\n",
        "*   単一責任の原則（**S**ingle Responsibility Principle）\n",
        "*   オープン・クローズドの原則（**O**pen-Closed Principle）\n",
        "*   リスコフの置換原則（**L**iskov Substitution Principle）\n",
        "*   インタフェース分離の原則（**I**nterface Segregation Principle）\n",
        "*   依存性逆転の原則（**D**ependency InversionPrinciple）\n",
        "\n"
      ]
    },
    {
      "cell_type": "markdown",
      "metadata": {
        "id": "lcZ8MxmWmx9H"
      },
      "source": [
        "**デザインパターンとは？**\n",
        "\n",
        "オブジェクト指向の設計原則を、具体的な23個の実装パターンとしてカタログ化したもの"
      ]
    },
    {
      "cell_type": "markdown",
      "metadata": {
        "id": "7cmnzKwMnNB_"
      },
      "source": [
        "オブジェクト指向のアイデアを開発に最大限活かすためには**必須の知識**\n",
        "\n",
        "この講座でオブジェクト指向の概要を理解することができた後に学習すべき内容"
      ]
    },
    {
      "cell_type": "markdown",
      "source": [
        "# 結局のところ、オブジェクト指向とは何なのか？"
      ],
      "metadata": {
        "id": "Gle8j_r8y803"
      }
    },
    {
      "cell_type": "markdown",
      "source": [
        "オブジェクト指向の価値は、**データの抽象化**にある\n",
        "\n",
        "\n"
      ],
      "metadata": {
        "id": "KED_nftGgwPA"
      }
    },
    {
      "cell_type": "markdown",
      "source": [
        "## データの抽象化とは"
      ],
      "metadata": {
        "id": "v65wugZ1jlNq"
      }
    },
    {
      "cell_type": "markdown",
      "source": [
        "抽象化とは\n",
        "\n",
        "⇒　複雑な詳細を隠蔽して、わかりやすいインターフェースを提供すること\n",
        "\n"
      ],
      "metadata": {
        "id": "Z6DWXIbDg42s"
      }
    },
    {
      "cell_type": "markdown",
      "source": [
        "抽象化の例\n",
        "\n",
        "*   電子レンジ：中の配線などの仕組みが隠蔽されて、ボタンやつまみなどのインターフェースで操作できる\n",
        "*   プログラミング言語：機械語を抽象化して、自然言語に近い書き方ができる\n",
        "*   関数：具体的な実装を知らなくても、引数や戻り値などの情報さえ知っていれば使える"
      ],
      "metadata": {
        "id": "QgDVSQVghALL"
      }
    },
    {
      "cell_type": "markdown",
      "source": [
        "Coordinateクラスは、クラスやポリモーフィズムによって、\n",
        "\n",
        "データが抽象化されているので使いやすい"
      ],
      "metadata": {
        "id": "I8VO0wlwhnFJ"
      }
    },
    {
      "cell_type": "code",
      "source": [
        "# Coordinateクラスの使用部分だけに注目\n",
        "\n",
        "vector1 = Coordinate(2, 3) # Coordinateクラスの中の具体的な実装は何も見えない\n",
        "vector2 = Coordinate(4, -1)\n",
        "vector3 = vector1 + vector2 # 足し算を行う独自のメソッドを知っておく必要がない\n",
        "print(vector1)\n",
        "print(vector2)\n",
        "print(vector3)"
      ],
      "metadata": {
        "colab": {
          "base_uri": "https://localhost:8080/"
        },
        "id": "nmF4btruYjWA",
        "outputId": "2d006775-9463-4d1d-a239-c8d91aea3f39"
      },
      "execution_count": null,
      "outputs": [
        {
          "output_type": "stream",
          "name": "stdout",
          "text": [
            "(2, 3)\n",
            "(4, -1)\n",
            "(6, 2)\n"
          ]
        }
      ]
    },
    {
      "cell_type": "markdown",
      "source": [
        "このコードからは、Coordinateクラスの中の具体的な実装は何も見えない\n",
        "\n",
        "*   x,yというインスタンス変数を持つ\n",
        "*   f文字列を使用している\n",
        "*   特殊メソッド以外のメソッドを持たない\n",
        "\n",
        "などの情報をインターフェースから読み取ることができない\n",
        "\n",
        "⇒ これが抽象化されている状態\n"
      ],
      "metadata": {
        "id": "YJzcVBCWht-0"
      }
    },
    {
      "cell_type": "code",
      "source": [
        "class Coordinate:\n",
        "  def __init__(self, x, y):\n",
        "    self.x = x\n",
        "    self.y = y\n",
        "\n",
        "  def __add__(self, c):\n",
        "    return Coordinate(self.x + c.x, self.y + c.y)\n",
        "\n",
        "  def __str__(self):\n",
        "    return f\"({self.x}, {self.y})\" #f文字列を使用"
      ],
      "metadata": {
        "id": "mu0PBNIai-q4"
      },
      "execution_count": null,
      "outputs": []
    },
    {
      "cell_type": "markdown",
      "source": [
        "## OOPを使わずに座標を表現した場合の問題点"
      ],
      "metadata": {
        "id": "cysNhTx6qFn-"
      }
    },
    {
      "cell_type": "markdown",
      "source": [
        "OOPを使わずに座標を表現すると、さまざまな問題を引き起こす\n",
        "\n"
      ],
      "metadata": {
        "id": "fua4GPsyjX1i"
      }
    },
    {
      "cell_type": "code",
      "source": [
        "# OOPを使わずに座標を表現した場合\n",
        "\n",
        "v1 = [2, 3]\n",
        "v2 = [4, -1]\n",
        "\n",
        "def vector_add(vector1, vector2):\n",
        "  new_vector = []\n",
        "  new_vector.append(vector1[0] + vector2[0])\n",
        "  new_vector.append(vector1[1] + vector2[1])\n",
        "  return new_vector\n",
        "\n",
        "def vector_print(vector):\n",
        "  print(f\"({vector[0]}, {vector[1]})\")\n",
        "\n",
        "v3 = vector_add(v1, v2)\n",
        "vector_print(v1)\n",
        "vector_print(v2)\n",
        "vector_print(v3)"
      ],
      "metadata": {
        "colab": {
          "base_uri": "https://localhost:8080/"
        },
        "id": "tLBSlL8obbgD",
        "outputId": "de08defd-0b78-4484-9f11-aed32d445de9"
      },
      "execution_count": null,
      "outputs": [
        {
          "output_type": "stream",
          "name": "stdout",
          "text": [
            "(2, 3)\n",
            "(4, -1)\n",
            "(6, 2)\n"
          ]
        }
      ]
    },
    {
      "cell_type": "markdown",
      "source": [
        "### 問題点①：実装が外部に公開されてしまっている\n",
        "\n"
      ],
      "metadata": {
        "id": "FD1-PYnxqOci"
      }
    },
    {
      "cell_type": "markdown",
      "source": [
        "座標の実体がリストであることが公開されてしまっているため、\n",
        "\n",
        "*   座標の用途以外でも、座標用のリストが使用される可能性がある\n",
        "*   リストが使われていることを、座標の利用者が知っておく必要がある"
      ],
      "metadata": {
        "id": "w4gR8LoiqYCH"
      }
    },
    {
      "cell_type": "code",
      "source": [
        "# 座標以外の用途で使われてしまう例\n",
        "\n",
        "v1[1] = 4 # v1はグローバル変数なのでどこからでもアクセスできる\n",
        "list_foo = v1\n",
        "print(list_foo)\n",
        "print(v1) #予期せぬ変更がされている"
      ],
      "metadata": {
        "colab": {
          "base_uri": "https://localhost:8080/"
        },
        "id": "7wPp32lMq1KQ",
        "outputId": "08004faa-69a8-47ae-8f1d-7011a71d07c6"
      },
      "execution_count": null,
      "outputs": [
        {
          "output_type": "stream",
          "name": "stdout",
          "text": [
            "[2, 4]\n",
            "[2, 4]\n"
          ]
        }
      ]
    },
    {
      "cell_type": "code",
      "source": [
        "# 座標がリスト以外のデータ型で定義されてしまう例\n",
        "\n",
        "v4 = (1, 6) # タプルと勘違い\n",
        "v5 = (2, -7)\n",
        "\n",
        "v6 = vector_add(v4, v5) # リストが返される\n",
        "vector_print(v6) #実行結果からはリストとタプルが混在していることに気付けず、潜在的なバグになる"
      ],
      "metadata": {
        "colab": {
          "base_uri": "https://localhost:8080/"
        },
        "id": "zvV7T6wpcO8p",
        "outputId": "721e7b7f-9abd-4072-a7e9-f7744b718435"
      },
      "execution_count": null,
      "outputs": [
        {
          "output_type": "stream",
          "name": "stdout",
          "text": [
            "(3, -1)\n"
          ]
        }
      ]
    },
    {
      "cell_type": "markdown",
      "source": [
        "その結果、予期せぬバグが生じたり、コードがわかりづらくなる"
      ],
      "metadata": {
        "id": "3iduSrSkX7hX"
      }
    },
    {
      "cell_type": "markdown",
      "source": [
        "### 問題点②：データがバラバラに散らばってしまう\n",
        "\n",
        "\n"
      ],
      "metadata": {
        "id": "gdXFP6FHsXrJ"
      }
    },
    {
      "cell_type": "markdown",
      "source": [
        "座標を表現するデータ（リスト）と、座標を処理する関数がまとまっていないため、\n",
        "\n",
        "変更の手間やリスクが大きくなる可能性が高い"
      ],
      "metadata": {
        "id": "HPeUg-QTsjHJ"
      }
    },
    {
      "cell_type": "markdown",
      "source": [
        "例えば、座標の実装をリストからタプルに変更したい場合\n",
        "\n",
        "*   関数の修正に加えて、すべての座標のリストを、タプルに変更する必要がある\n",
        "\n",
        "*   データと関数（データの処理）がまとまっていないので、理解しづらく、修正箇所も見つけづらい"
      ],
      "metadata": {
        "id": "xevATZRxtBlM"
      }
    },
    {
      "cell_type": "markdown",
      "source": [
        "コードがわかりづらく、変更箇所も増えるので、\n",
        "\n",
        "変更の手間が大きくなるし、予期せぬバグを変更の際に入れてしまう可能性が高い"
      ],
      "metadata": {
        "id": "bUErFV2EYBIK"
      }
    },
    {
      "cell_type": "markdown",
      "source": [
        "### 問題点③：表現力に乏しい"
      ],
      "metadata": {
        "id": "wRU0H6yjbBho"
      }
    },
    {
      "cell_type": "markdown",
      "source": [
        "リストやタプルなどの組み込みのデータ型で座標を表現すると、\n",
        "\n",
        "座標のデータかどうかの判別がむずかしい"
      ],
      "metadata": {
        "id": "FFGFcrwlbFbs"
      }
    },
    {
      "cell_type": "code",
      "source": [
        "hoge_list = [1,10] # これは座標？ただの２要素のリスト？"
      ],
      "metadata": {
        "id": "kiq8GsEAaXRU"
      },
      "execution_count": null,
      "outputs": []
    },
    {
      "cell_type": "markdown",
      "source": [
        "結果として、コードがわかりづらくなる"
      ],
      "metadata": {
        "id": "2PsGho34X15h"
      }
    },
    {
      "cell_type": "markdown",
      "source": [
        "## OOPを使ったデータの抽象化"
      ],
      "metadata": {
        "id": "_tG2NgeZuaCA"
      }
    },
    {
      "cell_type": "markdown",
      "source": [
        "これらの問題を解決するのが、OOPによるデータの抽象化\n",
        "\n",
        "データを抽象化する方法は、**データと手続きをまとめる**こと"
      ],
      "metadata": {
        "id": "bnqFqg3yvJxV"
      }
    },
    {
      "cell_type": "code",
      "source": [
        "class Coordinate:\n",
        "  def __init__(self, x, y):\n",
        "    self.x = x\n",
        "    self.y = y\n",
        "\n",
        "  def __add__(self, c):\n",
        "    return Coordinate(self.x + c.x, self.y + c.y)\n",
        "\n",
        "  def __str__(self):\n",
        "    return f\"({self.x}, {self.y})\" #f文字列を使用\n",
        "\n",
        "\n",
        "vector1 = Coordinate(2, 3) # 座標のデータ\n",
        "vector2 = Coordinate(4, -1)\n",
        "vector3 = vector1 + vector2\n",
        "print(vector1)\n",
        "print(vector2)\n",
        "print(vector3)"
      ],
      "metadata": {
        "id": "qbHOQU2oi7se"
      },
      "execution_count": null,
      "outputs": []
    },
    {
      "cell_type": "markdown",
      "source": [
        "クラスを使うことで、データと手続き（関数）をまとめれば、\n",
        "\n",
        "*   座標の具体的な実装を隠蔽することができる（座標用のデータは、座標用のメソッドだけが操作できる）\n",
        "*   実装が隠蔽されているので、実装が変わっても呼び出し側の変更が不要になる\n",
        "*   変更箇所が明確になる（座標のことならCoordinateクラス内）\n",
        "*   座標のデータを扱っていることがクラス名から明確になる"
      ],
      "metadata": {
        "id": "aAAAgm4wv8Ih"
      }
    },
    {
      "cell_type": "markdown",
      "source": [
        "データとデータの処理（関数）をまとめて、\n",
        "\n",
        "具体的なデータは、対応するメソッドだけから操作できるようにすれば、\n",
        "\n",
        "具体的なデータを隠蔽することができる上に、可読性も向上する\n",
        "\n",
        "⇒ データの複雑さの軽減！"
      ],
      "metadata": {
        "id": "glLAeN3J7E1H"
      }
    },
    {
      "cell_type": "markdown",
      "source": [
        "データと処理をまとめて、1つのデータ型として扱えるようにしたものを\n",
        "\n",
        "**抽象データ型（Abstract Data Type）**という\n",
        "\n",
        "⇒ クラスは抽象データ型として作成するのが基本！\n",
        "\n",
        "⇒ 抽象データ型を理解していないと、効果的でないクラスを設計してしまう\n"
      ],
      "metadata": {
        "id": "SiTFgZTnBo4v"
      }
    },
    {
      "cell_type": "markdown",
      "source": [
        "OOP以前で解決できた問題　→ **処理の複雑さ**の軽減\n",
        "\n",
        "*   基本三構造という制約\n",
        "*   サブルーチン（関数）による処理の再利用"
      ],
      "metadata": {
        "id": "cmjh7bgX_ICF"
      }
    },
    {
      "cell_type": "markdown",
      "source": [
        "OOPが解決した問題　→ **データの複雑さ**の軽減\n",
        "\n",
        "*   データと手続きをまとめることで、データを抽象化（抽象データ型）\n",
        "*   データが抽象化されたことで、よりわかりやすく、扱いやすくなった"
      ],
      "metadata": {
        "id": "Go5e2diV_fKc"
      }
    },
    {
      "cell_type": "markdown",
      "source": [
        "## 抽象データ型の例"
      ],
      "metadata": {
        "id": "L2rapVXShp1X"
      }
    },
    {
      "cell_type": "markdown",
      "source": [
        "### スタック"
      ],
      "metadata": {
        "id": "3lsKBt-chtJN"
      }
    },
    {
      "cell_type": "markdown",
      "source": [
        "スタックとは\n",
        "\n",
        "*   先入れ後出しのデータ構造、積み重なったお皿はスタックのデータ構造と言える\n",
        "\n",
        "*   スタックにデータを入れることをpush、データを取り除くことをpopという\n",
        "\n"
      ],
      "metadata": {
        "id": "NuRSd1qthzTh"
      }
    },
    {
      "cell_type": "code",
      "source": [
        "class Stack:\n",
        "  def __init__(self):\n",
        "    self.items = []\n",
        "\n",
        "  def push(self, item):\n",
        "    self.items.append(item)\n",
        "\n",
        "  def pop(self):\n",
        "    if not self.is_empty():\n",
        "      return self.items.pop()\n",
        "    print(\"スタックは空です\")\n",
        "\n",
        "  def is_empty(self):\n",
        "    return len(self.items) == 0\n",
        "\n",
        "stack = Stack()\n",
        "stack.push(1)\n",
        "stack.push(2)\n",
        "stack.pop()\n",
        "stack.pop()\n",
        "stack.pop()"
      ],
      "metadata": {
        "colab": {
          "base_uri": "https://localhost:8080/"
        },
        "id": "-Nz75fQ9aF8a",
        "outputId": "12c6da6b-cc8a-4cb0-fb3a-5bf89effb384"
      },
      "execution_count": null,
      "outputs": [
        {
          "output_type": "stream",
          "name": "stdout",
          "text": [
            "スタックは空です\n"
          ]
        }
      ]
    },
    {
      "cell_type": "markdown",
      "source": [
        "### ユーザー名"
      ],
      "metadata": {
        "id": "l9YD1Q-oiOm3"
      }
    },
    {
      "cell_type": "markdown",
      "source": [
        "コンストラクタに値を正常値に保つ処理を書くことができる"
      ],
      "metadata": {
        "id": "-8jnbDkFiRW3"
      }
    },
    {
      "cell_type": "code",
      "source": [
        "class UserName:\n",
        "  def __init__(self, name):\n",
        "    if len(name) > 20:\n",
        "      raise ValueError(\"ユーザー名は20文字以内\")\n",
        "    self.name = name\n",
        "\n",
        "hiramatsu = UserName(\"hiramatsu\")\n",
        "jugemu = UserName(\"じゅげむじゅげむごこうのすりきれかいじゃりすいぎょの\")"
      ],
      "metadata": {
        "id": "qST2wQ98c_mO"
      },
      "execution_count": null,
      "outputs": []
    },
    {
      "cell_type": "markdown",
      "source": [
        "## まとめ"
      ],
      "metadata": {
        "id": "h2f-igcq_GZr"
      }
    },
    {
      "cell_type": "markdown",
      "metadata": {
        "id": "R2aLXuqw-6MX"
      },
      "source": [
        "# OOPを最大限活用するために"
      ]
    },
    {
      "cell_type": "markdown",
      "metadata": {
        "id": "akWSX8vb76gn"
      },
      "source": [
        "## OOPの学習はまだまだ続く"
      ]
    },
    {
      "cell_type": "markdown",
      "metadata": {
        "id": "eQJ6Uw5476gn"
      },
      "source": [
        "OOPで保守性・再利用性が高いソフトウェアを開発するには、まだまだ学習が必要\n",
        "\n",
        "本講座の知識を土台にして、引き続き学習を継続しよう"
      ]
    },
    {
      "cell_type": "markdown",
      "metadata": {
        "id": "NC-HuifYeWKn"
      },
      "source": [
        "## 設計原則とデザインパターンを学ぼう"
      ]
    },
    {
      "cell_type": "markdown",
      "metadata": {
        "id": "TcxtQ8iGelfT"
      },
      "source": [
        "概念を学んだだけではOOPを理解した「つもり」になってしまう\n",
        "\n",
        "OOPを実際の開発に使うためには、設計原則やデザインパターンの学習など、\n",
        "\n",
        "より踏み込んだ学習が不可欠"
      ]
    },
    {
      "cell_type": "markdown",
      "metadata": {
        "id": "_Q4gQdrn-05m"
      },
      "source": [
        "## Python以外の言語も学ぼう"
      ]
    },
    {
      "cell_type": "markdown",
      "metadata": {
        "id": "jnM7iQ-6I9EN"
      },
      "source": [
        "オブジェクト指向の良書はJavaで書かれたものが多い\n",
        "\n",
        "Javaを読めるようになっておくと、アクセスできるOOPの情報が増えるのでおすすめ\n",
        "\n",
        "他の言語を学ぶことでPythonの特徴が浮き彫りになる"
      ]
    },
    {
      "cell_type": "markdown",
      "metadata": {
        "id": "b1p40iSM_Zu6"
      },
      "source": [
        "## 参考文献・おすすめ書籍"
      ]
    },
    {
      "cell_type": "markdown",
      "metadata": {
        "id": "to4QdmblIlgk"
      },
      "source": [
        "[平澤 章「オブジェクト指向でなぜつくるのか 第2版」日経BP社 2011年]\n",
        "\n",
        "[アラン・シャロウェイほか 「オブジェクト指向のこころ」 丸善出版 2014年]\n",
        "\n",
        "[谷本 心 ほか「Java本格入門 ~モダンスタイルによる基礎からオブジェクト指向・実用ライブラリまで」技術評論社 2017年]\n",
        "\n",
        "[コーリー・アルソフ「独学プログラマー Python言語の基本から仕事のやり方まで」清水川 貴之 監訳ほか 日経BP社 2018年]\n",
        "\n",
        "[ロバート・C・マーチン 「アジャイルソフトウェア開発の奥義 第2版 オブジェクト指向開発の神髄と匠の技」SBクリエイティブ 2008年]\n",
        "\n",
        "[Brett Slatkin 「Effective Python 第2版 ―Pythonプログラムを改良する90項目」オライリージャパン 2020年]\n"
      ]
    },
    {
      "cell_type": "markdown",
      "metadata": {
        "id": "WWFQsmC5_jIC"
      },
      "source": [
        "# 演習問題の解答（復習にご活用ください^^）"
      ]
    },
    {
      "cell_type": "markdown",
      "metadata": {
        "id": "29BOJrTiKaAN"
      },
      "source": [
        "## 演習問題①"
      ]
    },
    {
      "cell_type": "markdown",
      "metadata": {
        "id": "zlz3wAVWKkwq"
      },
      "source": [
        "合計金額を算出するOrderクラスを定義しましょう！\n",
        "\n",
        "Orderクラスは以下のようなクラスであるとします\n",
        "\n",
        "*   インスタンス変数として単価（price）と数量（count）を持つ\n",
        "*   インスタンス変数の定義はコンストラクタで行われている\n",
        "*   クラス変数として消費税（tax）を持つ、消費税の値は1.1（10%）とする\n",
        "*   単価×数量×消費税で合計金額を算出するtotal_priceメソッドを持つ\n"
      ]
    },
    {
      "cell_type": "code",
      "metadata": {
        "id": "LkPx_FZG2Ym_",
        "colab": {
          "base_uri": "https://localhost:8080/",
          "height": 53
        },
        "outputId": "39f45144-5c9c-43ae-c95b-b730b889d387"
      },
      "source": [
        "class Order:\n",
        "  tax = 1.1\n",
        "\n",
        "  def __init__(self, price, count):\n",
        "    self.price = price\n",
        "    self.count = count\n",
        "\n",
        "  def total_price(self):\n",
        "    total = self.price * self.count * Order.tax\n",
        "    total = int(total)\n",
        "    print(\"合計金額は\" + str(total) + \"円です\")\n",
        "\n",
        "order1 = Order(100, 10)\n",
        "order1.total_price()\n",
        "order2 = Order(128, 8)\n",
        "order2.total_price()"
      ],
      "execution_count": null,
      "outputs": [
        {
          "output_type": "stream",
          "text": [
            "合計金額は1100円です\n",
            "合計金額は1126円です\n"
          ],
          "name": "stdout"
        }
      ]
    },
    {
      "cell_type": "markdown",
      "metadata": {
        "id": "UmovDAXNKc3W"
      },
      "source": [
        "## 演習問題②"
      ]
    },
    {
      "cell_type": "markdown",
      "metadata": {
        "id": "F4UxHiVwKlLk"
      },
      "source": [
        "以下の要件を満たすDecoDisplayクラスを定義しましょう！\n",
        "\n",
        "*   Displayクラスを継承している\n",
        "*   唯一のメソッドとして、displayメソッドを持つ（オーバーライドしている）\n",
        "*   引数として渡された文章の先頭と末尾に「～」を追加して表示するメソッド\n",
        "\n",
        "クラスが定義できたら、インスタンスを生成してメソッドを呼び出してみましょう！"
      ]
    },
    {
      "cell_type": "code",
      "metadata": {
        "id": "kUq9LtWdKnhd",
        "colab": {
          "base_uri": "https://localhost:8080/",
          "height": 53
        },
        "outputId": "35834c80-6a5e-46f0-fee7-9e1664581389"
      },
      "source": [
        "class Display:\n",
        "  def __init__(self):\n",
        "    print(\"文章を出力できるよ\")\n",
        "\n",
        "  def display(self, sentence):\n",
        "    print(sentence)\n",
        "\n",
        "class DecoDisplay(Display):\n",
        "  def display(self, sentence):\n",
        "    print(\"～\" + sentence + \"～\")\n",
        "\n",
        "deco = DecoDisplay()\n",
        "deco.display(\"キャビアを添えて\")"
      ],
      "execution_count": null,
      "outputs": [
        {
          "output_type": "stream",
          "text": [
            "文章を出力できるよ\n",
            "～キャビアを添えて～\n"
          ],
          "name": "stdout"
        }
      ]
    },
    {
      "cell_type": "markdown",
      "metadata": {
        "id": "tvKeImH-Kemk"
      },
      "source": [
        "## 演習問題③"
      ]
    },
    {
      "cell_type": "markdown",
      "metadata": {
        "id": "_nP7qZjJKmCX"
      },
      "source": [
        "継承のセクションで登場した上のプログラムを、ポリモーフィズムを使って改善しましょう！\n",
        "\n",
        "以下の修正を行ってください\n",
        "\n",
        "*   Workerクラスを抽象クラスに変更\n",
        "*   Workerクラスに、新たにdo_workメソッドを追加\n",
        "*   do_workメソッドは、抽象メソッド\n",
        "*   Teacherクラスのteachメソッドと、Programmerクラスのprogrammingメソッドをdo_workメソッドに置き換える\n",
        "*   Workerクラスをスーパークラスにもつクラスのオブジェクトを引数として受け取る、instract関数を定義\n",
        "*   instract関数は渡されたオブジェクトのdo_workメソッドを呼び出す関数\n",
        "\n",
        "instract関数にTeacherクラスとProgrammerクラスのオブジェクトを渡して、実行してみましょう！\n"
      ]
    },
    {
      "cell_type": "code",
      "metadata": {
        "id": "Ij3TTa-nKg5S"
      },
      "source": [
        "from abc import ABC, abstractmethod\n",
        "\n",
        "class Worker(ABC):\n",
        "  def __init__(self, name):\n",
        "    self.name = name\n",
        "\n",
        "  def hello(self):\n",
        "    print(\"私の名前は\" + self.name + \"です\")\n",
        "\n",
        "  @abstractmethod\n",
        "  def do_work(self):\n",
        "    pass\n",
        "\n",
        "\n",
        "class Teacher(Worker): #Workerクラスの継承でシンプルな記述に\n",
        "  def do_work(self):\n",
        "    print(self.name + \"は、教えた\")\n",
        "\n",
        "class Programmer(Worker):\n",
        "  def do_work(self):\n",
        "    print(self.name + \"は、プログラミングした\")\n",
        "\n",
        "\n",
        "def instract(worker):\n",
        "  worker.do_work()\n",
        "\n",
        "\n",
        "teacher = Teacher(\"金八\")\n",
        "programmer = Programmer(\"松本\")\n",
        "instract(teacher)\n",
        "instract(programmer)"
      ],
      "execution_count": null,
      "outputs": []
    }
  ]
}