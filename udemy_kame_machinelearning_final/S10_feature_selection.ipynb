{
 "cells": [
  {
   "cell_type": "markdown",
   "id": "d2185702-1133-4111-bc92-b1ea20aa21a3",
   "metadata": {},
   "source": [
    "# Section10 特徴量選択"
   ]
  },
  {
   "cell_type": "markdown",
   "id": "f3b2ce5a-f573-4b15-b642-12f701a7f281",
   "metadata": {},
   "source": [
    "## Greedy Feature Selection"
   ]
  },
  {
   "cell_type": "markdown",
   "id": "f5bac8ef-4782-4736-8748-dec774f278d3",
   "metadata": {},
   "source": [
    "- penguins_size.csvのデータセットを使用\n",
    "- 前処理\n",
    "    - 欠損値が多いデータは削除\n",
    "    - カテゴリカルの欠損値にはNaNを代入し新たなカテゴリとして扱う\n",
    "    - one-hot encodingでダミー変数化\n",
    "    - 標準化\n",
    "- 特徴量エンジニアリング\n",
    "    - 多項式特徴量\n",
    "    - 四則演算\n",
    "- grdeey feature selectionをクラスで実装\n",
    "    - k-Foldで評価\n",
    "    - 引数にPipelineを受け取る\n",
    "- 精度の推移と、選択された特徴量確認"
   ]
  },
  {
   "cell_type": "code",
   "execution_count": 1,
   "id": "fa39fac4-f9b8-41c9-8015-d8a57420baee",
   "metadata": {},
   "outputs": [],
   "source": [
    "import pandas as pd\n",
    "import numpy as np\n",
    "\n",
    "# データ抽出\n",
    "df = pd.read_csv('penguins_size.csv')\n",
    "\n",
    "# 前処理\n",
    "df.loc[df[df['sex'] == '.'].index, 'sex'] = np.nan\n",
    "df.dropna(thresh=3, inplace=True)  # thresh=3と引数を渡すことで、カラムが3つ以上NoneのIndexを削除する"
   ]
  },
  {
   "cell_type": "code",
   "execution_count": 2,
   "id": "89453eb1-599c-498f-b203-a117258bf9ee",
   "metadata": {},
   "outputs": [],
   "source": [
    "# X,y生成\n",
    "X = df.drop('species', axis=1)\n",
    "y = df['species']\n",
    "\n",
    "# 'sex'カラムの欠損値を新たなカテゴリ'NaN'として扱う\n",
    "from sklearn.impute import SimpleImputer\n",
    "imputer = SimpleImputer(strategy='constant', fill_value='NaN')\n",
    "imputer.set_output(transform='pandas')\n",
    "X['sex'] = imputer.fit_transform(X[['sex']])\n",
    "\n",
    "# One-hot encoding生成自作クラス\n",
    "from sklearn.base import BaseEstimator, TransformerMixin\n",
    "class GetDummies(BaseEstimator, TransformerMixin):\n",
    "    \"\"\"\n",
    "    BaseEstimatorとTransformMininクラスを継承した\n",
    "    ダミー変数のカラムを作るクラス\n",
    "    \"\"\"\n",
    "    \n",
    "    def __init__(self):\n",
    "        self.columns = None\n",
    "        \n",
    "    def fit(self, X, y=None):\n",
    "        self.columns = pd.get_dummies(X).columns\n",
    "        return self\n",
    "    \n",
    "    def transform(self, X):\n",
    "        X_new = pd.get_dummies(X)\n",
    "        return X_new.reindex(columns=self.columns, fill_value=0)\n",
    "    \n",
    "# 特徴量エンジニアリング\n",
    "# 多項式特徴量\n",
    "from sklearn.preprocessing import PolynomialFeatures\n",
    "poly = PolynomialFeatures(degree=2, include_bias=False)\n",
    "poly_cols = ['culmen_length_mm', 'culmen_depth_mm', 'culmen_length_mm^2', 'culmen_depth_mm^2', 'culmen_length_mm * culmen_depth_mm']\n",
    "X[poly_cols] = poly.fit_transform(X[['culmen_length_mm', 'culmen_depth_mm']])  \n",
    "# 四則演算\n",
    "X['clumen_diff'] = X['culmen_length_mm'] - X['culmen_depth_mm']\n",
    "X['clumen_ratio'] = X['culmen_length_mm'] / X['culmen_depth_mm']\n",
    "\n",
    "# Pipeline\n",
    "from sklearn.pipeline import Pipeline\n",
    "from sklearn.preprocessing import StandardScaler\n",
    "from sklearn.linear_model import LogisticRegression\n",
    "pipeline = Pipeline([('dummy', GetDummies()), \n",
    "          ('scaler', StandardScaler()), \n",
    "          ('model', LogisticRegression())])\n",
    "\n",
    "# cv\n",
    "from sklearn.model_selection import KFold\n",
    "cv = KFold(n_splits=3, random_state=0, shuffle=True)"
   ]
  },
  {
   "cell_type": "code",
   "execution_count": 1,
   "id": "c99e86ee-3952-4f3a-be69-4accece9ff99",
   "metadata": {},
   "outputs": [],
   "source": [
    "# Feature Selection\n",
    "from sklearn.model_selection import cross_val_score\n",
    "class GreedyFeatureSelection():\n",
    "    \n",
    "    def __init__(self, pipeline, cv):\n",
    "        self.pipeline = pipeline\n",
    "        self.cv = cv\n",
    "        self.selected_features = []\n",
    "        self.scores = [0]\n",
    "    \n",
    "    def select_feature(self, X, y):\n",
    "        \n",
    "        all_features = X.columns\n",
    "        \n",
    "        while True:\n",
    "            print('greedy selection started')\n",
    "            best_score = self.scores[-1]\n",
    "            candidate_feature = None\n",
    "            for feature in all_features:\n",
    "                if feature in self.selected_features:\n",
    "                    # 同じfeatureが重複してリスト生成されないように、同じfeatureが来たらskipする\n",
    "                    continue\n",
    "                print(f'{feature} started')\n",
    "                features = self.selected_features + [feature]\n",
    "                X_train = X[features]\n",
    "                # 評価\n",
    "                score = cross_val_score(self.pipeline, X_train, y, cv=self.cv).mean()\n",
    "                print(f'{features} score: {score}')\n",
    "                if score > best_score:\n",
    "                    print(f'best score updated {best_score} -> {score}')\n",
    "                    best_score = score\n",
    "                    candidate_feature = feature\n",
    "            \n",
    "            if candidate_feature is not None:\n",
    "                print(f'========{candidate_feature} is selected=============')\n",
    "                self.scores.append(best_score)\n",
    "                self.selected_features.append(candidate_feature)\n",
    "            else:\n",
    "                break"
   ]
  },
  {
   "cell_type": "code",
   "execution_count": 4,
   "id": "86176688-3765-45fa-b3a4-f48a22b77c35",
   "metadata": {},
   "outputs": [
    {
     "name": "stdout",
     "output_type": "stream",
     "text": [
      "greedy selection started\n",
      "island started\n",
      "['island'] score: 0.7076023391812866\n",
      "best score updated 0 -> 0.7076023391812866\n",
      "culmen_length_mm started\n",
      "['culmen_length_mm'] score: 0.7514619883040936\n",
      "best score updated 0.7076023391812866 -> 0.7514619883040936\n",
      "culmen_depth_mm started\n",
      "['culmen_depth_mm'] score: 0.7573099415204679\n",
      "best score updated 0.7514619883040936 -> 0.7573099415204679\n",
      "flipper_length_mm started\n",
      "['flipper_length_mm'] score: 0.7982456140350876\n",
      "best score updated 0.7573099415204679 -> 0.7982456140350876\n",
      "body_mass_g started\n",
      "['body_mass_g'] score: 0.7309941520467835\n",
      "sex started\n",
      "['sex'] score: 0.39181286549707606\n",
      "culmen_length_mm^2 started\n",
      "['culmen_length_mm^2'] score: 0.7543859649122808\n",
      "culmen_depth_mm^2 started\n",
      "['culmen_depth_mm^2'] score: 0.5350877192982456\n",
      "culmen_length_mm * culmen_depth_mm started\n",
      "['culmen_length_mm * culmen_depth_mm'] score: 0.7573099415204679\n",
      "clumen_diff started\n",
      "['clumen_diff'] score: 0.8187134502923977\n",
      "best score updated 0.7982456140350876 -> 0.8187134502923977\n",
      "clumen_ratio started\n",
      "['clumen_ratio'] score: 0.9619883040935672\n",
      "best score updated 0.8187134502923977 -> 0.9619883040935672\n",
      "========clumen_ratio is selected=============\n",
      "greedy selection started\n",
      "island started\n",
      "['clumen_ratio', 'island'] score: 0.9912280701754387\n",
      "best score updated 0.9619883040935672 -> 0.9912280701754387\n",
      "culmen_length_mm started\n",
      "['clumen_ratio', 'culmen_length_mm'] score: 0.9532163742690059\n",
      "culmen_depth_mm started\n",
      "['clumen_ratio', 'culmen_depth_mm'] score: 0.9590643274853802\n",
      "flipper_length_mm started\n",
      "['clumen_ratio', 'flipper_length_mm'] score: 0.9678362573099415\n",
      "body_mass_g started\n",
      "['clumen_ratio', 'body_mass_g'] score: 0.9766081871345028\n",
      "sex started\n",
      "['clumen_ratio', 'sex'] score: 0.9532163742690059\n",
      "culmen_length_mm^2 started\n",
      "['clumen_ratio', 'culmen_length_mm^2'] score: 0.956140350877193\n",
      "culmen_depth_mm^2 started\n",
      "['clumen_ratio', 'culmen_depth_mm^2'] score: 0.956140350877193\n",
      "culmen_length_mm * culmen_depth_mm started\n",
      "['clumen_ratio', 'culmen_length_mm * culmen_depth_mm'] score: 0.9590643274853802\n",
      "clumen_diff started\n",
      "['clumen_ratio', 'clumen_diff'] score: 0.9590643274853802\n",
      "========island is selected=============\n",
      "greedy selection started\n",
      "culmen_length_mm started\n",
      "['clumen_ratio', 'island', 'culmen_length_mm'] score: 0.9941520467836257\n",
      "best score updated 0.9912280701754387 -> 0.9941520467836257\n",
      "culmen_depth_mm started\n",
      "['clumen_ratio', 'island', 'culmen_depth_mm'] score: 0.9941520467836257\n",
      "flipper_length_mm started\n",
      "['clumen_ratio', 'island', 'flipper_length_mm'] score: 0.9941520467836257\n",
      "body_mass_g started\n",
      "['clumen_ratio', 'island', 'body_mass_g'] score: 0.9912280701754387\n",
      "sex started\n",
      "['clumen_ratio', 'island', 'sex'] score: 0.9883040935672515\n",
      "culmen_length_mm^2 started\n",
      "['clumen_ratio', 'island', 'culmen_length_mm^2'] score: 0.9941520467836257\n",
      "culmen_depth_mm^2 started\n",
      "['clumen_ratio', 'island', 'culmen_depth_mm^2'] score: 0.9853801169590644\n",
      "culmen_length_mm * culmen_depth_mm started\n",
      "['clumen_ratio', 'island', 'culmen_length_mm * culmen_depth_mm'] score: 0.9941520467836257\n",
      "clumen_diff started\n",
      "['clumen_ratio', 'island', 'clumen_diff'] score: 0.9970760233918128\n",
      "best score updated 0.9941520467836257 -> 0.9970760233918128\n",
      "========clumen_diff is selected=============\n",
      "greedy selection started\n",
      "culmen_length_mm started\n",
      "['clumen_ratio', 'island', 'clumen_diff', 'culmen_length_mm'] score: 0.9912280701754387\n",
      "culmen_depth_mm started\n",
      "['clumen_ratio', 'island', 'clumen_diff', 'culmen_depth_mm'] score: 0.9970760233918128\n",
      "flipper_length_mm started\n",
      "['clumen_ratio', 'island', 'clumen_diff', 'flipper_length_mm'] score: 0.9970760233918128\n",
      "body_mass_g started\n",
      "['clumen_ratio', 'island', 'clumen_diff', 'body_mass_g'] score: 1.0\n",
      "best score updated 0.9970760233918128 -> 1.0\n",
      "sex started\n",
      "['clumen_ratio', 'island', 'clumen_diff', 'sex'] score: 0.9970760233918128\n",
      "culmen_length_mm^2 started\n",
      "['clumen_ratio', 'island', 'clumen_diff', 'culmen_length_mm^2'] score: 0.9941520467836257\n",
      "culmen_depth_mm^2 started\n",
      "['clumen_ratio', 'island', 'clumen_diff', 'culmen_depth_mm^2'] score: 0.9883040935672515\n",
      "culmen_length_mm * culmen_depth_mm started\n",
      "['clumen_ratio', 'island', 'clumen_diff', 'culmen_length_mm * culmen_depth_mm'] score: 0.9970760233918128\n",
      "========body_mass_g is selected=============\n",
      "greedy selection started\n",
      "culmen_length_mm started\n",
      "['clumen_ratio', 'island', 'clumen_diff', 'body_mass_g', 'culmen_length_mm'] score: 0.9941520467836257\n",
      "culmen_depth_mm started\n",
      "['clumen_ratio', 'island', 'clumen_diff', 'body_mass_g', 'culmen_depth_mm'] score: 1.0\n",
      "flipper_length_mm started\n",
      "['clumen_ratio', 'island', 'clumen_diff', 'body_mass_g', 'flipper_length_mm'] score: 0.9970760233918128\n",
      "sex started\n",
      "['clumen_ratio', 'island', 'clumen_diff', 'body_mass_g', 'sex'] score: 1.0\n",
      "culmen_length_mm^2 started\n",
      "['clumen_ratio', 'island', 'clumen_diff', 'body_mass_g', 'culmen_length_mm^2'] score: 0.9941520467836257\n",
      "culmen_depth_mm^2 started\n",
      "['clumen_ratio', 'island', 'clumen_diff', 'body_mass_g', 'culmen_depth_mm^2'] score: 0.9941520467836257\n",
      "culmen_length_mm * culmen_depth_mm started\n",
      "['clumen_ratio', 'island', 'clumen_diff', 'body_mass_g', 'culmen_length_mm * culmen_depth_mm'] score: 1.0\n"
     ]
    }
   ],
   "source": [
    "# Greedy feature selection\n",
    "gfs = GreedyFeatureSelection(pipeline=pipeline, cv=cv)\n",
    "gfs.select_feature(X, y)"
   ]
  },
  {
   "cell_type": "code",
   "execution_count": 5,
   "id": "e2c73fa7-8ed5-4322-bef7-e92df6ef4bb9",
   "metadata": {},
   "outputs": [
    {
     "data": {
      "text/plain": [
       "[0, 0.9619883040935672, 0.9912280701754387, 0.9970760233918128, 1.0]"
      ]
     },
     "execution_count": 5,
     "metadata": {},
     "output_type": "execute_result"
    }
   ],
   "source": [
    "gfs.scores"
   ]
  },
  {
   "cell_type": "code",
   "execution_count": 6,
   "id": "7e3e543e-4282-4efe-8eba-cdd92482a17c",
   "metadata": {},
   "outputs": [
    {
     "data": {
      "text/plain": [
       "['clumen_ratio', 'island', 'clumen_diff', 'body_mass_g']"
      ]
     },
     "execution_count": 6,
     "metadata": {},
     "output_type": "execute_result"
    }
   ],
   "source": [
    "gfs.selected_features"
   ]
  },
  {
   "cell_type": "markdown",
   "id": "bfa1c241-3e29-4c7c-896f-2e8bf6c3c56d",
   "metadata": {},
   "source": [
    "## Recursive feature eliminate(RFE)"
   ]
  },
  {
   "cell_type": "markdown",
   "id": "c0ca4b52-fb04-45c3-9616-615bcd27dd84",
   "metadata": {},
   "source": [
    "RFE\n",
    "- sklearn.feature_selection.RFEクラス\n",
    "    1. インスタンス生成\n",
    "        - estimator: sklearnのモデルインスタンス\n",
    "        - n_feaures_to_select: 最終的に選択する特徴量数\n",
    "    2. .fit(X, y)でRFEを実施し特徴量選択する\n",
    "    3. transform(X)で削減された特徴量するX’を返す\n",
    "        - rankingで特徴量の重要度順を確認できる\n",
    "        - .support_で特徴量の選択結果のマスクを取得\n",
    "- sklearn.feature_selectionRFECVクラス\n",
    "    - RFEをCVで実行できる"
   ]
  },
  {
   "cell_type": "markdown",
   "id": "6eb30819-e4c9-4b5b-a449-b41a7b1f4feb",
   "metadata": {},
   "source": [
    "### RFEクラス"
   ]
  },
  {
   "cell_type": "code",
   "execution_count": 7,
   "id": "e4154adc-5898-40c7-9d8a-8961a440dc1a",
   "metadata": {},
   "outputs": [
    {
     "data": {
      "text/plain": [
       "array([[20.4       ,  2.09090909,  0.        ,  1.        ,  1.        ,\n",
       "         0.        ],\n",
       "       [22.1       ,  2.27011494,  0.        ,  1.        ,  0.        ,\n",
       "         0.        ],\n",
       "       [22.3       ,  2.23888889,  0.        ,  1.        ,  0.        ,\n",
       "         0.        ],\n",
       "       ...,\n",
       "       [34.7       ,  3.21019108,  0.        ,  0.        ,  1.        ,\n",
       "         0.        ],\n",
       "       [30.4       ,  3.05405405,  0.        ,  0.        ,  0.        ,\n",
       "         0.        ],\n",
       "       [33.8       ,  3.09937888,  0.        ,  0.        ,  1.        ,\n",
       "         0.        ]])"
      ]
     },
     "execution_count": 7,
     "metadata": {},
     "output_type": "execute_result"
    }
   ],
   "source": [
    "# RFEクラス\n",
    "from sklearn.feature_selection import RFE\n",
    "from sklearn.tree import DecisionTreeClassifier\n",
    "\n",
    "# モデルは決定木、最終的に6の特徴量数でRFEを実施\n",
    "rfe = RFE(estimator=DecisionTreeClassifier(), n_features_to_select=6)\n",
    "X = pd.get_dummies(X, drop_first=True)\n",
    "rfe.fit(X, y)\n",
    "rfe.transform(X)"
   ]
  },
  {
   "cell_type": "code",
   "execution_count": 8,
   "id": "e3ad7ed5-1cd6-40f3-ba68-de60ceffd65a",
   "metadata": {},
   "outputs": [
    {
     "data": {
      "text/plain": [
       "array([8, 7, 6, 5, 4, 3, 2, 1, 1, 1, 1, 1, 1])"
      ]
     },
     "execution_count": 8,
     "metadata": {},
     "output_type": "execute_result"
    }
   ],
   "source": [
    "# 1のランキングのカラムが重要度高い\n",
    "rfe.ranking_"
   ]
  },
  {
   "cell_type": "code",
   "execution_count": 9,
   "id": "2ace3447-bad9-4edb-881d-95a0355c787c",
   "metadata": {},
   "outputs": [
    {
     "data": {
      "text/plain": [
       "array(['clumen_diff', 'clumen_ratio', 'island_Dream', 'island_Torgersen',\n",
       "       'sex_MALE', 'sex_NaN'], dtype=object)"
      ]
     },
     "execution_count": 9,
     "metadata": {},
     "output_type": "execute_result"
    }
   ],
   "source": [
    "# ランキングが1のカラムのみを抜き出す\n",
    "rfe.feature_names_in_[rfe.ranking_==1]\n",
    "# rfe.feature_names_in_[rfe.support_]  # 上記の書き方は.support_を使ってこのようにも書ける"
   ]
  },
  {
   "cell_type": "code",
   "execution_count": 10,
   "id": "6daebaef-f721-4173-b21a-52300192723a",
   "metadata": {},
   "outputs": [
    {
     "name": "stdout",
     "output_type": "stream",
     "text": [
      "[1.         0.99122807 0.99122807]\n"
     ]
    }
   ],
   "source": [
    "pipeline = Pipeline([('rfe', rfe), \n",
    "                     ('scaler', StandardScaler()), \n",
    "                     ('model', LogisticRegression())])\n",
    "scores = cross_val_score(pipeline, X, y, cv=cv)\n",
    "print(scores)"
   ]
  },
  {
   "cell_type": "markdown",
   "id": "e642f419-003e-4607-a97e-c915f80ce363",
   "metadata": {},
   "source": [
    "### RFECVクラス"
   ]
  },
  {
   "cell_type": "code",
   "execution_count": 11,
   "id": "78530055-0241-460f-b5cd-a52ea6303a58",
   "metadata": {},
   "outputs": [
    {
     "data": {
      "text/plain": [
       "array([[20.4       ,  2.09090909,  0.        ],\n",
       "       [22.1       ,  2.27011494,  0.        ],\n",
       "       [22.3       ,  2.23888889,  0.        ],\n",
       "       ...,\n",
       "       [34.7       ,  3.21019108,  0.        ],\n",
       "       [30.4       ,  3.05405405,  0.        ],\n",
       "       [33.8       ,  3.09937888,  0.        ]])"
      ]
     },
     "execution_count": 11,
     "metadata": {},
     "output_type": "execute_result"
    }
   ],
   "source": [
    "# RFECVクラス\n",
    "from sklearn.feature_selection import RFECV\n",
    "\n",
    "cv = KFold(n_splits=3, random_state=0, shuffle=True)\n",
    "rfecv = RFECV(estimator=DecisionTreeClassifier(), cv=cv)\n",
    "rfecv.fit(X, y)\n",
    "rfecv.transform(X)"
   ]
  },
  {
   "cell_type": "code",
   "execution_count": 12,
   "id": "c2496138-27cb-453c-8051-e72d2b70496f",
   "metadata": {},
   "outputs": [
    {
     "data": {
      "text/plain": [
       "array(['clumen_diff', 'clumen_ratio', 'island_Dream'], dtype=object)"
      ]
     },
     "execution_count": 12,
     "metadata": {},
     "output_type": "execute_result"
    }
   ],
   "source": [
    "rfecv.feature_names_in_[rfecv.support_]"
   ]
  },
  {
   "cell_type": "code",
   "execution_count": 13,
   "id": "9fea2535-03e8-4304-b4c9-e5b6c88c83df",
   "metadata": {},
   "outputs": [
    {
     "data": {
      "text/plain": [
       "Text(0, 0.5, 'mean test score')"
      ]
     },
     "execution_count": 13,
     "metadata": {},
     "output_type": "execute_result"
    },
    {
     "data": {
      "image/png": "[encoded data removed]",
      "text/plain": [
       "<Figure size 640x480 with 1 Axes>"
      ]
     },
     "metadata": {},
     "output_type": "display_data"
    }
   ],
   "source": [
    "# 特徴量10個よりも、4~8個の方が精度が高くなっている\n",
    "# このことから、4個の特徴量がrfeにより選択されたことになる\n",
    "# 特徴量が多いということは、テストデータにも特徴量の情報を求めることになり、運用コストが高くなりがち\n",
    "# そのため、機械学習PJTではなるべく特徴量を少なくしてやるのが望ましい\n",
    "\n",
    "# rfecv.cv_results_\n",
    "import matplotlib.pyplot as plt\n",
    "plt.errorbar(range(1, 1+len(rfecv.cv_results_['mean_test_score'])),\n",
    "             rfecv.cv_results_['mean_test_score'],\n",
    "             yerr=rfecv.cv_results_['std_test_score'])\n",
    "plt.xlabel('feature numbers')\n",
    "plt.ylabel('mean test score')"
   ]
  },
  {
   "cell_type": "code",
   "execution_count": 14,
   "id": "28f66727-0cfb-40d0-bbe9-fd63cf17596b",
   "metadata": {},
   "outputs": [
    {
     "data": {
      "text/plain": [
       "array([0.8625731 , 0.97953216, 0.98830409, 0.98830409, 0.98830409,\n",
       "       0.98830409, 0.98830409, 0.98830409, 0.98830409, 0.98538012,\n",
       "       0.97660819, 0.98538012, 0.97953216])"
      ]
     },
     "execution_count": 14,
     "metadata": {},
     "output_type": "execute_result"
    }
   ],
   "source": [
    "rfecv.cv_results_['mean_test_score']"
   ]
  },
  {
   "cell_type": "code",
   "execution_count": 15,
   "id": "ce091142-3973-4384-ac3e-232a3208c1c7",
   "metadata": {},
   "outputs": [
    {
     "data": {
      "text/plain": [
       "{'mean_test_score': array([0.8625731 , 0.97953216, 0.98830409, 0.98830409, 0.98830409,\n",
       "        0.98830409, 0.98830409, 0.98830409, 0.98830409, 0.98538012,\n",
       "        0.97660819, 0.98538012, 0.97953216]),\n",
       " 'std_test_score': array([0.1063138 , 0.01094052, 0.00413513, 0.00413513, 0.00413513,\n",
       "        0.00413513, 0.00413513, 0.00413513, 0.00413513, 0.00413513,\n",
       "        0.00827025, 0.00413513, 0.00413513]),\n",
       " 'split0_test_score': array([0.97368421, 0.99122807, 0.99122807, 0.99122807, 0.99122807,\n",
       "        0.99122807, 0.99122807, 0.99122807, 0.99122807, 0.99122807,\n",
       "        0.98245614, 0.99122807, 0.98245614]),\n",
       " 'split1_test_score': array([0.89473684, 0.98245614, 0.99122807, 0.99122807, 0.99122807,\n",
       "        0.99122807, 0.99122807, 0.99122807, 0.99122807, 0.98245614,\n",
       "        0.96491228, 0.98245614, 0.97368421]),\n",
       " 'split2_test_score': array([0.71929825, 0.96491228, 0.98245614, 0.98245614, 0.98245614,\n",
       "        0.98245614, 0.98245614, 0.98245614, 0.98245614, 0.98245614,\n",
       "        0.98245614, 0.98245614, 0.98245614])}"
      ]
     },
     "execution_count": 15,
     "metadata": {},
     "output_type": "execute_result"
    }
   ],
   "source": [
    "rfecv.cv_results_"
   ]
  },
  {
   "cell_type": "markdown",
   "id": "6f917c04-1df5-4361-822b-bb475c0ebd7d",
   "metadata": {},
   "source": [
    "## モデルの重要度から特徴量選択"
   ]
  },
  {
   "cell_type": "markdown",
   "id": "b9e7943a-6b70-4a36-8504-0c48df8cd4b5",
   "metadata": {},
   "source": [
    "SelectFromModel\n",
    "- sklearn.feature_selection.SelectFromModelクラス\n",
    "    1. インスタンス生成\n",
    "        - estimator: sklearnのモデル\n",
    "        - thershold: 重要度の閾値, 'mean', 'median', '1.25*mean'なども可能\n",
    "    2. .fit(X,y)で学習\n",
    "    3. .transform(X)で削減された特徴量X’を返す\n",
    "    - estimator_でモデルインスタンスにアクセス可能\n",
    "    - .get_support()で特徴量の選択結果のマスクを取得"
   ]
  },
  {
   "cell_type": "markdown",
   "id": "ba5fbc36-a44c-4184-8b3e-90404d189e86",
   "metadata": {},
   "source": [
    "### RandomForest"
   ]
  },
  {
   "cell_type": "code",
   "execution_count": 17,
   "id": "7c45565e-b80c-482d-924c-6708487c822a",
   "metadata": {},
   "outputs": [],
   "source": [
    "from sklearn.feature_selection import SelectFromModel\n",
    "from sklearn.ensemble import RandomForestClassifier\n",
    "\n",
    "sfm = SelectFromModel(estimator=RandomForestClassifier(random_state=0))\n",
    "X_selected = sfm.fit_transform(X, y)"
   ]
  },
  {
   "cell_type": "code",
   "execution_count": 19,
   "id": "71097790-0009-4c31-acc7-d9ced2336a16",
   "metadata": {},
   "outputs": [
    {
     "data": {
      "text/plain": [
       "array([[ 39.1       ,  18.7       , 181.        , ..., 349.69      ,\n",
       "         20.4       ,   2.09090909],\n",
       "       [ 39.5       ,  17.4       , 186.        , ..., 302.76      ,\n",
       "         22.1       ,   2.27011494],\n",
       "       [ 40.3       ,  18.        , 195.        , ..., 324.        ,\n",
       "         22.3       ,   2.23888889],\n",
       "       ...,\n",
       "       [ 50.4       ,  15.7       , 222.        , ..., 246.49      ,\n",
       "         34.7       ,   3.21019108],\n",
       "       [ 45.2       ,  14.8       , 212.        , ..., 219.04      ,\n",
       "         30.4       ,   3.05405405],\n",
       "       [ 49.9       ,  16.1       , 213.        , ..., 259.21      ,\n",
       "         33.8       ,   3.09937888]])"
      ]
     },
     "execution_count": 19,
     "metadata": {},
     "output_type": "execute_result"
    }
   ],
   "source": [
    "X_selected"
   ]
  },
  {
   "cell_type": "code",
   "execution_count": 21,
   "id": "9420231a-5094-4805-918d-b9389464d5ff",
   "metadata": {},
   "outputs": [
    {
     "data": {
      "text/html": [
       "<style>#sk-container-id-2 {\n",
       "  /* Definition of color scheme common for light and dark mode */\n",
       "  --sklearn-color-text: black;\n",
       "  --sklearn-color-line: gray;\n",
       "  /* Definition of color scheme for unfitted estimators */\n",
       "  --sklearn-color-unfitted-level-0: #fff5e6;\n",
       "  --sklearn-color-unfitted-level-1: #f6e4d2;\n",
       "  --sklearn-color-unfitted-level-2: #ffe0b3;\n",
       "  --sklearn-color-unfitted-level-3: chocolate;\n",
       "  /* Definition of color scheme for fitted estimators */\n",
       "  --sklearn-color-fitted-level-0: #f0f8ff;\n",
       "  --sklearn-color-fitted-level-1: #d4ebff;\n",
       "  --sklearn-color-fitted-level-2: #b3dbfd;\n",
       "  --sklearn-color-fitted-level-3: cornflowerblue;\n",
       "\n",
       "  /* Specific color for light theme */\n",
       "  --sklearn-color-text-on-default-background: var(--sg-text-color, var(--theme-code-foreground, var(--jp-content-font-color1, black)));\n",
       "  --sklearn-color-background: var(--sg-background-color, var(--theme-background, var(--jp-layout-color0, white)));\n",
       "  --sklearn-color-border-box: var(--sg-text-color, var(--theme-code-foreground, var(--jp-content-font-color1, black)));\n",
       "  --sklearn-color-icon: #696969;\n",
       "\n",
       "  @media (prefers-color-scheme: dark) {\n",
       "    /* Redefinition of color scheme for dark theme */\n",
       "    --sklearn-color-text-on-default-background: var(--sg-text-color, var(--theme-code-foreground, var(--jp-content-font-color1, white)));\n",
       "    --sklearn-color-background: var(--sg-background-color, var(--theme-background, var(--jp-layout-color0, #111)));\n",
       "    --sklearn-color-border-box: var(--sg-text-color, var(--theme-code-foreground, var(--jp-content-font-color1, white)));\n",
       "    --sklearn-color-icon: #878787;\n",
       "  }\n",
       "}\n",
       "\n",
       "#sk-container-id-2 {\n",
       "  color: var(--sklearn-color-text);\n",
       "}\n",
       "\n",
       "#sk-container-id-2 pre {\n",
       "  padding: 0;\n",
       "}\n",
       "\n",
       "#sk-container-id-2 input.sk-hidden--visually {\n",
       "  border: 0;\n",
       "  clip: rect(1px 1px 1px 1px);\n",
       "  clip: rect(1px, 1px, 1px, 1px);\n",
       "  height: 1px;\n",
       "  margin: -1px;\n",
       "  overflow: hidden;\n",
       "  padding: 0;\n",
       "  position: absolute;\n",
       "  width: 1px;\n",
       "}\n",
       "\n",
       "#sk-container-id-2 div.sk-dashed-wrapped {\n",
       "  border: 1px dashed var(--sklearn-color-line);\n",
       "  margin: 0 0.4em 0.5em 0.4em;\n",
       "  box-sizing: border-box;\n",
       "  padding-bottom: 0.4em;\n",
       "  background-color: var(--sklearn-color-background);\n",
       "}\n",
       "\n",
       "#sk-container-id-2 div.sk-container {\n",
       "  /* jupyter's `normalize.less` sets `[hidden] { display: none; }`\n",
       "     but bootstrap.min.css set `[hidden] { display: none !important; }`\n",
       "     so we also need the `!important` here to be able to override the\n",
       "     default hidden behavior on the sphinx rendered scikit-learn.org.\n",
       "     See: https://github.com/scikit-learn/scikit-learn/issues/21755 */\n",
       "  display: inline-block !important;\n",
       "  position: relative;\n",
       "}\n",
       "\n",
       "#sk-container-id-2 div.sk-text-repr-fallback {\n",
       "  display: none;\n",
       "}\n",
       "\n",
       "div.sk-parallel-item,\n",
       "div.sk-serial,\n",
       "div.sk-item {\n",
       "  /* draw centered vertical line to link estimators */\n",
       "  background-image: linear-gradient(var(--sklearn-color-text-on-default-background), var(--sklearn-color-text-on-default-background));\n",
       "  background-size: 2px 100%;\n",
       "  background-repeat: no-repeat;\n",
       "  background-position: center center;\n",
       "}\n",
       "\n",
       "/* Parallel-specific style estimator block */\n",
       "\n",
       "#sk-container-id-2 div.sk-parallel-item::after {\n",
       "  content: \"\";\n",
       "  width: 100%;\n",
       "  border-bottom: 2px solid var(--sklearn-color-text-on-default-background);\n",
       "  flex-grow: 1;\n",
       "}\n",
       "\n",
       "#sk-container-id-2 div.sk-parallel {\n",
       "  display: flex;\n",
       "  align-items: stretch;\n",
       "  justify-content: center;\n",
       "  background-color: var(--sklearn-color-background);\n",
       "  position: relative;\n",
       "}\n",
       "\n",
       "#sk-container-id-2 div.sk-parallel-item {\n",
       "  display: flex;\n",
       "  flex-direction: column;\n",
       "}\n",
       "\n",
       "#sk-container-id-2 div.sk-parallel-item:first-child::after {\n",
       "  align-self: flex-end;\n",
       "  width: 50%;\n",
       "}\n",
       "\n",
       "#sk-container-id-2 div.sk-parallel-item:last-child::after {\n",
       "  align-self: flex-start;\n",
       "  width: 50%;\n",
       "}\n",
       "\n",
       "#sk-container-id-2 div.sk-parallel-item:only-child::after {\n",
       "  width: 0;\n",
       "}\n",
       "\n",
       "/* Serial-specific style estimator block */\n",
       "\n",
       "#sk-container-id-2 div.sk-serial {\n",
       "  display: flex;\n",
       "  flex-direction: column;\n",
       "  align-items: center;\n",
       "  background-color: var(--sklearn-color-background);\n",
       "  padding-right: 1em;\n",
       "  padding-left: 1em;\n",
       "}\n",
       "\n",
       "\n",
       "/* Toggleable style: style used for estimator/Pipeline/ColumnTransformer box that is\n",
       "clickable and can be expanded/collapsed.\n",
       "- Pipeline and ColumnTransformer use this feature and define the default style\n",
       "- Estimators will overwrite some part of the style using the `sk-estimator` class\n",
       "*/\n",
       "\n",
       "/* Pipeline and ColumnTransformer style (default) */\n",
       "\n",
       "#sk-container-id-2 div.sk-toggleable {\n",
       "  /* Default theme specific background. It is overwritten whether we have a\n",
       "  specific estimator or a Pipeline/ColumnTransformer */\n",
       "  background-color: var(--sklearn-color-background);\n",
       "}\n",
       "\n",
       "/* Toggleable label */\n",
       "#sk-container-id-2 label.sk-toggleable__label {\n",
       "  cursor: pointer;\n",
       "  display: block;\n",
       "  width: 100%;\n",
       "  margin-bottom: 0;\n",
       "  padding: 0.5em;\n",
       "  box-sizing: border-box;\n",
       "  text-align: center;\n",
       "}\n",
       "\n",
       "#sk-container-id-2 label.sk-toggleable__label-arrow:before {\n",
       "  /* Arrow on the left of the label */\n",
       "  content: \"▸\";\n",
       "  float: left;\n",
       "  margin-right: 0.25em;\n",
       "  color: var(--sklearn-color-icon);\n",
       "}\n",
       "\n",
       "#sk-container-id-2 label.sk-toggleable__label-arrow:hover:before {\n",
       "  color: var(--sklearn-color-text);\n",
       "}\n",
       "\n",
       "/* Toggleable content - dropdown */\n",
       "\n",
       "#sk-container-id-2 div.sk-toggleable__content {\n",
       "  max-height: 0;\n",
       "  max-width: 0;\n",
       "  overflow: hidden;\n",
       "  text-align: left;\n",
       "  /* unfitted */\n",
       "  background-color: var(--sklearn-color-unfitted-level-0);\n",
       "}\n",
       "\n",
       "#sk-container-id-2 div.sk-toggleable__content.fitted {\n",
       "  /* fitted */\n",
       "  background-color: var(--sklearn-color-fitted-level-0);\n",
       "}\n",
       "\n",
       "#sk-container-id-2 div.sk-toggleable__content pre {\n",
       "  margin: 0.2em;\n",
       "  border-radius: 0.25em;\n",
       "  color: var(--sklearn-color-text);\n",
       "  /* unfitted */\n",
       "  background-color: var(--sklearn-color-unfitted-level-0);\n",
       "}\n",
       "\n",
       "#sk-container-id-2 div.sk-toggleable__content.fitted pre {\n",
       "  /* unfitted */\n",
       "  background-color: var(--sklearn-color-fitted-level-0);\n",
       "}\n",
       "\n",
       "#sk-container-id-2 input.sk-toggleable__control:checked~div.sk-toggleable__content {\n",
       "  /* Expand drop-down */\n",
       "  max-height: 200px;\n",
       "  max-width: 100%;\n",
       "  overflow: auto;\n",
       "}\n",
       "\n",
       "#sk-container-id-2 input.sk-toggleable__control:checked~label.sk-toggleable__label-arrow:before {\n",
       "  content: \"▾\";\n",
       "}\n",
       "\n",
       "/* Pipeline/ColumnTransformer-specific style */\n",
       "\n",
       "#sk-container-id-2 div.sk-label input.sk-toggleable__control:checked~label.sk-toggleable__label {\n",
       "  color: var(--sklearn-color-text);\n",
       "  background-color: var(--sklearn-color-unfitted-level-2);\n",
       "}\n",
       "\n",
       "#sk-container-id-2 div.sk-label.fitted input.sk-toggleable__control:checked~label.sk-toggleable__label {\n",
       "  background-color: var(--sklearn-color-fitted-level-2);\n",
       "}\n",
       "\n",
       "/* Estimator-specific style */\n",
       "\n",
       "/* Colorize estimator box */\n",
       "#sk-container-id-2 div.sk-estimator input.sk-toggleable__control:checked~label.sk-toggleable__label {\n",
       "  /* unfitted */\n",
       "  background-color: var(--sklearn-color-unfitted-level-2);\n",
       "}\n",
       "\n",
       "#sk-container-id-2 div.sk-estimator.fitted input.sk-toggleable__control:checked~label.sk-toggleable__label {\n",
       "  /* fitted */\n",
       "  background-color: var(--sklearn-color-fitted-level-2);\n",
       "}\n",
       "\n",
       "#sk-container-id-2 div.sk-label label.sk-toggleable__label,\n",
       "#sk-container-id-2 div.sk-label label {\n",
       "  /* The background is the default theme color */\n",
       "  color: var(--sklearn-color-text-on-default-background);\n",
       "}\n",
       "\n",
       "/* On hover, darken the color of the background */\n",
       "#sk-container-id-2 div.sk-label:hover label.sk-toggleable__label {\n",
       "  color: var(--sklearn-color-text);\n",
       "  background-color: var(--sklearn-color-unfitted-level-2);\n",
       "}\n",
       "\n",
       "/* Label box, darken color on hover, fitted */\n",
       "#sk-container-id-2 div.sk-label.fitted:hover label.sk-toggleable__label.fitted {\n",
       "  color: var(--sklearn-color-text);\n",
       "  background-color: var(--sklearn-color-fitted-level-2);\n",
       "}\n",
       "\n",
       "/* Estimator label */\n",
       "\n",
       "#sk-container-id-2 div.sk-label label {\n",
       "  font-family: monospace;\n",
       "  font-weight: bold;\n",
       "  display: inline-block;\n",
       "  line-height: 1.2em;\n",
       "}\n",
       "\n",
       "#sk-container-id-2 div.sk-label-container {\n",
       "  text-align: center;\n",
       "}\n",
       "\n",
       "/* Estimator-specific */\n",
       "#sk-container-id-2 div.sk-estimator {\n",
       "  font-family: monospace;\n",
       "  border: 1px dotted var(--sklearn-color-border-box);\n",
       "  border-radius: 0.25em;\n",
       "  box-sizing: border-box;\n",
       "  margin-bottom: 0.5em;\n",
       "  /* unfitted */\n",
       "  background-color: var(--sklearn-color-unfitted-level-0);\n",
       "}\n",
       "\n",
       "#sk-container-id-2 div.sk-estimator.fitted {\n",
       "  /* fitted */\n",
       "  background-color: var(--sklearn-color-fitted-level-0);\n",
       "}\n",
       "\n",
       "/* on hover */\n",
       "#sk-container-id-2 div.sk-estimator:hover {\n",
       "  /* unfitted */\n",
       "  background-color: var(--sklearn-color-unfitted-level-2);\n",
       "}\n",
       "\n",
       "#sk-container-id-2 div.sk-estimator.fitted:hover {\n",
       "  /* fitted */\n",
       "  background-color: var(--sklearn-color-fitted-level-2);\n",
       "}\n",
       "\n",
       "/* Specification for estimator info (e.g. \"i\" and \"?\") */\n",
       "\n",
       "/* Common style for \"i\" and \"?\" */\n",
       "\n",
       ".sk-estimator-doc-link,\n",
       "a:link.sk-estimator-doc-link,\n",
       "a:visited.sk-estimator-doc-link {\n",
       "  float: right;\n",
       "  font-size: smaller;\n",
       "  line-height: 1em;\n",
       "  font-family: monospace;\n",
       "  background-color: var(--sklearn-color-background);\n",
       "  border-radius: 1em;\n",
       "  height: 1em;\n",
       "  width: 1em;\n",
       "  text-decoration: none !important;\n",
       "  margin-left: 1ex;\n",
       "  /* unfitted */\n",
       "  border: var(--sklearn-color-unfitted-level-1) 1pt solid;\n",
       "  color: var(--sklearn-color-unfitted-level-1);\n",
       "}\n",
       "\n",
       ".sk-estimator-doc-link.fitted,\n",
       "a:link.sk-estimator-doc-link.fitted,\n",
       "a:visited.sk-estimator-doc-link.fitted {\n",
       "  /* fitted */\n",
       "  border: var(--sklearn-color-fitted-level-1) 1pt solid;\n",
       "  color: var(--sklearn-color-fitted-level-1);\n",
       "}\n",
       "\n",
       "/* On hover */\n",
       "div.sk-estimator:hover .sk-estimator-doc-link:hover,\n",
       ".sk-estimator-doc-link:hover,\n",
       "div.sk-label-container:hover .sk-estimator-doc-link:hover,\n",
       ".sk-estimator-doc-link:hover {\n",
       "  /* unfitted */\n",
       "  background-color: var(--sklearn-color-unfitted-level-3);\n",
       "  color: var(--sklearn-color-background);\n",
       "  text-decoration: none;\n",
       "}\n",
       "\n",
       "div.sk-estimator.fitted:hover .sk-estimator-doc-link.fitted:hover,\n",
       ".sk-estimator-doc-link.fitted:hover,\n",
       "div.sk-label-container:hover .sk-estimator-doc-link.fitted:hover,\n",
       ".sk-estimator-doc-link.fitted:hover {\n",
       "  /* fitted */\n",
       "  background-color: var(--sklearn-color-fitted-level-3);\n",
       "  color: var(--sklearn-color-background);\n",
       "  text-decoration: none;\n",
       "}\n",
       "\n",
       "/* Span, style for the box shown on hovering the info icon */\n",
       ".sk-estimator-doc-link span {\n",
       "  display: none;\n",
       "  z-index: 9999;\n",
       "  position: relative;\n",
       "  font-weight: normal;\n",
       "  right: .2ex;\n",
       "  padding: .5ex;\n",
       "  margin: .5ex;\n",
       "  width: min-content;\n",
       "  min-width: 20ex;\n",
       "  max-width: 50ex;\n",
       "  color: var(--sklearn-color-text);\n",
       "  box-shadow: 2pt 2pt 4pt #999;\n",
       "  /* unfitted */\n",
       "  background: var(--sklearn-color-unfitted-level-0);\n",
       "  border: .5pt solid var(--sklearn-color-unfitted-level-3);\n",
       "}\n",
       "\n",
       ".sk-estimator-doc-link.fitted span {\n",
       "  /* fitted */\n",
       "  background: var(--sklearn-color-fitted-level-0);\n",
       "  border: var(--sklearn-color-fitted-level-3);\n",
       "}\n",
       "\n",
       ".sk-estimator-doc-link:hover span {\n",
       "  display: block;\n",
       "}\n",
       "\n",
       "/* \"?\"-specific style due to the `<a>` HTML tag */\n",
       "\n",
       "#sk-container-id-2 a.estimator_doc_link {\n",
       "  float: right;\n",
       "  font-size: 1rem;\n",
       "  line-height: 1em;\n",
       "  font-family: monospace;\n",
       "  background-color: var(--sklearn-color-background);\n",
       "  border-radius: 1rem;\n",
       "  height: 1rem;\n",
       "  width: 1rem;\n",
       "  text-decoration: none;\n",
       "  /* unfitted */\n",
       "  color: var(--sklearn-color-unfitted-level-1);\n",
       "  border: var(--sklearn-color-unfitted-level-1) 1pt solid;\n",
       "}\n",
       "\n",
       "#sk-container-id-2 a.estimator_doc_link.fitted {\n",
       "  /* fitted */\n",
       "  border: var(--sklearn-color-fitted-level-1) 1pt solid;\n",
       "  color: var(--sklearn-color-fitted-level-1);\n",
       "}\n",
       "\n",
       "/* On hover */\n",
       "#sk-container-id-2 a.estimator_doc_link:hover {\n",
       "  /* unfitted */\n",
       "  background-color: var(--sklearn-color-unfitted-level-3);\n",
       "  color: var(--sklearn-color-background);\n",
       "  text-decoration: none;\n",
       "}\n",
       "\n",
       "#sk-container-id-2 a.estimator_doc_link.fitted:hover {\n",
       "  /* fitted */\n",
       "  background-color: var(--sklearn-color-fitted-level-3);\n",
       "}\n",
       "</style><div id=\"sk-container-id-2\" class=\"sk-top-container\"><div class=\"sk-text-repr-fallback\"><pre>RandomForestClassifier(random_state=0)</pre><b>In a Jupyter environment, please rerun this cell to show the HTML representation or trust the notebook. <br />On GitHub, the HTML representation is unable to render, please try loading this page with nbviewer.org.</b></div><div class=\"sk-container\" hidden><div class=\"sk-item\"><div class=\"sk-estimator fitted sk-toggleable\"><input class=\"sk-toggleable__control sk-hidden--visually\" id=\"sk-estimator-id-2\" type=\"checkbox\" checked><label for=\"sk-estimator-id-2\" class=\"sk-toggleable__label fitted sk-toggleable__label-arrow fitted\">&nbsp;&nbsp;RandomForestClassifier<a class=\"sk-estimator-doc-link fitted\" rel=\"noreferrer\" target=\"_blank\" href=\"https://scikit-learn.org/1.4/modules/generated/sklearn.ensemble.RandomForestClassifier.html\">?<span>Documentation for RandomForestClassifier</span></a><span class=\"sk-estimator-doc-link fitted\">i<span>Fitted</span></span></label><div class=\"sk-toggleable__content fitted\"><pre>RandomForestClassifier(random_state=0)</pre></div> </div></div></div></div>"
      ],
      "text/plain": [
       "RandomForestClassifier(random_state=0)"
      ]
     },
     "execution_count": 21,
     "metadata": {},
     "output_type": "execute_result"
    }
   ],
   "source": [
    "sfm.estimator_"
   ]
  },
  {
   "cell_type": "code",
   "execution_count": 22,
   "id": "92a47691-95e3-48bb-80b2-aa24549a6ccb",
   "metadata": {},
   "outputs": [
    {
     "data": {
      "text/plain": [
       "array(['culmen_length_mm', 'culmen_depth_mm', 'flipper_length_mm',\n",
       "       'body_mass_g', 'culmen_length_mm^2', 'culmen_depth_mm^2',\n",
       "       'culmen_length_mm * culmen_depth_mm', 'clumen_diff',\n",
       "       'clumen_ratio', 'island_Dream', 'island_Torgersen', 'sex_MALE',\n",
       "       'sex_NaN'], dtype=object)"
      ]
     },
     "execution_count": 22,
     "metadata": {},
     "output_type": "execute_result"
    }
   ],
   "source": [
    "sfm.estimator_.feature_names_in_"
   ]
  },
  {
   "cell_type": "code",
   "execution_count": 26,
   "id": "3fa6c1e5-7b59-41f5-89c9-7c702668affd",
   "metadata": {},
   "outputs": [
    {
     "data": {
      "text/plain": [
       "array([0.08924232, 0.07961904, 0.09933245, 0.0525517 , 0.08072858,\n",
       "       0.01467092, 0.10925035, 0.14543881, 0.24562145, 0.07424349,\n",
       "       0.00630753, 0.00299336, 0.        ])"
      ]
     },
     "execution_count": 26,
     "metadata": {},
     "output_type": "execute_result"
    }
   ],
   "source": [
    "# 特徴量の重要度\n",
    "sfm.estimator_.feature_importances_"
   ]
  },
  {
   "cell_type": "code",
   "execution_count": 25,
   "id": "56bc027e-d1ed-4a3f-94e6-43729c9fdffb",
   "metadata": {},
   "outputs": [
    {
     "data": {
      "text/plain": [
       "array([ True,  True,  True, False,  True, False,  True,  True,  True,\n",
       "       False, False, False, False])"
      ]
     },
     "execution_count": 25,
     "metadata": {},
     "output_type": "execute_result"
    }
   ],
   "source": [
    "# 選択された特徴量\n",
    "sfm.get_support()"
   ]
  },
  {
   "cell_type": "markdown",
   "id": "9374ba24-ebfc-453d-86d3-307c3f156a60",
   "metadata": {},
   "source": [
    "## L1正則化項で特徴量選択"
   ]
  },
  {
   "cell_type": "code",
   "execution_count": 28,
   "id": "37db5863-c85e-47af-be56-77f1b86420f7",
   "metadata": {},
   "outputs": [
    {
     "data": {
      "text/html": [
       "<div>\n",
       "<style scoped>\n",
       "    .dataframe tbody tr th:only-of-type {\n",
       "        vertical-align: middle;\n",
       "    }\n",
       "\n",
       "    .dataframe tbody tr th {\n",
       "        vertical-align: top;\n",
       "    }\n",
       "\n",
       "    .dataframe thead th {\n",
       "        text-align: right;\n",
       "    }\n",
       "</style>\n",
       "<table border=\"1\" class=\"dataframe\">\n",
       "  <thead>\n",
       "    <tr style=\"text-align: right;\">\n",
       "      <th></th>\n",
       "      <th>culmen_length_mm</th>\n",
       "      <th>culmen_depth_mm</th>\n",
       "      <th>flipper_length_mm</th>\n",
       "      <th>body_mass_g</th>\n",
       "      <th>culmen_depth_mm^2</th>\n",
       "      <th>culmen_length_mm * culmen_depth_mm</th>\n",
       "      <th>clumen_diff</th>\n",
       "      <th>clumen_ratio</th>\n",
       "      <th>island_Dream</th>\n",
       "      <th>island_Torgersen</th>\n",
       "      <th>sex_MALE</th>\n",
       "    </tr>\n",
       "  </thead>\n",
       "  <tbody>\n",
       "    <tr>\n",
       "      <th>0</th>\n",
       "      <td>-0.884499</td>\n",
       "      <td>0.785449</td>\n",
       "      <td>-1.418347</td>\n",
       "      <td>-0.564142</td>\n",
       "      <td>-0.170197</td>\n",
       "      <td>0.768371</td>\n",
       "      <td>-1.024588</td>\n",
       "      <td>-1.036429</td>\n",
       "      <td>-0.754193</td>\n",
       "      <td>2.388699</td>\n",
       "      <td>1.017700</td>\n",
       "    </tr>\n",
       "    <tr>\n",
       "      <th>1</th>\n",
       "      <td>-0.811126</td>\n",
       "      <td>0.126188</td>\n",
       "      <td>-1.062250</td>\n",
       "      <td>-0.501703</td>\n",
       "      <td>-0.550838</td>\n",
       "      <td>0.070068</td>\n",
       "      <td>-0.751183</td>\n",
       "      <td>-0.675598</td>\n",
       "      <td>-0.754193</td>\n",
       "      <td>2.388699</td>\n",
       "      <td>-0.982607</td>\n",
       "    </tr>\n",
       "    <tr>\n",
       "      <th>2</th>\n",
       "      <td>-0.664380</td>\n",
       "      <td>0.430462</td>\n",
       "      <td>-0.421277</td>\n",
       "      <td>-1.188532</td>\n",
       "      <td>-0.220261</td>\n",
       "      <td>0.386112</td>\n",
       "      <td>-0.719018</td>\n",
       "      <td>-0.738471</td>\n",
       "      <td>-0.754193</td>\n",
       "      <td>2.388699</td>\n",
       "      <td>-0.982607</td>\n",
       "    </tr>\n",
       "    <tr>\n",
       "      <th>4</th>\n",
       "      <td>-1.324737</td>\n",
       "      <td>1.089724</td>\n",
       "      <td>-0.563715</td>\n",
       "      <td>-0.938776</td>\n",
       "      <td>-0.368543</td>\n",
       "      <td>1.107627</td>\n",
       "      <td>-1.507068</td>\n",
       "      <td>-1.417695</td>\n",
       "      <td>-0.754193</td>\n",
       "      <td>2.388699</td>\n",
       "      <td>-0.982607</td>\n",
       "    </tr>\n",
       "    <tr>\n",
       "      <th>5</th>\n",
       "      <td>-0.847812</td>\n",
       "      <td>1.748985</td>\n",
       "      <td>-0.777373</td>\n",
       "      <td>-0.689020</td>\n",
       "      <td>0.510134</td>\n",
       "      <td>1.879435</td>\n",
       "      <td>-1.297994</td>\n",
       "      <td>-1.405186</td>\n",
       "      <td>-0.754193</td>\n",
       "      <td>2.388699</td>\n",
       "      <td>1.017700</td>\n",
       "    </tr>\n",
       "    <tr>\n",
       "      <th>...</th>\n",
       "      <td>...</td>\n",
       "      <td>...</td>\n",
       "      <td>...</td>\n",
       "      <td>...</td>\n",
       "      <td>...</td>\n",
       "      <td>...</td>\n",
       "      <td>...</td>\n",
       "      <td>...</td>\n",
       "      <td>...</td>\n",
       "      <td>...</td>\n",
       "      <td>...</td>\n",
       "    </tr>\n",
       "    <tr>\n",
       "      <th>338</th>\n",
       "      <td>0.601305</td>\n",
       "      <td>-1.750171</td>\n",
       "      <td>0.931890</td>\n",
       "      <td>0.903175</td>\n",
       "      <td>-0.903628</td>\n",
       "      <td>-1.642135</td>\n",
       "      <td>1.082241</td>\n",
       "      <td>1.690550</td>\n",
       "      <td>-0.754193</td>\n",
       "      <td>-0.418638</td>\n",
       "      <td>-0.982607</td>\n",
       "    </tr>\n",
       "    <tr>\n",
       "      <th>340</th>\n",
       "      <td>0.527932</td>\n",
       "      <td>-1.445897</td>\n",
       "      <td>1.003109</td>\n",
       "      <td>0.809516</td>\n",
       "      <td>-0.707537</td>\n",
       "      <td>-1.392157</td>\n",
       "      <td>0.921415</td>\n",
       "      <td>1.343164</td>\n",
       "      <td>-0.754193</td>\n",
       "      <td>-0.418638</td>\n",
       "      <td>-0.982607</td>\n",
       "    </tr>\n",
       "    <tr>\n",
       "      <th>341</th>\n",
       "      <td>1.188289</td>\n",
       "      <td>-0.735923</td>\n",
       "      <td>1.501644</td>\n",
       "      <td>1.933419</td>\n",
       "      <td>0.351353</td>\n",
       "      <td>-0.767211</td>\n",
       "      <td>1.275233</td>\n",
       "      <td>1.217248</td>\n",
       "      <td>-0.754193</td>\n",
       "      <td>-0.418638</td>\n",
       "      <td>1.017700</td>\n",
       "    </tr>\n",
       "    <tr>\n",
       "      <th>342</th>\n",
       "      <td>0.234440</td>\n",
       "      <td>-1.192335</td>\n",
       "      <td>0.789451</td>\n",
       "      <td>1.246590</td>\n",
       "      <td>-0.709967</td>\n",
       "      <td>-1.175658</td>\n",
       "      <td>0.583679</td>\n",
       "      <td>0.902865</td>\n",
       "      <td>-0.754193</td>\n",
       "      <td>-0.418638</td>\n",
       "      <td>-0.982607</td>\n",
       "    </tr>\n",
       "    <tr>\n",
       "      <th>343</th>\n",
       "      <td>1.096572</td>\n",
       "      <td>-0.533073</td>\n",
       "      <td>0.860670</td>\n",
       "      <td>1.496346</td>\n",
       "      <td>0.456426</td>\n",
       "      <td>-0.577941</td>\n",
       "      <td>1.130489</td>\n",
       "      <td>0.994127</td>\n",
       "      <td>-0.754193</td>\n",
       "      <td>-0.418638</td>\n",
       "      <td>1.017700</td>\n",
       "    </tr>\n",
       "  </tbody>\n",
       "</table>\n",
       "<p>342 rows × 11 columns</p>\n",
       "</div>"
      ],
      "text/plain": [
       "     culmen_length_mm  culmen_depth_mm  flipper_length_mm  body_mass_g  \\\n",
       "0           -0.884499         0.785449          -1.418347    -0.564142   \n",
       "1           -0.811126         0.126188          -1.062250    -0.501703   \n",
       "2           -0.664380         0.430462          -0.421277    -1.188532   \n",
       "4           -1.324737         1.089724          -0.563715    -0.938776   \n",
       "5           -0.847812         1.748985          -0.777373    -0.689020   \n",
       "..                ...              ...                ...          ...   \n",
       "338          0.601305        -1.750171           0.931890     0.903175   \n",
       "340          0.527932        -1.445897           1.003109     0.809516   \n",
       "341          1.188289        -0.735923           1.501644     1.933419   \n",
       "342          0.234440        -1.192335           0.789451     1.246590   \n",
       "343          1.096572        -0.533073           0.860670     1.496346   \n",
       "\n",
       "     culmen_depth_mm^2  culmen_length_mm * culmen_depth_mm  clumen_diff  \\\n",
       "0            -0.170197                            0.768371    -1.024588   \n",
       "1            -0.550838                            0.070068    -0.751183   \n",
       "2            -0.220261                            0.386112    -0.719018   \n",
       "4            -0.368543                            1.107627    -1.507068   \n",
       "5             0.510134                            1.879435    -1.297994   \n",
       "..                 ...                                 ...          ...   \n",
       "338          -0.903628                           -1.642135     1.082241   \n",
       "340          -0.707537                           -1.392157     0.921415   \n",
       "341           0.351353                           -0.767211     1.275233   \n",
       "342          -0.709967                           -1.175658     0.583679   \n",
       "343           0.456426                           -0.577941     1.130489   \n",
       "\n",
       "     clumen_ratio  island_Dream  island_Torgersen  sex_MALE  \n",
       "0       -1.036429     -0.754193          2.388699  1.017700  \n",
       "1       -0.675598     -0.754193          2.388699 -0.982607  \n",
       "2       -0.738471     -0.754193          2.388699 -0.982607  \n",
       "4       -1.417695     -0.754193          2.388699 -0.982607  \n",
       "5       -1.405186     -0.754193          2.388699  1.017700  \n",
       "..            ...           ...               ...       ...  \n",
       "338      1.690550     -0.754193         -0.418638 -0.982607  \n",
       "340      1.343164     -0.754193         -0.418638 -0.982607  \n",
       "341      1.217248     -0.754193         -0.418638  1.017700  \n",
       "342      0.902865     -0.754193         -0.418638 -0.982607  \n",
       "343      0.994127     -0.754193         -0.418638  1.017700  \n",
       "\n",
       "[342 rows x 11 columns]"
      ]
     },
     "execution_count": 28,
     "metadata": {},
     "output_type": "execute_result"
    }
   ],
   "source": [
    "# estimtatorにl1正則を使用するモデルを入れると，l1正則を使って特徴量選択が可能\n",
    "sfm = SelectFromModel(estimator=LogisticRegression(penalty='l1', solver='liblinear'))\n",
    "pipeline = Pipeline([('scaler', StandardScaler()), \n",
    "                     ('feature_selection', sfm)])\n",
    "pipeline.set_output(transform='pandas')\n",
    "pipeline.fit_transform(X, y)"
   ]
  },
  {
   "cell_type": "code",
   "execution_count": 30,
   "id": "d0aad1c7-a817-4925-8f86-6b883076b7e0",
   "metadata": {},
   "outputs": [
    {
     "data": {
      "text/plain": [
       "array([[ 0.        ,  0.        , -0.17319229,  0.        ,  0.        ,\n",
       "         0.        ,  0.08427615, -6.97866855,  0.        , -0.34809953,\n",
       "         0.89175751,  1.17687179,  0.        ],\n",
       "       [ 4.21393324,  0.        ,  0.        , -2.37085945,  0.        ,\n",
       "         0.1471555 ,  0.        ,  0.        ,  0.        ,  2.66132682,\n",
       "         0.        , -0.75563799,  0.        ],\n",
       "       [ 0.        , -2.75911655,  1.71211685,  1.80030741,  0.        ,\n",
       "         0.        ,  0.        ,  0.        ,  0.52518221, -0.25191405,\n",
       "         0.        ,  0.        ,  0.        ]])"
      ]
     },
     "execution_count": 30,
     "metadata": {},
     "output_type": "execute_result"
    }
   ],
   "source": [
    "sfm.estimator_.coef_"
   ]
  },
  {
   "cell_type": "code",
   "execution_count": 33,
   "id": "0065d6e3-8ec9-4dc3-80b4-8718053f802a",
   "metadata": {},
   "outputs": [
    {
     "data": {
      "text/plain": [
       "array([ True,  True,  True,  True, False,  True,  True,  True,  True,\n",
       "        True,  True,  True, False])"
      ]
     },
     "execution_count": 33,
     "metadata": {},
     "output_type": "execute_result"
    }
   ],
   "source": [
    "sfm.get_support()"
   ]
  },
  {
   "cell_type": "code",
   "execution_count": null,
   "id": "e3223d2d-9353-4901-ace6-f4e0f9d809a2",
   "metadata": {},
   "outputs": [],
   "source": []
  }
 ],
 "metadata": {
  "kernelspec": {
   "display_name": "Python 3 (ipykernel)",
   "language": "python",
   "name": "python3"
  },
  "language_info": {
   "codemirror_mode": {
    "name": "ipython",
    "version": 3
   },
   "file_extension": ".py",
   "mimetype": "text/x-python",
   "name": "python",
   "nbconvert_exporter": "python",
   "pygments_lexer": "ipython3",
   "version": "3.9.13"
  }
 },
 "nbformat": 4,
 "nbformat_minor": 5
}
